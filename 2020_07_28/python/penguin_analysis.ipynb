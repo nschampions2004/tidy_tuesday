{
  "nbformat": 4,
  "nbformat_minor": 0,
  "metadata": {
    "colab": {
      "name": "penguin_analysis.ipynb",
      "provenance": [],
      "collapsed_sections": []
    },
    "kernelspec": {
      "name": "python3",
      "display_name": "Python 3"
    }
  },
  "cells": [
    {
      "cell_type": "code",
      "metadata": {
        "id": "PG36AgZL78J0",
        "colab_type": "code",
        "colab": {}
      },
      "source": [
        "import pandas as pd\n",
        "import numpy as np\n",
        "import sklearn\n",
        "import pandas as pd\n",
        "import seaborn as sns\n",
        "import altair as alt\n",
        "from sklearn.model_selection import train_test_split"
      ],
      "execution_count": 32,
      "outputs": []
    },
    {
      "cell_type": "code",
      "metadata": {
        "id": "Q-9rQxvo8V8m",
        "colab_type": "code",
        "colab": {}
      },
      "source": [
        "penguin_data_path = 'https://raw.githubusercontent.com/rfordatascience/tidytuesday/master/data/2020/2020-07-28/penguins.csv'"
      ],
      "execution_count": 2,
      "outputs": []
    },
    {
      "cell_type": "code",
      "metadata": {
        "id": "iDYzk3eK9ohV",
        "colab_type": "code",
        "colab": {}
      },
      "source": [
        "pg_data = pd.read_csv(penguin_data_path)"
      ],
      "execution_count": 3,
      "outputs": []
    },
    {
      "cell_type": "code",
      "metadata": {
        "id": "vDaQpVrd9rGH",
        "colab_type": "code",
        "colab": {
          "base_uri": "https://localhost:8080/",
          "height": 206
        },
        "outputId": "a1295050-47ab-487e-b7de-f177e88277fd"
      },
      "source": [
        "pg_data.head()"
      ],
      "execution_count": 4,
      "outputs": [
        {
          "output_type": "execute_result",
          "data": {
            "text/html": [
              "<div>\n",
              "<style scoped>\n",
              "    .dataframe tbody tr th:only-of-type {\n",
              "        vertical-align: middle;\n",
              "    }\n",
              "\n",
              "    .dataframe tbody tr th {\n",
              "        vertical-align: top;\n",
              "    }\n",
              "\n",
              "    .dataframe thead th {\n",
              "        text-align: right;\n",
              "    }\n",
              "</style>\n",
              "<table border=\"1\" class=\"dataframe\">\n",
              "  <thead>\n",
              "    <tr style=\"text-align: right;\">\n",
              "      <th></th>\n",
              "      <th>species</th>\n",
              "      <th>island</th>\n",
              "      <th>bill_length_mm</th>\n",
              "      <th>bill_depth_mm</th>\n",
              "      <th>flipper_length_mm</th>\n",
              "      <th>body_mass_g</th>\n",
              "      <th>sex</th>\n",
              "      <th>year</th>\n",
              "    </tr>\n",
              "  </thead>\n",
              "  <tbody>\n",
              "    <tr>\n",
              "      <th>0</th>\n",
              "      <td>Adelie</td>\n",
              "      <td>Torgersen</td>\n",
              "      <td>39.1</td>\n",
              "      <td>18.7</td>\n",
              "      <td>181.0</td>\n",
              "      <td>3750.0</td>\n",
              "      <td>male</td>\n",
              "      <td>2007</td>\n",
              "    </tr>\n",
              "    <tr>\n",
              "      <th>1</th>\n",
              "      <td>Adelie</td>\n",
              "      <td>Torgersen</td>\n",
              "      <td>39.5</td>\n",
              "      <td>17.4</td>\n",
              "      <td>186.0</td>\n",
              "      <td>3800.0</td>\n",
              "      <td>female</td>\n",
              "      <td>2007</td>\n",
              "    </tr>\n",
              "    <tr>\n",
              "      <th>2</th>\n",
              "      <td>Adelie</td>\n",
              "      <td>Torgersen</td>\n",
              "      <td>40.3</td>\n",
              "      <td>18.0</td>\n",
              "      <td>195.0</td>\n",
              "      <td>3250.0</td>\n",
              "      <td>female</td>\n",
              "      <td>2007</td>\n",
              "    </tr>\n",
              "    <tr>\n",
              "      <th>3</th>\n",
              "      <td>Adelie</td>\n",
              "      <td>Torgersen</td>\n",
              "      <td>NaN</td>\n",
              "      <td>NaN</td>\n",
              "      <td>NaN</td>\n",
              "      <td>NaN</td>\n",
              "      <td>NaN</td>\n",
              "      <td>2007</td>\n",
              "    </tr>\n",
              "    <tr>\n",
              "      <th>4</th>\n",
              "      <td>Adelie</td>\n",
              "      <td>Torgersen</td>\n",
              "      <td>36.7</td>\n",
              "      <td>19.3</td>\n",
              "      <td>193.0</td>\n",
              "      <td>3450.0</td>\n",
              "      <td>female</td>\n",
              "      <td>2007</td>\n",
              "    </tr>\n",
              "  </tbody>\n",
              "</table>\n",
              "</div>"
            ],
            "text/plain": [
              "  species     island  bill_length_mm  ...  body_mass_g     sex  year\n",
              "0  Adelie  Torgersen            39.1  ...       3750.0    male  2007\n",
              "1  Adelie  Torgersen            39.5  ...       3800.0  female  2007\n",
              "2  Adelie  Torgersen            40.3  ...       3250.0  female  2007\n",
              "3  Adelie  Torgersen             NaN  ...          NaN     NaN  2007\n",
              "4  Adelie  Torgersen            36.7  ...       3450.0  female  2007\n",
              "\n",
              "[5 rows x 8 columns]"
            ]
          },
          "metadata": {
            "tags": []
          },
          "execution_count": 4
        }
      ]
    },
    {
      "cell_type": "code",
      "metadata": {
        "id": "pno7TtE19_6A",
        "colab_type": "code",
        "colab": {
          "base_uri": "https://localhost:8080/",
          "height": 34
        },
        "outputId": "2a892d88-a827-4b83-faef-acd7ad9e9dd9"
      },
      "source": [
        "# How many years were these studies over?\n",
        "pg_data['year'].unique()"
      ],
      "execution_count": 5,
      "outputs": [
        {
          "output_type": "execute_result",
          "data": {
            "text/plain": [
              "array([2007, 2008, 2009])"
            ]
          },
          "metadata": {
            "tags": []
          },
          "execution_count": 5
        }
      ]
    },
    {
      "cell_type": "code",
      "metadata": {
        "id": "1ScNq787-ISl",
        "colab_type": "code",
        "colab": {
          "base_uri": "https://localhost:8080/",
          "height": 34
        },
        "outputId": "000a0ef0-4b36-42b5-d4bc-ddf196a95125"
      },
      "source": [
        "# How many species are there throughout the years?\n",
        "pg_data['species'].unique()"
      ],
      "execution_count": 11,
      "outputs": [
        {
          "output_type": "execute_result",
          "data": {
            "text/plain": [
              "array(['Adelie', 'Gentoo', 'Chinstrap'], dtype=object)"
            ]
          },
          "metadata": {
            "tags": []
          },
          "execution_count": 11
        }
      ]
    },
    {
      "cell_type": "code",
      "metadata": {
        "id": "XSJ3PXLt-Nij",
        "colab_type": "code",
        "colab": {
          "base_uri": "https://localhost:8080/",
          "height": 175
        },
        "outputId": "86db798e-dfec-4f59-8653-a9be81d279e0"
      },
      "source": [
        "# Were the entry counts equal across years?  \n",
        "pg_data.groupby('year').count().sort_values(by = 'year')"
      ],
      "execution_count": 12,
      "outputs": [
        {
          "output_type": "execute_result",
          "data": {
            "text/html": [
              "<div>\n",
              "<style scoped>\n",
              "    .dataframe tbody tr th:only-of-type {\n",
              "        vertical-align: middle;\n",
              "    }\n",
              "\n",
              "    .dataframe tbody tr th {\n",
              "        vertical-align: top;\n",
              "    }\n",
              "\n",
              "    .dataframe thead th {\n",
              "        text-align: right;\n",
              "    }\n",
              "</style>\n",
              "<table border=\"1\" class=\"dataframe\">\n",
              "  <thead>\n",
              "    <tr style=\"text-align: right;\">\n",
              "      <th></th>\n",
              "      <th>species</th>\n",
              "      <th>island</th>\n",
              "      <th>bill_length_mm</th>\n",
              "      <th>bill_depth_mm</th>\n",
              "      <th>flipper_length_mm</th>\n",
              "      <th>body_mass_g</th>\n",
              "      <th>sex</th>\n",
              "    </tr>\n",
              "    <tr>\n",
              "      <th>year</th>\n",
              "      <th></th>\n",
              "      <th></th>\n",
              "      <th></th>\n",
              "      <th></th>\n",
              "      <th></th>\n",
              "      <th></th>\n",
              "      <th></th>\n",
              "    </tr>\n",
              "  </thead>\n",
              "  <tbody>\n",
              "    <tr>\n",
              "      <th>2007</th>\n",
              "      <td>110</td>\n",
              "      <td>110</td>\n",
              "      <td>109</td>\n",
              "      <td>109</td>\n",
              "      <td>109</td>\n",
              "      <td>109</td>\n",
              "      <td>103</td>\n",
              "    </tr>\n",
              "    <tr>\n",
              "      <th>2008</th>\n",
              "      <td>114</td>\n",
              "      <td>114</td>\n",
              "      <td>114</td>\n",
              "      <td>114</td>\n",
              "      <td>114</td>\n",
              "      <td>114</td>\n",
              "      <td>113</td>\n",
              "    </tr>\n",
              "    <tr>\n",
              "      <th>2009</th>\n",
              "      <td>120</td>\n",
              "      <td>120</td>\n",
              "      <td>119</td>\n",
              "      <td>119</td>\n",
              "      <td>119</td>\n",
              "      <td>119</td>\n",
              "      <td>117</td>\n",
              "    </tr>\n",
              "  </tbody>\n",
              "</table>\n",
              "</div>"
            ],
            "text/plain": [
              "      species  island  bill_length_mm  ...  flipper_length_mm  body_mass_g  sex\n",
              "year                                   ...                                     \n",
              "2007      110     110             109  ...                109          109  103\n",
              "2008      114     114             114  ...                114          114  113\n",
              "2009      120     120             119  ...                119          119  117\n",
              "\n",
              "[3 rows x 7 columns]"
            ]
          },
          "metadata": {
            "tags": []
          },
          "execution_count": 12
        }
      ]
    },
    {
      "cell_type": "code",
      "metadata": {
        "id": "A88TVJyq-UEN",
        "colab_type": "code",
        "colab": {
          "base_uri": "https://localhost:8080/",
          "height": 363
        },
        "outputId": "c3bc0b52-767f-4d77-fc8b-a3a8f5de417f"
      },
      "source": [
        " alt.Chart(pg_data).mark_circle(size = 69).encode(\n",
        "     x='bill_length_mm',\n",
        "     y='body_mass_g', \n",
        "     color = 'species',\n",
        "     tooltip=['species', 'bill_length_mm', 'body_mass_g']\n",
        " ).interactive()"
      ],
      "execution_count": 14,
      "outputs": [
        {
          "output_type": "execute_result",
          "data": {
            "text/plain": [
              "alt.Chart(...)"
            ],
            "text/html": [
              "\n",
              "<div id=\"altair-viz-0863a30f5ad043809e64a7bc55095de4\"></div>\n",
              "<script type=\"text/javascript\">\n",
              "  (function(spec, embedOpt){\n",
              "    let outputDiv = document.currentScript.previousElementSibling;\n",
              "    if (outputDiv.id !== \"altair-viz-0863a30f5ad043809e64a7bc55095de4\") {\n",
              "      outputDiv = document.getElementById(\"altair-viz-0863a30f5ad043809e64a7bc55095de4\");\n",
              "    }\n",
              "    const paths = {\n",
              "      \"vega\": \"https://cdn.jsdelivr.net/npm//vega@5?noext\",\n",
              "      \"vega-lib\": \"https://cdn.jsdelivr.net/npm//vega-lib?noext\",\n",
              "      \"vega-lite\": \"https://cdn.jsdelivr.net/npm//vega-lite@4.8.1?noext\",\n",
              "      \"vega-embed\": \"https://cdn.jsdelivr.net/npm//vega-embed@6?noext\",\n",
              "    };\n",
              "\n",
              "    function loadScript(lib) {\n",
              "      return new Promise(function(resolve, reject) {\n",
              "        var s = document.createElement('script');\n",
              "        s.src = paths[lib];\n",
              "        s.async = true;\n",
              "        s.onload = () => resolve(paths[lib]);\n",
              "        s.onerror = () => reject(`Error loading script: ${paths[lib]}`);\n",
              "        document.getElementsByTagName(\"head\")[0].appendChild(s);\n",
              "      });\n",
              "    }\n",
              "\n",
              "    function showError(err) {\n",
              "      outputDiv.innerHTML = `<div class=\"error\" style=\"color:red;\">${err}</div>`;\n",
              "      throw err;\n",
              "    }\n",
              "\n",
              "    function displayChart(vegaEmbed) {\n",
              "      vegaEmbed(outputDiv, spec, embedOpt)\n",
              "        .catch(err => showError(`Javascript Error: ${err.message}<br>This usually means there's a typo in your chart specification. See the javascript console for the full traceback.`));\n",
              "    }\n",
              "\n",
              "    if(typeof define === \"function\" && define.amd) {\n",
              "      requirejs.config({paths});\n",
              "      require([\"vega-embed\"], displayChart, err => showError(`Error loading script: ${err.message}`));\n",
              "    } else if (typeof vegaEmbed === \"function\") {\n",
              "      displayChart(vegaEmbed);\n",
              "    } else {\n",
              "      loadScript(\"vega\")\n",
              "        .then(() => loadScript(\"vega-lite\"))\n",
              "        .then(() => loadScript(\"vega-embed\"))\n",
              "        .catch(showError)\n",
              "        .then(() => displayChart(vegaEmbed));\n",
              "    }\n",
              "  })({\"config\": {\"view\": {\"continuousWidth\": 400, \"continuousHeight\": 300}}, \"data\": {\"name\": \"data-d00e1631cca48c544438d30d2b470e8a\"}, \"mark\": {\"type\": \"circle\", \"size\": 69}, \"encoding\": {\"color\": {\"type\": \"nominal\", \"field\": \"species\"}, \"tooltip\": [{\"type\": \"nominal\", \"field\": \"species\"}, {\"type\": \"quantitative\", \"field\": \"bill_length_mm\"}, {\"type\": \"quantitative\", \"field\": \"body_mass_g\"}], \"x\": {\"type\": \"quantitative\", \"field\": \"bill_length_mm\"}, \"y\": {\"type\": \"quantitative\", \"field\": \"body_mass_g\"}}, \"selection\": {\"selector001\": {\"type\": \"interval\", \"bind\": \"scales\", \"encodings\": [\"x\", \"y\"]}}, \"$schema\": \"https://vega.github.io/schema/vega-lite/v4.8.1.json\", \"datasets\": {\"data-d00e1631cca48c544438d30d2b470e8a\": [{\"species\": \"Adelie\", \"island\": \"Torgersen\", \"bill_length_mm\": 39.1, \"bill_depth_mm\": 18.7, \"flipper_length_mm\": 181.0, \"body_mass_g\": 3750.0, \"sex\": \"male\", \"year\": 2007}, {\"species\": \"Adelie\", \"island\": \"Torgersen\", \"bill_length_mm\": 39.5, \"bill_depth_mm\": 17.4, \"flipper_length_mm\": 186.0, \"body_mass_g\": 3800.0, \"sex\": \"female\", \"year\": 2007}, {\"species\": \"Adelie\", \"island\": \"Torgersen\", \"bill_length_mm\": 40.3, \"bill_depth_mm\": 18.0, \"flipper_length_mm\": 195.0, \"body_mass_g\": 3250.0, \"sex\": \"female\", \"year\": 2007}, {\"species\": \"Adelie\", \"island\": \"Torgersen\", \"bill_length_mm\": null, \"bill_depth_mm\": null, \"flipper_length_mm\": null, \"body_mass_g\": null, \"sex\": null, \"year\": 2007}, {\"species\": \"Adelie\", \"island\": \"Torgersen\", \"bill_length_mm\": 36.7, \"bill_depth_mm\": 19.3, \"flipper_length_mm\": 193.0, \"body_mass_g\": 3450.0, \"sex\": \"female\", \"year\": 2007}, {\"species\": \"Adelie\", \"island\": \"Torgersen\", \"bill_length_mm\": 39.3, \"bill_depth_mm\": 20.6, \"flipper_length_mm\": 190.0, \"body_mass_g\": 3650.0, \"sex\": \"male\", \"year\": 2007}, {\"species\": \"Adelie\", \"island\": \"Torgersen\", \"bill_length_mm\": 38.9, \"bill_depth_mm\": 17.8, \"flipper_length_mm\": 181.0, \"body_mass_g\": 3625.0, \"sex\": \"female\", \"year\": 2007}, {\"species\": \"Adelie\", \"island\": \"Torgersen\", \"bill_length_mm\": 39.2, \"bill_depth_mm\": 19.6, \"flipper_length_mm\": 195.0, \"body_mass_g\": 4675.0, \"sex\": \"male\", \"year\": 2007}, {\"species\": \"Adelie\", \"island\": \"Torgersen\", \"bill_length_mm\": 34.1, \"bill_depth_mm\": 18.1, \"flipper_length_mm\": 193.0, \"body_mass_g\": 3475.0, \"sex\": null, \"year\": 2007}, {\"species\": \"Adelie\", \"island\": \"Torgersen\", \"bill_length_mm\": 42.0, \"bill_depth_mm\": 20.2, \"flipper_length_mm\": 190.0, \"body_mass_g\": 4250.0, \"sex\": null, \"year\": 2007}, {\"species\": \"Adelie\", \"island\": \"Torgersen\", \"bill_length_mm\": 37.8, \"bill_depth_mm\": 17.1, \"flipper_length_mm\": 186.0, \"body_mass_g\": 3300.0, \"sex\": null, \"year\": 2007}, {\"species\": \"Adelie\", \"island\": \"Torgersen\", \"bill_length_mm\": 37.8, \"bill_depth_mm\": 17.3, \"flipper_length_mm\": 180.0, \"body_mass_g\": 3700.0, \"sex\": null, \"year\": 2007}, {\"species\": \"Adelie\", \"island\": \"Torgersen\", \"bill_length_mm\": 41.1, \"bill_depth_mm\": 17.6, \"flipper_length_mm\": 182.0, \"body_mass_g\": 3200.0, \"sex\": \"female\", \"year\": 2007}, {\"species\": \"Adelie\", \"island\": \"Torgersen\", \"bill_length_mm\": 38.6, \"bill_depth_mm\": 21.2, \"flipper_length_mm\": 191.0, \"body_mass_g\": 3800.0, \"sex\": \"male\", \"year\": 2007}, {\"species\": \"Adelie\", \"island\": \"Torgersen\", \"bill_length_mm\": 34.6, \"bill_depth_mm\": 21.1, \"flipper_length_mm\": 198.0, \"body_mass_g\": 4400.0, \"sex\": \"male\", \"year\": 2007}, {\"species\": \"Adelie\", \"island\": \"Torgersen\", \"bill_length_mm\": 36.6, \"bill_depth_mm\": 17.8, \"flipper_length_mm\": 185.0, \"body_mass_g\": 3700.0, \"sex\": \"female\", \"year\": 2007}, {\"species\": \"Adelie\", \"island\": \"Torgersen\", \"bill_length_mm\": 38.7, \"bill_depth_mm\": 19.0, \"flipper_length_mm\": 195.0, \"body_mass_g\": 3450.0, \"sex\": \"female\", \"year\": 2007}, {\"species\": \"Adelie\", \"island\": \"Torgersen\", \"bill_length_mm\": 42.5, \"bill_depth_mm\": 20.7, \"flipper_length_mm\": 197.0, \"body_mass_g\": 4500.0, \"sex\": \"male\", \"year\": 2007}, {\"species\": \"Adelie\", \"island\": \"Torgersen\", \"bill_length_mm\": 34.4, \"bill_depth_mm\": 18.4, \"flipper_length_mm\": 184.0, \"body_mass_g\": 3325.0, \"sex\": \"female\", \"year\": 2007}, {\"species\": \"Adelie\", \"island\": \"Torgersen\", \"bill_length_mm\": 46.0, \"bill_depth_mm\": 21.5, \"flipper_length_mm\": 194.0, \"body_mass_g\": 4200.0, \"sex\": \"male\", \"year\": 2007}, {\"species\": \"Adelie\", \"island\": \"Biscoe\", \"bill_length_mm\": 37.8, \"bill_depth_mm\": 18.3, \"flipper_length_mm\": 174.0, \"body_mass_g\": 3400.0, \"sex\": \"female\", \"year\": 2007}, {\"species\": \"Adelie\", \"island\": \"Biscoe\", \"bill_length_mm\": 37.7, \"bill_depth_mm\": 18.7, \"flipper_length_mm\": 180.0, \"body_mass_g\": 3600.0, \"sex\": \"male\", \"year\": 2007}, {\"species\": \"Adelie\", \"island\": \"Biscoe\", \"bill_length_mm\": 35.9, \"bill_depth_mm\": 19.2, \"flipper_length_mm\": 189.0, \"body_mass_g\": 3800.0, \"sex\": \"female\", \"year\": 2007}, {\"species\": \"Adelie\", \"island\": \"Biscoe\", \"bill_length_mm\": 38.2, \"bill_depth_mm\": 18.1, \"flipper_length_mm\": 185.0, \"body_mass_g\": 3950.0, \"sex\": \"male\", \"year\": 2007}, {\"species\": \"Adelie\", \"island\": \"Biscoe\", \"bill_length_mm\": 38.8, \"bill_depth_mm\": 17.2, \"flipper_length_mm\": 180.0, \"body_mass_g\": 3800.0, \"sex\": \"male\", \"year\": 2007}, {\"species\": \"Adelie\", \"island\": \"Biscoe\", \"bill_length_mm\": 35.3, \"bill_depth_mm\": 18.9, \"flipper_length_mm\": 187.0, \"body_mass_g\": 3800.0, \"sex\": \"female\", \"year\": 2007}, {\"species\": \"Adelie\", \"island\": \"Biscoe\", \"bill_length_mm\": 40.6, \"bill_depth_mm\": 18.6, \"flipper_length_mm\": 183.0, \"body_mass_g\": 3550.0, \"sex\": \"male\", \"year\": 2007}, {\"species\": \"Adelie\", \"island\": \"Biscoe\", \"bill_length_mm\": 40.5, \"bill_depth_mm\": 17.9, \"flipper_length_mm\": 187.0, \"body_mass_g\": 3200.0, \"sex\": \"female\", \"year\": 2007}, {\"species\": \"Adelie\", \"island\": \"Biscoe\", \"bill_length_mm\": 37.9, \"bill_depth_mm\": 18.6, \"flipper_length_mm\": 172.0, \"body_mass_g\": 3150.0, \"sex\": \"female\", \"year\": 2007}, {\"species\": \"Adelie\", \"island\": \"Biscoe\", \"bill_length_mm\": 40.5, \"bill_depth_mm\": 18.9, \"flipper_length_mm\": 180.0, \"body_mass_g\": 3950.0, \"sex\": \"male\", \"year\": 2007}, {\"species\": \"Adelie\", \"island\": \"Dream\", \"bill_length_mm\": 39.5, \"bill_depth_mm\": 16.7, \"flipper_length_mm\": 178.0, \"body_mass_g\": 3250.0, \"sex\": \"female\", \"year\": 2007}, {\"species\": \"Adelie\", \"island\": \"Dream\", \"bill_length_mm\": 37.2, \"bill_depth_mm\": 18.1, \"flipper_length_mm\": 178.0, \"body_mass_g\": 3900.0, \"sex\": \"male\", \"year\": 2007}, {\"species\": \"Adelie\", \"island\": \"Dream\", \"bill_length_mm\": 39.5, \"bill_depth_mm\": 17.8, \"flipper_length_mm\": 188.0, \"body_mass_g\": 3300.0, \"sex\": \"female\", \"year\": 2007}, {\"species\": \"Adelie\", \"island\": \"Dream\", \"bill_length_mm\": 40.9, \"bill_depth_mm\": 18.9, \"flipper_length_mm\": 184.0, \"body_mass_g\": 3900.0, \"sex\": \"male\", \"year\": 2007}, {\"species\": \"Adelie\", \"island\": \"Dream\", \"bill_length_mm\": 36.4, \"bill_depth_mm\": 17.0, \"flipper_length_mm\": 195.0, \"body_mass_g\": 3325.0, \"sex\": \"female\", \"year\": 2007}, {\"species\": \"Adelie\", \"island\": \"Dream\", \"bill_length_mm\": 39.2, \"bill_depth_mm\": 21.1, \"flipper_length_mm\": 196.0, \"body_mass_g\": 4150.0, \"sex\": \"male\", \"year\": 2007}, {\"species\": \"Adelie\", \"island\": \"Dream\", \"bill_length_mm\": 38.8, \"bill_depth_mm\": 20.0, \"flipper_length_mm\": 190.0, \"body_mass_g\": 3950.0, \"sex\": \"male\", \"year\": 2007}, {\"species\": \"Adelie\", \"island\": \"Dream\", \"bill_length_mm\": 42.2, \"bill_depth_mm\": 18.5, \"flipper_length_mm\": 180.0, \"body_mass_g\": 3550.0, \"sex\": \"female\", \"year\": 2007}, {\"species\": \"Adelie\", \"island\": \"Dream\", \"bill_length_mm\": 37.6, \"bill_depth_mm\": 19.3, \"flipper_length_mm\": 181.0, \"body_mass_g\": 3300.0, \"sex\": \"female\", \"year\": 2007}, {\"species\": \"Adelie\", \"island\": \"Dream\", \"bill_length_mm\": 39.8, \"bill_depth_mm\": 19.1, \"flipper_length_mm\": 184.0, \"body_mass_g\": 4650.0, \"sex\": \"male\", \"year\": 2007}, {\"species\": \"Adelie\", \"island\": \"Dream\", \"bill_length_mm\": 36.5, \"bill_depth_mm\": 18.0, \"flipper_length_mm\": 182.0, \"body_mass_g\": 3150.0, \"sex\": \"female\", \"year\": 2007}, {\"species\": \"Adelie\", \"island\": \"Dream\", \"bill_length_mm\": 40.8, \"bill_depth_mm\": 18.4, \"flipper_length_mm\": 195.0, \"body_mass_g\": 3900.0, \"sex\": \"male\", \"year\": 2007}, {\"species\": \"Adelie\", \"island\": \"Dream\", \"bill_length_mm\": 36.0, \"bill_depth_mm\": 18.5, \"flipper_length_mm\": 186.0, \"body_mass_g\": 3100.0, \"sex\": \"female\", \"year\": 2007}, {\"species\": \"Adelie\", \"island\": \"Dream\", \"bill_length_mm\": 44.1, \"bill_depth_mm\": 19.7, \"flipper_length_mm\": 196.0, \"body_mass_g\": 4400.0, \"sex\": \"male\", \"year\": 2007}, {\"species\": \"Adelie\", \"island\": \"Dream\", \"bill_length_mm\": 37.0, \"bill_depth_mm\": 16.9, \"flipper_length_mm\": 185.0, \"body_mass_g\": 3000.0, \"sex\": \"female\", \"year\": 2007}, {\"species\": \"Adelie\", \"island\": \"Dream\", \"bill_length_mm\": 39.6, \"bill_depth_mm\": 18.8, \"flipper_length_mm\": 190.0, \"body_mass_g\": 4600.0, \"sex\": \"male\", \"year\": 2007}, {\"species\": \"Adelie\", \"island\": \"Dream\", \"bill_length_mm\": 41.1, \"bill_depth_mm\": 19.0, \"flipper_length_mm\": 182.0, \"body_mass_g\": 3425.0, \"sex\": \"male\", \"year\": 2007}, {\"species\": \"Adelie\", \"island\": \"Dream\", \"bill_length_mm\": 37.5, \"bill_depth_mm\": 18.9, \"flipper_length_mm\": 179.0, \"body_mass_g\": 2975.0, \"sex\": null, \"year\": 2007}, {\"species\": \"Adelie\", \"island\": \"Dream\", \"bill_length_mm\": 36.0, \"bill_depth_mm\": 17.9, \"flipper_length_mm\": 190.0, \"body_mass_g\": 3450.0, \"sex\": \"female\", \"year\": 2007}, {\"species\": \"Adelie\", \"island\": \"Dream\", \"bill_length_mm\": 42.3, \"bill_depth_mm\": 21.2, \"flipper_length_mm\": 191.0, \"body_mass_g\": 4150.0, \"sex\": \"male\", \"year\": 2007}, {\"species\": \"Adelie\", \"island\": \"Biscoe\", \"bill_length_mm\": 39.6, \"bill_depth_mm\": 17.7, \"flipper_length_mm\": 186.0, \"body_mass_g\": 3500.0, \"sex\": \"female\", \"year\": 2008}, {\"species\": \"Adelie\", \"island\": \"Biscoe\", \"bill_length_mm\": 40.1, \"bill_depth_mm\": 18.9, \"flipper_length_mm\": 188.0, \"body_mass_g\": 4300.0, \"sex\": \"male\", \"year\": 2008}, {\"species\": \"Adelie\", \"island\": \"Biscoe\", \"bill_length_mm\": 35.0, \"bill_depth_mm\": 17.9, \"flipper_length_mm\": 190.0, \"body_mass_g\": 3450.0, \"sex\": \"female\", \"year\": 2008}, {\"species\": \"Adelie\", \"island\": \"Biscoe\", \"bill_length_mm\": 42.0, \"bill_depth_mm\": 19.5, \"flipper_length_mm\": 200.0, \"body_mass_g\": 4050.0, \"sex\": \"male\", \"year\": 2008}, {\"species\": \"Adelie\", \"island\": \"Biscoe\", \"bill_length_mm\": 34.5, \"bill_depth_mm\": 18.1, \"flipper_length_mm\": 187.0, \"body_mass_g\": 2900.0, \"sex\": \"female\", \"year\": 2008}, {\"species\": \"Adelie\", \"island\": \"Biscoe\", \"bill_length_mm\": 41.4, \"bill_depth_mm\": 18.6, \"flipper_length_mm\": 191.0, \"body_mass_g\": 3700.0, \"sex\": \"male\", \"year\": 2008}, {\"species\": \"Adelie\", \"island\": \"Biscoe\", \"bill_length_mm\": 39.0, \"bill_depth_mm\": 17.5, \"flipper_length_mm\": 186.0, \"body_mass_g\": 3550.0, \"sex\": \"female\", \"year\": 2008}, {\"species\": \"Adelie\", \"island\": \"Biscoe\", \"bill_length_mm\": 40.6, \"bill_depth_mm\": 18.8, \"flipper_length_mm\": 193.0, \"body_mass_g\": 3800.0, \"sex\": \"male\", \"year\": 2008}, {\"species\": \"Adelie\", \"island\": \"Biscoe\", \"bill_length_mm\": 36.5, \"bill_depth_mm\": 16.6, \"flipper_length_mm\": 181.0, \"body_mass_g\": 2850.0, \"sex\": \"female\", \"year\": 2008}, {\"species\": \"Adelie\", \"island\": \"Biscoe\", \"bill_length_mm\": 37.6, \"bill_depth_mm\": 19.1, \"flipper_length_mm\": 194.0, \"body_mass_g\": 3750.0, \"sex\": \"male\", \"year\": 2008}, {\"species\": \"Adelie\", \"island\": \"Biscoe\", \"bill_length_mm\": 35.7, \"bill_depth_mm\": 16.9, \"flipper_length_mm\": 185.0, \"body_mass_g\": 3150.0, \"sex\": \"female\", \"year\": 2008}, {\"species\": \"Adelie\", \"island\": \"Biscoe\", \"bill_length_mm\": 41.3, \"bill_depth_mm\": 21.1, \"flipper_length_mm\": 195.0, \"body_mass_g\": 4400.0, \"sex\": \"male\", \"year\": 2008}, {\"species\": \"Adelie\", \"island\": \"Biscoe\", \"bill_length_mm\": 37.6, \"bill_depth_mm\": 17.0, \"flipper_length_mm\": 185.0, \"body_mass_g\": 3600.0, \"sex\": \"female\", \"year\": 2008}, {\"species\": \"Adelie\", \"island\": \"Biscoe\", \"bill_length_mm\": 41.1, \"bill_depth_mm\": 18.2, \"flipper_length_mm\": 192.0, \"body_mass_g\": 4050.0, \"sex\": \"male\", \"year\": 2008}, {\"species\": \"Adelie\", \"island\": \"Biscoe\", \"bill_length_mm\": 36.4, \"bill_depth_mm\": 17.1, \"flipper_length_mm\": 184.0, \"body_mass_g\": 2850.0, \"sex\": \"female\", \"year\": 2008}, {\"species\": \"Adelie\", \"island\": \"Biscoe\", \"bill_length_mm\": 41.6, \"bill_depth_mm\": 18.0, \"flipper_length_mm\": 192.0, \"body_mass_g\": 3950.0, \"sex\": \"male\", \"year\": 2008}, {\"species\": \"Adelie\", \"island\": \"Biscoe\", \"bill_length_mm\": 35.5, \"bill_depth_mm\": 16.2, \"flipper_length_mm\": 195.0, \"body_mass_g\": 3350.0, \"sex\": \"female\", \"year\": 2008}, {\"species\": \"Adelie\", \"island\": \"Biscoe\", \"bill_length_mm\": 41.1, \"bill_depth_mm\": 19.1, \"flipper_length_mm\": 188.0, \"body_mass_g\": 4100.0, \"sex\": \"male\", \"year\": 2008}, {\"species\": \"Adelie\", \"island\": \"Torgersen\", \"bill_length_mm\": 35.9, \"bill_depth_mm\": 16.6, \"flipper_length_mm\": 190.0, \"body_mass_g\": 3050.0, \"sex\": \"female\", \"year\": 2008}, {\"species\": \"Adelie\", \"island\": \"Torgersen\", \"bill_length_mm\": 41.8, \"bill_depth_mm\": 19.4, \"flipper_length_mm\": 198.0, \"body_mass_g\": 4450.0, \"sex\": \"male\", \"year\": 2008}, {\"species\": \"Adelie\", \"island\": \"Torgersen\", \"bill_length_mm\": 33.5, \"bill_depth_mm\": 19.0, \"flipper_length_mm\": 190.0, \"body_mass_g\": 3600.0, \"sex\": \"female\", \"year\": 2008}, {\"species\": \"Adelie\", \"island\": \"Torgersen\", \"bill_length_mm\": 39.7, \"bill_depth_mm\": 18.4, \"flipper_length_mm\": 190.0, \"body_mass_g\": 3900.0, \"sex\": \"male\", \"year\": 2008}, {\"species\": \"Adelie\", \"island\": \"Torgersen\", \"bill_length_mm\": 39.6, \"bill_depth_mm\": 17.2, \"flipper_length_mm\": 196.0, \"body_mass_g\": 3550.0, \"sex\": \"female\", \"year\": 2008}, {\"species\": \"Adelie\", \"island\": \"Torgersen\", \"bill_length_mm\": 45.8, \"bill_depth_mm\": 18.9, \"flipper_length_mm\": 197.0, \"body_mass_g\": 4150.0, \"sex\": \"male\", \"year\": 2008}, {\"species\": \"Adelie\", \"island\": \"Torgersen\", \"bill_length_mm\": 35.5, \"bill_depth_mm\": 17.5, \"flipper_length_mm\": 190.0, \"body_mass_g\": 3700.0, \"sex\": \"female\", \"year\": 2008}, {\"species\": \"Adelie\", \"island\": \"Torgersen\", \"bill_length_mm\": 42.8, \"bill_depth_mm\": 18.5, \"flipper_length_mm\": 195.0, \"body_mass_g\": 4250.0, \"sex\": \"male\", \"year\": 2008}, {\"species\": \"Adelie\", \"island\": \"Torgersen\", \"bill_length_mm\": 40.9, \"bill_depth_mm\": 16.8, \"flipper_length_mm\": 191.0, \"body_mass_g\": 3700.0, \"sex\": \"female\", \"year\": 2008}, {\"species\": \"Adelie\", \"island\": \"Torgersen\", \"bill_length_mm\": 37.2, \"bill_depth_mm\": 19.4, \"flipper_length_mm\": 184.0, \"body_mass_g\": 3900.0, \"sex\": \"male\", \"year\": 2008}, {\"species\": \"Adelie\", \"island\": \"Torgersen\", \"bill_length_mm\": 36.2, \"bill_depth_mm\": 16.1, \"flipper_length_mm\": 187.0, \"body_mass_g\": 3550.0, \"sex\": \"female\", \"year\": 2008}, {\"species\": \"Adelie\", \"island\": \"Torgersen\", \"bill_length_mm\": 42.1, \"bill_depth_mm\": 19.1, \"flipper_length_mm\": 195.0, \"body_mass_g\": 4000.0, \"sex\": \"male\", \"year\": 2008}, {\"species\": \"Adelie\", \"island\": \"Torgersen\", \"bill_length_mm\": 34.6, \"bill_depth_mm\": 17.2, \"flipper_length_mm\": 189.0, \"body_mass_g\": 3200.0, \"sex\": \"female\", \"year\": 2008}, {\"species\": \"Adelie\", \"island\": \"Torgersen\", \"bill_length_mm\": 42.9, \"bill_depth_mm\": 17.6, \"flipper_length_mm\": 196.0, \"body_mass_g\": 4700.0, \"sex\": \"male\", \"year\": 2008}, {\"species\": \"Adelie\", \"island\": \"Torgersen\", \"bill_length_mm\": 36.7, \"bill_depth_mm\": 18.8, \"flipper_length_mm\": 187.0, \"body_mass_g\": 3800.0, \"sex\": \"female\", \"year\": 2008}, {\"species\": \"Adelie\", \"island\": \"Torgersen\", \"bill_length_mm\": 35.1, \"bill_depth_mm\": 19.4, \"flipper_length_mm\": 193.0, \"body_mass_g\": 4200.0, \"sex\": \"male\", \"year\": 2008}, {\"species\": \"Adelie\", \"island\": \"Dream\", \"bill_length_mm\": 37.3, \"bill_depth_mm\": 17.8, \"flipper_length_mm\": 191.0, \"body_mass_g\": 3350.0, \"sex\": \"female\", \"year\": 2008}, {\"species\": \"Adelie\", \"island\": \"Dream\", \"bill_length_mm\": 41.3, \"bill_depth_mm\": 20.3, \"flipper_length_mm\": 194.0, \"body_mass_g\": 3550.0, \"sex\": \"male\", \"year\": 2008}, {\"species\": \"Adelie\", \"island\": \"Dream\", \"bill_length_mm\": 36.3, \"bill_depth_mm\": 19.5, \"flipper_length_mm\": 190.0, \"body_mass_g\": 3800.0, \"sex\": \"male\", \"year\": 2008}, {\"species\": \"Adelie\", \"island\": \"Dream\", \"bill_length_mm\": 36.9, \"bill_depth_mm\": 18.6, \"flipper_length_mm\": 189.0, \"body_mass_g\": 3500.0, \"sex\": \"female\", \"year\": 2008}, {\"species\": \"Adelie\", \"island\": \"Dream\", \"bill_length_mm\": 38.3, \"bill_depth_mm\": 19.2, \"flipper_length_mm\": 189.0, \"body_mass_g\": 3950.0, \"sex\": \"male\", \"year\": 2008}, {\"species\": \"Adelie\", \"island\": \"Dream\", \"bill_length_mm\": 38.9, \"bill_depth_mm\": 18.8, \"flipper_length_mm\": 190.0, \"body_mass_g\": 3600.0, \"sex\": \"female\", \"year\": 2008}, {\"species\": \"Adelie\", \"island\": \"Dream\", \"bill_length_mm\": 35.7, \"bill_depth_mm\": 18.0, \"flipper_length_mm\": 202.0, \"body_mass_g\": 3550.0, \"sex\": \"female\", \"year\": 2008}, {\"species\": \"Adelie\", \"island\": \"Dream\", \"bill_length_mm\": 41.1, \"bill_depth_mm\": 18.1, \"flipper_length_mm\": 205.0, \"body_mass_g\": 4300.0, \"sex\": \"male\", \"year\": 2008}, {\"species\": \"Adelie\", \"island\": \"Dream\", \"bill_length_mm\": 34.0, \"bill_depth_mm\": 17.1, \"flipper_length_mm\": 185.0, \"body_mass_g\": 3400.0, \"sex\": \"female\", \"year\": 2008}, {\"species\": \"Adelie\", \"island\": \"Dream\", \"bill_length_mm\": 39.6, \"bill_depth_mm\": 18.1, \"flipper_length_mm\": 186.0, \"body_mass_g\": 4450.0, \"sex\": \"male\", \"year\": 2008}, {\"species\": \"Adelie\", \"island\": \"Dream\", \"bill_length_mm\": 36.2, \"bill_depth_mm\": 17.3, \"flipper_length_mm\": 187.0, \"body_mass_g\": 3300.0, \"sex\": \"female\", \"year\": 2008}, {\"species\": \"Adelie\", \"island\": \"Dream\", \"bill_length_mm\": 40.8, \"bill_depth_mm\": 18.9, \"flipper_length_mm\": 208.0, \"body_mass_g\": 4300.0, \"sex\": \"male\", \"year\": 2008}, {\"species\": \"Adelie\", \"island\": \"Dream\", \"bill_length_mm\": 38.1, \"bill_depth_mm\": 18.6, \"flipper_length_mm\": 190.0, \"body_mass_g\": 3700.0, \"sex\": \"female\", \"year\": 2008}, {\"species\": \"Adelie\", \"island\": \"Dream\", \"bill_length_mm\": 40.3, \"bill_depth_mm\": 18.5, \"flipper_length_mm\": 196.0, \"body_mass_g\": 4350.0, \"sex\": \"male\", \"year\": 2008}, {\"species\": \"Adelie\", \"island\": \"Dream\", \"bill_length_mm\": 33.1, \"bill_depth_mm\": 16.1, \"flipper_length_mm\": 178.0, \"body_mass_g\": 2900.0, \"sex\": \"female\", \"year\": 2008}, {\"species\": \"Adelie\", \"island\": \"Dream\", \"bill_length_mm\": 43.2, \"bill_depth_mm\": 18.5, \"flipper_length_mm\": 192.0, \"body_mass_g\": 4100.0, \"sex\": \"male\", \"year\": 2008}, {\"species\": \"Adelie\", \"island\": \"Biscoe\", \"bill_length_mm\": 35.0, \"bill_depth_mm\": 17.9, \"flipper_length_mm\": 192.0, \"body_mass_g\": 3725.0, \"sex\": \"female\", \"year\": 2009}, {\"species\": \"Adelie\", \"island\": \"Biscoe\", \"bill_length_mm\": 41.0, \"bill_depth_mm\": 20.0, \"flipper_length_mm\": 203.0, \"body_mass_g\": 4725.0, \"sex\": \"male\", \"year\": 2009}, {\"species\": \"Adelie\", \"island\": \"Biscoe\", \"bill_length_mm\": 37.7, \"bill_depth_mm\": 16.0, \"flipper_length_mm\": 183.0, \"body_mass_g\": 3075.0, \"sex\": \"female\", \"year\": 2009}, {\"species\": \"Adelie\", \"island\": \"Biscoe\", \"bill_length_mm\": 37.8, \"bill_depth_mm\": 20.0, \"flipper_length_mm\": 190.0, \"body_mass_g\": 4250.0, \"sex\": \"male\", \"year\": 2009}, {\"species\": \"Adelie\", \"island\": \"Biscoe\", \"bill_length_mm\": 37.9, \"bill_depth_mm\": 18.6, \"flipper_length_mm\": 193.0, \"body_mass_g\": 2925.0, \"sex\": \"female\", \"year\": 2009}, {\"species\": \"Adelie\", \"island\": \"Biscoe\", \"bill_length_mm\": 39.7, \"bill_depth_mm\": 18.9, \"flipper_length_mm\": 184.0, \"body_mass_g\": 3550.0, \"sex\": \"male\", \"year\": 2009}, {\"species\": \"Adelie\", \"island\": \"Biscoe\", \"bill_length_mm\": 38.6, \"bill_depth_mm\": 17.2, \"flipper_length_mm\": 199.0, \"body_mass_g\": 3750.0, \"sex\": \"female\", \"year\": 2009}, {\"species\": \"Adelie\", \"island\": \"Biscoe\", \"bill_length_mm\": 38.2, \"bill_depth_mm\": 20.0, \"flipper_length_mm\": 190.0, \"body_mass_g\": 3900.0, \"sex\": \"male\", \"year\": 2009}, {\"species\": \"Adelie\", \"island\": \"Biscoe\", \"bill_length_mm\": 38.1, \"bill_depth_mm\": 17.0, \"flipper_length_mm\": 181.0, \"body_mass_g\": 3175.0, \"sex\": \"female\", \"year\": 2009}, {\"species\": \"Adelie\", \"island\": \"Biscoe\", \"bill_length_mm\": 43.2, \"bill_depth_mm\": 19.0, \"flipper_length_mm\": 197.0, \"body_mass_g\": 4775.0, \"sex\": \"male\", \"year\": 2009}, {\"species\": \"Adelie\", \"island\": \"Biscoe\", \"bill_length_mm\": 38.1, \"bill_depth_mm\": 16.5, \"flipper_length_mm\": 198.0, \"body_mass_g\": 3825.0, \"sex\": \"female\", \"year\": 2009}, {\"species\": \"Adelie\", \"island\": \"Biscoe\", \"bill_length_mm\": 45.6, \"bill_depth_mm\": 20.3, \"flipper_length_mm\": 191.0, \"body_mass_g\": 4600.0, \"sex\": \"male\", \"year\": 2009}, {\"species\": \"Adelie\", \"island\": \"Biscoe\", \"bill_length_mm\": 39.7, \"bill_depth_mm\": 17.7, \"flipper_length_mm\": 193.0, \"body_mass_g\": 3200.0, \"sex\": \"female\", \"year\": 2009}, {\"species\": \"Adelie\", \"island\": \"Biscoe\", \"bill_length_mm\": 42.2, \"bill_depth_mm\": 19.5, \"flipper_length_mm\": 197.0, \"body_mass_g\": 4275.0, \"sex\": \"male\", \"year\": 2009}, {\"species\": \"Adelie\", \"island\": \"Biscoe\", \"bill_length_mm\": 39.6, \"bill_depth_mm\": 20.7, \"flipper_length_mm\": 191.0, \"body_mass_g\": 3900.0, \"sex\": \"female\", \"year\": 2009}, {\"species\": \"Adelie\", \"island\": \"Biscoe\", \"bill_length_mm\": 42.7, \"bill_depth_mm\": 18.3, \"flipper_length_mm\": 196.0, \"body_mass_g\": 4075.0, \"sex\": \"male\", \"year\": 2009}, {\"species\": \"Adelie\", \"island\": \"Torgersen\", \"bill_length_mm\": 38.6, \"bill_depth_mm\": 17.0, \"flipper_length_mm\": 188.0, \"body_mass_g\": 2900.0, \"sex\": \"female\", \"year\": 2009}, {\"species\": \"Adelie\", \"island\": \"Torgersen\", \"bill_length_mm\": 37.3, \"bill_depth_mm\": 20.5, \"flipper_length_mm\": 199.0, \"body_mass_g\": 3775.0, \"sex\": \"male\", \"year\": 2009}, {\"species\": \"Adelie\", \"island\": \"Torgersen\", \"bill_length_mm\": 35.7, \"bill_depth_mm\": 17.0, \"flipper_length_mm\": 189.0, \"body_mass_g\": 3350.0, \"sex\": \"female\", \"year\": 2009}, {\"species\": \"Adelie\", \"island\": \"Torgersen\", \"bill_length_mm\": 41.1, \"bill_depth_mm\": 18.6, \"flipper_length_mm\": 189.0, \"body_mass_g\": 3325.0, \"sex\": \"male\", \"year\": 2009}, {\"species\": \"Adelie\", \"island\": \"Torgersen\", \"bill_length_mm\": 36.2, \"bill_depth_mm\": 17.2, \"flipper_length_mm\": 187.0, \"body_mass_g\": 3150.0, \"sex\": \"female\", \"year\": 2009}, {\"species\": \"Adelie\", \"island\": \"Torgersen\", \"bill_length_mm\": 37.7, \"bill_depth_mm\": 19.8, \"flipper_length_mm\": 198.0, \"body_mass_g\": 3500.0, \"sex\": \"male\", \"year\": 2009}, {\"species\": \"Adelie\", \"island\": \"Torgersen\", \"bill_length_mm\": 40.2, \"bill_depth_mm\": 17.0, \"flipper_length_mm\": 176.0, \"body_mass_g\": 3450.0, \"sex\": \"female\", \"year\": 2009}, {\"species\": \"Adelie\", \"island\": \"Torgersen\", \"bill_length_mm\": 41.4, \"bill_depth_mm\": 18.5, \"flipper_length_mm\": 202.0, \"body_mass_g\": 3875.0, \"sex\": \"male\", \"year\": 2009}, {\"species\": \"Adelie\", \"island\": \"Torgersen\", \"bill_length_mm\": 35.2, \"bill_depth_mm\": 15.9, \"flipper_length_mm\": 186.0, \"body_mass_g\": 3050.0, \"sex\": \"female\", \"year\": 2009}, {\"species\": \"Adelie\", \"island\": \"Torgersen\", \"bill_length_mm\": 40.6, \"bill_depth_mm\": 19.0, \"flipper_length_mm\": 199.0, \"body_mass_g\": 4000.0, \"sex\": \"male\", \"year\": 2009}, {\"species\": \"Adelie\", \"island\": \"Torgersen\", \"bill_length_mm\": 38.8, \"bill_depth_mm\": 17.6, \"flipper_length_mm\": 191.0, \"body_mass_g\": 3275.0, \"sex\": \"female\", \"year\": 2009}, {\"species\": \"Adelie\", \"island\": \"Torgersen\", \"bill_length_mm\": 41.5, \"bill_depth_mm\": 18.3, \"flipper_length_mm\": 195.0, \"body_mass_g\": 4300.0, \"sex\": \"male\", \"year\": 2009}, {\"species\": \"Adelie\", \"island\": \"Torgersen\", \"bill_length_mm\": 39.0, \"bill_depth_mm\": 17.1, \"flipper_length_mm\": 191.0, \"body_mass_g\": 3050.0, \"sex\": \"female\", \"year\": 2009}, {\"species\": \"Adelie\", \"island\": \"Torgersen\", \"bill_length_mm\": 44.1, \"bill_depth_mm\": 18.0, \"flipper_length_mm\": 210.0, \"body_mass_g\": 4000.0, \"sex\": \"male\", \"year\": 2009}, {\"species\": \"Adelie\", \"island\": \"Torgersen\", \"bill_length_mm\": 38.5, \"bill_depth_mm\": 17.9, \"flipper_length_mm\": 190.0, \"body_mass_g\": 3325.0, \"sex\": \"female\", \"year\": 2009}, {\"species\": \"Adelie\", \"island\": \"Torgersen\", \"bill_length_mm\": 43.1, \"bill_depth_mm\": 19.2, \"flipper_length_mm\": 197.0, \"body_mass_g\": 3500.0, \"sex\": \"male\", \"year\": 2009}, {\"species\": \"Adelie\", \"island\": \"Dream\", \"bill_length_mm\": 36.8, \"bill_depth_mm\": 18.5, \"flipper_length_mm\": 193.0, \"body_mass_g\": 3500.0, \"sex\": \"female\", \"year\": 2009}, {\"species\": \"Adelie\", \"island\": \"Dream\", \"bill_length_mm\": 37.5, \"bill_depth_mm\": 18.5, \"flipper_length_mm\": 199.0, \"body_mass_g\": 4475.0, \"sex\": \"male\", \"year\": 2009}, {\"species\": \"Adelie\", \"island\": \"Dream\", \"bill_length_mm\": 38.1, \"bill_depth_mm\": 17.6, \"flipper_length_mm\": 187.0, \"body_mass_g\": 3425.0, \"sex\": \"female\", \"year\": 2009}, {\"species\": \"Adelie\", \"island\": \"Dream\", \"bill_length_mm\": 41.1, \"bill_depth_mm\": 17.5, \"flipper_length_mm\": 190.0, \"body_mass_g\": 3900.0, \"sex\": \"male\", \"year\": 2009}, {\"species\": \"Adelie\", \"island\": \"Dream\", \"bill_length_mm\": 35.6, \"bill_depth_mm\": 17.5, \"flipper_length_mm\": 191.0, \"body_mass_g\": 3175.0, \"sex\": \"female\", \"year\": 2009}, {\"species\": \"Adelie\", \"island\": \"Dream\", \"bill_length_mm\": 40.2, \"bill_depth_mm\": 20.1, \"flipper_length_mm\": 200.0, \"body_mass_g\": 3975.0, \"sex\": \"male\", \"year\": 2009}, {\"species\": \"Adelie\", \"island\": \"Dream\", \"bill_length_mm\": 37.0, \"bill_depth_mm\": 16.5, \"flipper_length_mm\": 185.0, \"body_mass_g\": 3400.0, \"sex\": \"female\", \"year\": 2009}, {\"species\": \"Adelie\", \"island\": \"Dream\", \"bill_length_mm\": 39.7, \"bill_depth_mm\": 17.9, \"flipper_length_mm\": 193.0, \"body_mass_g\": 4250.0, \"sex\": \"male\", \"year\": 2009}, {\"species\": \"Adelie\", \"island\": \"Dream\", \"bill_length_mm\": 40.2, \"bill_depth_mm\": 17.1, \"flipper_length_mm\": 193.0, \"body_mass_g\": 3400.0, \"sex\": \"female\", \"year\": 2009}, {\"species\": \"Adelie\", \"island\": \"Dream\", \"bill_length_mm\": 40.6, \"bill_depth_mm\": 17.2, \"flipper_length_mm\": 187.0, \"body_mass_g\": 3475.0, \"sex\": \"male\", \"year\": 2009}, {\"species\": \"Adelie\", \"island\": \"Dream\", \"bill_length_mm\": 32.1, \"bill_depth_mm\": 15.5, \"flipper_length_mm\": 188.0, \"body_mass_g\": 3050.0, \"sex\": \"female\", \"year\": 2009}, {\"species\": \"Adelie\", \"island\": \"Dream\", \"bill_length_mm\": 40.7, \"bill_depth_mm\": 17.0, \"flipper_length_mm\": 190.0, \"body_mass_g\": 3725.0, \"sex\": \"male\", \"year\": 2009}, {\"species\": \"Adelie\", \"island\": \"Dream\", \"bill_length_mm\": 37.3, \"bill_depth_mm\": 16.8, \"flipper_length_mm\": 192.0, \"body_mass_g\": 3000.0, \"sex\": \"female\", \"year\": 2009}, {\"species\": \"Adelie\", \"island\": \"Dream\", \"bill_length_mm\": 39.0, \"bill_depth_mm\": 18.7, \"flipper_length_mm\": 185.0, \"body_mass_g\": 3650.0, \"sex\": \"male\", \"year\": 2009}, {\"species\": \"Adelie\", \"island\": \"Dream\", \"bill_length_mm\": 39.2, \"bill_depth_mm\": 18.6, \"flipper_length_mm\": 190.0, \"body_mass_g\": 4250.0, \"sex\": \"male\", \"year\": 2009}, {\"species\": \"Adelie\", \"island\": \"Dream\", \"bill_length_mm\": 36.6, \"bill_depth_mm\": 18.4, \"flipper_length_mm\": 184.0, \"body_mass_g\": 3475.0, \"sex\": \"female\", \"year\": 2009}, {\"species\": \"Adelie\", \"island\": \"Dream\", \"bill_length_mm\": 36.0, \"bill_depth_mm\": 17.8, \"flipper_length_mm\": 195.0, \"body_mass_g\": 3450.0, \"sex\": \"female\", \"year\": 2009}, {\"species\": \"Adelie\", \"island\": \"Dream\", \"bill_length_mm\": 37.8, \"bill_depth_mm\": 18.1, \"flipper_length_mm\": 193.0, \"body_mass_g\": 3750.0, \"sex\": \"male\", \"year\": 2009}, {\"species\": \"Adelie\", \"island\": \"Dream\", \"bill_length_mm\": 36.0, \"bill_depth_mm\": 17.1, \"flipper_length_mm\": 187.0, \"body_mass_g\": 3700.0, \"sex\": \"female\", \"year\": 2009}, {\"species\": \"Adelie\", \"island\": \"Dream\", \"bill_length_mm\": 41.5, \"bill_depth_mm\": 18.5, \"flipper_length_mm\": 201.0, \"body_mass_g\": 4000.0, \"sex\": \"male\", \"year\": 2009}, {\"species\": \"Gentoo\", \"island\": \"Biscoe\", \"bill_length_mm\": 46.1, \"bill_depth_mm\": 13.2, \"flipper_length_mm\": 211.0, \"body_mass_g\": 4500.0, \"sex\": \"female\", \"year\": 2007}, {\"species\": \"Gentoo\", \"island\": \"Biscoe\", \"bill_length_mm\": 50.0, \"bill_depth_mm\": 16.3, \"flipper_length_mm\": 230.0, \"body_mass_g\": 5700.0, \"sex\": \"male\", \"year\": 2007}, {\"species\": \"Gentoo\", \"island\": \"Biscoe\", \"bill_length_mm\": 48.7, \"bill_depth_mm\": 14.1, \"flipper_length_mm\": 210.0, \"body_mass_g\": 4450.0, \"sex\": \"female\", \"year\": 2007}, {\"species\": \"Gentoo\", \"island\": \"Biscoe\", \"bill_length_mm\": 50.0, \"bill_depth_mm\": 15.2, \"flipper_length_mm\": 218.0, \"body_mass_g\": 5700.0, \"sex\": \"male\", \"year\": 2007}, {\"species\": \"Gentoo\", \"island\": \"Biscoe\", \"bill_length_mm\": 47.6, \"bill_depth_mm\": 14.5, \"flipper_length_mm\": 215.0, \"body_mass_g\": 5400.0, \"sex\": \"male\", \"year\": 2007}, {\"species\": \"Gentoo\", \"island\": \"Biscoe\", \"bill_length_mm\": 46.5, \"bill_depth_mm\": 13.5, \"flipper_length_mm\": 210.0, \"body_mass_g\": 4550.0, \"sex\": \"female\", \"year\": 2007}, {\"species\": \"Gentoo\", \"island\": \"Biscoe\", \"bill_length_mm\": 45.4, \"bill_depth_mm\": 14.6, \"flipper_length_mm\": 211.0, \"body_mass_g\": 4800.0, \"sex\": \"female\", \"year\": 2007}, {\"species\": \"Gentoo\", \"island\": \"Biscoe\", \"bill_length_mm\": 46.7, \"bill_depth_mm\": 15.3, \"flipper_length_mm\": 219.0, \"body_mass_g\": 5200.0, \"sex\": \"male\", \"year\": 2007}, {\"species\": \"Gentoo\", \"island\": \"Biscoe\", \"bill_length_mm\": 43.3, \"bill_depth_mm\": 13.4, \"flipper_length_mm\": 209.0, \"body_mass_g\": 4400.0, \"sex\": \"female\", \"year\": 2007}, {\"species\": \"Gentoo\", \"island\": \"Biscoe\", \"bill_length_mm\": 46.8, \"bill_depth_mm\": 15.4, \"flipper_length_mm\": 215.0, \"body_mass_g\": 5150.0, \"sex\": \"male\", \"year\": 2007}, {\"species\": \"Gentoo\", \"island\": \"Biscoe\", \"bill_length_mm\": 40.9, \"bill_depth_mm\": 13.7, \"flipper_length_mm\": 214.0, \"body_mass_g\": 4650.0, \"sex\": \"female\", \"year\": 2007}, {\"species\": \"Gentoo\", \"island\": \"Biscoe\", \"bill_length_mm\": 49.0, \"bill_depth_mm\": 16.1, \"flipper_length_mm\": 216.0, \"body_mass_g\": 5550.0, \"sex\": \"male\", \"year\": 2007}, {\"species\": \"Gentoo\", \"island\": \"Biscoe\", \"bill_length_mm\": 45.5, \"bill_depth_mm\": 13.7, \"flipper_length_mm\": 214.0, \"body_mass_g\": 4650.0, \"sex\": \"female\", \"year\": 2007}, {\"species\": \"Gentoo\", \"island\": \"Biscoe\", \"bill_length_mm\": 48.4, \"bill_depth_mm\": 14.6, \"flipper_length_mm\": 213.0, \"body_mass_g\": 5850.0, \"sex\": \"male\", \"year\": 2007}, {\"species\": \"Gentoo\", \"island\": \"Biscoe\", \"bill_length_mm\": 45.8, \"bill_depth_mm\": 14.6, \"flipper_length_mm\": 210.0, \"body_mass_g\": 4200.0, \"sex\": \"female\", \"year\": 2007}, {\"species\": \"Gentoo\", \"island\": \"Biscoe\", \"bill_length_mm\": 49.3, \"bill_depth_mm\": 15.7, \"flipper_length_mm\": 217.0, \"body_mass_g\": 5850.0, \"sex\": \"male\", \"year\": 2007}, {\"species\": \"Gentoo\", \"island\": \"Biscoe\", \"bill_length_mm\": 42.0, \"bill_depth_mm\": 13.5, \"flipper_length_mm\": 210.0, \"body_mass_g\": 4150.0, \"sex\": \"female\", \"year\": 2007}, {\"species\": \"Gentoo\", \"island\": \"Biscoe\", \"bill_length_mm\": 49.2, \"bill_depth_mm\": 15.2, \"flipper_length_mm\": 221.0, \"body_mass_g\": 6300.0, \"sex\": \"male\", \"year\": 2007}, {\"species\": \"Gentoo\", \"island\": \"Biscoe\", \"bill_length_mm\": 46.2, \"bill_depth_mm\": 14.5, \"flipper_length_mm\": 209.0, \"body_mass_g\": 4800.0, \"sex\": \"female\", \"year\": 2007}, {\"species\": \"Gentoo\", \"island\": \"Biscoe\", \"bill_length_mm\": 48.7, \"bill_depth_mm\": 15.1, \"flipper_length_mm\": 222.0, \"body_mass_g\": 5350.0, \"sex\": \"male\", \"year\": 2007}, {\"species\": \"Gentoo\", \"island\": \"Biscoe\", \"bill_length_mm\": 50.2, \"bill_depth_mm\": 14.3, \"flipper_length_mm\": 218.0, \"body_mass_g\": 5700.0, \"sex\": \"male\", \"year\": 2007}, {\"species\": \"Gentoo\", \"island\": \"Biscoe\", \"bill_length_mm\": 45.1, \"bill_depth_mm\": 14.5, \"flipper_length_mm\": 215.0, \"body_mass_g\": 5000.0, \"sex\": \"female\", \"year\": 2007}, {\"species\": \"Gentoo\", \"island\": \"Biscoe\", \"bill_length_mm\": 46.5, \"bill_depth_mm\": 14.5, \"flipper_length_mm\": 213.0, \"body_mass_g\": 4400.0, \"sex\": \"female\", \"year\": 2007}, {\"species\": \"Gentoo\", \"island\": \"Biscoe\", \"bill_length_mm\": 46.3, \"bill_depth_mm\": 15.8, \"flipper_length_mm\": 215.0, \"body_mass_g\": 5050.0, \"sex\": \"male\", \"year\": 2007}, {\"species\": \"Gentoo\", \"island\": \"Biscoe\", \"bill_length_mm\": 42.9, \"bill_depth_mm\": 13.1, \"flipper_length_mm\": 215.0, \"body_mass_g\": 5000.0, \"sex\": \"female\", \"year\": 2007}, {\"species\": \"Gentoo\", \"island\": \"Biscoe\", \"bill_length_mm\": 46.1, \"bill_depth_mm\": 15.1, \"flipper_length_mm\": 215.0, \"body_mass_g\": 5100.0, \"sex\": \"male\", \"year\": 2007}, {\"species\": \"Gentoo\", \"island\": \"Biscoe\", \"bill_length_mm\": 44.5, \"bill_depth_mm\": 14.3, \"flipper_length_mm\": 216.0, \"body_mass_g\": 4100.0, \"sex\": null, \"year\": 2007}, {\"species\": \"Gentoo\", \"island\": \"Biscoe\", \"bill_length_mm\": 47.8, \"bill_depth_mm\": 15.0, \"flipper_length_mm\": 215.0, \"body_mass_g\": 5650.0, \"sex\": \"male\", \"year\": 2007}, {\"species\": \"Gentoo\", \"island\": \"Biscoe\", \"bill_length_mm\": 48.2, \"bill_depth_mm\": 14.3, \"flipper_length_mm\": 210.0, \"body_mass_g\": 4600.0, \"sex\": \"female\", \"year\": 2007}, {\"species\": \"Gentoo\", \"island\": \"Biscoe\", \"bill_length_mm\": 50.0, \"bill_depth_mm\": 15.3, \"flipper_length_mm\": 220.0, \"body_mass_g\": 5550.0, \"sex\": \"male\", \"year\": 2007}, {\"species\": \"Gentoo\", \"island\": \"Biscoe\", \"bill_length_mm\": 47.3, \"bill_depth_mm\": 15.3, \"flipper_length_mm\": 222.0, \"body_mass_g\": 5250.0, \"sex\": \"male\", \"year\": 2007}, {\"species\": \"Gentoo\", \"island\": \"Biscoe\", \"bill_length_mm\": 42.8, \"bill_depth_mm\": 14.2, \"flipper_length_mm\": 209.0, \"body_mass_g\": 4700.0, \"sex\": \"female\", \"year\": 2007}, {\"species\": \"Gentoo\", \"island\": \"Biscoe\", \"bill_length_mm\": 45.1, \"bill_depth_mm\": 14.5, \"flipper_length_mm\": 207.0, \"body_mass_g\": 5050.0, \"sex\": \"female\", \"year\": 2007}, {\"species\": \"Gentoo\", \"island\": \"Biscoe\", \"bill_length_mm\": 59.6, \"bill_depth_mm\": 17.0, \"flipper_length_mm\": 230.0, \"body_mass_g\": 6050.0, \"sex\": \"male\", \"year\": 2007}, {\"species\": \"Gentoo\", \"island\": \"Biscoe\", \"bill_length_mm\": 49.1, \"bill_depth_mm\": 14.8, \"flipper_length_mm\": 220.0, \"body_mass_g\": 5150.0, \"sex\": \"female\", \"year\": 2008}, {\"species\": \"Gentoo\", \"island\": \"Biscoe\", \"bill_length_mm\": 48.4, \"bill_depth_mm\": 16.3, \"flipper_length_mm\": 220.0, \"body_mass_g\": 5400.0, \"sex\": \"male\", \"year\": 2008}, {\"species\": \"Gentoo\", \"island\": \"Biscoe\", \"bill_length_mm\": 42.6, \"bill_depth_mm\": 13.7, \"flipper_length_mm\": 213.0, \"body_mass_g\": 4950.0, \"sex\": \"female\", \"year\": 2008}, {\"species\": \"Gentoo\", \"island\": \"Biscoe\", \"bill_length_mm\": 44.4, \"bill_depth_mm\": 17.3, \"flipper_length_mm\": 219.0, \"body_mass_g\": 5250.0, \"sex\": \"male\", \"year\": 2008}, {\"species\": \"Gentoo\", \"island\": \"Biscoe\", \"bill_length_mm\": 44.0, \"bill_depth_mm\": 13.6, \"flipper_length_mm\": 208.0, \"body_mass_g\": 4350.0, \"sex\": \"female\", \"year\": 2008}, {\"species\": \"Gentoo\", \"island\": \"Biscoe\", \"bill_length_mm\": 48.7, \"bill_depth_mm\": 15.7, \"flipper_length_mm\": 208.0, \"body_mass_g\": 5350.0, \"sex\": \"male\", \"year\": 2008}, {\"species\": \"Gentoo\", \"island\": \"Biscoe\", \"bill_length_mm\": 42.7, \"bill_depth_mm\": 13.7, \"flipper_length_mm\": 208.0, \"body_mass_g\": 3950.0, \"sex\": \"female\", \"year\": 2008}, {\"species\": \"Gentoo\", \"island\": \"Biscoe\", \"bill_length_mm\": 49.6, \"bill_depth_mm\": 16.0, \"flipper_length_mm\": 225.0, \"body_mass_g\": 5700.0, \"sex\": \"male\", \"year\": 2008}, {\"species\": \"Gentoo\", \"island\": \"Biscoe\", \"bill_length_mm\": 45.3, \"bill_depth_mm\": 13.7, \"flipper_length_mm\": 210.0, \"body_mass_g\": 4300.0, \"sex\": \"female\", \"year\": 2008}, {\"species\": \"Gentoo\", \"island\": \"Biscoe\", \"bill_length_mm\": 49.6, \"bill_depth_mm\": 15.0, \"flipper_length_mm\": 216.0, \"body_mass_g\": 4750.0, \"sex\": \"male\", \"year\": 2008}, {\"species\": \"Gentoo\", \"island\": \"Biscoe\", \"bill_length_mm\": 50.5, \"bill_depth_mm\": 15.9, \"flipper_length_mm\": 222.0, \"body_mass_g\": 5550.0, \"sex\": \"male\", \"year\": 2008}, {\"species\": \"Gentoo\", \"island\": \"Biscoe\", \"bill_length_mm\": 43.6, \"bill_depth_mm\": 13.9, \"flipper_length_mm\": 217.0, \"body_mass_g\": 4900.0, \"sex\": \"female\", \"year\": 2008}, {\"species\": \"Gentoo\", \"island\": \"Biscoe\", \"bill_length_mm\": 45.5, \"bill_depth_mm\": 13.9, \"flipper_length_mm\": 210.0, \"body_mass_g\": 4200.0, \"sex\": \"female\", \"year\": 2008}, {\"species\": \"Gentoo\", \"island\": \"Biscoe\", \"bill_length_mm\": 50.5, \"bill_depth_mm\": 15.9, \"flipper_length_mm\": 225.0, \"body_mass_g\": 5400.0, \"sex\": \"male\", \"year\": 2008}, {\"species\": \"Gentoo\", \"island\": \"Biscoe\", \"bill_length_mm\": 44.9, \"bill_depth_mm\": 13.3, \"flipper_length_mm\": 213.0, \"body_mass_g\": 5100.0, \"sex\": \"female\", \"year\": 2008}, {\"species\": \"Gentoo\", \"island\": \"Biscoe\", \"bill_length_mm\": 45.2, \"bill_depth_mm\": 15.8, \"flipper_length_mm\": 215.0, \"body_mass_g\": 5300.0, \"sex\": \"male\", \"year\": 2008}, {\"species\": \"Gentoo\", \"island\": \"Biscoe\", \"bill_length_mm\": 46.6, \"bill_depth_mm\": 14.2, \"flipper_length_mm\": 210.0, \"body_mass_g\": 4850.0, \"sex\": \"female\", \"year\": 2008}, {\"species\": \"Gentoo\", \"island\": \"Biscoe\", \"bill_length_mm\": 48.5, \"bill_depth_mm\": 14.1, \"flipper_length_mm\": 220.0, \"body_mass_g\": 5300.0, \"sex\": \"male\", \"year\": 2008}, {\"species\": \"Gentoo\", \"island\": \"Biscoe\", \"bill_length_mm\": 45.1, \"bill_depth_mm\": 14.4, \"flipper_length_mm\": 210.0, \"body_mass_g\": 4400.0, \"sex\": \"female\", \"year\": 2008}, {\"species\": \"Gentoo\", \"island\": \"Biscoe\", \"bill_length_mm\": 50.1, \"bill_depth_mm\": 15.0, \"flipper_length_mm\": 225.0, \"body_mass_g\": 5000.0, \"sex\": \"male\", \"year\": 2008}, {\"species\": \"Gentoo\", \"island\": \"Biscoe\", \"bill_length_mm\": 46.5, \"bill_depth_mm\": 14.4, \"flipper_length_mm\": 217.0, \"body_mass_g\": 4900.0, \"sex\": \"female\", \"year\": 2008}, {\"species\": \"Gentoo\", \"island\": \"Biscoe\", \"bill_length_mm\": 45.0, \"bill_depth_mm\": 15.4, \"flipper_length_mm\": 220.0, \"body_mass_g\": 5050.0, \"sex\": \"male\", \"year\": 2008}, {\"species\": \"Gentoo\", \"island\": \"Biscoe\", \"bill_length_mm\": 43.8, \"bill_depth_mm\": 13.9, \"flipper_length_mm\": 208.0, \"body_mass_g\": 4300.0, \"sex\": \"female\", \"year\": 2008}, {\"species\": \"Gentoo\", \"island\": \"Biscoe\", \"bill_length_mm\": 45.5, \"bill_depth_mm\": 15.0, \"flipper_length_mm\": 220.0, \"body_mass_g\": 5000.0, \"sex\": \"male\", \"year\": 2008}, {\"species\": \"Gentoo\", \"island\": \"Biscoe\", \"bill_length_mm\": 43.2, \"bill_depth_mm\": 14.5, \"flipper_length_mm\": 208.0, \"body_mass_g\": 4450.0, \"sex\": \"female\", \"year\": 2008}, {\"species\": \"Gentoo\", \"island\": \"Biscoe\", \"bill_length_mm\": 50.4, \"bill_depth_mm\": 15.3, \"flipper_length_mm\": 224.0, \"body_mass_g\": 5550.0, \"sex\": \"male\", \"year\": 2008}, {\"species\": \"Gentoo\", \"island\": \"Biscoe\", \"bill_length_mm\": 45.3, \"bill_depth_mm\": 13.8, \"flipper_length_mm\": 208.0, \"body_mass_g\": 4200.0, \"sex\": \"female\", \"year\": 2008}, {\"species\": \"Gentoo\", \"island\": \"Biscoe\", \"bill_length_mm\": 46.2, \"bill_depth_mm\": 14.9, \"flipper_length_mm\": 221.0, \"body_mass_g\": 5300.0, \"sex\": \"male\", \"year\": 2008}, {\"species\": \"Gentoo\", \"island\": \"Biscoe\", \"bill_length_mm\": 45.7, \"bill_depth_mm\": 13.9, \"flipper_length_mm\": 214.0, \"body_mass_g\": 4400.0, \"sex\": \"female\", \"year\": 2008}, {\"species\": \"Gentoo\", \"island\": \"Biscoe\", \"bill_length_mm\": 54.3, \"bill_depth_mm\": 15.7, \"flipper_length_mm\": 231.0, \"body_mass_g\": 5650.0, \"sex\": \"male\", \"year\": 2008}, {\"species\": \"Gentoo\", \"island\": \"Biscoe\", \"bill_length_mm\": 45.8, \"bill_depth_mm\": 14.2, \"flipper_length_mm\": 219.0, \"body_mass_g\": 4700.0, \"sex\": \"female\", \"year\": 2008}, {\"species\": \"Gentoo\", \"island\": \"Biscoe\", \"bill_length_mm\": 49.8, \"bill_depth_mm\": 16.8, \"flipper_length_mm\": 230.0, \"body_mass_g\": 5700.0, \"sex\": \"male\", \"year\": 2008}, {\"species\": \"Gentoo\", \"island\": \"Biscoe\", \"bill_length_mm\": 46.2, \"bill_depth_mm\": 14.4, \"flipper_length_mm\": 214.0, \"body_mass_g\": 4650.0, \"sex\": null, \"year\": 2008}, {\"species\": \"Gentoo\", \"island\": \"Biscoe\", \"bill_length_mm\": 49.5, \"bill_depth_mm\": 16.2, \"flipper_length_mm\": 229.0, \"body_mass_g\": 5800.0, \"sex\": \"male\", \"year\": 2008}, {\"species\": \"Gentoo\", \"island\": \"Biscoe\", \"bill_length_mm\": 43.5, \"bill_depth_mm\": 14.2, \"flipper_length_mm\": 220.0, \"body_mass_g\": 4700.0, \"sex\": \"female\", \"year\": 2008}, {\"species\": \"Gentoo\", \"island\": \"Biscoe\", \"bill_length_mm\": 50.7, \"bill_depth_mm\": 15.0, \"flipper_length_mm\": 223.0, \"body_mass_g\": 5550.0, \"sex\": \"male\", \"year\": 2008}, {\"species\": \"Gentoo\", \"island\": \"Biscoe\", \"bill_length_mm\": 47.7, \"bill_depth_mm\": 15.0, \"flipper_length_mm\": 216.0, \"body_mass_g\": 4750.0, \"sex\": \"female\", \"year\": 2008}, {\"species\": \"Gentoo\", \"island\": \"Biscoe\", \"bill_length_mm\": 46.4, \"bill_depth_mm\": 15.6, \"flipper_length_mm\": 221.0, \"body_mass_g\": 5000.0, \"sex\": \"male\", \"year\": 2008}, {\"species\": \"Gentoo\", \"island\": \"Biscoe\", \"bill_length_mm\": 48.2, \"bill_depth_mm\": 15.6, \"flipper_length_mm\": 221.0, \"body_mass_g\": 5100.0, \"sex\": \"male\", \"year\": 2008}, {\"species\": \"Gentoo\", \"island\": \"Biscoe\", \"bill_length_mm\": 46.5, \"bill_depth_mm\": 14.8, \"flipper_length_mm\": 217.0, \"body_mass_g\": 5200.0, \"sex\": \"female\", \"year\": 2008}, {\"species\": \"Gentoo\", \"island\": \"Biscoe\", \"bill_length_mm\": 46.4, \"bill_depth_mm\": 15.0, \"flipper_length_mm\": 216.0, \"body_mass_g\": 4700.0, \"sex\": \"female\", \"year\": 2008}, {\"species\": \"Gentoo\", \"island\": \"Biscoe\", \"bill_length_mm\": 48.6, \"bill_depth_mm\": 16.0, \"flipper_length_mm\": 230.0, \"body_mass_g\": 5800.0, \"sex\": \"male\", \"year\": 2008}, {\"species\": \"Gentoo\", \"island\": \"Biscoe\", \"bill_length_mm\": 47.5, \"bill_depth_mm\": 14.2, \"flipper_length_mm\": 209.0, \"body_mass_g\": 4600.0, \"sex\": \"female\", \"year\": 2008}, {\"species\": \"Gentoo\", \"island\": \"Biscoe\", \"bill_length_mm\": 51.1, \"bill_depth_mm\": 16.3, \"flipper_length_mm\": 220.0, \"body_mass_g\": 6000.0, \"sex\": \"male\", \"year\": 2008}, {\"species\": \"Gentoo\", \"island\": \"Biscoe\", \"bill_length_mm\": 45.2, \"bill_depth_mm\": 13.8, \"flipper_length_mm\": 215.0, \"body_mass_g\": 4750.0, \"sex\": \"female\", \"year\": 2008}, {\"species\": \"Gentoo\", \"island\": \"Biscoe\", \"bill_length_mm\": 45.2, \"bill_depth_mm\": 16.4, \"flipper_length_mm\": 223.0, \"body_mass_g\": 5950.0, \"sex\": \"male\", \"year\": 2008}, {\"species\": \"Gentoo\", \"island\": \"Biscoe\", \"bill_length_mm\": 49.1, \"bill_depth_mm\": 14.5, \"flipper_length_mm\": 212.0, \"body_mass_g\": 4625.0, \"sex\": \"female\", \"year\": 2009}, {\"species\": \"Gentoo\", \"island\": \"Biscoe\", \"bill_length_mm\": 52.5, \"bill_depth_mm\": 15.6, \"flipper_length_mm\": 221.0, \"body_mass_g\": 5450.0, \"sex\": \"male\", \"year\": 2009}, {\"species\": \"Gentoo\", \"island\": \"Biscoe\", \"bill_length_mm\": 47.4, \"bill_depth_mm\": 14.6, \"flipper_length_mm\": 212.0, \"body_mass_g\": 4725.0, \"sex\": \"female\", \"year\": 2009}, {\"species\": \"Gentoo\", \"island\": \"Biscoe\", \"bill_length_mm\": 50.0, \"bill_depth_mm\": 15.9, \"flipper_length_mm\": 224.0, \"body_mass_g\": 5350.0, \"sex\": \"male\", \"year\": 2009}, {\"species\": \"Gentoo\", \"island\": \"Biscoe\", \"bill_length_mm\": 44.9, \"bill_depth_mm\": 13.8, \"flipper_length_mm\": 212.0, \"body_mass_g\": 4750.0, \"sex\": \"female\", \"year\": 2009}, {\"species\": \"Gentoo\", \"island\": \"Biscoe\", \"bill_length_mm\": 50.8, \"bill_depth_mm\": 17.3, \"flipper_length_mm\": 228.0, \"body_mass_g\": 5600.0, \"sex\": \"male\", \"year\": 2009}, {\"species\": \"Gentoo\", \"island\": \"Biscoe\", \"bill_length_mm\": 43.4, \"bill_depth_mm\": 14.4, \"flipper_length_mm\": 218.0, \"body_mass_g\": 4600.0, \"sex\": \"female\", \"year\": 2009}, {\"species\": \"Gentoo\", \"island\": \"Biscoe\", \"bill_length_mm\": 51.3, \"bill_depth_mm\": 14.2, \"flipper_length_mm\": 218.0, \"body_mass_g\": 5300.0, \"sex\": \"male\", \"year\": 2009}, {\"species\": \"Gentoo\", \"island\": \"Biscoe\", \"bill_length_mm\": 47.5, \"bill_depth_mm\": 14.0, \"flipper_length_mm\": 212.0, \"body_mass_g\": 4875.0, \"sex\": \"female\", \"year\": 2009}, {\"species\": \"Gentoo\", \"island\": \"Biscoe\", \"bill_length_mm\": 52.1, \"bill_depth_mm\": 17.0, \"flipper_length_mm\": 230.0, \"body_mass_g\": 5550.0, \"sex\": \"male\", \"year\": 2009}, {\"species\": \"Gentoo\", \"island\": \"Biscoe\", \"bill_length_mm\": 47.5, \"bill_depth_mm\": 15.0, \"flipper_length_mm\": 218.0, \"body_mass_g\": 4950.0, \"sex\": \"female\", \"year\": 2009}, {\"species\": \"Gentoo\", \"island\": \"Biscoe\", \"bill_length_mm\": 52.2, \"bill_depth_mm\": 17.1, \"flipper_length_mm\": 228.0, \"body_mass_g\": 5400.0, \"sex\": \"male\", \"year\": 2009}, {\"species\": \"Gentoo\", \"island\": \"Biscoe\", \"bill_length_mm\": 45.5, \"bill_depth_mm\": 14.5, \"flipper_length_mm\": 212.0, \"body_mass_g\": 4750.0, \"sex\": \"female\", \"year\": 2009}, {\"species\": \"Gentoo\", \"island\": \"Biscoe\", \"bill_length_mm\": 49.5, \"bill_depth_mm\": 16.1, \"flipper_length_mm\": 224.0, \"body_mass_g\": 5650.0, \"sex\": \"male\", \"year\": 2009}, {\"species\": \"Gentoo\", \"island\": \"Biscoe\", \"bill_length_mm\": 44.5, \"bill_depth_mm\": 14.7, \"flipper_length_mm\": 214.0, \"body_mass_g\": 4850.0, \"sex\": \"female\", \"year\": 2009}, {\"species\": \"Gentoo\", \"island\": \"Biscoe\", \"bill_length_mm\": 50.8, \"bill_depth_mm\": 15.7, \"flipper_length_mm\": 226.0, \"body_mass_g\": 5200.0, \"sex\": \"male\", \"year\": 2009}, {\"species\": \"Gentoo\", \"island\": \"Biscoe\", \"bill_length_mm\": 49.4, \"bill_depth_mm\": 15.8, \"flipper_length_mm\": 216.0, \"body_mass_g\": 4925.0, \"sex\": \"male\", \"year\": 2009}, {\"species\": \"Gentoo\", \"island\": \"Biscoe\", \"bill_length_mm\": 46.9, \"bill_depth_mm\": 14.6, \"flipper_length_mm\": 222.0, \"body_mass_g\": 4875.0, \"sex\": \"female\", \"year\": 2009}, {\"species\": \"Gentoo\", \"island\": \"Biscoe\", \"bill_length_mm\": 48.4, \"bill_depth_mm\": 14.4, \"flipper_length_mm\": 203.0, \"body_mass_g\": 4625.0, \"sex\": \"female\", \"year\": 2009}, {\"species\": \"Gentoo\", \"island\": \"Biscoe\", \"bill_length_mm\": 51.1, \"bill_depth_mm\": 16.5, \"flipper_length_mm\": 225.0, \"body_mass_g\": 5250.0, \"sex\": \"male\", \"year\": 2009}, {\"species\": \"Gentoo\", \"island\": \"Biscoe\", \"bill_length_mm\": 48.5, \"bill_depth_mm\": 15.0, \"flipper_length_mm\": 219.0, \"body_mass_g\": 4850.0, \"sex\": \"female\", \"year\": 2009}, {\"species\": \"Gentoo\", \"island\": \"Biscoe\", \"bill_length_mm\": 55.9, \"bill_depth_mm\": 17.0, \"flipper_length_mm\": 228.0, \"body_mass_g\": 5600.0, \"sex\": \"male\", \"year\": 2009}, {\"species\": \"Gentoo\", \"island\": \"Biscoe\", \"bill_length_mm\": 47.2, \"bill_depth_mm\": 15.5, \"flipper_length_mm\": 215.0, \"body_mass_g\": 4975.0, \"sex\": \"female\", \"year\": 2009}, {\"species\": \"Gentoo\", \"island\": \"Biscoe\", \"bill_length_mm\": 49.1, \"bill_depth_mm\": 15.0, \"flipper_length_mm\": 228.0, \"body_mass_g\": 5500.0, \"sex\": \"male\", \"year\": 2009}, {\"species\": \"Gentoo\", \"island\": \"Biscoe\", \"bill_length_mm\": 47.3, \"bill_depth_mm\": 13.8, \"flipper_length_mm\": 216.0, \"body_mass_g\": 4725.0, \"sex\": null, \"year\": 2009}, {\"species\": \"Gentoo\", \"island\": \"Biscoe\", \"bill_length_mm\": 46.8, \"bill_depth_mm\": 16.1, \"flipper_length_mm\": 215.0, \"body_mass_g\": 5500.0, \"sex\": \"male\", \"year\": 2009}, {\"species\": \"Gentoo\", \"island\": \"Biscoe\", \"bill_length_mm\": 41.7, \"bill_depth_mm\": 14.7, \"flipper_length_mm\": 210.0, \"body_mass_g\": 4700.0, \"sex\": \"female\", \"year\": 2009}, {\"species\": \"Gentoo\", \"island\": \"Biscoe\", \"bill_length_mm\": 53.4, \"bill_depth_mm\": 15.8, \"flipper_length_mm\": 219.0, \"body_mass_g\": 5500.0, \"sex\": \"male\", \"year\": 2009}, {\"species\": \"Gentoo\", \"island\": \"Biscoe\", \"bill_length_mm\": 43.3, \"bill_depth_mm\": 14.0, \"flipper_length_mm\": 208.0, \"body_mass_g\": 4575.0, \"sex\": \"female\", \"year\": 2009}, {\"species\": \"Gentoo\", \"island\": \"Biscoe\", \"bill_length_mm\": 48.1, \"bill_depth_mm\": 15.1, \"flipper_length_mm\": 209.0, \"body_mass_g\": 5500.0, \"sex\": \"male\", \"year\": 2009}, {\"species\": \"Gentoo\", \"island\": \"Biscoe\", \"bill_length_mm\": 50.5, \"bill_depth_mm\": 15.2, \"flipper_length_mm\": 216.0, \"body_mass_g\": 5000.0, \"sex\": \"female\", \"year\": 2009}, {\"species\": \"Gentoo\", \"island\": \"Biscoe\", \"bill_length_mm\": 49.8, \"bill_depth_mm\": 15.9, \"flipper_length_mm\": 229.0, \"body_mass_g\": 5950.0, \"sex\": \"male\", \"year\": 2009}, {\"species\": \"Gentoo\", \"island\": \"Biscoe\", \"bill_length_mm\": 43.5, \"bill_depth_mm\": 15.2, \"flipper_length_mm\": 213.0, \"body_mass_g\": 4650.0, \"sex\": \"female\", \"year\": 2009}, {\"species\": \"Gentoo\", \"island\": \"Biscoe\", \"bill_length_mm\": 51.5, \"bill_depth_mm\": 16.3, \"flipper_length_mm\": 230.0, \"body_mass_g\": 5500.0, \"sex\": \"male\", \"year\": 2009}, {\"species\": \"Gentoo\", \"island\": \"Biscoe\", \"bill_length_mm\": 46.2, \"bill_depth_mm\": 14.1, \"flipper_length_mm\": 217.0, \"body_mass_g\": 4375.0, \"sex\": \"female\", \"year\": 2009}, {\"species\": \"Gentoo\", \"island\": \"Biscoe\", \"bill_length_mm\": 55.1, \"bill_depth_mm\": 16.0, \"flipper_length_mm\": 230.0, \"body_mass_g\": 5850.0, \"sex\": \"male\", \"year\": 2009}, {\"species\": \"Gentoo\", \"island\": \"Biscoe\", \"bill_length_mm\": 44.5, \"bill_depth_mm\": 15.7, \"flipper_length_mm\": 217.0, \"body_mass_g\": 4875.0, \"sex\": null, \"year\": 2009}, {\"species\": \"Gentoo\", \"island\": \"Biscoe\", \"bill_length_mm\": 48.8, \"bill_depth_mm\": 16.2, \"flipper_length_mm\": 222.0, \"body_mass_g\": 6000.0, \"sex\": \"male\", \"year\": 2009}, {\"species\": \"Gentoo\", \"island\": \"Biscoe\", \"bill_length_mm\": 47.2, \"bill_depth_mm\": 13.7, \"flipper_length_mm\": 214.0, \"body_mass_g\": 4925.0, \"sex\": \"female\", \"year\": 2009}, {\"species\": \"Gentoo\", \"island\": \"Biscoe\", \"bill_length_mm\": null, \"bill_depth_mm\": null, \"flipper_length_mm\": null, \"body_mass_g\": null, \"sex\": null, \"year\": 2009}, {\"species\": \"Gentoo\", \"island\": \"Biscoe\", \"bill_length_mm\": 46.8, \"bill_depth_mm\": 14.3, \"flipper_length_mm\": 215.0, \"body_mass_g\": 4850.0, \"sex\": \"female\", \"year\": 2009}, {\"species\": \"Gentoo\", \"island\": \"Biscoe\", \"bill_length_mm\": 50.4, \"bill_depth_mm\": 15.7, \"flipper_length_mm\": 222.0, \"body_mass_g\": 5750.0, \"sex\": \"male\", \"year\": 2009}, {\"species\": \"Gentoo\", \"island\": \"Biscoe\", \"bill_length_mm\": 45.2, \"bill_depth_mm\": 14.8, \"flipper_length_mm\": 212.0, \"body_mass_g\": 5200.0, \"sex\": \"female\", \"year\": 2009}, {\"species\": \"Gentoo\", \"island\": \"Biscoe\", \"bill_length_mm\": 49.9, \"bill_depth_mm\": 16.1, \"flipper_length_mm\": 213.0, \"body_mass_g\": 5400.0, \"sex\": \"male\", \"year\": 2009}, {\"species\": \"Chinstrap\", \"island\": \"Dream\", \"bill_length_mm\": 46.5, \"bill_depth_mm\": 17.9, \"flipper_length_mm\": 192.0, \"body_mass_g\": 3500.0, \"sex\": \"female\", \"year\": 2007}, {\"species\": \"Chinstrap\", \"island\": \"Dream\", \"bill_length_mm\": 50.0, \"bill_depth_mm\": 19.5, \"flipper_length_mm\": 196.0, \"body_mass_g\": 3900.0, \"sex\": \"male\", \"year\": 2007}, {\"species\": \"Chinstrap\", \"island\": \"Dream\", \"bill_length_mm\": 51.3, \"bill_depth_mm\": 19.2, \"flipper_length_mm\": 193.0, \"body_mass_g\": 3650.0, \"sex\": \"male\", \"year\": 2007}, {\"species\": \"Chinstrap\", \"island\": \"Dream\", \"bill_length_mm\": 45.4, \"bill_depth_mm\": 18.7, \"flipper_length_mm\": 188.0, \"body_mass_g\": 3525.0, \"sex\": \"female\", \"year\": 2007}, {\"species\": \"Chinstrap\", \"island\": \"Dream\", \"bill_length_mm\": 52.7, \"bill_depth_mm\": 19.8, \"flipper_length_mm\": 197.0, \"body_mass_g\": 3725.0, \"sex\": \"male\", \"year\": 2007}, {\"species\": \"Chinstrap\", \"island\": \"Dream\", \"bill_length_mm\": 45.2, \"bill_depth_mm\": 17.8, \"flipper_length_mm\": 198.0, \"body_mass_g\": 3950.0, \"sex\": \"female\", \"year\": 2007}, {\"species\": \"Chinstrap\", \"island\": \"Dream\", \"bill_length_mm\": 46.1, \"bill_depth_mm\": 18.2, \"flipper_length_mm\": 178.0, \"body_mass_g\": 3250.0, \"sex\": \"female\", \"year\": 2007}, {\"species\": \"Chinstrap\", \"island\": \"Dream\", \"bill_length_mm\": 51.3, \"bill_depth_mm\": 18.2, \"flipper_length_mm\": 197.0, \"body_mass_g\": 3750.0, \"sex\": \"male\", \"year\": 2007}, {\"species\": \"Chinstrap\", \"island\": \"Dream\", \"bill_length_mm\": 46.0, \"bill_depth_mm\": 18.9, \"flipper_length_mm\": 195.0, \"body_mass_g\": 4150.0, \"sex\": \"female\", \"year\": 2007}, {\"species\": \"Chinstrap\", \"island\": \"Dream\", \"bill_length_mm\": 51.3, \"bill_depth_mm\": 19.9, \"flipper_length_mm\": 198.0, \"body_mass_g\": 3700.0, \"sex\": \"male\", \"year\": 2007}, {\"species\": \"Chinstrap\", \"island\": \"Dream\", \"bill_length_mm\": 46.6, \"bill_depth_mm\": 17.8, \"flipper_length_mm\": 193.0, \"body_mass_g\": 3800.0, \"sex\": \"female\", \"year\": 2007}, {\"species\": \"Chinstrap\", \"island\": \"Dream\", \"bill_length_mm\": 51.7, \"bill_depth_mm\": 20.3, \"flipper_length_mm\": 194.0, \"body_mass_g\": 3775.0, \"sex\": \"male\", \"year\": 2007}, {\"species\": \"Chinstrap\", \"island\": \"Dream\", \"bill_length_mm\": 47.0, \"bill_depth_mm\": 17.3, \"flipper_length_mm\": 185.0, \"body_mass_g\": 3700.0, \"sex\": \"female\", \"year\": 2007}, {\"species\": \"Chinstrap\", \"island\": \"Dream\", \"bill_length_mm\": 52.0, \"bill_depth_mm\": 18.1, \"flipper_length_mm\": 201.0, \"body_mass_g\": 4050.0, \"sex\": \"male\", \"year\": 2007}, {\"species\": \"Chinstrap\", \"island\": \"Dream\", \"bill_length_mm\": 45.9, \"bill_depth_mm\": 17.1, \"flipper_length_mm\": 190.0, \"body_mass_g\": 3575.0, \"sex\": \"female\", \"year\": 2007}, {\"species\": \"Chinstrap\", \"island\": \"Dream\", \"bill_length_mm\": 50.5, \"bill_depth_mm\": 19.6, \"flipper_length_mm\": 201.0, \"body_mass_g\": 4050.0, \"sex\": \"male\", \"year\": 2007}, {\"species\": \"Chinstrap\", \"island\": \"Dream\", \"bill_length_mm\": 50.3, \"bill_depth_mm\": 20.0, \"flipper_length_mm\": 197.0, \"body_mass_g\": 3300.0, \"sex\": \"male\", \"year\": 2007}, {\"species\": \"Chinstrap\", \"island\": \"Dream\", \"bill_length_mm\": 58.0, \"bill_depth_mm\": 17.8, \"flipper_length_mm\": 181.0, \"body_mass_g\": 3700.0, \"sex\": \"female\", \"year\": 2007}, {\"species\": \"Chinstrap\", \"island\": \"Dream\", \"bill_length_mm\": 46.4, \"bill_depth_mm\": 18.6, \"flipper_length_mm\": 190.0, \"body_mass_g\": 3450.0, \"sex\": \"female\", \"year\": 2007}, {\"species\": \"Chinstrap\", \"island\": \"Dream\", \"bill_length_mm\": 49.2, \"bill_depth_mm\": 18.2, \"flipper_length_mm\": 195.0, \"body_mass_g\": 4400.0, \"sex\": \"male\", \"year\": 2007}, {\"species\": \"Chinstrap\", \"island\": \"Dream\", \"bill_length_mm\": 42.4, \"bill_depth_mm\": 17.3, \"flipper_length_mm\": 181.0, \"body_mass_g\": 3600.0, \"sex\": \"female\", \"year\": 2007}, {\"species\": \"Chinstrap\", \"island\": \"Dream\", \"bill_length_mm\": 48.5, \"bill_depth_mm\": 17.5, \"flipper_length_mm\": 191.0, \"body_mass_g\": 3400.0, \"sex\": \"male\", \"year\": 2007}, {\"species\": \"Chinstrap\", \"island\": \"Dream\", \"bill_length_mm\": 43.2, \"bill_depth_mm\": 16.6, \"flipper_length_mm\": 187.0, \"body_mass_g\": 2900.0, \"sex\": \"female\", \"year\": 2007}, {\"species\": \"Chinstrap\", \"island\": \"Dream\", \"bill_length_mm\": 50.6, \"bill_depth_mm\": 19.4, \"flipper_length_mm\": 193.0, \"body_mass_g\": 3800.0, \"sex\": \"male\", \"year\": 2007}, {\"species\": \"Chinstrap\", \"island\": \"Dream\", \"bill_length_mm\": 46.7, \"bill_depth_mm\": 17.9, \"flipper_length_mm\": 195.0, \"body_mass_g\": 3300.0, \"sex\": \"female\", \"year\": 2007}, {\"species\": \"Chinstrap\", \"island\": \"Dream\", \"bill_length_mm\": 52.0, \"bill_depth_mm\": 19.0, \"flipper_length_mm\": 197.0, \"body_mass_g\": 4150.0, \"sex\": \"male\", \"year\": 2007}, {\"species\": \"Chinstrap\", \"island\": \"Dream\", \"bill_length_mm\": 50.5, \"bill_depth_mm\": 18.4, \"flipper_length_mm\": 200.0, \"body_mass_g\": 3400.0, \"sex\": \"female\", \"year\": 2008}, {\"species\": \"Chinstrap\", \"island\": \"Dream\", \"bill_length_mm\": 49.5, \"bill_depth_mm\": 19.0, \"flipper_length_mm\": 200.0, \"body_mass_g\": 3800.0, \"sex\": \"male\", \"year\": 2008}, {\"species\": \"Chinstrap\", \"island\": \"Dream\", \"bill_length_mm\": 46.4, \"bill_depth_mm\": 17.8, \"flipper_length_mm\": 191.0, \"body_mass_g\": 3700.0, \"sex\": \"female\", \"year\": 2008}, {\"species\": \"Chinstrap\", \"island\": \"Dream\", \"bill_length_mm\": 52.8, \"bill_depth_mm\": 20.0, \"flipper_length_mm\": 205.0, \"body_mass_g\": 4550.0, \"sex\": \"male\", \"year\": 2008}, {\"species\": \"Chinstrap\", \"island\": \"Dream\", \"bill_length_mm\": 40.9, \"bill_depth_mm\": 16.6, \"flipper_length_mm\": 187.0, \"body_mass_g\": 3200.0, \"sex\": \"female\", \"year\": 2008}, {\"species\": \"Chinstrap\", \"island\": \"Dream\", \"bill_length_mm\": 54.2, \"bill_depth_mm\": 20.8, \"flipper_length_mm\": 201.0, \"body_mass_g\": 4300.0, \"sex\": \"male\", \"year\": 2008}, {\"species\": \"Chinstrap\", \"island\": \"Dream\", \"bill_length_mm\": 42.5, \"bill_depth_mm\": 16.7, \"flipper_length_mm\": 187.0, \"body_mass_g\": 3350.0, \"sex\": \"female\", \"year\": 2008}, {\"species\": \"Chinstrap\", \"island\": \"Dream\", \"bill_length_mm\": 51.0, \"bill_depth_mm\": 18.8, \"flipper_length_mm\": 203.0, \"body_mass_g\": 4100.0, \"sex\": \"male\", \"year\": 2008}, {\"species\": \"Chinstrap\", \"island\": \"Dream\", \"bill_length_mm\": 49.7, \"bill_depth_mm\": 18.6, \"flipper_length_mm\": 195.0, \"body_mass_g\": 3600.0, \"sex\": \"male\", \"year\": 2008}, {\"species\": \"Chinstrap\", \"island\": \"Dream\", \"bill_length_mm\": 47.5, \"bill_depth_mm\": 16.8, \"flipper_length_mm\": 199.0, \"body_mass_g\": 3900.0, \"sex\": \"female\", \"year\": 2008}, {\"species\": \"Chinstrap\", \"island\": \"Dream\", \"bill_length_mm\": 47.6, \"bill_depth_mm\": 18.3, \"flipper_length_mm\": 195.0, \"body_mass_g\": 3850.0, \"sex\": \"female\", \"year\": 2008}, {\"species\": \"Chinstrap\", \"island\": \"Dream\", \"bill_length_mm\": 52.0, \"bill_depth_mm\": 20.7, \"flipper_length_mm\": 210.0, \"body_mass_g\": 4800.0, \"sex\": \"male\", \"year\": 2008}, {\"species\": \"Chinstrap\", \"island\": \"Dream\", \"bill_length_mm\": 46.9, \"bill_depth_mm\": 16.6, \"flipper_length_mm\": 192.0, \"body_mass_g\": 2700.0, \"sex\": \"female\", \"year\": 2008}, {\"species\": \"Chinstrap\", \"island\": \"Dream\", \"bill_length_mm\": 53.5, \"bill_depth_mm\": 19.9, \"flipper_length_mm\": 205.0, \"body_mass_g\": 4500.0, \"sex\": \"male\", \"year\": 2008}, {\"species\": \"Chinstrap\", \"island\": \"Dream\", \"bill_length_mm\": 49.0, \"bill_depth_mm\": 19.5, \"flipper_length_mm\": 210.0, \"body_mass_g\": 3950.0, \"sex\": \"male\", \"year\": 2008}, {\"species\": \"Chinstrap\", \"island\": \"Dream\", \"bill_length_mm\": 46.2, \"bill_depth_mm\": 17.5, \"flipper_length_mm\": 187.0, \"body_mass_g\": 3650.0, \"sex\": \"female\", \"year\": 2008}, {\"species\": \"Chinstrap\", \"island\": \"Dream\", \"bill_length_mm\": 50.9, \"bill_depth_mm\": 19.1, \"flipper_length_mm\": 196.0, \"body_mass_g\": 3550.0, \"sex\": \"male\", \"year\": 2008}, {\"species\": \"Chinstrap\", \"island\": \"Dream\", \"bill_length_mm\": 45.5, \"bill_depth_mm\": 17.0, \"flipper_length_mm\": 196.0, \"body_mass_g\": 3500.0, \"sex\": \"female\", \"year\": 2008}, {\"species\": \"Chinstrap\", \"island\": \"Dream\", \"bill_length_mm\": 50.9, \"bill_depth_mm\": 17.9, \"flipper_length_mm\": 196.0, \"body_mass_g\": 3675.0, \"sex\": \"female\", \"year\": 2009}, {\"species\": \"Chinstrap\", \"island\": \"Dream\", \"bill_length_mm\": 50.8, \"bill_depth_mm\": 18.5, \"flipper_length_mm\": 201.0, \"body_mass_g\": 4450.0, \"sex\": \"male\", \"year\": 2009}, {\"species\": \"Chinstrap\", \"island\": \"Dream\", \"bill_length_mm\": 50.1, \"bill_depth_mm\": 17.9, \"flipper_length_mm\": 190.0, \"body_mass_g\": 3400.0, \"sex\": \"female\", \"year\": 2009}, {\"species\": \"Chinstrap\", \"island\": \"Dream\", \"bill_length_mm\": 49.0, \"bill_depth_mm\": 19.6, \"flipper_length_mm\": 212.0, \"body_mass_g\": 4300.0, \"sex\": \"male\", \"year\": 2009}, {\"species\": \"Chinstrap\", \"island\": \"Dream\", \"bill_length_mm\": 51.5, \"bill_depth_mm\": 18.7, \"flipper_length_mm\": 187.0, \"body_mass_g\": 3250.0, \"sex\": \"male\", \"year\": 2009}, {\"species\": \"Chinstrap\", \"island\": \"Dream\", \"bill_length_mm\": 49.8, \"bill_depth_mm\": 17.3, \"flipper_length_mm\": 198.0, \"body_mass_g\": 3675.0, \"sex\": \"female\", \"year\": 2009}, {\"species\": \"Chinstrap\", \"island\": \"Dream\", \"bill_length_mm\": 48.1, \"bill_depth_mm\": 16.4, \"flipper_length_mm\": 199.0, \"body_mass_g\": 3325.0, \"sex\": \"female\", \"year\": 2009}, {\"species\": \"Chinstrap\", \"island\": \"Dream\", \"bill_length_mm\": 51.4, \"bill_depth_mm\": 19.0, \"flipper_length_mm\": 201.0, \"body_mass_g\": 3950.0, \"sex\": \"male\", \"year\": 2009}, {\"species\": \"Chinstrap\", \"island\": \"Dream\", \"bill_length_mm\": 45.7, \"bill_depth_mm\": 17.3, \"flipper_length_mm\": 193.0, \"body_mass_g\": 3600.0, \"sex\": \"female\", \"year\": 2009}, {\"species\": \"Chinstrap\", \"island\": \"Dream\", \"bill_length_mm\": 50.7, \"bill_depth_mm\": 19.7, \"flipper_length_mm\": 203.0, \"body_mass_g\": 4050.0, \"sex\": \"male\", \"year\": 2009}, {\"species\": \"Chinstrap\", \"island\": \"Dream\", \"bill_length_mm\": 42.5, \"bill_depth_mm\": 17.3, \"flipper_length_mm\": 187.0, \"body_mass_g\": 3350.0, \"sex\": \"female\", \"year\": 2009}, {\"species\": \"Chinstrap\", \"island\": \"Dream\", \"bill_length_mm\": 52.2, \"bill_depth_mm\": 18.8, \"flipper_length_mm\": 197.0, \"body_mass_g\": 3450.0, \"sex\": \"male\", \"year\": 2009}, {\"species\": \"Chinstrap\", \"island\": \"Dream\", \"bill_length_mm\": 45.2, \"bill_depth_mm\": 16.6, \"flipper_length_mm\": 191.0, \"body_mass_g\": 3250.0, \"sex\": \"female\", \"year\": 2009}, {\"species\": \"Chinstrap\", \"island\": \"Dream\", \"bill_length_mm\": 49.3, \"bill_depth_mm\": 19.9, \"flipper_length_mm\": 203.0, \"body_mass_g\": 4050.0, \"sex\": \"male\", \"year\": 2009}, {\"species\": \"Chinstrap\", \"island\": \"Dream\", \"bill_length_mm\": 50.2, \"bill_depth_mm\": 18.8, \"flipper_length_mm\": 202.0, \"body_mass_g\": 3800.0, \"sex\": \"male\", \"year\": 2009}, {\"species\": \"Chinstrap\", \"island\": \"Dream\", \"bill_length_mm\": 45.6, \"bill_depth_mm\": 19.4, \"flipper_length_mm\": 194.0, \"body_mass_g\": 3525.0, \"sex\": \"female\", \"year\": 2009}, {\"species\": \"Chinstrap\", \"island\": \"Dream\", \"bill_length_mm\": 51.9, \"bill_depth_mm\": 19.5, \"flipper_length_mm\": 206.0, \"body_mass_g\": 3950.0, \"sex\": \"male\", \"year\": 2009}, {\"species\": \"Chinstrap\", \"island\": \"Dream\", \"bill_length_mm\": 46.8, \"bill_depth_mm\": 16.5, \"flipper_length_mm\": 189.0, \"body_mass_g\": 3650.0, \"sex\": \"female\", \"year\": 2009}, {\"species\": \"Chinstrap\", \"island\": \"Dream\", \"bill_length_mm\": 45.7, \"bill_depth_mm\": 17.0, \"flipper_length_mm\": 195.0, \"body_mass_g\": 3650.0, \"sex\": \"female\", \"year\": 2009}, {\"species\": \"Chinstrap\", \"island\": \"Dream\", \"bill_length_mm\": 55.8, \"bill_depth_mm\": 19.8, \"flipper_length_mm\": 207.0, \"body_mass_g\": 4000.0, \"sex\": \"male\", \"year\": 2009}, {\"species\": \"Chinstrap\", \"island\": \"Dream\", \"bill_length_mm\": 43.5, \"bill_depth_mm\": 18.1, \"flipper_length_mm\": 202.0, \"body_mass_g\": 3400.0, \"sex\": \"female\", \"year\": 2009}, {\"species\": \"Chinstrap\", \"island\": \"Dream\", \"bill_length_mm\": 49.6, \"bill_depth_mm\": 18.2, \"flipper_length_mm\": 193.0, \"body_mass_g\": 3775.0, \"sex\": \"male\", \"year\": 2009}, {\"species\": \"Chinstrap\", \"island\": \"Dream\", \"bill_length_mm\": 50.8, \"bill_depth_mm\": 19.0, \"flipper_length_mm\": 210.0, \"body_mass_g\": 4100.0, \"sex\": \"male\", \"year\": 2009}, {\"species\": \"Chinstrap\", \"island\": \"Dream\", \"bill_length_mm\": 50.2, \"bill_depth_mm\": 18.7, \"flipper_length_mm\": 198.0, \"body_mass_g\": 3775.0, \"sex\": \"female\", \"year\": 2009}]}}, {\"mode\": \"vega-lite\"});\n",
              "</script>"
            ]
          },
          "metadata": {
            "tags": []
          },
          "execution_count": 14
        }
      ]
    },
    {
      "cell_type": "code",
      "metadata": {
        "id": "a5-hrqoht-q2",
        "colab_type": "code",
        "colab": {
          "base_uri": "https://localhost:8080/",
          "height": 363
        },
        "outputId": "cc293a37-ca29-4dc6-a661-0d8c7eadb91e"
      },
      "source": [
        " alt.Chart(pg_data).mark_circle(size = 69).encode(\n",
        "     x='flipper_length_mm',\n",
        "     y='body_mass_g', \n",
        "     color = 'species',\n",
        "     tooltip=['species', 'flipper_length_mm', 'body_mass_g']\n",
        " ).interactive()"
      ],
      "execution_count": 15,
      "outputs": [
        {
          "output_type": "execute_result",
          "data": {
            "text/plain": [
              "alt.Chart(...)"
            ],
            "text/html": [
              "\n",
              "<div id=\"altair-viz-b1ade63e07c248239a6aa5630a5d68e7\"></div>\n",
              "<script type=\"text/javascript\">\n",
              "  (function(spec, embedOpt){\n",
              "    let outputDiv = document.currentScript.previousElementSibling;\n",
              "    if (outputDiv.id !== \"altair-viz-b1ade63e07c248239a6aa5630a5d68e7\") {\n",
              "      outputDiv = document.getElementById(\"altair-viz-b1ade63e07c248239a6aa5630a5d68e7\");\n",
              "    }\n",
              "    const paths = {\n",
              "      \"vega\": \"https://cdn.jsdelivr.net/npm//vega@5?noext\",\n",
              "      \"vega-lib\": \"https://cdn.jsdelivr.net/npm//vega-lib?noext\",\n",
              "      \"vega-lite\": \"https://cdn.jsdelivr.net/npm//vega-lite@4.8.1?noext\",\n",
              "      \"vega-embed\": \"https://cdn.jsdelivr.net/npm//vega-embed@6?noext\",\n",
              "    };\n",
              "\n",
              "    function loadScript(lib) {\n",
              "      return new Promise(function(resolve, reject) {\n",
              "        var s = document.createElement('script');\n",
              "        s.src = paths[lib];\n",
              "        s.async = true;\n",
              "        s.onload = () => resolve(paths[lib]);\n",
              "        s.onerror = () => reject(`Error loading script: ${paths[lib]}`);\n",
              "        document.getElementsByTagName(\"head\")[0].appendChild(s);\n",
              "      });\n",
              "    }\n",
              "\n",
              "    function showError(err) {\n",
              "      outputDiv.innerHTML = `<div class=\"error\" style=\"color:red;\">${err}</div>`;\n",
              "      throw err;\n",
              "    }\n",
              "\n",
              "    function displayChart(vegaEmbed) {\n",
              "      vegaEmbed(outputDiv, spec, embedOpt)\n",
              "        .catch(err => showError(`Javascript Error: ${err.message}<br>This usually means there's a typo in your chart specification. See the javascript console for the full traceback.`));\n",
              "    }\n",
              "\n",
              "    if(typeof define === \"function\" && define.amd) {\n",
              "      requirejs.config({paths});\n",
              "      require([\"vega-embed\"], displayChart, err => showError(`Error loading script: ${err.message}`));\n",
              "    } else if (typeof vegaEmbed === \"function\") {\n",
              "      displayChart(vegaEmbed);\n",
              "    } else {\n",
              "      loadScript(\"vega\")\n",
              "        .then(() => loadScript(\"vega-lite\"))\n",
              "        .then(() => loadScript(\"vega-embed\"))\n",
              "        .catch(showError)\n",
              "        .then(() => displayChart(vegaEmbed));\n",
              "    }\n",
              "  })({\"config\": {\"view\": {\"continuousWidth\": 400, \"continuousHeight\": 300}}, \"data\": {\"name\": \"data-d00e1631cca48c544438d30d2b470e8a\"}, \"mark\": {\"type\": \"circle\", \"size\": 69}, \"encoding\": {\"color\": {\"type\": \"nominal\", \"field\": \"species\"}, \"tooltip\": [{\"type\": \"nominal\", \"field\": \"species\"}, {\"type\": \"quantitative\", \"field\": \"bill_length_mm\"}, {\"type\": \"quantitative\", \"field\": \"body_mass_g\"}], \"x\": {\"type\": \"quantitative\", \"field\": \"flipper_length_mm\"}, \"y\": {\"type\": \"quantitative\", \"field\": \"body_mass_g\"}}, \"selection\": {\"selector002\": {\"type\": \"interval\", \"bind\": \"scales\", \"encodings\": [\"x\", \"y\"]}}, \"$schema\": \"https://vega.github.io/schema/vega-lite/v4.8.1.json\", \"datasets\": {\"data-d00e1631cca48c544438d30d2b470e8a\": [{\"species\": \"Adelie\", \"island\": \"Torgersen\", \"bill_length_mm\": 39.1, \"bill_depth_mm\": 18.7, \"flipper_length_mm\": 181.0, \"body_mass_g\": 3750.0, \"sex\": \"male\", \"year\": 2007}, {\"species\": \"Adelie\", \"island\": \"Torgersen\", \"bill_length_mm\": 39.5, \"bill_depth_mm\": 17.4, \"flipper_length_mm\": 186.0, \"body_mass_g\": 3800.0, \"sex\": \"female\", \"year\": 2007}, {\"species\": \"Adelie\", \"island\": \"Torgersen\", \"bill_length_mm\": 40.3, \"bill_depth_mm\": 18.0, \"flipper_length_mm\": 195.0, \"body_mass_g\": 3250.0, \"sex\": \"female\", \"year\": 2007}, {\"species\": \"Adelie\", \"island\": \"Torgersen\", \"bill_length_mm\": null, \"bill_depth_mm\": null, \"flipper_length_mm\": null, \"body_mass_g\": null, \"sex\": null, \"year\": 2007}, {\"species\": \"Adelie\", \"island\": \"Torgersen\", \"bill_length_mm\": 36.7, \"bill_depth_mm\": 19.3, \"flipper_length_mm\": 193.0, \"body_mass_g\": 3450.0, \"sex\": \"female\", \"year\": 2007}, {\"species\": \"Adelie\", \"island\": \"Torgersen\", \"bill_length_mm\": 39.3, \"bill_depth_mm\": 20.6, \"flipper_length_mm\": 190.0, \"body_mass_g\": 3650.0, \"sex\": \"male\", \"year\": 2007}, {\"species\": \"Adelie\", \"island\": \"Torgersen\", \"bill_length_mm\": 38.9, \"bill_depth_mm\": 17.8, \"flipper_length_mm\": 181.0, \"body_mass_g\": 3625.0, \"sex\": \"female\", \"year\": 2007}, {\"species\": \"Adelie\", \"island\": \"Torgersen\", \"bill_length_mm\": 39.2, \"bill_depth_mm\": 19.6, \"flipper_length_mm\": 195.0, \"body_mass_g\": 4675.0, \"sex\": \"male\", \"year\": 2007}, {\"species\": \"Adelie\", \"island\": \"Torgersen\", \"bill_length_mm\": 34.1, \"bill_depth_mm\": 18.1, \"flipper_length_mm\": 193.0, \"body_mass_g\": 3475.0, \"sex\": null, \"year\": 2007}, {\"species\": \"Adelie\", \"island\": \"Torgersen\", \"bill_length_mm\": 42.0, \"bill_depth_mm\": 20.2, \"flipper_length_mm\": 190.0, \"body_mass_g\": 4250.0, \"sex\": null, \"year\": 2007}, {\"species\": \"Adelie\", \"island\": \"Torgersen\", \"bill_length_mm\": 37.8, \"bill_depth_mm\": 17.1, \"flipper_length_mm\": 186.0, \"body_mass_g\": 3300.0, \"sex\": null, \"year\": 2007}, {\"species\": \"Adelie\", \"island\": \"Torgersen\", \"bill_length_mm\": 37.8, \"bill_depth_mm\": 17.3, \"flipper_length_mm\": 180.0, \"body_mass_g\": 3700.0, \"sex\": null, \"year\": 2007}, {\"species\": \"Adelie\", \"island\": \"Torgersen\", \"bill_length_mm\": 41.1, \"bill_depth_mm\": 17.6, \"flipper_length_mm\": 182.0, \"body_mass_g\": 3200.0, \"sex\": \"female\", \"year\": 2007}, {\"species\": \"Adelie\", \"island\": \"Torgersen\", \"bill_length_mm\": 38.6, \"bill_depth_mm\": 21.2, \"flipper_length_mm\": 191.0, \"body_mass_g\": 3800.0, \"sex\": \"male\", \"year\": 2007}, {\"species\": \"Adelie\", \"island\": \"Torgersen\", \"bill_length_mm\": 34.6, \"bill_depth_mm\": 21.1, \"flipper_length_mm\": 198.0, \"body_mass_g\": 4400.0, \"sex\": \"male\", \"year\": 2007}, {\"species\": \"Adelie\", \"island\": \"Torgersen\", \"bill_length_mm\": 36.6, \"bill_depth_mm\": 17.8, \"flipper_length_mm\": 185.0, \"body_mass_g\": 3700.0, \"sex\": \"female\", \"year\": 2007}, {\"species\": \"Adelie\", \"island\": \"Torgersen\", \"bill_length_mm\": 38.7, \"bill_depth_mm\": 19.0, \"flipper_length_mm\": 195.0, \"body_mass_g\": 3450.0, \"sex\": \"female\", \"year\": 2007}, {\"species\": \"Adelie\", \"island\": \"Torgersen\", \"bill_length_mm\": 42.5, \"bill_depth_mm\": 20.7, \"flipper_length_mm\": 197.0, \"body_mass_g\": 4500.0, \"sex\": \"male\", \"year\": 2007}, {\"species\": \"Adelie\", \"island\": \"Torgersen\", \"bill_length_mm\": 34.4, \"bill_depth_mm\": 18.4, \"flipper_length_mm\": 184.0, \"body_mass_g\": 3325.0, \"sex\": \"female\", \"year\": 2007}, {\"species\": \"Adelie\", \"island\": \"Torgersen\", \"bill_length_mm\": 46.0, \"bill_depth_mm\": 21.5, \"flipper_length_mm\": 194.0, \"body_mass_g\": 4200.0, \"sex\": \"male\", \"year\": 2007}, {\"species\": \"Adelie\", \"island\": \"Biscoe\", \"bill_length_mm\": 37.8, \"bill_depth_mm\": 18.3, \"flipper_length_mm\": 174.0, \"body_mass_g\": 3400.0, \"sex\": \"female\", \"year\": 2007}, {\"species\": \"Adelie\", \"island\": \"Biscoe\", \"bill_length_mm\": 37.7, \"bill_depth_mm\": 18.7, \"flipper_length_mm\": 180.0, \"body_mass_g\": 3600.0, \"sex\": \"male\", \"year\": 2007}, {\"species\": \"Adelie\", \"island\": \"Biscoe\", \"bill_length_mm\": 35.9, \"bill_depth_mm\": 19.2, \"flipper_length_mm\": 189.0, \"body_mass_g\": 3800.0, \"sex\": \"female\", \"year\": 2007}, {\"species\": \"Adelie\", \"island\": \"Biscoe\", \"bill_length_mm\": 38.2, \"bill_depth_mm\": 18.1, \"flipper_length_mm\": 185.0, \"body_mass_g\": 3950.0, \"sex\": \"male\", \"year\": 2007}, {\"species\": \"Adelie\", \"island\": \"Biscoe\", \"bill_length_mm\": 38.8, \"bill_depth_mm\": 17.2, \"flipper_length_mm\": 180.0, \"body_mass_g\": 3800.0, \"sex\": \"male\", \"year\": 2007}, {\"species\": \"Adelie\", \"island\": \"Biscoe\", \"bill_length_mm\": 35.3, \"bill_depth_mm\": 18.9, \"flipper_length_mm\": 187.0, \"body_mass_g\": 3800.0, \"sex\": \"female\", \"year\": 2007}, {\"species\": \"Adelie\", \"island\": \"Biscoe\", \"bill_length_mm\": 40.6, \"bill_depth_mm\": 18.6, \"flipper_length_mm\": 183.0, \"body_mass_g\": 3550.0, \"sex\": \"male\", \"year\": 2007}, {\"species\": \"Adelie\", \"island\": \"Biscoe\", \"bill_length_mm\": 40.5, \"bill_depth_mm\": 17.9, \"flipper_length_mm\": 187.0, \"body_mass_g\": 3200.0, \"sex\": \"female\", \"year\": 2007}, {\"species\": \"Adelie\", \"island\": \"Biscoe\", \"bill_length_mm\": 37.9, \"bill_depth_mm\": 18.6, \"flipper_length_mm\": 172.0, \"body_mass_g\": 3150.0, \"sex\": \"female\", \"year\": 2007}, {\"species\": \"Adelie\", \"island\": \"Biscoe\", \"bill_length_mm\": 40.5, \"bill_depth_mm\": 18.9, \"flipper_length_mm\": 180.0, \"body_mass_g\": 3950.0, \"sex\": \"male\", \"year\": 2007}, {\"species\": \"Adelie\", \"island\": \"Dream\", \"bill_length_mm\": 39.5, \"bill_depth_mm\": 16.7, \"flipper_length_mm\": 178.0, \"body_mass_g\": 3250.0, \"sex\": \"female\", \"year\": 2007}, {\"species\": \"Adelie\", \"island\": \"Dream\", \"bill_length_mm\": 37.2, \"bill_depth_mm\": 18.1, \"flipper_length_mm\": 178.0, \"body_mass_g\": 3900.0, \"sex\": \"male\", \"year\": 2007}, {\"species\": \"Adelie\", \"island\": \"Dream\", \"bill_length_mm\": 39.5, \"bill_depth_mm\": 17.8, \"flipper_length_mm\": 188.0, \"body_mass_g\": 3300.0, \"sex\": \"female\", \"year\": 2007}, {\"species\": \"Adelie\", \"island\": \"Dream\", \"bill_length_mm\": 40.9, \"bill_depth_mm\": 18.9, \"flipper_length_mm\": 184.0, \"body_mass_g\": 3900.0, \"sex\": \"male\", \"year\": 2007}, {\"species\": \"Adelie\", \"island\": \"Dream\", \"bill_length_mm\": 36.4, \"bill_depth_mm\": 17.0, \"flipper_length_mm\": 195.0, \"body_mass_g\": 3325.0, \"sex\": \"female\", \"year\": 2007}, {\"species\": \"Adelie\", \"island\": \"Dream\", \"bill_length_mm\": 39.2, \"bill_depth_mm\": 21.1, \"flipper_length_mm\": 196.0, \"body_mass_g\": 4150.0, \"sex\": \"male\", \"year\": 2007}, {\"species\": \"Adelie\", \"island\": \"Dream\", \"bill_length_mm\": 38.8, \"bill_depth_mm\": 20.0, \"flipper_length_mm\": 190.0, \"body_mass_g\": 3950.0, \"sex\": \"male\", \"year\": 2007}, {\"species\": \"Adelie\", \"island\": \"Dream\", \"bill_length_mm\": 42.2, \"bill_depth_mm\": 18.5, \"flipper_length_mm\": 180.0, \"body_mass_g\": 3550.0, \"sex\": \"female\", \"year\": 2007}, {\"species\": \"Adelie\", \"island\": \"Dream\", \"bill_length_mm\": 37.6, \"bill_depth_mm\": 19.3, \"flipper_length_mm\": 181.0, \"body_mass_g\": 3300.0, \"sex\": \"female\", \"year\": 2007}, {\"species\": \"Adelie\", \"island\": \"Dream\", \"bill_length_mm\": 39.8, \"bill_depth_mm\": 19.1, \"flipper_length_mm\": 184.0, \"body_mass_g\": 4650.0, \"sex\": \"male\", \"year\": 2007}, {\"species\": \"Adelie\", \"island\": \"Dream\", \"bill_length_mm\": 36.5, \"bill_depth_mm\": 18.0, \"flipper_length_mm\": 182.0, \"body_mass_g\": 3150.0, \"sex\": \"female\", \"year\": 2007}, {\"species\": \"Adelie\", \"island\": \"Dream\", \"bill_length_mm\": 40.8, \"bill_depth_mm\": 18.4, \"flipper_length_mm\": 195.0, \"body_mass_g\": 3900.0, \"sex\": \"male\", \"year\": 2007}, {\"species\": \"Adelie\", \"island\": \"Dream\", \"bill_length_mm\": 36.0, \"bill_depth_mm\": 18.5, \"flipper_length_mm\": 186.0, \"body_mass_g\": 3100.0, \"sex\": \"female\", \"year\": 2007}, {\"species\": \"Adelie\", \"island\": \"Dream\", \"bill_length_mm\": 44.1, \"bill_depth_mm\": 19.7, \"flipper_length_mm\": 196.0, \"body_mass_g\": 4400.0, \"sex\": \"male\", \"year\": 2007}, {\"species\": \"Adelie\", \"island\": \"Dream\", \"bill_length_mm\": 37.0, \"bill_depth_mm\": 16.9, \"flipper_length_mm\": 185.0, \"body_mass_g\": 3000.0, \"sex\": \"female\", \"year\": 2007}, {\"species\": \"Adelie\", \"island\": \"Dream\", \"bill_length_mm\": 39.6, \"bill_depth_mm\": 18.8, \"flipper_length_mm\": 190.0, \"body_mass_g\": 4600.0, \"sex\": \"male\", \"year\": 2007}, {\"species\": \"Adelie\", \"island\": \"Dream\", \"bill_length_mm\": 41.1, \"bill_depth_mm\": 19.0, \"flipper_length_mm\": 182.0, \"body_mass_g\": 3425.0, \"sex\": \"male\", \"year\": 2007}, {\"species\": \"Adelie\", \"island\": \"Dream\", \"bill_length_mm\": 37.5, \"bill_depth_mm\": 18.9, \"flipper_length_mm\": 179.0, \"body_mass_g\": 2975.0, \"sex\": null, \"year\": 2007}, {\"species\": \"Adelie\", \"island\": \"Dream\", \"bill_length_mm\": 36.0, \"bill_depth_mm\": 17.9, \"flipper_length_mm\": 190.0, \"body_mass_g\": 3450.0, \"sex\": \"female\", \"year\": 2007}, {\"species\": \"Adelie\", \"island\": \"Dream\", \"bill_length_mm\": 42.3, \"bill_depth_mm\": 21.2, \"flipper_length_mm\": 191.0, \"body_mass_g\": 4150.0, \"sex\": \"male\", \"year\": 2007}, {\"species\": \"Adelie\", \"island\": \"Biscoe\", \"bill_length_mm\": 39.6, \"bill_depth_mm\": 17.7, \"flipper_length_mm\": 186.0, \"body_mass_g\": 3500.0, \"sex\": \"female\", \"year\": 2008}, {\"species\": \"Adelie\", \"island\": \"Biscoe\", \"bill_length_mm\": 40.1, \"bill_depth_mm\": 18.9, \"flipper_length_mm\": 188.0, \"body_mass_g\": 4300.0, \"sex\": \"male\", \"year\": 2008}, {\"species\": \"Adelie\", \"island\": \"Biscoe\", \"bill_length_mm\": 35.0, \"bill_depth_mm\": 17.9, \"flipper_length_mm\": 190.0, \"body_mass_g\": 3450.0, \"sex\": \"female\", \"year\": 2008}, {\"species\": \"Adelie\", \"island\": \"Biscoe\", \"bill_length_mm\": 42.0, \"bill_depth_mm\": 19.5, \"flipper_length_mm\": 200.0, \"body_mass_g\": 4050.0, \"sex\": \"male\", \"year\": 2008}, {\"species\": \"Adelie\", \"island\": \"Biscoe\", \"bill_length_mm\": 34.5, \"bill_depth_mm\": 18.1, \"flipper_length_mm\": 187.0, \"body_mass_g\": 2900.0, \"sex\": \"female\", \"year\": 2008}, {\"species\": \"Adelie\", \"island\": \"Biscoe\", \"bill_length_mm\": 41.4, \"bill_depth_mm\": 18.6, \"flipper_length_mm\": 191.0, \"body_mass_g\": 3700.0, \"sex\": \"male\", \"year\": 2008}, {\"species\": \"Adelie\", \"island\": \"Biscoe\", \"bill_length_mm\": 39.0, \"bill_depth_mm\": 17.5, \"flipper_length_mm\": 186.0, \"body_mass_g\": 3550.0, \"sex\": \"female\", \"year\": 2008}, {\"species\": \"Adelie\", \"island\": \"Biscoe\", \"bill_length_mm\": 40.6, \"bill_depth_mm\": 18.8, \"flipper_length_mm\": 193.0, \"body_mass_g\": 3800.0, \"sex\": \"male\", \"year\": 2008}, {\"species\": \"Adelie\", \"island\": \"Biscoe\", \"bill_length_mm\": 36.5, \"bill_depth_mm\": 16.6, \"flipper_length_mm\": 181.0, \"body_mass_g\": 2850.0, \"sex\": \"female\", \"year\": 2008}, {\"species\": \"Adelie\", \"island\": \"Biscoe\", \"bill_length_mm\": 37.6, \"bill_depth_mm\": 19.1, \"flipper_length_mm\": 194.0, \"body_mass_g\": 3750.0, \"sex\": \"male\", \"year\": 2008}, {\"species\": \"Adelie\", \"island\": \"Biscoe\", \"bill_length_mm\": 35.7, \"bill_depth_mm\": 16.9, \"flipper_length_mm\": 185.0, \"body_mass_g\": 3150.0, \"sex\": \"female\", \"year\": 2008}, {\"species\": \"Adelie\", \"island\": \"Biscoe\", \"bill_length_mm\": 41.3, \"bill_depth_mm\": 21.1, \"flipper_length_mm\": 195.0, \"body_mass_g\": 4400.0, \"sex\": \"male\", \"year\": 2008}, {\"species\": \"Adelie\", \"island\": \"Biscoe\", \"bill_length_mm\": 37.6, \"bill_depth_mm\": 17.0, \"flipper_length_mm\": 185.0, \"body_mass_g\": 3600.0, \"sex\": \"female\", \"year\": 2008}, {\"species\": \"Adelie\", \"island\": \"Biscoe\", \"bill_length_mm\": 41.1, \"bill_depth_mm\": 18.2, \"flipper_length_mm\": 192.0, \"body_mass_g\": 4050.0, \"sex\": \"male\", \"year\": 2008}, {\"species\": \"Adelie\", \"island\": \"Biscoe\", \"bill_length_mm\": 36.4, \"bill_depth_mm\": 17.1, \"flipper_length_mm\": 184.0, \"body_mass_g\": 2850.0, \"sex\": \"female\", \"year\": 2008}, {\"species\": \"Adelie\", \"island\": \"Biscoe\", \"bill_length_mm\": 41.6, \"bill_depth_mm\": 18.0, \"flipper_length_mm\": 192.0, \"body_mass_g\": 3950.0, \"sex\": \"male\", \"year\": 2008}, {\"species\": \"Adelie\", \"island\": \"Biscoe\", \"bill_length_mm\": 35.5, \"bill_depth_mm\": 16.2, \"flipper_length_mm\": 195.0, \"body_mass_g\": 3350.0, \"sex\": \"female\", \"year\": 2008}, {\"species\": \"Adelie\", \"island\": \"Biscoe\", \"bill_length_mm\": 41.1, \"bill_depth_mm\": 19.1, \"flipper_length_mm\": 188.0, \"body_mass_g\": 4100.0, \"sex\": \"male\", \"year\": 2008}, {\"species\": \"Adelie\", \"island\": \"Torgersen\", \"bill_length_mm\": 35.9, \"bill_depth_mm\": 16.6, \"flipper_length_mm\": 190.0, \"body_mass_g\": 3050.0, \"sex\": \"female\", \"year\": 2008}, {\"species\": \"Adelie\", \"island\": \"Torgersen\", \"bill_length_mm\": 41.8, \"bill_depth_mm\": 19.4, \"flipper_length_mm\": 198.0, \"body_mass_g\": 4450.0, \"sex\": \"male\", \"year\": 2008}, {\"species\": \"Adelie\", \"island\": \"Torgersen\", \"bill_length_mm\": 33.5, \"bill_depth_mm\": 19.0, \"flipper_length_mm\": 190.0, \"body_mass_g\": 3600.0, \"sex\": \"female\", \"year\": 2008}, {\"species\": \"Adelie\", \"island\": \"Torgersen\", \"bill_length_mm\": 39.7, \"bill_depth_mm\": 18.4, \"flipper_length_mm\": 190.0, \"body_mass_g\": 3900.0, \"sex\": \"male\", \"year\": 2008}, {\"species\": \"Adelie\", \"island\": \"Torgersen\", \"bill_length_mm\": 39.6, \"bill_depth_mm\": 17.2, \"flipper_length_mm\": 196.0, \"body_mass_g\": 3550.0, \"sex\": \"female\", \"year\": 2008}, {\"species\": \"Adelie\", \"island\": \"Torgersen\", \"bill_length_mm\": 45.8, \"bill_depth_mm\": 18.9, \"flipper_length_mm\": 197.0, \"body_mass_g\": 4150.0, \"sex\": \"male\", \"year\": 2008}, {\"species\": \"Adelie\", \"island\": \"Torgersen\", \"bill_length_mm\": 35.5, \"bill_depth_mm\": 17.5, \"flipper_length_mm\": 190.0, \"body_mass_g\": 3700.0, \"sex\": \"female\", \"year\": 2008}, {\"species\": \"Adelie\", \"island\": \"Torgersen\", \"bill_length_mm\": 42.8, \"bill_depth_mm\": 18.5, \"flipper_length_mm\": 195.0, \"body_mass_g\": 4250.0, \"sex\": \"male\", \"year\": 2008}, {\"species\": \"Adelie\", \"island\": \"Torgersen\", \"bill_length_mm\": 40.9, \"bill_depth_mm\": 16.8, \"flipper_length_mm\": 191.0, \"body_mass_g\": 3700.0, \"sex\": \"female\", \"year\": 2008}, {\"species\": \"Adelie\", \"island\": \"Torgersen\", \"bill_length_mm\": 37.2, \"bill_depth_mm\": 19.4, \"flipper_length_mm\": 184.0, \"body_mass_g\": 3900.0, \"sex\": \"male\", \"year\": 2008}, {\"species\": \"Adelie\", \"island\": \"Torgersen\", \"bill_length_mm\": 36.2, \"bill_depth_mm\": 16.1, \"flipper_length_mm\": 187.0, \"body_mass_g\": 3550.0, \"sex\": \"female\", \"year\": 2008}, {\"species\": \"Adelie\", \"island\": \"Torgersen\", \"bill_length_mm\": 42.1, \"bill_depth_mm\": 19.1, \"flipper_length_mm\": 195.0, \"body_mass_g\": 4000.0, \"sex\": \"male\", \"year\": 2008}, {\"species\": \"Adelie\", \"island\": \"Torgersen\", \"bill_length_mm\": 34.6, \"bill_depth_mm\": 17.2, \"flipper_length_mm\": 189.0, \"body_mass_g\": 3200.0, \"sex\": \"female\", \"year\": 2008}, {\"species\": \"Adelie\", \"island\": \"Torgersen\", \"bill_length_mm\": 42.9, \"bill_depth_mm\": 17.6, \"flipper_length_mm\": 196.0, \"body_mass_g\": 4700.0, \"sex\": \"male\", \"year\": 2008}, {\"species\": \"Adelie\", \"island\": \"Torgersen\", \"bill_length_mm\": 36.7, \"bill_depth_mm\": 18.8, \"flipper_length_mm\": 187.0, \"body_mass_g\": 3800.0, \"sex\": \"female\", \"year\": 2008}, {\"species\": \"Adelie\", \"island\": \"Torgersen\", \"bill_length_mm\": 35.1, \"bill_depth_mm\": 19.4, \"flipper_length_mm\": 193.0, \"body_mass_g\": 4200.0, \"sex\": \"male\", \"year\": 2008}, {\"species\": \"Adelie\", \"island\": \"Dream\", \"bill_length_mm\": 37.3, \"bill_depth_mm\": 17.8, \"flipper_length_mm\": 191.0, \"body_mass_g\": 3350.0, \"sex\": \"female\", \"year\": 2008}, {\"species\": \"Adelie\", \"island\": \"Dream\", \"bill_length_mm\": 41.3, \"bill_depth_mm\": 20.3, \"flipper_length_mm\": 194.0, \"body_mass_g\": 3550.0, \"sex\": \"male\", \"year\": 2008}, {\"species\": \"Adelie\", \"island\": \"Dream\", \"bill_length_mm\": 36.3, \"bill_depth_mm\": 19.5, \"flipper_length_mm\": 190.0, \"body_mass_g\": 3800.0, \"sex\": \"male\", \"year\": 2008}, {\"species\": \"Adelie\", \"island\": \"Dream\", \"bill_length_mm\": 36.9, \"bill_depth_mm\": 18.6, \"flipper_length_mm\": 189.0, \"body_mass_g\": 3500.0, \"sex\": \"female\", \"year\": 2008}, {\"species\": \"Adelie\", \"island\": \"Dream\", \"bill_length_mm\": 38.3, \"bill_depth_mm\": 19.2, \"flipper_length_mm\": 189.0, \"body_mass_g\": 3950.0, \"sex\": \"male\", \"year\": 2008}, {\"species\": \"Adelie\", \"island\": \"Dream\", \"bill_length_mm\": 38.9, \"bill_depth_mm\": 18.8, \"flipper_length_mm\": 190.0, \"body_mass_g\": 3600.0, \"sex\": \"female\", \"year\": 2008}, {\"species\": \"Adelie\", \"island\": \"Dream\", \"bill_length_mm\": 35.7, \"bill_depth_mm\": 18.0, \"flipper_length_mm\": 202.0, \"body_mass_g\": 3550.0, \"sex\": \"female\", \"year\": 2008}, {\"species\": \"Adelie\", \"island\": \"Dream\", \"bill_length_mm\": 41.1, \"bill_depth_mm\": 18.1, \"flipper_length_mm\": 205.0, \"body_mass_g\": 4300.0, \"sex\": \"male\", \"year\": 2008}, {\"species\": \"Adelie\", \"island\": \"Dream\", \"bill_length_mm\": 34.0, \"bill_depth_mm\": 17.1, \"flipper_length_mm\": 185.0, \"body_mass_g\": 3400.0, \"sex\": \"female\", \"year\": 2008}, {\"species\": \"Adelie\", \"island\": \"Dream\", \"bill_length_mm\": 39.6, \"bill_depth_mm\": 18.1, \"flipper_length_mm\": 186.0, \"body_mass_g\": 4450.0, \"sex\": \"male\", \"year\": 2008}, {\"species\": \"Adelie\", \"island\": \"Dream\", \"bill_length_mm\": 36.2, \"bill_depth_mm\": 17.3, \"flipper_length_mm\": 187.0, \"body_mass_g\": 3300.0, \"sex\": \"female\", \"year\": 2008}, {\"species\": \"Adelie\", \"island\": \"Dream\", \"bill_length_mm\": 40.8, \"bill_depth_mm\": 18.9, \"flipper_length_mm\": 208.0, \"body_mass_g\": 4300.0, \"sex\": \"male\", \"year\": 2008}, {\"species\": \"Adelie\", \"island\": \"Dream\", \"bill_length_mm\": 38.1, \"bill_depth_mm\": 18.6, \"flipper_length_mm\": 190.0, \"body_mass_g\": 3700.0, \"sex\": \"female\", \"year\": 2008}, {\"species\": \"Adelie\", \"island\": \"Dream\", \"bill_length_mm\": 40.3, \"bill_depth_mm\": 18.5, \"flipper_length_mm\": 196.0, \"body_mass_g\": 4350.0, \"sex\": \"male\", \"year\": 2008}, {\"species\": \"Adelie\", \"island\": \"Dream\", \"bill_length_mm\": 33.1, \"bill_depth_mm\": 16.1, \"flipper_length_mm\": 178.0, \"body_mass_g\": 2900.0, \"sex\": \"female\", \"year\": 2008}, {\"species\": \"Adelie\", \"island\": \"Dream\", \"bill_length_mm\": 43.2, \"bill_depth_mm\": 18.5, \"flipper_length_mm\": 192.0, \"body_mass_g\": 4100.0, \"sex\": \"male\", \"year\": 2008}, {\"species\": \"Adelie\", \"island\": \"Biscoe\", \"bill_length_mm\": 35.0, \"bill_depth_mm\": 17.9, \"flipper_length_mm\": 192.0, \"body_mass_g\": 3725.0, \"sex\": \"female\", \"year\": 2009}, {\"species\": \"Adelie\", \"island\": \"Biscoe\", \"bill_length_mm\": 41.0, \"bill_depth_mm\": 20.0, \"flipper_length_mm\": 203.0, \"body_mass_g\": 4725.0, \"sex\": \"male\", \"year\": 2009}, {\"species\": \"Adelie\", \"island\": \"Biscoe\", \"bill_length_mm\": 37.7, \"bill_depth_mm\": 16.0, \"flipper_length_mm\": 183.0, \"body_mass_g\": 3075.0, \"sex\": \"female\", \"year\": 2009}, {\"species\": \"Adelie\", \"island\": \"Biscoe\", \"bill_length_mm\": 37.8, \"bill_depth_mm\": 20.0, \"flipper_length_mm\": 190.0, \"body_mass_g\": 4250.0, \"sex\": \"male\", \"year\": 2009}, {\"species\": \"Adelie\", \"island\": \"Biscoe\", \"bill_length_mm\": 37.9, \"bill_depth_mm\": 18.6, \"flipper_length_mm\": 193.0, \"body_mass_g\": 2925.0, \"sex\": \"female\", \"year\": 2009}, {\"species\": \"Adelie\", \"island\": \"Biscoe\", \"bill_length_mm\": 39.7, \"bill_depth_mm\": 18.9, \"flipper_length_mm\": 184.0, \"body_mass_g\": 3550.0, \"sex\": \"male\", \"year\": 2009}, {\"species\": \"Adelie\", \"island\": \"Biscoe\", \"bill_length_mm\": 38.6, \"bill_depth_mm\": 17.2, \"flipper_length_mm\": 199.0, \"body_mass_g\": 3750.0, \"sex\": \"female\", \"year\": 2009}, {\"species\": \"Adelie\", \"island\": \"Biscoe\", \"bill_length_mm\": 38.2, \"bill_depth_mm\": 20.0, \"flipper_length_mm\": 190.0, \"body_mass_g\": 3900.0, \"sex\": \"male\", \"year\": 2009}, {\"species\": \"Adelie\", \"island\": \"Biscoe\", \"bill_length_mm\": 38.1, \"bill_depth_mm\": 17.0, \"flipper_length_mm\": 181.0, \"body_mass_g\": 3175.0, \"sex\": \"female\", \"year\": 2009}, {\"species\": \"Adelie\", \"island\": \"Biscoe\", \"bill_length_mm\": 43.2, \"bill_depth_mm\": 19.0, \"flipper_length_mm\": 197.0, \"body_mass_g\": 4775.0, \"sex\": \"male\", \"year\": 2009}, {\"species\": \"Adelie\", \"island\": \"Biscoe\", \"bill_length_mm\": 38.1, \"bill_depth_mm\": 16.5, \"flipper_length_mm\": 198.0, \"body_mass_g\": 3825.0, \"sex\": \"female\", \"year\": 2009}, {\"species\": \"Adelie\", \"island\": \"Biscoe\", \"bill_length_mm\": 45.6, \"bill_depth_mm\": 20.3, \"flipper_length_mm\": 191.0, \"body_mass_g\": 4600.0, \"sex\": \"male\", \"year\": 2009}, {\"species\": \"Adelie\", \"island\": \"Biscoe\", \"bill_length_mm\": 39.7, \"bill_depth_mm\": 17.7, \"flipper_length_mm\": 193.0, \"body_mass_g\": 3200.0, \"sex\": \"female\", \"year\": 2009}, {\"species\": \"Adelie\", \"island\": \"Biscoe\", \"bill_length_mm\": 42.2, \"bill_depth_mm\": 19.5, \"flipper_length_mm\": 197.0, \"body_mass_g\": 4275.0, \"sex\": \"male\", \"year\": 2009}, {\"species\": \"Adelie\", \"island\": \"Biscoe\", \"bill_length_mm\": 39.6, \"bill_depth_mm\": 20.7, \"flipper_length_mm\": 191.0, \"body_mass_g\": 3900.0, \"sex\": \"female\", \"year\": 2009}, {\"species\": \"Adelie\", \"island\": \"Biscoe\", \"bill_length_mm\": 42.7, \"bill_depth_mm\": 18.3, \"flipper_length_mm\": 196.0, \"body_mass_g\": 4075.0, \"sex\": \"male\", \"year\": 2009}, {\"species\": \"Adelie\", \"island\": \"Torgersen\", \"bill_length_mm\": 38.6, \"bill_depth_mm\": 17.0, \"flipper_length_mm\": 188.0, \"body_mass_g\": 2900.0, \"sex\": \"female\", \"year\": 2009}, {\"species\": \"Adelie\", \"island\": \"Torgersen\", \"bill_length_mm\": 37.3, \"bill_depth_mm\": 20.5, \"flipper_length_mm\": 199.0, \"body_mass_g\": 3775.0, \"sex\": \"male\", \"year\": 2009}, {\"species\": \"Adelie\", \"island\": \"Torgersen\", \"bill_length_mm\": 35.7, \"bill_depth_mm\": 17.0, \"flipper_length_mm\": 189.0, \"body_mass_g\": 3350.0, \"sex\": \"female\", \"year\": 2009}, {\"species\": \"Adelie\", \"island\": \"Torgersen\", \"bill_length_mm\": 41.1, \"bill_depth_mm\": 18.6, \"flipper_length_mm\": 189.0, \"body_mass_g\": 3325.0, \"sex\": \"male\", \"year\": 2009}, {\"species\": \"Adelie\", \"island\": \"Torgersen\", \"bill_length_mm\": 36.2, \"bill_depth_mm\": 17.2, \"flipper_length_mm\": 187.0, \"body_mass_g\": 3150.0, \"sex\": \"female\", \"year\": 2009}, {\"species\": \"Adelie\", \"island\": \"Torgersen\", \"bill_length_mm\": 37.7, \"bill_depth_mm\": 19.8, \"flipper_length_mm\": 198.0, \"body_mass_g\": 3500.0, \"sex\": \"male\", \"year\": 2009}, {\"species\": \"Adelie\", \"island\": \"Torgersen\", \"bill_length_mm\": 40.2, \"bill_depth_mm\": 17.0, \"flipper_length_mm\": 176.0, \"body_mass_g\": 3450.0, \"sex\": \"female\", \"year\": 2009}, {\"species\": \"Adelie\", \"island\": \"Torgersen\", \"bill_length_mm\": 41.4, \"bill_depth_mm\": 18.5, \"flipper_length_mm\": 202.0, \"body_mass_g\": 3875.0, \"sex\": \"male\", \"year\": 2009}, {\"species\": \"Adelie\", \"island\": \"Torgersen\", \"bill_length_mm\": 35.2, \"bill_depth_mm\": 15.9, \"flipper_length_mm\": 186.0, \"body_mass_g\": 3050.0, \"sex\": \"female\", \"year\": 2009}, {\"species\": \"Adelie\", \"island\": \"Torgersen\", \"bill_length_mm\": 40.6, \"bill_depth_mm\": 19.0, \"flipper_length_mm\": 199.0, \"body_mass_g\": 4000.0, \"sex\": \"male\", \"year\": 2009}, {\"species\": \"Adelie\", \"island\": \"Torgersen\", \"bill_length_mm\": 38.8, \"bill_depth_mm\": 17.6, \"flipper_length_mm\": 191.0, \"body_mass_g\": 3275.0, \"sex\": \"female\", \"year\": 2009}, {\"species\": \"Adelie\", \"island\": \"Torgersen\", \"bill_length_mm\": 41.5, \"bill_depth_mm\": 18.3, \"flipper_length_mm\": 195.0, \"body_mass_g\": 4300.0, \"sex\": \"male\", \"year\": 2009}, {\"species\": \"Adelie\", \"island\": \"Torgersen\", \"bill_length_mm\": 39.0, \"bill_depth_mm\": 17.1, \"flipper_length_mm\": 191.0, \"body_mass_g\": 3050.0, \"sex\": \"female\", \"year\": 2009}, {\"species\": \"Adelie\", \"island\": \"Torgersen\", \"bill_length_mm\": 44.1, \"bill_depth_mm\": 18.0, \"flipper_length_mm\": 210.0, \"body_mass_g\": 4000.0, \"sex\": \"male\", \"year\": 2009}, {\"species\": \"Adelie\", \"island\": \"Torgersen\", \"bill_length_mm\": 38.5, \"bill_depth_mm\": 17.9, \"flipper_length_mm\": 190.0, \"body_mass_g\": 3325.0, \"sex\": \"female\", \"year\": 2009}, {\"species\": \"Adelie\", \"island\": \"Torgersen\", \"bill_length_mm\": 43.1, \"bill_depth_mm\": 19.2, \"flipper_length_mm\": 197.0, \"body_mass_g\": 3500.0, \"sex\": \"male\", \"year\": 2009}, {\"species\": \"Adelie\", \"island\": \"Dream\", \"bill_length_mm\": 36.8, \"bill_depth_mm\": 18.5, \"flipper_length_mm\": 193.0, \"body_mass_g\": 3500.0, \"sex\": \"female\", \"year\": 2009}, {\"species\": \"Adelie\", \"island\": \"Dream\", \"bill_length_mm\": 37.5, \"bill_depth_mm\": 18.5, \"flipper_length_mm\": 199.0, \"body_mass_g\": 4475.0, \"sex\": \"male\", \"year\": 2009}, {\"species\": \"Adelie\", \"island\": \"Dream\", \"bill_length_mm\": 38.1, \"bill_depth_mm\": 17.6, \"flipper_length_mm\": 187.0, \"body_mass_g\": 3425.0, \"sex\": \"female\", \"year\": 2009}, {\"species\": \"Adelie\", \"island\": \"Dream\", \"bill_length_mm\": 41.1, \"bill_depth_mm\": 17.5, \"flipper_length_mm\": 190.0, \"body_mass_g\": 3900.0, \"sex\": \"male\", \"year\": 2009}, {\"species\": \"Adelie\", \"island\": \"Dream\", \"bill_length_mm\": 35.6, \"bill_depth_mm\": 17.5, \"flipper_length_mm\": 191.0, \"body_mass_g\": 3175.0, \"sex\": \"female\", \"year\": 2009}, {\"species\": \"Adelie\", \"island\": \"Dream\", \"bill_length_mm\": 40.2, \"bill_depth_mm\": 20.1, \"flipper_length_mm\": 200.0, \"body_mass_g\": 3975.0, \"sex\": \"male\", \"year\": 2009}, {\"species\": \"Adelie\", \"island\": \"Dream\", \"bill_length_mm\": 37.0, \"bill_depth_mm\": 16.5, \"flipper_length_mm\": 185.0, \"body_mass_g\": 3400.0, \"sex\": \"female\", \"year\": 2009}, {\"species\": \"Adelie\", \"island\": \"Dream\", \"bill_length_mm\": 39.7, \"bill_depth_mm\": 17.9, \"flipper_length_mm\": 193.0, \"body_mass_g\": 4250.0, \"sex\": \"male\", \"year\": 2009}, {\"species\": \"Adelie\", \"island\": \"Dream\", \"bill_length_mm\": 40.2, \"bill_depth_mm\": 17.1, \"flipper_length_mm\": 193.0, \"body_mass_g\": 3400.0, \"sex\": \"female\", \"year\": 2009}, {\"species\": \"Adelie\", \"island\": \"Dream\", \"bill_length_mm\": 40.6, \"bill_depth_mm\": 17.2, \"flipper_length_mm\": 187.0, \"body_mass_g\": 3475.0, \"sex\": \"male\", \"year\": 2009}, {\"species\": \"Adelie\", \"island\": \"Dream\", \"bill_length_mm\": 32.1, \"bill_depth_mm\": 15.5, \"flipper_length_mm\": 188.0, \"body_mass_g\": 3050.0, \"sex\": \"female\", \"year\": 2009}, {\"species\": \"Adelie\", \"island\": \"Dream\", \"bill_length_mm\": 40.7, \"bill_depth_mm\": 17.0, \"flipper_length_mm\": 190.0, \"body_mass_g\": 3725.0, \"sex\": \"male\", \"year\": 2009}, {\"species\": \"Adelie\", \"island\": \"Dream\", \"bill_length_mm\": 37.3, \"bill_depth_mm\": 16.8, \"flipper_length_mm\": 192.0, \"body_mass_g\": 3000.0, \"sex\": \"female\", \"year\": 2009}, {\"species\": \"Adelie\", \"island\": \"Dream\", \"bill_length_mm\": 39.0, \"bill_depth_mm\": 18.7, \"flipper_length_mm\": 185.0, \"body_mass_g\": 3650.0, \"sex\": \"male\", \"year\": 2009}, {\"species\": \"Adelie\", \"island\": \"Dream\", \"bill_length_mm\": 39.2, \"bill_depth_mm\": 18.6, \"flipper_length_mm\": 190.0, \"body_mass_g\": 4250.0, \"sex\": \"male\", \"year\": 2009}, {\"species\": \"Adelie\", \"island\": \"Dream\", \"bill_length_mm\": 36.6, \"bill_depth_mm\": 18.4, \"flipper_length_mm\": 184.0, \"body_mass_g\": 3475.0, \"sex\": \"female\", \"year\": 2009}, {\"species\": \"Adelie\", \"island\": \"Dream\", \"bill_length_mm\": 36.0, \"bill_depth_mm\": 17.8, \"flipper_length_mm\": 195.0, \"body_mass_g\": 3450.0, \"sex\": \"female\", \"year\": 2009}, {\"species\": \"Adelie\", \"island\": \"Dream\", \"bill_length_mm\": 37.8, \"bill_depth_mm\": 18.1, \"flipper_length_mm\": 193.0, \"body_mass_g\": 3750.0, \"sex\": \"male\", \"year\": 2009}, {\"species\": \"Adelie\", \"island\": \"Dream\", \"bill_length_mm\": 36.0, \"bill_depth_mm\": 17.1, \"flipper_length_mm\": 187.0, \"body_mass_g\": 3700.0, \"sex\": \"female\", \"year\": 2009}, {\"species\": \"Adelie\", \"island\": \"Dream\", \"bill_length_mm\": 41.5, \"bill_depth_mm\": 18.5, \"flipper_length_mm\": 201.0, \"body_mass_g\": 4000.0, \"sex\": \"male\", \"year\": 2009}, {\"species\": \"Gentoo\", \"island\": \"Biscoe\", \"bill_length_mm\": 46.1, \"bill_depth_mm\": 13.2, \"flipper_length_mm\": 211.0, \"body_mass_g\": 4500.0, \"sex\": \"female\", \"year\": 2007}, {\"species\": \"Gentoo\", \"island\": \"Biscoe\", \"bill_length_mm\": 50.0, \"bill_depth_mm\": 16.3, \"flipper_length_mm\": 230.0, \"body_mass_g\": 5700.0, \"sex\": \"male\", \"year\": 2007}, {\"species\": \"Gentoo\", \"island\": \"Biscoe\", \"bill_length_mm\": 48.7, \"bill_depth_mm\": 14.1, \"flipper_length_mm\": 210.0, \"body_mass_g\": 4450.0, \"sex\": \"female\", \"year\": 2007}, {\"species\": \"Gentoo\", \"island\": \"Biscoe\", \"bill_length_mm\": 50.0, \"bill_depth_mm\": 15.2, \"flipper_length_mm\": 218.0, \"body_mass_g\": 5700.0, \"sex\": \"male\", \"year\": 2007}, {\"species\": \"Gentoo\", \"island\": \"Biscoe\", \"bill_length_mm\": 47.6, \"bill_depth_mm\": 14.5, \"flipper_length_mm\": 215.0, \"body_mass_g\": 5400.0, \"sex\": \"male\", \"year\": 2007}, {\"species\": \"Gentoo\", \"island\": \"Biscoe\", \"bill_length_mm\": 46.5, \"bill_depth_mm\": 13.5, \"flipper_length_mm\": 210.0, \"body_mass_g\": 4550.0, \"sex\": \"female\", \"year\": 2007}, {\"species\": \"Gentoo\", \"island\": \"Biscoe\", \"bill_length_mm\": 45.4, \"bill_depth_mm\": 14.6, \"flipper_length_mm\": 211.0, \"body_mass_g\": 4800.0, \"sex\": \"female\", \"year\": 2007}, {\"species\": \"Gentoo\", \"island\": \"Biscoe\", \"bill_length_mm\": 46.7, \"bill_depth_mm\": 15.3, \"flipper_length_mm\": 219.0, \"body_mass_g\": 5200.0, \"sex\": \"male\", \"year\": 2007}, {\"species\": \"Gentoo\", \"island\": \"Biscoe\", \"bill_length_mm\": 43.3, \"bill_depth_mm\": 13.4, \"flipper_length_mm\": 209.0, \"body_mass_g\": 4400.0, \"sex\": \"female\", \"year\": 2007}, {\"species\": \"Gentoo\", \"island\": \"Biscoe\", \"bill_length_mm\": 46.8, \"bill_depth_mm\": 15.4, \"flipper_length_mm\": 215.0, \"body_mass_g\": 5150.0, \"sex\": \"male\", \"year\": 2007}, {\"species\": \"Gentoo\", \"island\": \"Biscoe\", \"bill_length_mm\": 40.9, \"bill_depth_mm\": 13.7, \"flipper_length_mm\": 214.0, \"body_mass_g\": 4650.0, \"sex\": \"female\", \"year\": 2007}, {\"species\": \"Gentoo\", \"island\": \"Biscoe\", \"bill_length_mm\": 49.0, \"bill_depth_mm\": 16.1, \"flipper_length_mm\": 216.0, \"body_mass_g\": 5550.0, \"sex\": \"male\", \"year\": 2007}, {\"species\": \"Gentoo\", \"island\": \"Biscoe\", \"bill_length_mm\": 45.5, \"bill_depth_mm\": 13.7, \"flipper_length_mm\": 214.0, \"body_mass_g\": 4650.0, \"sex\": \"female\", \"year\": 2007}, {\"species\": \"Gentoo\", \"island\": \"Biscoe\", \"bill_length_mm\": 48.4, \"bill_depth_mm\": 14.6, \"flipper_length_mm\": 213.0, \"body_mass_g\": 5850.0, \"sex\": \"male\", \"year\": 2007}, {\"species\": \"Gentoo\", \"island\": \"Biscoe\", \"bill_length_mm\": 45.8, \"bill_depth_mm\": 14.6, \"flipper_length_mm\": 210.0, \"body_mass_g\": 4200.0, \"sex\": \"female\", \"year\": 2007}, {\"species\": \"Gentoo\", \"island\": \"Biscoe\", \"bill_length_mm\": 49.3, \"bill_depth_mm\": 15.7, \"flipper_length_mm\": 217.0, \"body_mass_g\": 5850.0, \"sex\": \"male\", \"year\": 2007}, {\"species\": \"Gentoo\", \"island\": \"Biscoe\", \"bill_length_mm\": 42.0, \"bill_depth_mm\": 13.5, \"flipper_length_mm\": 210.0, \"body_mass_g\": 4150.0, \"sex\": \"female\", \"year\": 2007}, {\"species\": \"Gentoo\", \"island\": \"Biscoe\", \"bill_length_mm\": 49.2, \"bill_depth_mm\": 15.2, \"flipper_length_mm\": 221.0, \"body_mass_g\": 6300.0, \"sex\": \"male\", \"year\": 2007}, {\"species\": \"Gentoo\", \"island\": \"Biscoe\", \"bill_length_mm\": 46.2, \"bill_depth_mm\": 14.5, \"flipper_length_mm\": 209.0, \"body_mass_g\": 4800.0, \"sex\": \"female\", \"year\": 2007}, {\"species\": \"Gentoo\", \"island\": \"Biscoe\", \"bill_length_mm\": 48.7, \"bill_depth_mm\": 15.1, \"flipper_length_mm\": 222.0, \"body_mass_g\": 5350.0, \"sex\": \"male\", \"year\": 2007}, {\"species\": \"Gentoo\", \"island\": \"Biscoe\", \"bill_length_mm\": 50.2, \"bill_depth_mm\": 14.3, \"flipper_length_mm\": 218.0, \"body_mass_g\": 5700.0, \"sex\": \"male\", \"year\": 2007}, {\"species\": \"Gentoo\", \"island\": \"Biscoe\", \"bill_length_mm\": 45.1, \"bill_depth_mm\": 14.5, \"flipper_length_mm\": 215.0, \"body_mass_g\": 5000.0, \"sex\": \"female\", \"year\": 2007}, {\"species\": \"Gentoo\", \"island\": \"Biscoe\", \"bill_length_mm\": 46.5, \"bill_depth_mm\": 14.5, \"flipper_length_mm\": 213.0, \"body_mass_g\": 4400.0, \"sex\": \"female\", \"year\": 2007}, {\"species\": \"Gentoo\", \"island\": \"Biscoe\", \"bill_length_mm\": 46.3, \"bill_depth_mm\": 15.8, \"flipper_length_mm\": 215.0, \"body_mass_g\": 5050.0, \"sex\": \"male\", \"year\": 2007}, {\"species\": \"Gentoo\", \"island\": \"Biscoe\", \"bill_length_mm\": 42.9, \"bill_depth_mm\": 13.1, \"flipper_length_mm\": 215.0, \"body_mass_g\": 5000.0, \"sex\": \"female\", \"year\": 2007}, {\"species\": \"Gentoo\", \"island\": \"Biscoe\", \"bill_length_mm\": 46.1, \"bill_depth_mm\": 15.1, \"flipper_length_mm\": 215.0, \"body_mass_g\": 5100.0, \"sex\": \"male\", \"year\": 2007}, {\"species\": \"Gentoo\", \"island\": \"Biscoe\", \"bill_length_mm\": 44.5, \"bill_depth_mm\": 14.3, \"flipper_length_mm\": 216.0, \"body_mass_g\": 4100.0, \"sex\": null, \"year\": 2007}, {\"species\": \"Gentoo\", \"island\": \"Biscoe\", \"bill_length_mm\": 47.8, \"bill_depth_mm\": 15.0, \"flipper_length_mm\": 215.0, \"body_mass_g\": 5650.0, \"sex\": \"male\", \"year\": 2007}, {\"species\": \"Gentoo\", \"island\": \"Biscoe\", \"bill_length_mm\": 48.2, \"bill_depth_mm\": 14.3, \"flipper_length_mm\": 210.0, \"body_mass_g\": 4600.0, \"sex\": \"female\", \"year\": 2007}, {\"species\": \"Gentoo\", \"island\": \"Biscoe\", \"bill_length_mm\": 50.0, \"bill_depth_mm\": 15.3, \"flipper_length_mm\": 220.0, \"body_mass_g\": 5550.0, \"sex\": \"male\", \"year\": 2007}, {\"species\": \"Gentoo\", \"island\": \"Biscoe\", \"bill_length_mm\": 47.3, \"bill_depth_mm\": 15.3, \"flipper_length_mm\": 222.0, \"body_mass_g\": 5250.0, \"sex\": \"male\", \"year\": 2007}, {\"species\": \"Gentoo\", \"island\": \"Biscoe\", \"bill_length_mm\": 42.8, \"bill_depth_mm\": 14.2, \"flipper_length_mm\": 209.0, \"body_mass_g\": 4700.0, \"sex\": \"female\", \"year\": 2007}, {\"species\": \"Gentoo\", \"island\": \"Biscoe\", \"bill_length_mm\": 45.1, \"bill_depth_mm\": 14.5, \"flipper_length_mm\": 207.0, \"body_mass_g\": 5050.0, \"sex\": \"female\", \"year\": 2007}, {\"species\": \"Gentoo\", \"island\": \"Biscoe\", \"bill_length_mm\": 59.6, \"bill_depth_mm\": 17.0, \"flipper_length_mm\": 230.0, \"body_mass_g\": 6050.0, \"sex\": \"male\", \"year\": 2007}, {\"species\": \"Gentoo\", \"island\": \"Biscoe\", \"bill_length_mm\": 49.1, \"bill_depth_mm\": 14.8, \"flipper_length_mm\": 220.0, \"body_mass_g\": 5150.0, \"sex\": \"female\", \"year\": 2008}, {\"species\": \"Gentoo\", \"island\": \"Biscoe\", \"bill_length_mm\": 48.4, \"bill_depth_mm\": 16.3, \"flipper_length_mm\": 220.0, \"body_mass_g\": 5400.0, \"sex\": \"male\", \"year\": 2008}, {\"species\": \"Gentoo\", \"island\": \"Biscoe\", \"bill_length_mm\": 42.6, \"bill_depth_mm\": 13.7, \"flipper_length_mm\": 213.0, \"body_mass_g\": 4950.0, \"sex\": \"female\", \"year\": 2008}, {\"species\": \"Gentoo\", \"island\": \"Biscoe\", \"bill_length_mm\": 44.4, \"bill_depth_mm\": 17.3, \"flipper_length_mm\": 219.0, \"body_mass_g\": 5250.0, \"sex\": \"male\", \"year\": 2008}, {\"species\": \"Gentoo\", \"island\": \"Biscoe\", \"bill_length_mm\": 44.0, \"bill_depth_mm\": 13.6, \"flipper_length_mm\": 208.0, \"body_mass_g\": 4350.0, \"sex\": \"female\", \"year\": 2008}, {\"species\": \"Gentoo\", \"island\": \"Biscoe\", \"bill_length_mm\": 48.7, \"bill_depth_mm\": 15.7, \"flipper_length_mm\": 208.0, \"body_mass_g\": 5350.0, \"sex\": \"male\", \"year\": 2008}, {\"species\": \"Gentoo\", \"island\": \"Biscoe\", \"bill_length_mm\": 42.7, \"bill_depth_mm\": 13.7, \"flipper_length_mm\": 208.0, \"body_mass_g\": 3950.0, \"sex\": \"female\", \"year\": 2008}, {\"species\": \"Gentoo\", \"island\": \"Biscoe\", \"bill_length_mm\": 49.6, \"bill_depth_mm\": 16.0, \"flipper_length_mm\": 225.0, \"body_mass_g\": 5700.0, \"sex\": \"male\", \"year\": 2008}, {\"species\": \"Gentoo\", \"island\": \"Biscoe\", \"bill_length_mm\": 45.3, \"bill_depth_mm\": 13.7, \"flipper_length_mm\": 210.0, \"body_mass_g\": 4300.0, \"sex\": \"female\", \"year\": 2008}, {\"species\": \"Gentoo\", \"island\": \"Biscoe\", \"bill_length_mm\": 49.6, \"bill_depth_mm\": 15.0, \"flipper_length_mm\": 216.0, \"body_mass_g\": 4750.0, \"sex\": \"male\", \"year\": 2008}, {\"species\": \"Gentoo\", \"island\": \"Biscoe\", \"bill_length_mm\": 50.5, \"bill_depth_mm\": 15.9, \"flipper_length_mm\": 222.0, \"body_mass_g\": 5550.0, \"sex\": \"male\", \"year\": 2008}, {\"species\": \"Gentoo\", \"island\": \"Biscoe\", \"bill_length_mm\": 43.6, \"bill_depth_mm\": 13.9, \"flipper_length_mm\": 217.0, \"body_mass_g\": 4900.0, \"sex\": \"female\", \"year\": 2008}, {\"species\": \"Gentoo\", \"island\": \"Biscoe\", \"bill_length_mm\": 45.5, \"bill_depth_mm\": 13.9, \"flipper_length_mm\": 210.0, \"body_mass_g\": 4200.0, \"sex\": \"female\", \"year\": 2008}, {\"species\": \"Gentoo\", \"island\": \"Biscoe\", \"bill_length_mm\": 50.5, \"bill_depth_mm\": 15.9, \"flipper_length_mm\": 225.0, \"body_mass_g\": 5400.0, \"sex\": \"male\", \"year\": 2008}, {\"species\": \"Gentoo\", \"island\": \"Biscoe\", \"bill_length_mm\": 44.9, \"bill_depth_mm\": 13.3, \"flipper_length_mm\": 213.0, \"body_mass_g\": 5100.0, \"sex\": \"female\", \"year\": 2008}, {\"species\": \"Gentoo\", \"island\": \"Biscoe\", \"bill_length_mm\": 45.2, \"bill_depth_mm\": 15.8, \"flipper_length_mm\": 215.0, \"body_mass_g\": 5300.0, \"sex\": \"male\", \"year\": 2008}, {\"species\": \"Gentoo\", \"island\": \"Biscoe\", \"bill_length_mm\": 46.6, \"bill_depth_mm\": 14.2, \"flipper_length_mm\": 210.0, \"body_mass_g\": 4850.0, \"sex\": \"female\", \"year\": 2008}, {\"species\": \"Gentoo\", \"island\": \"Biscoe\", \"bill_length_mm\": 48.5, \"bill_depth_mm\": 14.1, \"flipper_length_mm\": 220.0, \"body_mass_g\": 5300.0, \"sex\": \"male\", \"year\": 2008}, {\"species\": \"Gentoo\", \"island\": \"Biscoe\", \"bill_length_mm\": 45.1, \"bill_depth_mm\": 14.4, \"flipper_length_mm\": 210.0, \"body_mass_g\": 4400.0, \"sex\": \"female\", \"year\": 2008}, {\"species\": \"Gentoo\", \"island\": \"Biscoe\", \"bill_length_mm\": 50.1, \"bill_depth_mm\": 15.0, \"flipper_length_mm\": 225.0, \"body_mass_g\": 5000.0, \"sex\": \"male\", \"year\": 2008}, {\"species\": \"Gentoo\", \"island\": \"Biscoe\", \"bill_length_mm\": 46.5, \"bill_depth_mm\": 14.4, \"flipper_length_mm\": 217.0, \"body_mass_g\": 4900.0, \"sex\": \"female\", \"year\": 2008}, {\"species\": \"Gentoo\", \"island\": \"Biscoe\", \"bill_length_mm\": 45.0, \"bill_depth_mm\": 15.4, \"flipper_length_mm\": 220.0, \"body_mass_g\": 5050.0, \"sex\": \"male\", \"year\": 2008}, {\"species\": \"Gentoo\", \"island\": \"Biscoe\", \"bill_length_mm\": 43.8, \"bill_depth_mm\": 13.9, \"flipper_length_mm\": 208.0, \"body_mass_g\": 4300.0, \"sex\": \"female\", \"year\": 2008}, {\"species\": \"Gentoo\", \"island\": \"Biscoe\", \"bill_length_mm\": 45.5, \"bill_depth_mm\": 15.0, \"flipper_length_mm\": 220.0, \"body_mass_g\": 5000.0, \"sex\": \"male\", \"year\": 2008}, {\"species\": \"Gentoo\", \"island\": \"Biscoe\", \"bill_length_mm\": 43.2, \"bill_depth_mm\": 14.5, \"flipper_length_mm\": 208.0, \"body_mass_g\": 4450.0, \"sex\": \"female\", \"year\": 2008}, {\"species\": \"Gentoo\", \"island\": \"Biscoe\", \"bill_length_mm\": 50.4, \"bill_depth_mm\": 15.3, \"flipper_length_mm\": 224.0, \"body_mass_g\": 5550.0, \"sex\": \"male\", \"year\": 2008}, {\"species\": \"Gentoo\", \"island\": \"Biscoe\", \"bill_length_mm\": 45.3, \"bill_depth_mm\": 13.8, \"flipper_length_mm\": 208.0, \"body_mass_g\": 4200.0, \"sex\": \"female\", \"year\": 2008}, {\"species\": \"Gentoo\", \"island\": \"Biscoe\", \"bill_length_mm\": 46.2, \"bill_depth_mm\": 14.9, \"flipper_length_mm\": 221.0, \"body_mass_g\": 5300.0, \"sex\": \"male\", \"year\": 2008}, {\"species\": \"Gentoo\", \"island\": \"Biscoe\", \"bill_length_mm\": 45.7, \"bill_depth_mm\": 13.9, \"flipper_length_mm\": 214.0, \"body_mass_g\": 4400.0, \"sex\": \"female\", \"year\": 2008}, {\"species\": \"Gentoo\", \"island\": \"Biscoe\", \"bill_length_mm\": 54.3, \"bill_depth_mm\": 15.7, \"flipper_length_mm\": 231.0, \"body_mass_g\": 5650.0, \"sex\": \"male\", \"year\": 2008}, {\"species\": \"Gentoo\", \"island\": \"Biscoe\", \"bill_length_mm\": 45.8, \"bill_depth_mm\": 14.2, \"flipper_length_mm\": 219.0, \"body_mass_g\": 4700.0, \"sex\": \"female\", \"year\": 2008}, {\"species\": \"Gentoo\", \"island\": \"Biscoe\", \"bill_length_mm\": 49.8, \"bill_depth_mm\": 16.8, \"flipper_length_mm\": 230.0, \"body_mass_g\": 5700.0, \"sex\": \"male\", \"year\": 2008}, {\"species\": \"Gentoo\", \"island\": \"Biscoe\", \"bill_length_mm\": 46.2, \"bill_depth_mm\": 14.4, \"flipper_length_mm\": 214.0, \"body_mass_g\": 4650.0, \"sex\": null, \"year\": 2008}, {\"species\": \"Gentoo\", \"island\": \"Biscoe\", \"bill_length_mm\": 49.5, \"bill_depth_mm\": 16.2, \"flipper_length_mm\": 229.0, \"body_mass_g\": 5800.0, \"sex\": \"male\", \"year\": 2008}, {\"species\": \"Gentoo\", \"island\": \"Biscoe\", \"bill_length_mm\": 43.5, \"bill_depth_mm\": 14.2, \"flipper_length_mm\": 220.0, \"body_mass_g\": 4700.0, \"sex\": \"female\", \"year\": 2008}, {\"species\": \"Gentoo\", \"island\": \"Biscoe\", \"bill_length_mm\": 50.7, \"bill_depth_mm\": 15.0, \"flipper_length_mm\": 223.0, \"body_mass_g\": 5550.0, \"sex\": \"male\", \"year\": 2008}, {\"species\": \"Gentoo\", \"island\": \"Biscoe\", \"bill_length_mm\": 47.7, \"bill_depth_mm\": 15.0, \"flipper_length_mm\": 216.0, \"body_mass_g\": 4750.0, \"sex\": \"female\", \"year\": 2008}, {\"species\": \"Gentoo\", \"island\": \"Biscoe\", \"bill_length_mm\": 46.4, \"bill_depth_mm\": 15.6, \"flipper_length_mm\": 221.0, \"body_mass_g\": 5000.0, \"sex\": \"male\", \"year\": 2008}, {\"species\": \"Gentoo\", \"island\": \"Biscoe\", \"bill_length_mm\": 48.2, \"bill_depth_mm\": 15.6, \"flipper_length_mm\": 221.0, \"body_mass_g\": 5100.0, \"sex\": \"male\", \"year\": 2008}, {\"species\": \"Gentoo\", \"island\": \"Biscoe\", \"bill_length_mm\": 46.5, \"bill_depth_mm\": 14.8, \"flipper_length_mm\": 217.0, \"body_mass_g\": 5200.0, \"sex\": \"female\", \"year\": 2008}, {\"species\": \"Gentoo\", \"island\": \"Biscoe\", \"bill_length_mm\": 46.4, \"bill_depth_mm\": 15.0, \"flipper_length_mm\": 216.0, \"body_mass_g\": 4700.0, \"sex\": \"female\", \"year\": 2008}, {\"species\": \"Gentoo\", \"island\": \"Biscoe\", \"bill_length_mm\": 48.6, \"bill_depth_mm\": 16.0, \"flipper_length_mm\": 230.0, \"body_mass_g\": 5800.0, \"sex\": \"male\", \"year\": 2008}, {\"species\": \"Gentoo\", \"island\": \"Biscoe\", \"bill_length_mm\": 47.5, \"bill_depth_mm\": 14.2, \"flipper_length_mm\": 209.0, \"body_mass_g\": 4600.0, \"sex\": \"female\", \"year\": 2008}, {\"species\": \"Gentoo\", \"island\": \"Biscoe\", \"bill_length_mm\": 51.1, \"bill_depth_mm\": 16.3, \"flipper_length_mm\": 220.0, \"body_mass_g\": 6000.0, \"sex\": \"male\", \"year\": 2008}, {\"species\": \"Gentoo\", \"island\": \"Biscoe\", \"bill_length_mm\": 45.2, \"bill_depth_mm\": 13.8, \"flipper_length_mm\": 215.0, \"body_mass_g\": 4750.0, \"sex\": \"female\", \"year\": 2008}, {\"species\": \"Gentoo\", \"island\": \"Biscoe\", \"bill_length_mm\": 45.2, \"bill_depth_mm\": 16.4, \"flipper_length_mm\": 223.0, \"body_mass_g\": 5950.0, \"sex\": \"male\", \"year\": 2008}, {\"species\": \"Gentoo\", \"island\": \"Biscoe\", \"bill_length_mm\": 49.1, \"bill_depth_mm\": 14.5, \"flipper_length_mm\": 212.0, \"body_mass_g\": 4625.0, \"sex\": \"female\", \"year\": 2009}, {\"species\": \"Gentoo\", \"island\": \"Biscoe\", \"bill_length_mm\": 52.5, \"bill_depth_mm\": 15.6, \"flipper_length_mm\": 221.0, \"body_mass_g\": 5450.0, \"sex\": \"male\", \"year\": 2009}, {\"species\": \"Gentoo\", \"island\": \"Biscoe\", \"bill_length_mm\": 47.4, \"bill_depth_mm\": 14.6, \"flipper_length_mm\": 212.0, \"body_mass_g\": 4725.0, \"sex\": \"female\", \"year\": 2009}, {\"species\": \"Gentoo\", \"island\": \"Biscoe\", \"bill_length_mm\": 50.0, \"bill_depth_mm\": 15.9, \"flipper_length_mm\": 224.0, \"body_mass_g\": 5350.0, \"sex\": \"male\", \"year\": 2009}, {\"species\": \"Gentoo\", \"island\": \"Biscoe\", \"bill_length_mm\": 44.9, \"bill_depth_mm\": 13.8, \"flipper_length_mm\": 212.0, \"body_mass_g\": 4750.0, \"sex\": \"female\", \"year\": 2009}, {\"species\": \"Gentoo\", \"island\": \"Biscoe\", \"bill_length_mm\": 50.8, \"bill_depth_mm\": 17.3, \"flipper_length_mm\": 228.0, \"body_mass_g\": 5600.0, \"sex\": \"male\", \"year\": 2009}, {\"species\": \"Gentoo\", \"island\": \"Biscoe\", \"bill_length_mm\": 43.4, \"bill_depth_mm\": 14.4, \"flipper_length_mm\": 218.0, \"body_mass_g\": 4600.0, \"sex\": \"female\", \"year\": 2009}, {\"species\": \"Gentoo\", \"island\": \"Biscoe\", \"bill_length_mm\": 51.3, \"bill_depth_mm\": 14.2, \"flipper_length_mm\": 218.0, \"body_mass_g\": 5300.0, \"sex\": \"male\", \"year\": 2009}, {\"species\": \"Gentoo\", \"island\": \"Biscoe\", \"bill_length_mm\": 47.5, \"bill_depth_mm\": 14.0, \"flipper_length_mm\": 212.0, \"body_mass_g\": 4875.0, \"sex\": \"female\", \"year\": 2009}, {\"species\": \"Gentoo\", \"island\": \"Biscoe\", \"bill_length_mm\": 52.1, \"bill_depth_mm\": 17.0, \"flipper_length_mm\": 230.0, \"body_mass_g\": 5550.0, \"sex\": \"male\", \"year\": 2009}, {\"species\": \"Gentoo\", \"island\": \"Biscoe\", \"bill_length_mm\": 47.5, \"bill_depth_mm\": 15.0, \"flipper_length_mm\": 218.0, \"body_mass_g\": 4950.0, \"sex\": \"female\", \"year\": 2009}, {\"species\": \"Gentoo\", \"island\": \"Biscoe\", \"bill_length_mm\": 52.2, \"bill_depth_mm\": 17.1, \"flipper_length_mm\": 228.0, \"body_mass_g\": 5400.0, \"sex\": \"male\", \"year\": 2009}, {\"species\": \"Gentoo\", \"island\": \"Biscoe\", \"bill_length_mm\": 45.5, \"bill_depth_mm\": 14.5, \"flipper_length_mm\": 212.0, \"body_mass_g\": 4750.0, \"sex\": \"female\", \"year\": 2009}, {\"species\": \"Gentoo\", \"island\": \"Biscoe\", \"bill_length_mm\": 49.5, \"bill_depth_mm\": 16.1, \"flipper_length_mm\": 224.0, \"body_mass_g\": 5650.0, \"sex\": \"male\", \"year\": 2009}, {\"species\": \"Gentoo\", \"island\": \"Biscoe\", \"bill_length_mm\": 44.5, \"bill_depth_mm\": 14.7, \"flipper_length_mm\": 214.0, \"body_mass_g\": 4850.0, \"sex\": \"female\", \"year\": 2009}, {\"species\": \"Gentoo\", \"island\": \"Biscoe\", \"bill_length_mm\": 50.8, \"bill_depth_mm\": 15.7, \"flipper_length_mm\": 226.0, \"body_mass_g\": 5200.0, \"sex\": \"male\", \"year\": 2009}, {\"species\": \"Gentoo\", \"island\": \"Biscoe\", \"bill_length_mm\": 49.4, \"bill_depth_mm\": 15.8, \"flipper_length_mm\": 216.0, \"body_mass_g\": 4925.0, \"sex\": \"male\", \"year\": 2009}, {\"species\": \"Gentoo\", \"island\": \"Biscoe\", \"bill_length_mm\": 46.9, \"bill_depth_mm\": 14.6, \"flipper_length_mm\": 222.0, \"body_mass_g\": 4875.0, \"sex\": \"female\", \"year\": 2009}, {\"species\": \"Gentoo\", \"island\": \"Biscoe\", \"bill_length_mm\": 48.4, \"bill_depth_mm\": 14.4, \"flipper_length_mm\": 203.0, \"body_mass_g\": 4625.0, \"sex\": \"female\", \"year\": 2009}, {\"species\": \"Gentoo\", \"island\": \"Biscoe\", \"bill_length_mm\": 51.1, \"bill_depth_mm\": 16.5, \"flipper_length_mm\": 225.0, \"body_mass_g\": 5250.0, \"sex\": \"male\", \"year\": 2009}, {\"species\": \"Gentoo\", \"island\": \"Biscoe\", \"bill_length_mm\": 48.5, \"bill_depth_mm\": 15.0, \"flipper_length_mm\": 219.0, \"body_mass_g\": 4850.0, \"sex\": \"female\", \"year\": 2009}, {\"species\": \"Gentoo\", \"island\": \"Biscoe\", \"bill_length_mm\": 55.9, \"bill_depth_mm\": 17.0, \"flipper_length_mm\": 228.0, \"body_mass_g\": 5600.0, \"sex\": \"male\", \"year\": 2009}, {\"species\": \"Gentoo\", \"island\": \"Biscoe\", \"bill_length_mm\": 47.2, \"bill_depth_mm\": 15.5, \"flipper_length_mm\": 215.0, \"body_mass_g\": 4975.0, \"sex\": \"female\", \"year\": 2009}, {\"species\": \"Gentoo\", \"island\": \"Biscoe\", \"bill_length_mm\": 49.1, \"bill_depth_mm\": 15.0, \"flipper_length_mm\": 228.0, \"body_mass_g\": 5500.0, \"sex\": \"male\", \"year\": 2009}, {\"species\": \"Gentoo\", \"island\": \"Biscoe\", \"bill_length_mm\": 47.3, \"bill_depth_mm\": 13.8, \"flipper_length_mm\": 216.0, \"body_mass_g\": 4725.0, \"sex\": null, \"year\": 2009}, {\"species\": \"Gentoo\", \"island\": \"Biscoe\", \"bill_length_mm\": 46.8, \"bill_depth_mm\": 16.1, \"flipper_length_mm\": 215.0, \"body_mass_g\": 5500.0, \"sex\": \"male\", \"year\": 2009}, {\"species\": \"Gentoo\", \"island\": \"Biscoe\", \"bill_length_mm\": 41.7, \"bill_depth_mm\": 14.7, \"flipper_length_mm\": 210.0, \"body_mass_g\": 4700.0, \"sex\": \"female\", \"year\": 2009}, {\"species\": \"Gentoo\", \"island\": \"Biscoe\", \"bill_length_mm\": 53.4, \"bill_depth_mm\": 15.8, \"flipper_length_mm\": 219.0, \"body_mass_g\": 5500.0, \"sex\": \"male\", \"year\": 2009}, {\"species\": \"Gentoo\", \"island\": \"Biscoe\", \"bill_length_mm\": 43.3, \"bill_depth_mm\": 14.0, \"flipper_length_mm\": 208.0, \"body_mass_g\": 4575.0, \"sex\": \"female\", \"year\": 2009}, {\"species\": \"Gentoo\", \"island\": \"Biscoe\", \"bill_length_mm\": 48.1, \"bill_depth_mm\": 15.1, \"flipper_length_mm\": 209.0, \"body_mass_g\": 5500.0, \"sex\": \"male\", \"year\": 2009}, {\"species\": \"Gentoo\", \"island\": \"Biscoe\", \"bill_length_mm\": 50.5, \"bill_depth_mm\": 15.2, \"flipper_length_mm\": 216.0, \"body_mass_g\": 5000.0, \"sex\": \"female\", \"year\": 2009}, {\"species\": \"Gentoo\", \"island\": \"Biscoe\", \"bill_length_mm\": 49.8, \"bill_depth_mm\": 15.9, \"flipper_length_mm\": 229.0, \"body_mass_g\": 5950.0, \"sex\": \"male\", \"year\": 2009}, {\"species\": \"Gentoo\", \"island\": \"Biscoe\", \"bill_length_mm\": 43.5, \"bill_depth_mm\": 15.2, \"flipper_length_mm\": 213.0, \"body_mass_g\": 4650.0, \"sex\": \"female\", \"year\": 2009}, {\"species\": \"Gentoo\", \"island\": \"Biscoe\", \"bill_length_mm\": 51.5, \"bill_depth_mm\": 16.3, \"flipper_length_mm\": 230.0, \"body_mass_g\": 5500.0, \"sex\": \"male\", \"year\": 2009}, {\"species\": \"Gentoo\", \"island\": \"Biscoe\", \"bill_length_mm\": 46.2, \"bill_depth_mm\": 14.1, \"flipper_length_mm\": 217.0, \"body_mass_g\": 4375.0, \"sex\": \"female\", \"year\": 2009}, {\"species\": \"Gentoo\", \"island\": \"Biscoe\", \"bill_length_mm\": 55.1, \"bill_depth_mm\": 16.0, \"flipper_length_mm\": 230.0, \"body_mass_g\": 5850.0, \"sex\": \"male\", \"year\": 2009}, {\"species\": \"Gentoo\", \"island\": \"Biscoe\", \"bill_length_mm\": 44.5, \"bill_depth_mm\": 15.7, \"flipper_length_mm\": 217.0, \"body_mass_g\": 4875.0, \"sex\": null, \"year\": 2009}, {\"species\": \"Gentoo\", \"island\": \"Biscoe\", \"bill_length_mm\": 48.8, \"bill_depth_mm\": 16.2, \"flipper_length_mm\": 222.0, \"body_mass_g\": 6000.0, \"sex\": \"male\", \"year\": 2009}, {\"species\": \"Gentoo\", \"island\": \"Biscoe\", \"bill_length_mm\": 47.2, \"bill_depth_mm\": 13.7, \"flipper_length_mm\": 214.0, \"body_mass_g\": 4925.0, \"sex\": \"female\", \"year\": 2009}, {\"species\": \"Gentoo\", \"island\": \"Biscoe\", \"bill_length_mm\": null, \"bill_depth_mm\": null, \"flipper_length_mm\": null, \"body_mass_g\": null, \"sex\": null, \"year\": 2009}, {\"species\": \"Gentoo\", \"island\": \"Biscoe\", \"bill_length_mm\": 46.8, \"bill_depth_mm\": 14.3, \"flipper_length_mm\": 215.0, \"body_mass_g\": 4850.0, \"sex\": \"female\", \"year\": 2009}, {\"species\": \"Gentoo\", \"island\": \"Biscoe\", \"bill_length_mm\": 50.4, \"bill_depth_mm\": 15.7, \"flipper_length_mm\": 222.0, \"body_mass_g\": 5750.0, \"sex\": \"male\", \"year\": 2009}, {\"species\": \"Gentoo\", \"island\": \"Biscoe\", \"bill_length_mm\": 45.2, \"bill_depth_mm\": 14.8, \"flipper_length_mm\": 212.0, \"body_mass_g\": 5200.0, \"sex\": \"female\", \"year\": 2009}, {\"species\": \"Gentoo\", \"island\": \"Biscoe\", \"bill_length_mm\": 49.9, \"bill_depth_mm\": 16.1, \"flipper_length_mm\": 213.0, \"body_mass_g\": 5400.0, \"sex\": \"male\", \"year\": 2009}, {\"species\": \"Chinstrap\", \"island\": \"Dream\", \"bill_length_mm\": 46.5, \"bill_depth_mm\": 17.9, \"flipper_length_mm\": 192.0, \"body_mass_g\": 3500.0, \"sex\": \"female\", \"year\": 2007}, {\"species\": \"Chinstrap\", \"island\": \"Dream\", \"bill_length_mm\": 50.0, \"bill_depth_mm\": 19.5, \"flipper_length_mm\": 196.0, \"body_mass_g\": 3900.0, \"sex\": \"male\", \"year\": 2007}, {\"species\": \"Chinstrap\", \"island\": \"Dream\", \"bill_length_mm\": 51.3, \"bill_depth_mm\": 19.2, \"flipper_length_mm\": 193.0, \"body_mass_g\": 3650.0, \"sex\": \"male\", \"year\": 2007}, {\"species\": \"Chinstrap\", \"island\": \"Dream\", \"bill_length_mm\": 45.4, \"bill_depth_mm\": 18.7, \"flipper_length_mm\": 188.0, \"body_mass_g\": 3525.0, \"sex\": \"female\", \"year\": 2007}, {\"species\": \"Chinstrap\", \"island\": \"Dream\", \"bill_length_mm\": 52.7, \"bill_depth_mm\": 19.8, \"flipper_length_mm\": 197.0, \"body_mass_g\": 3725.0, \"sex\": \"male\", \"year\": 2007}, {\"species\": \"Chinstrap\", \"island\": \"Dream\", \"bill_length_mm\": 45.2, \"bill_depth_mm\": 17.8, \"flipper_length_mm\": 198.0, \"body_mass_g\": 3950.0, \"sex\": \"female\", \"year\": 2007}, {\"species\": \"Chinstrap\", \"island\": \"Dream\", \"bill_length_mm\": 46.1, \"bill_depth_mm\": 18.2, \"flipper_length_mm\": 178.0, \"body_mass_g\": 3250.0, \"sex\": \"female\", \"year\": 2007}, {\"species\": \"Chinstrap\", \"island\": \"Dream\", \"bill_length_mm\": 51.3, \"bill_depth_mm\": 18.2, \"flipper_length_mm\": 197.0, \"body_mass_g\": 3750.0, \"sex\": \"male\", \"year\": 2007}, {\"species\": \"Chinstrap\", \"island\": \"Dream\", \"bill_length_mm\": 46.0, \"bill_depth_mm\": 18.9, \"flipper_length_mm\": 195.0, \"body_mass_g\": 4150.0, \"sex\": \"female\", \"year\": 2007}, {\"species\": \"Chinstrap\", \"island\": \"Dream\", \"bill_length_mm\": 51.3, \"bill_depth_mm\": 19.9, \"flipper_length_mm\": 198.0, \"body_mass_g\": 3700.0, \"sex\": \"male\", \"year\": 2007}, {\"species\": \"Chinstrap\", \"island\": \"Dream\", \"bill_length_mm\": 46.6, \"bill_depth_mm\": 17.8, \"flipper_length_mm\": 193.0, \"body_mass_g\": 3800.0, \"sex\": \"female\", \"year\": 2007}, {\"species\": \"Chinstrap\", \"island\": \"Dream\", \"bill_length_mm\": 51.7, \"bill_depth_mm\": 20.3, \"flipper_length_mm\": 194.0, \"body_mass_g\": 3775.0, \"sex\": \"male\", \"year\": 2007}, {\"species\": \"Chinstrap\", \"island\": \"Dream\", \"bill_length_mm\": 47.0, \"bill_depth_mm\": 17.3, \"flipper_length_mm\": 185.0, \"body_mass_g\": 3700.0, \"sex\": \"female\", \"year\": 2007}, {\"species\": \"Chinstrap\", \"island\": \"Dream\", \"bill_length_mm\": 52.0, \"bill_depth_mm\": 18.1, \"flipper_length_mm\": 201.0, \"body_mass_g\": 4050.0, \"sex\": \"male\", \"year\": 2007}, {\"species\": \"Chinstrap\", \"island\": \"Dream\", \"bill_length_mm\": 45.9, \"bill_depth_mm\": 17.1, \"flipper_length_mm\": 190.0, \"body_mass_g\": 3575.0, \"sex\": \"female\", \"year\": 2007}, {\"species\": \"Chinstrap\", \"island\": \"Dream\", \"bill_length_mm\": 50.5, \"bill_depth_mm\": 19.6, \"flipper_length_mm\": 201.0, \"body_mass_g\": 4050.0, \"sex\": \"male\", \"year\": 2007}, {\"species\": \"Chinstrap\", \"island\": \"Dream\", \"bill_length_mm\": 50.3, \"bill_depth_mm\": 20.0, \"flipper_length_mm\": 197.0, \"body_mass_g\": 3300.0, \"sex\": \"male\", \"year\": 2007}, {\"species\": \"Chinstrap\", \"island\": \"Dream\", \"bill_length_mm\": 58.0, \"bill_depth_mm\": 17.8, \"flipper_length_mm\": 181.0, \"body_mass_g\": 3700.0, \"sex\": \"female\", \"year\": 2007}, {\"species\": \"Chinstrap\", \"island\": \"Dream\", \"bill_length_mm\": 46.4, \"bill_depth_mm\": 18.6, \"flipper_length_mm\": 190.0, \"body_mass_g\": 3450.0, \"sex\": \"female\", \"year\": 2007}, {\"species\": \"Chinstrap\", \"island\": \"Dream\", \"bill_length_mm\": 49.2, \"bill_depth_mm\": 18.2, \"flipper_length_mm\": 195.0, \"body_mass_g\": 4400.0, \"sex\": \"male\", \"year\": 2007}, {\"species\": \"Chinstrap\", \"island\": \"Dream\", \"bill_length_mm\": 42.4, \"bill_depth_mm\": 17.3, \"flipper_length_mm\": 181.0, \"body_mass_g\": 3600.0, \"sex\": \"female\", \"year\": 2007}, {\"species\": \"Chinstrap\", \"island\": \"Dream\", \"bill_length_mm\": 48.5, \"bill_depth_mm\": 17.5, \"flipper_length_mm\": 191.0, \"body_mass_g\": 3400.0, \"sex\": \"male\", \"year\": 2007}, {\"species\": \"Chinstrap\", \"island\": \"Dream\", \"bill_length_mm\": 43.2, \"bill_depth_mm\": 16.6, \"flipper_length_mm\": 187.0, \"body_mass_g\": 2900.0, \"sex\": \"female\", \"year\": 2007}, {\"species\": \"Chinstrap\", \"island\": \"Dream\", \"bill_length_mm\": 50.6, \"bill_depth_mm\": 19.4, \"flipper_length_mm\": 193.0, \"body_mass_g\": 3800.0, \"sex\": \"male\", \"year\": 2007}, {\"species\": \"Chinstrap\", \"island\": \"Dream\", \"bill_length_mm\": 46.7, \"bill_depth_mm\": 17.9, \"flipper_length_mm\": 195.0, \"body_mass_g\": 3300.0, \"sex\": \"female\", \"year\": 2007}, {\"species\": \"Chinstrap\", \"island\": \"Dream\", \"bill_length_mm\": 52.0, \"bill_depth_mm\": 19.0, \"flipper_length_mm\": 197.0, \"body_mass_g\": 4150.0, \"sex\": \"male\", \"year\": 2007}, {\"species\": \"Chinstrap\", \"island\": \"Dream\", \"bill_length_mm\": 50.5, \"bill_depth_mm\": 18.4, \"flipper_length_mm\": 200.0, \"body_mass_g\": 3400.0, \"sex\": \"female\", \"year\": 2008}, {\"species\": \"Chinstrap\", \"island\": \"Dream\", \"bill_length_mm\": 49.5, \"bill_depth_mm\": 19.0, \"flipper_length_mm\": 200.0, \"body_mass_g\": 3800.0, \"sex\": \"male\", \"year\": 2008}, {\"species\": \"Chinstrap\", \"island\": \"Dream\", \"bill_length_mm\": 46.4, \"bill_depth_mm\": 17.8, \"flipper_length_mm\": 191.0, \"body_mass_g\": 3700.0, \"sex\": \"female\", \"year\": 2008}, {\"species\": \"Chinstrap\", \"island\": \"Dream\", \"bill_length_mm\": 52.8, \"bill_depth_mm\": 20.0, \"flipper_length_mm\": 205.0, \"body_mass_g\": 4550.0, \"sex\": \"male\", \"year\": 2008}, {\"species\": \"Chinstrap\", \"island\": \"Dream\", \"bill_length_mm\": 40.9, \"bill_depth_mm\": 16.6, \"flipper_length_mm\": 187.0, \"body_mass_g\": 3200.0, \"sex\": \"female\", \"year\": 2008}, {\"species\": \"Chinstrap\", \"island\": \"Dream\", \"bill_length_mm\": 54.2, \"bill_depth_mm\": 20.8, \"flipper_length_mm\": 201.0, \"body_mass_g\": 4300.0, \"sex\": \"male\", \"year\": 2008}, {\"species\": \"Chinstrap\", \"island\": \"Dream\", \"bill_length_mm\": 42.5, \"bill_depth_mm\": 16.7, \"flipper_length_mm\": 187.0, \"body_mass_g\": 3350.0, \"sex\": \"female\", \"year\": 2008}, {\"species\": \"Chinstrap\", \"island\": \"Dream\", \"bill_length_mm\": 51.0, \"bill_depth_mm\": 18.8, \"flipper_length_mm\": 203.0, \"body_mass_g\": 4100.0, \"sex\": \"male\", \"year\": 2008}, {\"species\": \"Chinstrap\", \"island\": \"Dream\", \"bill_length_mm\": 49.7, \"bill_depth_mm\": 18.6, \"flipper_length_mm\": 195.0, \"body_mass_g\": 3600.0, \"sex\": \"male\", \"year\": 2008}, {\"species\": \"Chinstrap\", \"island\": \"Dream\", \"bill_length_mm\": 47.5, \"bill_depth_mm\": 16.8, \"flipper_length_mm\": 199.0, \"body_mass_g\": 3900.0, \"sex\": \"female\", \"year\": 2008}, {\"species\": \"Chinstrap\", \"island\": \"Dream\", \"bill_length_mm\": 47.6, \"bill_depth_mm\": 18.3, \"flipper_length_mm\": 195.0, \"body_mass_g\": 3850.0, \"sex\": \"female\", \"year\": 2008}, {\"species\": \"Chinstrap\", \"island\": \"Dream\", \"bill_length_mm\": 52.0, \"bill_depth_mm\": 20.7, \"flipper_length_mm\": 210.0, \"body_mass_g\": 4800.0, \"sex\": \"male\", \"year\": 2008}, {\"species\": \"Chinstrap\", \"island\": \"Dream\", \"bill_length_mm\": 46.9, \"bill_depth_mm\": 16.6, \"flipper_length_mm\": 192.0, \"body_mass_g\": 2700.0, \"sex\": \"female\", \"year\": 2008}, {\"species\": \"Chinstrap\", \"island\": \"Dream\", \"bill_length_mm\": 53.5, \"bill_depth_mm\": 19.9, \"flipper_length_mm\": 205.0, \"body_mass_g\": 4500.0, \"sex\": \"male\", \"year\": 2008}, {\"species\": \"Chinstrap\", \"island\": \"Dream\", \"bill_length_mm\": 49.0, \"bill_depth_mm\": 19.5, \"flipper_length_mm\": 210.0, \"body_mass_g\": 3950.0, \"sex\": \"male\", \"year\": 2008}, {\"species\": \"Chinstrap\", \"island\": \"Dream\", \"bill_length_mm\": 46.2, \"bill_depth_mm\": 17.5, \"flipper_length_mm\": 187.0, \"body_mass_g\": 3650.0, \"sex\": \"female\", \"year\": 2008}, {\"species\": \"Chinstrap\", \"island\": \"Dream\", \"bill_length_mm\": 50.9, \"bill_depth_mm\": 19.1, \"flipper_length_mm\": 196.0, \"body_mass_g\": 3550.0, \"sex\": \"male\", \"year\": 2008}, {\"species\": \"Chinstrap\", \"island\": \"Dream\", \"bill_length_mm\": 45.5, \"bill_depth_mm\": 17.0, \"flipper_length_mm\": 196.0, \"body_mass_g\": 3500.0, \"sex\": \"female\", \"year\": 2008}, {\"species\": \"Chinstrap\", \"island\": \"Dream\", \"bill_length_mm\": 50.9, \"bill_depth_mm\": 17.9, \"flipper_length_mm\": 196.0, \"body_mass_g\": 3675.0, \"sex\": \"female\", \"year\": 2009}, {\"species\": \"Chinstrap\", \"island\": \"Dream\", \"bill_length_mm\": 50.8, \"bill_depth_mm\": 18.5, \"flipper_length_mm\": 201.0, \"body_mass_g\": 4450.0, \"sex\": \"male\", \"year\": 2009}, {\"species\": \"Chinstrap\", \"island\": \"Dream\", \"bill_length_mm\": 50.1, \"bill_depth_mm\": 17.9, \"flipper_length_mm\": 190.0, \"body_mass_g\": 3400.0, \"sex\": \"female\", \"year\": 2009}, {\"species\": \"Chinstrap\", \"island\": \"Dream\", \"bill_length_mm\": 49.0, \"bill_depth_mm\": 19.6, \"flipper_length_mm\": 212.0, \"body_mass_g\": 4300.0, \"sex\": \"male\", \"year\": 2009}, {\"species\": \"Chinstrap\", \"island\": \"Dream\", \"bill_length_mm\": 51.5, \"bill_depth_mm\": 18.7, \"flipper_length_mm\": 187.0, \"body_mass_g\": 3250.0, \"sex\": \"male\", \"year\": 2009}, {\"species\": \"Chinstrap\", \"island\": \"Dream\", \"bill_length_mm\": 49.8, \"bill_depth_mm\": 17.3, \"flipper_length_mm\": 198.0, \"body_mass_g\": 3675.0, \"sex\": \"female\", \"year\": 2009}, {\"species\": \"Chinstrap\", \"island\": \"Dream\", \"bill_length_mm\": 48.1, \"bill_depth_mm\": 16.4, \"flipper_length_mm\": 199.0, \"body_mass_g\": 3325.0, \"sex\": \"female\", \"year\": 2009}, {\"species\": \"Chinstrap\", \"island\": \"Dream\", \"bill_length_mm\": 51.4, \"bill_depth_mm\": 19.0, \"flipper_length_mm\": 201.0, \"body_mass_g\": 3950.0, \"sex\": \"male\", \"year\": 2009}, {\"species\": \"Chinstrap\", \"island\": \"Dream\", \"bill_length_mm\": 45.7, \"bill_depth_mm\": 17.3, \"flipper_length_mm\": 193.0, \"body_mass_g\": 3600.0, \"sex\": \"female\", \"year\": 2009}, {\"species\": \"Chinstrap\", \"island\": \"Dream\", \"bill_length_mm\": 50.7, \"bill_depth_mm\": 19.7, \"flipper_length_mm\": 203.0, \"body_mass_g\": 4050.0, \"sex\": \"male\", \"year\": 2009}, {\"species\": \"Chinstrap\", \"island\": \"Dream\", \"bill_length_mm\": 42.5, \"bill_depth_mm\": 17.3, \"flipper_length_mm\": 187.0, \"body_mass_g\": 3350.0, \"sex\": \"female\", \"year\": 2009}, {\"species\": \"Chinstrap\", \"island\": \"Dream\", \"bill_length_mm\": 52.2, \"bill_depth_mm\": 18.8, \"flipper_length_mm\": 197.0, \"body_mass_g\": 3450.0, \"sex\": \"male\", \"year\": 2009}, {\"species\": \"Chinstrap\", \"island\": \"Dream\", \"bill_length_mm\": 45.2, \"bill_depth_mm\": 16.6, \"flipper_length_mm\": 191.0, \"body_mass_g\": 3250.0, \"sex\": \"female\", \"year\": 2009}, {\"species\": \"Chinstrap\", \"island\": \"Dream\", \"bill_length_mm\": 49.3, \"bill_depth_mm\": 19.9, \"flipper_length_mm\": 203.0, \"body_mass_g\": 4050.0, \"sex\": \"male\", \"year\": 2009}, {\"species\": \"Chinstrap\", \"island\": \"Dream\", \"bill_length_mm\": 50.2, \"bill_depth_mm\": 18.8, \"flipper_length_mm\": 202.0, \"body_mass_g\": 3800.0, \"sex\": \"male\", \"year\": 2009}, {\"species\": \"Chinstrap\", \"island\": \"Dream\", \"bill_length_mm\": 45.6, \"bill_depth_mm\": 19.4, \"flipper_length_mm\": 194.0, \"body_mass_g\": 3525.0, \"sex\": \"female\", \"year\": 2009}, {\"species\": \"Chinstrap\", \"island\": \"Dream\", \"bill_length_mm\": 51.9, \"bill_depth_mm\": 19.5, \"flipper_length_mm\": 206.0, \"body_mass_g\": 3950.0, \"sex\": \"male\", \"year\": 2009}, {\"species\": \"Chinstrap\", \"island\": \"Dream\", \"bill_length_mm\": 46.8, \"bill_depth_mm\": 16.5, \"flipper_length_mm\": 189.0, \"body_mass_g\": 3650.0, \"sex\": \"female\", \"year\": 2009}, {\"species\": \"Chinstrap\", \"island\": \"Dream\", \"bill_length_mm\": 45.7, \"bill_depth_mm\": 17.0, \"flipper_length_mm\": 195.0, \"body_mass_g\": 3650.0, \"sex\": \"female\", \"year\": 2009}, {\"species\": \"Chinstrap\", \"island\": \"Dream\", \"bill_length_mm\": 55.8, \"bill_depth_mm\": 19.8, \"flipper_length_mm\": 207.0, \"body_mass_g\": 4000.0, \"sex\": \"male\", \"year\": 2009}, {\"species\": \"Chinstrap\", \"island\": \"Dream\", \"bill_length_mm\": 43.5, \"bill_depth_mm\": 18.1, \"flipper_length_mm\": 202.0, \"body_mass_g\": 3400.0, \"sex\": \"female\", \"year\": 2009}, {\"species\": \"Chinstrap\", \"island\": \"Dream\", \"bill_length_mm\": 49.6, \"bill_depth_mm\": 18.2, \"flipper_length_mm\": 193.0, \"body_mass_g\": 3775.0, \"sex\": \"male\", \"year\": 2009}, {\"species\": \"Chinstrap\", \"island\": \"Dream\", \"bill_length_mm\": 50.8, \"bill_depth_mm\": 19.0, \"flipper_length_mm\": 210.0, \"body_mass_g\": 4100.0, \"sex\": \"male\", \"year\": 2009}, {\"species\": \"Chinstrap\", \"island\": \"Dream\", \"bill_length_mm\": 50.2, \"bill_depth_mm\": 18.7, \"flipper_length_mm\": 198.0, \"body_mass_g\": 3775.0, \"sex\": \"female\", \"year\": 2009}]}}, {\"mode\": \"vega-lite\"});\n",
              "</script>"
            ]
          },
          "metadata": {
            "tags": []
          },
          "execution_count": 15
        }
      ]
    },
    {
      "cell_type": "code",
      "metadata": {
        "id": "R5wc7y8HuhDG",
        "colab_type": "code",
        "colab": {
          "base_uri": "https://localhost:8080/",
          "height": 363
        },
        "outputId": "27a08729-8f59-49a6-feb5-4d3c06751a76"
      },
      "source": [
        "alt.Chart(pg_data).mark_circle(size = 69).encode(\n",
        "     x='bill_depth_mm',\n",
        "     y='body_mass_g', \n",
        "     color = 'species',\n",
        "     tooltip=['species', 'bill_depth_mm', 'body_mass_g']\n",
        " ).interactive()"
      ],
      "execution_count": 16,
      "outputs": [
        {
          "output_type": "execute_result",
          "data": {
            "text/plain": [
              "alt.Chart(...)"
            ],
            "text/html": [
              "\n",
              "<div id=\"altair-viz-961e25aed8414a0eba2b9b0f68a87c83\"></div>\n",
              "<script type=\"text/javascript\">\n",
              "  (function(spec, embedOpt){\n",
              "    let outputDiv = document.currentScript.previousElementSibling;\n",
              "    if (outputDiv.id !== \"altair-viz-961e25aed8414a0eba2b9b0f68a87c83\") {\n",
              "      outputDiv = document.getElementById(\"altair-viz-961e25aed8414a0eba2b9b0f68a87c83\");\n",
              "    }\n",
              "    const paths = {\n",
              "      \"vega\": \"https://cdn.jsdelivr.net/npm//vega@5?noext\",\n",
              "      \"vega-lib\": \"https://cdn.jsdelivr.net/npm//vega-lib?noext\",\n",
              "      \"vega-lite\": \"https://cdn.jsdelivr.net/npm//vega-lite@4.8.1?noext\",\n",
              "      \"vega-embed\": \"https://cdn.jsdelivr.net/npm//vega-embed@6?noext\",\n",
              "    };\n",
              "\n",
              "    function loadScript(lib) {\n",
              "      return new Promise(function(resolve, reject) {\n",
              "        var s = document.createElement('script');\n",
              "        s.src = paths[lib];\n",
              "        s.async = true;\n",
              "        s.onload = () => resolve(paths[lib]);\n",
              "        s.onerror = () => reject(`Error loading script: ${paths[lib]}`);\n",
              "        document.getElementsByTagName(\"head\")[0].appendChild(s);\n",
              "      });\n",
              "    }\n",
              "\n",
              "    function showError(err) {\n",
              "      outputDiv.innerHTML = `<div class=\"error\" style=\"color:red;\">${err}</div>`;\n",
              "      throw err;\n",
              "    }\n",
              "\n",
              "    function displayChart(vegaEmbed) {\n",
              "      vegaEmbed(outputDiv, spec, embedOpt)\n",
              "        .catch(err => showError(`Javascript Error: ${err.message}<br>This usually means there's a typo in your chart specification. See the javascript console for the full traceback.`));\n",
              "    }\n",
              "\n",
              "    if(typeof define === \"function\" && define.amd) {\n",
              "      requirejs.config({paths});\n",
              "      require([\"vega-embed\"], displayChart, err => showError(`Error loading script: ${err.message}`));\n",
              "    } else if (typeof vegaEmbed === \"function\") {\n",
              "      displayChart(vegaEmbed);\n",
              "    } else {\n",
              "      loadScript(\"vega\")\n",
              "        .then(() => loadScript(\"vega-lite\"))\n",
              "        .then(() => loadScript(\"vega-embed\"))\n",
              "        .catch(showError)\n",
              "        .then(() => displayChart(vegaEmbed));\n",
              "    }\n",
              "  })({\"config\": {\"view\": {\"continuousWidth\": 400, \"continuousHeight\": 300}}, \"data\": {\"name\": \"data-d00e1631cca48c544438d30d2b470e8a\"}, \"mark\": {\"type\": \"circle\", \"size\": 69}, \"encoding\": {\"color\": {\"type\": \"nominal\", \"field\": \"species\"}, \"tooltip\": [{\"type\": \"nominal\", \"field\": \"species\"}, {\"type\": \"quantitative\", \"field\": \"bill_depth_mm\"}, {\"type\": \"quantitative\", \"field\": \"body_mass_g\"}], \"x\": {\"type\": \"quantitative\", \"field\": \"bill_depth_mm\"}, \"y\": {\"type\": \"quantitative\", \"field\": \"body_mass_g\"}}, \"selection\": {\"selector003\": {\"type\": \"interval\", \"bind\": \"scales\", \"encodings\": [\"x\", \"y\"]}}, \"$schema\": \"https://vega.github.io/schema/vega-lite/v4.8.1.json\", \"datasets\": {\"data-d00e1631cca48c544438d30d2b470e8a\": [{\"species\": \"Adelie\", \"island\": \"Torgersen\", \"bill_length_mm\": 39.1, \"bill_depth_mm\": 18.7, \"flipper_length_mm\": 181.0, \"body_mass_g\": 3750.0, \"sex\": \"male\", \"year\": 2007}, {\"species\": \"Adelie\", \"island\": \"Torgersen\", \"bill_length_mm\": 39.5, \"bill_depth_mm\": 17.4, \"flipper_length_mm\": 186.0, \"body_mass_g\": 3800.0, \"sex\": \"female\", \"year\": 2007}, {\"species\": \"Adelie\", \"island\": \"Torgersen\", \"bill_length_mm\": 40.3, \"bill_depth_mm\": 18.0, \"flipper_length_mm\": 195.0, \"body_mass_g\": 3250.0, \"sex\": \"female\", \"year\": 2007}, {\"species\": \"Adelie\", \"island\": \"Torgersen\", \"bill_length_mm\": null, \"bill_depth_mm\": null, \"flipper_length_mm\": null, \"body_mass_g\": null, \"sex\": null, \"year\": 2007}, {\"species\": \"Adelie\", \"island\": \"Torgersen\", \"bill_length_mm\": 36.7, \"bill_depth_mm\": 19.3, \"flipper_length_mm\": 193.0, \"body_mass_g\": 3450.0, \"sex\": \"female\", \"year\": 2007}, {\"species\": \"Adelie\", \"island\": \"Torgersen\", \"bill_length_mm\": 39.3, \"bill_depth_mm\": 20.6, \"flipper_length_mm\": 190.0, \"body_mass_g\": 3650.0, \"sex\": \"male\", \"year\": 2007}, {\"species\": \"Adelie\", \"island\": \"Torgersen\", \"bill_length_mm\": 38.9, \"bill_depth_mm\": 17.8, \"flipper_length_mm\": 181.0, \"body_mass_g\": 3625.0, \"sex\": \"female\", \"year\": 2007}, {\"species\": \"Adelie\", \"island\": \"Torgersen\", \"bill_length_mm\": 39.2, \"bill_depth_mm\": 19.6, \"flipper_length_mm\": 195.0, \"body_mass_g\": 4675.0, \"sex\": \"male\", \"year\": 2007}, {\"species\": \"Adelie\", \"island\": \"Torgersen\", \"bill_length_mm\": 34.1, \"bill_depth_mm\": 18.1, \"flipper_length_mm\": 193.0, \"body_mass_g\": 3475.0, \"sex\": null, \"year\": 2007}, {\"species\": \"Adelie\", \"island\": \"Torgersen\", \"bill_length_mm\": 42.0, \"bill_depth_mm\": 20.2, \"flipper_length_mm\": 190.0, \"body_mass_g\": 4250.0, \"sex\": null, \"year\": 2007}, {\"species\": \"Adelie\", \"island\": \"Torgersen\", \"bill_length_mm\": 37.8, \"bill_depth_mm\": 17.1, \"flipper_length_mm\": 186.0, \"body_mass_g\": 3300.0, \"sex\": null, \"year\": 2007}, {\"species\": \"Adelie\", \"island\": \"Torgersen\", \"bill_length_mm\": 37.8, \"bill_depth_mm\": 17.3, \"flipper_length_mm\": 180.0, \"body_mass_g\": 3700.0, \"sex\": null, \"year\": 2007}, {\"species\": \"Adelie\", \"island\": \"Torgersen\", \"bill_length_mm\": 41.1, \"bill_depth_mm\": 17.6, \"flipper_length_mm\": 182.0, \"body_mass_g\": 3200.0, \"sex\": \"female\", \"year\": 2007}, {\"species\": \"Adelie\", \"island\": \"Torgersen\", \"bill_length_mm\": 38.6, \"bill_depth_mm\": 21.2, \"flipper_length_mm\": 191.0, \"body_mass_g\": 3800.0, \"sex\": \"male\", \"year\": 2007}, {\"species\": \"Adelie\", \"island\": \"Torgersen\", \"bill_length_mm\": 34.6, \"bill_depth_mm\": 21.1, \"flipper_length_mm\": 198.0, \"body_mass_g\": 4400.0, \"sex\": \"male\", \"year\": 2007}, {\"species\": \"Adelie\", \"island\": \"Torgersen\", \"bill_length_mm\": 36.6, \"bill_depth_mm\": 17.8, \"flipper_length_mm\": 185.0, \"body_mass_g\": 3700.0, \"sex\": \"female\", \"year\": 2007}, {\"species\": \"Adelie\", \"island\": \"Torgersen\", \"bill_length_mm\": 38.7, \"bill_depth_mm\": 19.0, \"flipper_length_mm\": 195.0, \"body_mass_g\": 3450.0, \"sex\": \"female\", \"year\": 2007}, {\"species\": \"Adelie\", \"island\": \"Torgersen\", \"bill_length_mm\": 42.5, \"bill_depth_mm\": 20.7, \"flipper_length_mm\": 197.0, \"body_mass_g\": 4500.0, \"sex\": \"male\", \"year\": 2007}, {\"species\": \"Adelie\", \"island\": \"Torgersen\", \"bill_length_mm\": 34.4, \"bill_depth_mm\": 18.4, \"flipper_length_mm\": 184.0, \"body_mass_g\": 3325.0, \"sex\": \"female\", \"year\": 2007}, {\"species\": \"Adelie\", \"island\": \"Torgersen\", \"bill_length_mm\": 46.0, \"bill_depth_mm\": 21.5, \"flipper_length_mm\": 194.0, \"body_mass_g\": 4200.0, \"sex\": \"male\", \"year\": 2007}, {\"species\": \"Adelie\", \"island\": \"Biscoe\", \"bill_length_mm\": 37.8, \"bill_depth_mm\": 18.3, \"flipper_length_mm\": 174.0, \"body_mass_g\": 3400.0, \"sex\": \"female\", \"year\": 2007}, {\"species\": \"Adelie\", \"island\": \"Biscoe\", \"bill_length_mm\": 37.7, \"bill_depth_mm\": 18.7, \"flipper_length_mm\": 180.0, \"body_mass_g\": 3600.0, \"sex\": \"male\", \"year\": 2007}, {\"species\": \"Adelie\", \"island\": \"Biscoe\", \"bill_length_mm\": 35.9, \"bill_depth_mm\": 19.2, \"flipper_length_mm\": 189.0, \"body_mass_g\": 3800.0, \"sex\": \"female\", \"year\": 2007}, {\"species\": \"Adelie\", \"island\": \"Biscoe\", \"bill_length_mm\": 38.2, \"bill_depth_mm\": 18.1, \"flipper_length_mm\": 185.0, \"body_mass_g\": 3950.0, \"sex\": \"male\", \"year\": 2007}, {\"species\": \"Adelie\", \"island\": \"Biscoe\", \"bill_length_mm\": 38.8, \"bill_depth_mm\": 17.2, \"flipper_length_mm\": 180.0, \"body_mass_g\": 3800.0, \"sex\": \"male\", \"year\": 2007}, {\"species\": \"Adelie\", \"island\": \"Biscoe\", \"bill_length_mm\": 35.3, \"bill_depth_mm\": 18.9, \"flipper_length_mm\": 187.0, \"body_mass_g\": 3800.0, \"sex\": \"female\", \"year\": 2007}, {\"species\": \"Adelie\", \"island\": \"Biscoe\", \"bill_length_mm\": 40.6, \"bill_depth_mm\": 18.6, \"flipper_length_mm\": 183.0, \"body_mass_g\": 3550.0, \"sex\": \"male\", \"year\": 2007}, {\"species\": \"Adelie\", \"island\": \"Biscoe\", \"bill_length_mm\": 40.5, \"bill_depth_mm\": 17.9, \"flipper_length_mm\": 187.0, \"body_mass_g\": 3200.0, \"sex\": \"female\", \"year\": 2007}, {\"species\": \"Adelie\", \"island\": \"Biscoe\", \"bill_length_mm\": 37.9, \"bill_depth_mm\": 18.6, \"flipper_length_mm\": 172.0, \"body_mass_g\": 3150.0, \"sex\": \"female\", \"year\": 2007}, {\"species\": \"Adelie\", \"island\": \"Biscoe\", \"bill_length_mm\": 40.5, \"bill_depth_mm\": 18.9, \"flipper_length_mm\": 180.0, \"body_mass_g\": 3950.0, \"sex\": \"male\", \"year\": 2007}, {\"species\": \"Adelie\", \"island\": \"Dream\", \"bill_length_mm\": 39.5, \"bill_depth_mm\": 16.7, \"flipper_length_mm\": 178.0, \"body_mass_g\": 3250.0, \"sex\": \"female\", \"year\": 2007}, {\"species\": \"Adelie\", \"island\": \"Dream\", \"bill_length_mm\": 37.2, \"bill_depth_mm\": 18.1, \"flipper_length_mm\": 178.0, \"body_mass_g\": 3900.0, \"sex\": \"male\", \"year\": 2007}, {\"species\": \"Adelie\", \"island\": \"Dream\", \"bill_length_mm\": 39.5, \"bill_depth_mm\": 17.8, \"flipper_length_mm\": 188.0, \"body_mass_g\": 3300.0, \"sex\": \"female\", \"year\": 2007}, {\"species\": \"Adelie\", \"island\": \"Dream\", \"bill_length_mm\": 40.9, \"bill_depth_mm\": 18.9, \"flipper_length_mm\": 184.0, \"body_mass_g\": 3900.0, \"sex\": \"male\", \"year\": 2007}, {\"species\": \"Adelie\", \"island\": \"Dream\", \"bill_length_mm\": 36.4, \"bill_depth_mm\": 17.0, \"flipper_length_mm\": 195.0, \"body_mass_g\": 3325.0, \"sex\": \"female\", \"year\": 2007}, {\"species\": \"Adelie\", \"island\": \"Dream\", \"bill_length_mm\": 39.2, \"bill_depth_mm\": 21.1, \"flipper_length_mm\": 196.0, \"body_mass_g\": 4150.0, \"sex\": \"male\", \"year\": 2007}, {\"species\": \"Adelie\", \"island\": \"Dream\", \"bill_length_mm\": 38.8, \"bill_depth_mm\": 20.0, \"flipper_length_mm\": 190.0, \"body_mass_g\": 3950.0, \"sex\": \"male\", \"year\": 2007}, {\"species\": \"Adelie\", \"island\": \"Dream\", \"bill_length_mm\": 42.2, \"bill_depth_mm\": 18.5, \"flipper_length_mm\": 180.0, \"body_mass_g\": 3550.0, \"sex\": \"female\", \"year\": 2007}, {\"species\": \"Adelie\", \"island\": \"Dream\", \"bill_length_mm\": 37.6, \"bill_depth_mm\": 19.3, \"flipper_length_mm\": 181.0, \"body_mass_g\": 3300.0, \"sex\": \"female\", \"year\": 2007}, {\"species\": \"Adelie\", \"island\": \"Dream\", \"bill_length_mm\": 39.8, \"bill_depth_mm\": 19.1, \"flipper_length_mm\": 184.0, \"body_mass_g\": 4650.0, \"sex\": \"male\", \"year\": 2007}, {\"species\": \"Adelie\", \"island\": \"Dream\", \"bill_length_mm\": 36.5, \"bill_depth_mm\": 18.0, \"flipper_length_mm\": 182.0, \"body_mass_g\": 3150.0, \"sex\": \"female\", \"year\": 2007}, {\"species\": \"Adelie\", \"island\": \"Dream\", \"bill_length_mm\": 40.8, \"bill_depth_mm\": 18.4, \"flipper_length_mm\": 195.0, \"body_mass_g\": 3900.0, \"sex\": \"male\", \"year\": 2007}, {\"species\": \"Adelie\", \"island\": \"Dream\", \"bill_length_mm\": 36.0, \"bill_depth_mm\": 18.5, \"flipper_length_mm\": 186.0, \"body_mass_g\": 3100.0, \"sex\": \"female\", \"year\": 2007}, {\"species\": \"Adelie\", \"island\": \"Dream\", \"bill_length_mm\": 44.1, \"bill_depth_mm\": 19.7, \"flipper_length_mm\": 196.0, \"body_mass_g\": 4400.0, \"sex\": \"male\", \"year\": 2007}, {\"species\": \"Adelie\", \"island\": \"Dream\", \"bill_length_mm\": 37.0, \"bill_depth_mm\": 16.9, \"flipper_length_mm\": 185.0, \"body_mass_g\": 3000.0, \"sex\": \"female\", \"year\": 2007}, {\"species\": \"Adelie\", \"island\": \"Dream\", \"bill_length_mm\": 39.6, \"bill_depth_mm\": 18.8, \"flipper_length_mm\": 190.0, \"body_mass_g\": 4600.0, \"sex\": \"male\", \"year\": 2007}, {\"species\": \"Adelie\", \"island\": \"Dream\", \"bill_length_mm\": 41.1, \"bill_depth_mm\": 19.0, \"flipper_length_mm\": 182.0, \"body_mass_g\": 3425.0, \"sex\": \"male\", \"year\": 2007}, {\"species\": \"Adelie\", \"island\": \"Dream\", \"bill_length_mm\": 37.5, \"bill_depth_mm\": 18.9, \"flipper_length_mm\": 179.0, \"body_mass_g\": 2975.0, \"sex\": null, \"year\": 2007}, {\"species\": \"Adelie\", \"island\": \"Dream\", \"bill_length_mm\": 36.0, \"bill_depth_mm\": 17.9, \"flipper_length_mm\": 190.0, \"body_mass_g\": 3450.0, \"sex\": \"female\", \"year\": 2007}, {\"species\": \"Adelie\", \"island\": \"Dream\", \"bill_length_mm\": 42.3, \"bill_depth_mm\": 21.2, \"flipper_length_mm\": 191.0, \"body_mass_g\": 4150.0, \"sex\": \"male\", \"year\": 2007}, {\"species\": \"Adelie\", \"island\": \"Biscoe\", \"bill_length_mm\": 39.6, \"bill_depth_mm\": 17.7, \"flipper_length_mm\": 186.0, \"body_mass_g\": 3500.0, \"sex\": \"female\", \"year\": 2008}, {\"species\": \"Adelie\", \"island\": \"Biscoe\", \"bill_length_mm\": 40.1, \"bill_depth_mm\": 18.9, \"flipper_length_mm\": 188.0, \"body_mass_g\": 4300.0, \"sex\": \"male\", \"year\": 2008}, {\"species\": \"Adelie\", \"island\": \"Biscoe\", \"bill_length_mm\": 35.0, \"bill_depth_mm\": 17.9, \"flipper_length_mm\": 190.0, \"body_mass_g\": 3450.0, \"sex\": \"female\", \"year\": 2008}, {\"species\": \"Adelie\", \"island\": \"Biscoe\", \"bill_length_mm\": 42.0, \"bill_depth_mm\": 19.5, \"flipper_length_mm\": 200.0, \"body_mass_g\": 4050.0, \"sex\": \"male\", \"year\": 2008}, {\"species\": \"Adelie\", \"island\": \"Biscoe\", \"bill_length_mm\": 34.5, \"bill_depth_mm\": 18.1, \"flipper_length_mm\": 187.0, \"body_mass_g\": 2900.0, \"sex\": \"female\", \"year\": 2008}, {\"species\": \"Adelie\", \"island\": \"Biscoe\", \"bill_length_mm\": 41.4, \"bill_depth_mm\": 18.6, \"flipper_length_mm\": 191.0, \"body_mass_g\": 3700.0, \"sex\": \"male\", \"year\": 2008}, {\"species\": \"Adelie\", \"island\": \"Biscoe\", \"bill_length_mm\": 39.0, \"bill_depth_mm\": 17.5, \"flipper_length_mm\": 186.0, \"body_mass_g\": 3550.0, \"sex\": \"female\", \"year\": 2008}, {\"species\": \"Adelie\", \"island\": \"Biscoe\", \"bill_length_mm\": 40.6, \"bill_depth_mm\": 18.8, \"flipper_length_mm\": 193.0, \"body_mass_g\": 3800.0, \"sex\": \"male\", \"year\": 2008}, {\"species\": \"Adelie\", \"island\": \"Biscoe\", \"bill_length_mm\": 36.5, \"bill_depth_mm\": 16.6, \"flipper_length_mm\": 181.0, \"body_mass_g\": 2850.0, \"sex\": \"female\", \"year\": 2008}, {\"species\": \"Adelie\", \"island\": \"Biscoe\", \"bill_length_mm\": 37.6, \"bill_depth_mm\": 19.1, \"flipper_length_mm\": 194.0, \"body_mass_g\": 3750.0, \"sex\": \"male\", \"year\": 2008}, {\"species\": \"Adelie\", \"island\": \"Biscoe\", \"bill_length_mm\": 35.7, \"bill_depth_mm\": 16.9, \"flipper_length_mm\": 185.0, \"body_mass_g\": 3150.0, \"sex\": \"female\", \"year\": 2008}, {\"species\": \"Adelie\", \"island\": \"Biscoe\", \"bill_length_mm\": 41.3, \"bill_depth_mm\": 21.1, \"flipper_length_mm\": 195.0, \"body_mass_g\": 4400.0, \"sex\": \"male\", \"year\": 2008}, {\"species\": \"Adelie\", \"island\": \"Biscoe\", \"bill_length_mm\": 37.6, \"bill_depth_mm\": 17.0, \"flipper_length_mm\": 185.0, \"body_mass_g\": 3600.0, \"sex\": \"female\", \"year\": 2008}, {\"species\": \"Adelie\", \"island\": \"Biscoe\", \"bill_length_mm\": 41.1, \"bill_depth_mm\": 18.2, \"flipper_length_mm\": 192.0, \"body_mass_g\": 4050.0, \"sex\": \"male\", \"year\": 2008}, {\"species\": \"Adelie\", \"island\": \"Biscoe\", \"bill_length_mm\": 36.4, \"bill_depth_mm\": 17.1, \"flipper_length_mm\": 184.0, \"body_mass_g\": 2850.0, \"sex\": \"female\", \"year\": 2008}, {\"species\": \"Adelie\", \"island\": \"Biscoe\", \"bill_length_mm\": 41.6, \"bill_depth_mm\": 18.0, \"flipper_length_mm\": 192.0, \"body_mass_g\": 3950.0, \"sex\": \"male\", \"year\": 2008}, {\"species\": \"Adelie\", \"island\": \"Biscoe\", \"bill_length_mm\": 35.5, \"bill_depth_mm\": 16.2, \"flipper_length_mm\": 195.0, \"body_mass_g\": 3350.0, \"sex\": \"female\", \"year\": 2008}, {\"species\": \"Adelie\", \"island\": \"Biscoe\", \"bill_length_mm\": 41.1, \"bill_depth_mm\": 19.1, \"flipper_length_mm\": 188.0, \"body_mass_g\": 4100.0, \"sex\": \"male\", \"year\": 2008}, {\"species\": \"Adelie\", \"island\": \"Torgersen\", \"bill_length_mm\": 35.9, \"bill_depth_mm\": 16.6, \"flipper_length_mm\": 190.0, \"body_mass_g\": 3050.0, \"sex\": \"female\", \"year\": 2008}, {\"species\": \"Adelie\", \"island\": \"Torgersen\", \"bill_length_mm\": 41.8, \"bill_depth_mm\": 19.4, \"flipper_length_mm\": 198.0, \"body_mass_g\": 4450.0, \"sex\": \"male\", \"year\": 2008}, {\"species\": \"Adelie\", \"island\": \"Torgersen\", \"bill_length_mm\": 33.5, \"bill_depth_mm\": 19.0, \"flipper_length_mm\": 190.0, \"body_mass_g\": 3600.0, \"sex\": \"female\", \"year\": 2008}, {\"species\": \"Adelie\", \"island\": \"Torgersen\", \"bill_length_mm\": 39.7, \"bill_depth_mm\": 18.4, \"flipper_length_mm\": 190.0, \"body_mass_g\": 3900.0, \"sex\": \"male\", \"year\": 2008}, {\"species\": \"Adelie\", \"island\": \"Torgersen\", \"bill_length_mm\": 39.6, \"bill_depth_mm\": 17.2, \"flipper_length_mm\": 196.0, \"body_mass_g\": 3550.0, \"sex\": \"female\", \"year\": 2008}, {\"species\": \"Adelie\", \"island\": \"Torgersen\", \"bill_length_mm\": 45.8, \"bill_depth_mm\": 18.9, \"flipper_length_mm\": 197.0, \"body_mass_g\": 4150.0, \"sex\": \"male\", \"year\": 2008}, {\"species\": \"Adelie\", \"island\": \"Torgersen\", \"bill_length_mm\": 35.5, \"bill_depth_mm\": 17.5, \"flipper_length_mm\": 190.0, \"body_mass_g\": 3700.0, \"sex\": \"female\", \"year\": 2008}, {\"species\": \"Adelie\", \"island\": \"Torgersen\", \"bill_length_mm\": 42.8, \"bill_depth_mm\": 18.5, \"flipper_length_mm\": 195.0, \"body_mass_g\": 4250.0, \"sex\": \"male\", \"year\": 2008}, {\"species\": \"Adelie\", \"island\": \"Torgersen\", \"bill_length_mm\": 40.9, \"bill_depth_mm\": 16.8, \"flipper_length_mm\": 191.0, \"body_mass_g\": 3700.0, \"sex\": \"female\", \"year\": 2008}, {\"species\": \"Adelie\", \"island\": \"Torgersen\", \"bill_length_mm\": 37.2, \"bill_depth_mm\": 19.4, \"flipper_length_mm\": 184.0, \"body_mass_g\": 3900.0, \"sex\": \"male\", \"year\": 2008}, {\"species\": \"Adelie\", \"island\": \"Torgersen\", \"bill_length_mm\": 36.2, \"bill_depth_mm\": 16.1, \"flipper_length_mm\": 187.0, \"body_mass_g\": 3550.0, \"sex\": \"female\", \"year\": 2008}, {\"species\": \"Adelie\", \"island\": \"Torgersen\", \"bill_length_mm\": 42.1, \"bill_depth_mm\": 19.1, \"flipper_length_mm\": 195.0, \"body_mass_g\": 4000.0, \"sex\": \"male\", \"year\": 2008}, {\"species\": \"Adelie\", \"island\": \"Torgersen\", \"bill_length_mm\": 34.6, \"bill_depth_mm\": 17.2, \"flipper_length_mm\": 189.0, \"body_mass_g\": 3200.0, \"sex\": \"female\", \"year\": 2008}, {\"species\": \"Adelie\", \"island\": \"Torgersen\", \"bill_length_mm\": 42.9, \"bill_depth_mm\": 17.6, \"flipper_length_mm\": 196.0, \"body_mass_g\": 4700.0, \"sex\": \"male\", \"year\": 2008}, {\"species\": \"Adelie\", \"island\": \"Torgersen\", \"bill_length_mm\": 36.7, \"bill_depth_mm\": 18.8, \"flipper_length_mm\": 187.0, \"body_mass_g\": 3800.0, \"sex\": \"female\", \"year\": 2008}, {\"species\": \"Adelie\", \"island\": \"Torgersen\", \"bill_length_mm\": 35.1, \"bill_depth_mm\": 19.4, \"flipper_length_mm\": 193.0, \"body_mass_g\": 4200.0, \"sex\": \"male\", \"year\": 2008}, {\"species\": \"Adelie\", \"island\": \"Dream\", \"bill_length_mm\": 37.3, \"bill_depth_mm\": 17.8, \"flipper_length_mm\": 191.0, \"body_mass_g\": 3350.0, \"sex\": \"female\", \"year\": 2008}, {\"species\": \"Adelie\", \"island\": \"Dream\", \"bill_length_mm\": 41.3, \"bill_depth_mm\": 20.3, \"flipper_length_mm\": 194.0, \"body_mass_g\": 3550.0, \"sex\": \"male\", \"year\": 2008}, {\"species\": \"Adelie\", \"island\": \"Dream\", \"bill_length_mm\": 36.3, \"bill_depth_mm\": 19.5, \"flipper_length_mm\": 190.0, \"body_mass_g\": 3800.0, \"sex\": \"male\", \"year\": 2008}, {\"species\": \"Adelie\", \"island\": \"Dream\", \"bill_length_mm\": 36.9, \"bill_depth_mm\": 18.6, \"flipper_length_mm\": 189.0, \"body_mass_g\": 3500.0, \"sex\": \"female\", \"year\": 2008}, {\"species\": \"Adelie\", \"island\": \"Dream\", \"bill_length_mm\": 38.3, \"bill_depth_mm\": 19.2, \"flipper_length_mm\": 189.0, \"body_mass_g\": 3950.0, \"sex\": \"male\", \"year\": 2008}, {\"species\": \"Adelie\", \"island\": \"Dream\", \"bill_length_mm\": 38.9, \"bill_depth_mm\": 18.8, \"flipper_length_mm\": 190.0, \"body_mass_g\": 3600.0, \"sex\": \"female\", \"year\": 2008}, {\"species\": \"Adelie\", \"island\": \"Dream\", \"bill_length_mm\": 35.7, \"bill_depth_mm\": 18.0, \"flipper_length_mm\": 202.0, \"body_mass_g\": 3550.0, \"sex\": \"female\", \"year\": 2008}, {\"species\": \"Adelie\", \"island\": \"Dream\", \"bill_length_mm\": 41.1, \"bill_depth_mm\": 18.1, \"flipper_length_mm\": 205.0, \"body_mass_g\": 4300.0, \"sex\": \"male\", \"year\": 2008}, {\"species\": \"Adelie\", \"island\": \"Dream\", \"bill_length_mm\": 34.0, \"bill_depth_mm\": 17.1, \"flipper_length_mm\": 185.0, \"body_mass_g\": 3400.0, \"sex\": \"female\", \"year\": 2008}, {\"species\": \"Adelie\", \"island\": \"Dream\", \"bill_length_mm\": 39.6, \"bill_depth_mm\": 18.1, \"flipper_length_mm\": 186.0, \"body_mass_g\": 4450.0, \"sex\": \"male\", \"year\": 2008}, {\"species\": \"Adelie\", \"island\": \"Dream\", \"bill_length_mm\": 36.2, \"bill_depth_mm\": 17.3, \"flipper_length_mm\": 187.0, \"body_mass_g\": 3300.0, \"sex\": \"female\", \"year\": 2008}, {\"species\": \"Adelie\", \"island\": \"Dream\", \"bill_length_mm\": 40.8, \"bill_depth_mm\": 18.9, \"flipper_length_mm\": 208.0, \"body_mass_g\": 4300.0, \"sex\": \"male\", \"year\": 2008}, {\"species\": \"Adelie\", \"island\": \"Dream\", \"bill_length_mm\": 38.1, \"bill_depth_mm\": 18.6, \"flipper_length_mm\": 190.0, \"body_mass_g\": 3700.0, \"sex\": \"female\", \"year\": 2008}, {\"species\": \"Adelie\", \"island\": \"Dream\", \"bill_length_mm\": 40.3, \"bill_depth_mm\": 18.5, \"flipper_length_mm\": 196.0, \"body_mass_g\": 4350.0, \"sex\": \"male\", \"year\": 2008}, {\"species\": \"Adelie\", \"island\": \"Dream\", \"bill_length_mm\": 33.1, \"bill_depth_mm\": 16.1, \"flipper_length_mm\": 178.0, \"body_mass_g\": 2900.0, \"sex\": \"female\", \"year\": 2008}, {\"species\": \"Adelie\", \"island\": \"Dream\", \"bill_length_mm\": 43.2, \"bill_depth_mm\": 18.5, \"flipper_length_mm\": 192.0, \"body_mass_g\": 4100.0, \"sex\": \"male\", \"year\": 2008}, {\"species\": \"Adelie\", \"island\": \"Biscoe\", \"bill_length_mm\": 35.0, \"bill_depth_mm\": 17.9, \"flipper_length_mm\": 192.0, \"body_mass_g\": 3725.0, \"sex\": \"female\", \"year\": 2009}, {\"species\": \"Adelie\", \"island\": \"Biscoe\", \"bill_length_mm\": 41.0, \"bill_depth_mm\": 20.0, \"flipper_length_mm\": 203.0, \"body_mass_g\": 4725.0, \"sex\": \"male\", \"year\": 2009}, {\"species\": \"Adelie\", \"island\": \"Biscoe\", \"bill_length_mm\": 37.7, \"bill_depth_mm\": 16.0, \"flipper_length_mm\": 183.0, \"body_mass_g\": 3075.0, \"sex\": \"female\", \"year\": 2009}, {\"species\": \"Adelie\", \"island\": \"Biscoe\", \"bill_length_mm\": 37.8, \"bill_depth_mm\": 20.0, \"flipper_length_mm\": 190.0, \"body_mass_g\": 4250.0, \"sex\": \"male\", \"year\": 2009}, {\"species\": \"Adelie\", \"island\": \"Biscoe\", \"bill_length_mm\": 37.9, \"bill_depth_mm\": 18.6, \"flipper_length_mm\": 193.0, \"body_mass_g\": 2925.0, \"sex\": \"female\", \"year\": 2009}, {\"species\": \"Adelie\", \"island\": \"Biscoe\", \"bill_length_mm\": 39.7, \"bill_depth_mm\": 18.9, \"flipper_length_mm\": 184.0, \"body_mass_g\": 3550.0, \"sex\": \"male\", \"year\": 2009}, {\"species\": \"Adelie\", \"island\": \"Biscoe\", \"bill_length_mm\": 38.6, \"bill_depth_mm\": 17.2, \"flipper_length_mm\": 199.0, \"body_mass_g\": 3750.0, \"sex\": \"female\", \"year\": 2009}, {\"species\": \"Adelie\", \"island\": \"Biscoe\", \"bill_length_mm\": 38.2, \"bill_depth_mm\": 20.0, \"flipper_length_mm\": 190.0, \"body_mass_g\": 3900.0, \"sex\": \"male\", \"year\": 2009}, {\"species\": \"Adelie\", \"island\": \"Biscoe\", \"bill_length_mm\": 38.1, \"bill_depth_mm\": 17.0, \"flipper_length_mm\": 181.0, \"body_mass_g\": 3175.0, \"sex\": \"female\", \"year\": 2009}, {\"species\": \"Adelie\", \"island\": \"Biscoe\", \"bill_length_mm\": 43.2, \"bill_depth_mm\": 19.0, \"flipper_length_mm\": 197.0, \"body_mass_g\": 4775.0, \"sex\": \"male\", \"year\": 2009}, {\"species\": \"Adelie\", \"island\": \"Biscoe\", \"bill_length_mm\": 38.1, \"bill_depth_mm\": 16.5, \"flipper_length_mm\": 198.0, \"body_mass_g\": 3825.0, \"sex\": \"female\", \"year\": 2009}, {\"species\": \"Adelie\", \"island\": \"Biscoe\", \"bill_length_mm\": 45.6, \"bill_depth_mm\": 20.3, \"flipper_length_mm\": 191.0, \"body_mass_g\": 4600.0, \"sex\": \"male\", \"year\": 2009}, {\"species\": \"Adelie\", \"island\": \"Biscoe\", \"bill_length_mm\": 39.7, \"bill_depth_mm\": 17.7, \"flipper_length_mm\": 193.0, \"body_mass_g\": 3200.0, \"sex\": \"female\", \"year\": 2009}, {\"species\": \"Adelie\", \"island\": \"Biscoe\", \"bill_length_mm\": 42.2, \"bill_depth_mm\": 19.5, \"flipper_length_mm\": 197.0, \"body_mass_g\": 4275.0, \"sex\": \"male\", \"year\": 2009}, {\"species\": \"Adelie\", \"island\": \"Biscoe\", \"bill_length_mm\": 39.6, \"bill_depth_mm\": 20.7, \"flipper_length_mm\": 191.0, \"body_mass_g\": 3900.0, \"sex\": \"female\", \"year\": 2009}, {\"species\": \"Adelie\", \"island\": \"Biscoe\", \"bill_length_mm\": 42.7, \"bill_depth_mm\": 18.3, \"flipper_length_mm\": 196.0, \"body_mass_g\": 4075.0, \"sex\": \"male\", \"year\": 2009}, {\"species\": \"Adelie\", \"island\": \"Torgersen\", \"bill_length_mm\": 38.6, \"bill_depth_mm\": 17.0, \"flipper_length_mm\": 188.0, \"body_mass_g\": 2900.0, \"sex\": \"female\", \"year\": 2009}, {\"species\": \"Adelie\", \"island\": \"Torgersen\", \"bill_length_mm\": 37.3, \"bill_depth_mm\": 20.5, \"flipper_length_mm\": 199.0, \"body_mass_g\": 3775.0, \"sex\": \"male\", \"year\": 2009}, {\"species\": \"Adelie\", \"island\": \"Torgersen\", \"bill_length_mm\": 35.7, \"bill_depth_mm\": 17.0, \"flipper_length_mm\": 189.0, \"body_mass_g\": 3350.0, \"sex\": \"female\", \"year\": 2009}, {\"species\": \"Adelie\", \"island\": \"Torgersen\", \"bill_length_mm\": 41.1, \"bill_depth_mm\": 18.6, \"flipper_length_mm\": 189.0, \"body_mass_g\": 3325.0, \"sex\": \"male\", \"year\": 2009}, {\"species\": \"Adelie\", \"island\": \"Torgersen\", \"bill_length_mm\": 36.2, \"bill_depth_mm\": 17.2, \"flipper_length_mm\": 187.0, \"body_mass_g\": 3150.0, \"sex\": \"female\", \"year\": 2009}, {\"species\": \"Adelie\", \"island\": \"Torgersen\", \"bill_length_mm\": 37.7, \"bill_depth_mm\": 19.8, \"flipper_length_mm\": 198.0, \"body_mass_g\": 3500.0, \"sex\": \"male\", \"year\": 2009}, {\"species\": \"Adelie\", \"island\": \"Torgersen\", \"bill_length_mm\": 40.2, \"bill_depth_mm\": 17.0, \"flipper_length_mm\": 176.0, \"body_mass_g\": 3450.0, \"sex\": \"female\", \"year\": 2009}, {\"species\": \"Adelie\", \"island\": \"Torgersen\", \"bill_length_mm\": 41.4, \"bill_depth_mm\": 18.5, \"flipper_length_mm\": 202.0, \"body_mass_g\": 3875.0, \"sex\": \"male\", \"year\": 2009}, {\"species\": \"Adelie\", \"island\": \"Torgersen\", \"bill_length_mm\": 35.2, \"bill_depth_mm\": 15.9, \"flipper_length_mm\": 186.0, \"body_mass_g\": 3050.0, \"sex\": \"female\", \"year\": 2009}, {\"species\": \"Adelie\", \"island\": \"Torgersen\", \"bill_length_mm\": 40.6, \"bill_depth_mm\": 19.0, \"flipper_length_mm\": 199.0, \"body_mass_g\": 4000.0, \"sex\": \"male\", \"year\": 2009}, {\"species\": \"Adelie\", \"island\": \"Torgersen\", \"bill_length_mm\": 38.8, \"bill_depth_mm\": 17.6, \"flipper_length_mm\": 191.0, \"body_mass_g\": 3275.0, \"sex\": \"female\", \"year\": 2009}, {\"species\": \"Adelie\", \"island\": \"Torgersen\", \"bill_length_mm\": 41.5, \"bill_depth_mm\": 18.3, \"flipper_length_mm\": 195.0, \"body_mass_g\": 4300.0, \"sex\": \"male\", \"year\": 2009}, {\"species\": \"Adelie\", \"island\": \"Torgersen\", \"bill_length_mm\": 39.0, \"bill_depth_mm\": 17.1, \"flipper_length_mm\": 191.0, \"body_mass_g\": 3050.0, \"sex\": \"female\", \"year\": 2009}, {\"species\": \"Adelie\", \"island\": \"Torgersen\", \"bill_length_mm\": 44.1, \"bill_depth_mm\": 18.0, \"flipper_length_mm\": 210.0, \"body_mass_g\": 4000.0, \"sex\": \"male\", \"year\": 2009}, {\"species\": \"Adelie\", \"island\": \"Torgersen\", \"bill_length_mm\": 38.5, \"bill_depth_mm\": 17.9, \"flipper_length_mm\": 190.0, \"body_mass_g\": 3325.0, \"sex\": \"female\", \"year\": 2009}, {\"species\": \"Adelie\", \"island\": \"Torgersen\", \"bill_length_mm\": 43.1, \"bill_depth_mm\": 19.2, \"flipper_length_mm\": 197.0, \"body_mass_g\": 3500.0, \"sex\": \"male\", \"year\": 2009}, {\"species\": \"Adelie\", \"island\": \"Dream\", \"bill_length_mm\": 36.8, \"bill_depth_mm\": 18.5, \"flipper_length_mm\": 193.0, \"body_mass_g\": 3500.0, \"sex\": \"female\", \"year\": 2009}, {\"species\": \"Adelie\", \"island\": \"Dream\", \"bill_length_mm\": 37.5, \"bill_depth_mm\": 18.5, \"flipper_length_mm\": 199.0, \"body_mass_g\": 4475.0, \"sex\": \"male\", \"year\": 2009}, {\"species\": \"Adelie\", \"island\": \"Dream\", \"bill_length_mm\": 38.1, \"bill_depth_mm\": 17.6, \"flipper_length_mm\": 187.0, \"body_mass_g\": 3425.0, \"sex\": \"female\", \"year\": 2009}, {\"species\": \"Adelie\", \"island\": \"Dream\", \"bill_length_mm\": 41.1, \"bill_depth_mm\": 17.5, \"flipper_length_mm\": 190.0, \"body_mass_g\": 3900.0, \"sex\": \"male\", \"year\": 2009}, {\"species\": \"Adelie\", \"island\": \"Dream\", \"bill_length_mm\": 35.6, \"bill_depth_mm\": 17.5, \"flipper_length_mm\": 191.0, \"body_mass_g\": 3175.0, \"sex\": \"female\", \"year\": 2009}, {\"species\": \"Adelie\", \"island\": \"Dream\", \"bill_length_mm\": 40.2, \"bill_depth_mm\": 20.1, \"flipper_length_mm\": 200.0, \"body_mass_g\": 3975.0, \"sex\": \"male\", \"year\": 2009}, {\"species\": \"Adelie\", \"island\": \"Dream\", \"bill_length_mm\": 37.0, \"bill_depth_mm\": 16.5, \"flipper_length_mm\": 185.0, \"body_mass_g\": 3400.0, \"sex\": \"female\", \"year\": 2009}, {\"species\": \"Adelie\", \"island\": \"Dream\", \"bill_length_mm\": 39.7, \"bill_depth_mm\": 17.9, \"flipper_length_mm\": 193.0, \"body_mass_g\": 4250.0, \"sex\": \"male\", \"year\": 2009}, {\"species\": \"Adelie\", \"island\": \"Dream\", \"bill_length_mm\": 40.2, \"bill_depth_mm\": 17.1, \"flipper_length_mm\": 193.0, \"body_mass_g\": 3400.0, \"sex\": \"female\", \"year\": 2009}, {\"species\": \"Adelie\", \"island\": \"Dream\", \"bill_length_mm\": 40.6, \"bill_depth_mm\": 17.2, \"flipper_length_mm\": 187.0, \"body_mass_g\": 3475.0, \"sex\": \"male\", \"year\": 2009}, {\"species\": \"Adelie\", \"island\": \"Dream\", \"bill_length_mm\": 32.1, \"bill_depth_mm\": 15.5, \"flipper_length_mm\": 188.0, \"body_mass_g\": 3050.0, \"sex\": \"female\", \"year\": 2009}, {\"species\": \"Adelie\", \"island\": \"Dream\", \"bill_length_mm\": 40.7, \"bill_depth_mm\": 17.0, \"flipper_length_mm\": 190.0, \"body_mass_g\": 3725.0, \"sex\": \"male\", \"year\": 2009}, {\"species\": \"Adelie\", \"island\": \"Dream\", \"bill_length_mm\": 37.3, \"bill_depth_mm\": 16.8, \"flipper_length_mm\": 192.0, \"body_mass_g\": 3000.0, \"sex\": \"female\", \"year\": 2009}, {\"species\": \"Adelie\", \"island\": \"Dream\", \"bill_length_mm\": 39.0, \"bill_depth_mm\": 18.7, \"flipper_length_mm\": 185.0, \"body_mass_g\": 3650.0, \"sex\": \"male\", \"year\": 2009}, {\"species\": \"Adelie\", \"island\": \"Dream\", \"bill_length_mm\": 39.2, \"bill_depth_mm\": 18.6, \"flipper_length_mm\": 190.0, \"body_mass_g\": 4250.0, \"sex\": \"male\", \"year\": 2009}, {\"species\": \"Adelie\", \"island\": \"Dream\", \"bill_length_mm\": 36.6, \"bill_depth_mm\": 18.4, \"flipper_length_mm\": 184.0, \"body_mass_g\": 3475.0, \"sex\": \"female\", \"year\": 2009}, {\"species\": \"Adelie\", \"island\": \"Dream\", \"bill_length_mm\": 36.0, \"bill_depth_mm\": 17.8, \"flipper_length_mm\": 195.0, \"body_mass_g\": 3450.0, \"sex\": \"female\", \"year\": 2009}, {\"species\": \"Adelie\", \"island\": \"Dream\", \"bill_length_mm\": 37.8, \"bill_depth_mm\": 18.1, \"flipper_length_mm\": 193.0, \"body_mass_g\": 3750.0, \"sex\": \"male\", \"year\": 2009}, {\"species\": \"Adelie\", \"island\": \"Dream\", \"bill_length_mm\": 36.0, \"bill_depth_mm\": 17.1, \"flipper_length_mm\": 187.0, \"body_mass_g\": 3700.0, \"sex\": \"female\", \"year\": 2009}, {\"species\": \"Adelie\", \"island\": \"Dream\", \"bill_length_mm\": 41.5, \"bill_depth_mm\": 18.5, \"flipper_length_mm\": 201.0, \"body_mass_g\": 4000.0, \"sex\": \"male\", \"year\": 2009}, {\"species\": \"Gentoo\", \"island\": \"Biscoe\", \"bill_length_mm\": 46.1, \"bill_depth_mm\": 13.2, \"flipper_length_mm\": 211.0, \"body_mass_g\": 4500.0, \"sex\": \"female\", \"year\": 2007}, {\"species\": \"Gentoo\", \"island\": \"Biscoe\", \"bill_length_mm\": 50.0, \"bill_depth_mm\": 16.3, \"flipper_length_mm\": 230.0, \"body_mass_g\": 5700.0, \"sex\": \"male\", \"year\": 2007}, {\"species\": \"Gentoo\", \"island\": \"Biscoe\", \"bill_length_mm\": 48.7, \"bill_depth_mm\": 14.1, \"flipper_length_mm\": 210.0, \"body_mass_g\": 4450.0, \"sex\": \"female\", \"year\": 2007}, {\"species\": \"Gentoo\", \"island\": \"Biscoe\", \"bill_length_mm\": 50.0, \"bill_depth_mm\": 15.2, \"flipper_length_mm\": 218.0, \"body_mass_g\": 5700.0, \"sex\": \"male\", \"year\": 2007}, {\"species\": \"Gentoo\", \"island\": \"Biscoe\", \"bill_length_mm\": 47.6, \"bill_depth_mm\": 14.5, \"flipper_length_mm\": 215.0, \"body_mass_g\": 5400.0, \"sex\": \"male\", \"year\": 2007}, {\"species\": \"Gentoo\", \"island\": \"Biscoe\", \"bill_length_mm\": 46.5, \"bill_depth_mm\": 13.5, \"flipper_length_mm\": 210.0, \"body_mass_g\": 4550.0, \"sex\": \"female\", \"year\": 2007}, {\"species\": \"Gentoo\", \"island\": \"Biscoe\", \"bill_length_mm\": 45.4, \"bill_depth_mm\": 14.6, \"flipper_length_mm\": 211.0, \"body_mass_g\": 4800.0, \"sex\": \"female\", \"year\": 2007}, {\"species\": \"Gentoo\", \"island\": \"Biscoe\", \"bill_length_mm\": 46.7, \"bill_depth_mm\": 15.3, \"flipper_length_mm\": 219.0, \"body_mass_g\": 5200.0, \"sex\": \"male\", \"year\": 2007}, {\"species\": \"Gentoo\", \"island\": \"Biscoe\", \"bill_length_mm\": 43.3, \"bill_depth_mm\": 13.4, \"flipper_length_mm\": 209.0, \"body_mass_g\": 4400.0, \"sex\": \"female\", \"year\": 2007}, {\"species\": \"Gentoo\", \"island\": \"Biscoe\", \"bill_length_mm\": 46.8, \"bill_depth_mm\": 15.4, \"flipper_length_mm\": 215.0, \"body_mass_g\": 5150.0, \"sex\": \"male\", \"year\": 2007}, {\"species\": \"Gentoo\", \"island\": \"Biscoe\", \"bill_length_mm\": 40.9, \"bill_depth_mm\": 13.7, \"flipper_length_mm\": 214.0, \"body_mass_g\": 4650.0, \"sex\": \"female\", \"year\": 2007}, {\"species\": \"Gentoo\", \"island\": \"Biscoe\", \"bill_length_mm\": 49.0, \"bill_depth_mm\": 16.1, \"flipper_length_mm\": 216.0, \"body_mass_g\": 5550.0, \"sex\": \"male\", \"year\": 2007}, {\"species\": \"Gentoo\", \"island\": \"Biscoe\", \"bill_length_mm\": 45.5, \"bill_depth_mm\": 13.7, \"flipper_length_mm\": 214.0, \"body_mass_g\": 4650.0, \"sex\": \"female\", \"year\": 2007}, {\"species\": \"Gentoo\", \"island\": \"Biscoe\", \"bill_length_mm\": 48.4, \"bill_depth_mm\": 14.6, \"flipper_length_mm\": 213.0, \"body_mass_g\": 5850.0, \"sex\": \"male\", \"year\": 2007}, {\"species\": \"Gentoo\", \"island\": \"Biscoe\", \"bill_length_mm\": 45.8, \"bill_depth_mm\": 14.6, \"flipper_length_mm\": 210.0, \"body_mass_g\": 4200.0, \"sex\": \"female\", \"year\": 2007}, {\"species\": \"Gentoo\", \"island\": \"Biscoe\", \"bill_length_mm\": 49.3, \"bill_depth_mm\": 15.7, \"flipper_length_mm\": 217.0, \"body_mass_g\": 5850.0, \"sex\": \"male\", \"year\": 2007}, {\"species\": \"Gentoo\", \"island\": \"Biscoe\", \"bill_length_mm\": 42.0, \"bill_depth_mm\": 13.5, \"flipper_length_mm\": 210.0, \"body_mass_g\": 4150.0, \"sex\": \"female\", \"year\": 2007}, {\"species\": \"Gentoo\", \"island\": \"Biscoe\", \"bill_length_mm\": 49.2, \"bill_depth_mm\": 15.2, \"flipper_length_mm\": 221.0, \"body_mass_g\": 6300.0, \"sex\": \"male\", \"year\": 2007}, {\"species\": \"Gentoo\", \"island\": \"Biscoe\", \"bill_length_mm\": 46.2, \"bill_depth_mm\": 14.5, \"flipper_length_mm\": 209.0, \"body_mass_g\": 4800.0, \"sex\": \"female\", \"year\": 2007}, {\"species\": \"Gentoo\", \"island\": \"Biscoe\", \"bill_length_mm\": 48.7, \"bill_depth_mm\": 15.1, \"flipper_length_mm\": 222.0, \"body_mass_g\": 5350.0, \"sex\": \"male\", \"year\": 2007}, {\"species\": \"Gentoo\", \"island\": \"Biscoe\", \"bill_length_mm\": 50.2, \"bill_depth_mm\": 14.3, \"flipper_length_mm\": 218.0, \"body_mass_g\": 5700.0, \"sex\": \"male\", \"year\": 2007}, {\"species\": \"Gentoo\", \"island\": \"Biscoe\", \"bill_length_mm\": 45.1, \"bill_depth_mm\": 14.5, \"flipper_length_mm\": 215.0, \"body_mass_g\": 5000.0, \"sex\": \"female\", \"year\": 2007}, {\"species\": \"Gentoo\", \"island\": \"Biscoe\", \"bill_length_mm\": 46.5, \"bill_depth_mm\": 14.5, \"flipper_length_mm\": 213.0, \"body_mass_g\": 4400.0, \"sex\": \"female\", \"year\": 2007}, {\"species\": \"Gentoo\", \"island\": \"Biscoe\", \"bill_length_mm\": 46.3, \"bill_depth_mm\": 15.8, \"flipper_length_mm\": 215.0, \"body_mass_g\": 5050.0, \"sex\": \"male\", \"year\": 2007}, {\"species\": \"Gentoo\", \"island\": \"Biscoe\", \"bill_length_mm\": 42.9, \"bill_depth_mm\": 13.1, \"flipper_length_mm\": 215.0, \"body_mass_g\": 5000.0, \"sex\": \"female\", \"year\": 2007}, {\"species\": \"Gentoo\", \"island\": \"Biscoe\", \"bill_length_mm\": 46.1, \"bill_depth_mm\": 15.1, \"flipper_length_mm\": 215.0, \"body_mass_g\": 5100.0, \"sex\": \"male\", \"year\": 2007}, {\"species\": \"Gentoo\", \"island\": \"Biscoe\", \"bill_length_mm\": 44.5, \"bill_depth_mm\": 14.3, \"flipper_length_mm\": 216.0, \"body_mass_g\": 4100.0, \"sex\": null, \"year\": 2007}, {\"species\": \"Gentoo\", \"island\": \"Biscoe\", \"bill_length_mm\": 47.8, \"bill_depth_mm\": 15.0, \"flipper_length_mm\": 215.0, \"body_mass_g\": 5650.0, \"sex\": \"male\", \"year\": 2007}, {\"species\": \"Gentoo\", \"island\": \"Biscoe\", \"bill_length_mm\": 48.2, \"bill_depth_mm\": 14.3, \"flipper_length_mm\": 210.0, \"body_mass_g\": 4600.0, \"sex\": \"female\", \"year\": 2007}, {\"species\": \"Gentoo\", \"island\": \"Biscoe\", \"bill_length_mm\": 50.0, \"bill_depth_mm\": 15.3, \"flipper_length_mm\": 220.0, \"body_mass_g\": 5550.0, \"sex\": \"male\", \"year\": 2007}, {\"species\": \"Gentoo\", \"island\": \"Biscoe\", \"bill_length_mm\": 47.3, \"bill_depth_mm\": 15.3, \"flipper_length_mm\": 222.0, \"body_mass_g\": 5250.0, \"sex\": \"male\", \"year\": 2007}, {\"species\": \"Gentoo\", \"island\": \"Biscoe\", \"bill_length_mm\": 42.8, \"bill_depth_mm\": 14.2, \"flipper_length_mm\": 209.0, \"body_mass_g\": 4700.0, \"sex\": \"female\", \"year\": 2007}, {\"species\": \"Gentoo\", \"island\": \"Biscoe\", \"bill_length_mm\": 45.1, \"bill_depth_mm\": 14.5, \"flipper_length_mm\": 207.0, \"body_mass_g\": 5050.0, \"sex\": \"female\", \"year\": 2007}, {\"species\": \"Gentoo\", \"island\": \"Biscoe\", \"bill_length_mm\": 59.6, \"bill_depth_mm\": 17.0, \"flipper_length_mm\": 230.0, \"body_mass_g\": 6050.0, \"sex\": \"male\", \"year\": 2007}, {\"species\": \"Gentoo\", \"island\": \"Biscoe\", \"bill_length_mm\": 49.1, \"bill_depth_mm\": 14.8, \"flipper_length_mm\": 220.0, \"body_mass_g\": 5150.0, \"sex\": \"female\", \"year\": 2008}, {\"species\": \"Gentoo\", \"island\": \"Biscoe\", \"bill_length_mm\": 48.4, \"bill_depth_mm\": 16.3, \"flipper_length_mm\": 220.0, \"body_mass_g\": 5400.0, \"sex\": \"male\", \"year\": 2008}, {\"species\": \"Gentoo\", \"island\": \"Biscoe\", \"bill_length_mm\": 42.6, \"bill_depth_mm\": 13.7, \"flipper_length_mm\": 213.0, \"body_mass_g\": 4950.0, \"sex\": \"female\", \"year\": 2008}, {\"species\": \"Gentoo\", \"island\": \"Biscoe\", \"bill_length_mm\": 44.4, \"bill_depth_mm\": 17.3, \"flipper_length_mm\": 219.0, \"body_mass_g\": 5250.0, \"sex\": \"male\", \"year\": 2008}, {\"species\": \"Gentoo\", \"island\": \"Biscoe\", \"bill_length_mm\": 44.0, \"bill_depth_mm\": 13.6, \"flipper_length_mm\": 208.0, \"body_mass_g\": 4350.0, \"sex\": \"female\", \"year\": 2008}, {\"species\": \"Gentoo\", \"island\": \"Biscoe\", \"bill_length_mm\": 48.7, \"bill_depth_mm\": 15.7, \"flipper_length_mm\": 208.0, \"body_mass_g\": 5350.0, \"sex\": \"male\", \"year\": 2008}, {\"species\": \"Gentoo\", \"island\": \"Biscoe\", \"bill_length_mm\": 42.7, \"bill_depth_mm\": 13.7, \"flipper_length_mm\": 208.0, \"body_mass_g\": 3950.0, \"sex\": \"female\", \"year\": 2008}, {\"species\": \"Gentoo\", \"island\": \"Biscoe\", \"bill_length_mm\": 49.6, \"bill_depth_mm\": 16.0, \"flipper_length_mm\": 225.0, \"body_mass_g\": 5700.0, \"sex\": \"male\", \"year\": 2008}, {\"species\": \"Gentoo\", \"island\": \"Biscoe\", \"bill_length_mm\": 45.3, \"bill_depth_mm\": 13.7, \"flipper_length_mm\": 210.0, \"body_mass_g\": 4300.0, \"sex\": \"female\", \"year\": 2008}, {\"species\": \"Gentoo\", \"island\": \"Biscoe\", \"bill_length_mm\": 49.6, \"bill_depth_mm\": 15.0, \"flipper_length_mm\": 216.0, \"body_mass_g\": 4750.0, \"sex\": \"male\", \"year\": 2008}, {\"species\": \"Gentoo\", \"island\": \"Biscoe\", \"bill_length_mm\": 50.5, \"bill_depth_mm\": 15.9, \"flipper_length_mm\": 222.0, \"body_mass_g\": 5550.0, \"sex\": \"male\", \"year\": 2008}, {\"species\": \"Gentoo\", \"island\": \"Biscoe\", \"bill_length_mm\": 43.6, \"bill_depth_mm\": 13.9, \"flipper_length_mm\": 217.0, \"body_mass_g\": 4900.0, \"sex\": \"female\", \"year\": 2008}, {\"species\": \"Gentoo\", \"island\": \"Biscoe\", \"bill_length_mm\": 45.5, \"bill_depth_mm\": 13.9, \"flipper_length_mm\": 210.0, \"body_mass_g\": 4200.0, \"sex\": \"female\", \"year\": 2008}, {\"species\": \"Gentoo\", \"island\": \"Biscoe\", \"bill_length_mm\": 50.5, \"bill_depth_mm\": 15.9, \"flipper_length_mm\": 225.0, \"body_mass_g\": 5400.0, \"sex\": \"male\", \"year\": 2008}, {\"species\": \"Gentoo\", \"island\": \"Biscoe\", \"bill_length_mm\": 44.9, \"bill_depth_mm\": 13.3, \"flipper_length_mm\": 213.0, \"body_mass_g\": 5100.0, \"sex\": \"female\", \"year\": 2008}, {\"species\": \"Gentoo\", \"island\": \"Biscoe\", \"bill_length_mm\": 45.2, \"bill_depth_mm\": 15.8, \"flipper_length_mm\": 215.0, \"body_mass_g\": 5300.0, \"sex\": \"male\", \"year\": 2008}, {\"species\": \"Gentoo\", \"island\": \"Biscoe\", \"bill_length_mm\": 46.6, \"bill_depth_mm\": 14.2, \"flipper_length_mm\": 210.0, \"body_mass_g\": 4850.0, \"sex\": \"female\", \"year\": 2008}, {\"species\": \"Gentoo\", \"island\": \"Biscoe\", \"bill_length_mm\": 48.5, \"bill_depth_mm\": 14.1, \"flipper_length_mm\": 220.0, \"body_mass_g\": 5300.0, \"sex\": \"male\", \"year\": 2008}, {\"species\": \"Gentoo\", \"island\": \"Biscoe\", \"bill_length_mm\": 45.1, \"bill_depth_mm\": 14.4, \"flipper_length_mm\": 210.0, \"body_mass_g\": 4400.0, \"sex\": \"female\", \"year\": 2008}, {\"species\": \"Gentoo\", \"island\": \"Biscoe\", \"bill_length_mm\": 50.1, \"bill_depth_mm\": 15.0, \"flipper_length_mm\": 225.0, \"body_mass_g\": 5000.0, \"sex\": \"male\", \"year\": 2008}, {\"species\": \"Gentoo\", \"island\": \"Biscoe\", \"bill_length_mm\": 46.5, \"bill_depth_mm\": 14.4, \"flipper_length_mm\": 217.0, \"body_mass_g\": 4900.0, \"sex\": \"female\", \"year\": 2008}, {\"species\": \"Gentoo\", \"island\": \"Biscoe\", \"bill_length_mm\": 45.0, \"bill_depth_mm\": 15.4, \"flipper_length_mm\": 220.0, \"body_mass_g\": 5050.0, \"sex\": \"male\", \"year\": 2008}, {\"species\": \"Gentoo\", \"island\": \"Biscoe\", \"bill_length_mm\": 43.8, \"bill_depth_mm\": 13.9, \"flipper_length_mm\": 208.0, \"body_mass_g\": 4300.0, \"sex\": \"female\", \"year\": 2008}, {\"species\": \"Gentoo\", \"island\": \"Biscoe\", \"bill_length_mm\": 45.5, \"bill_depth_mm\": 15.0, \"flipper_length_mm\": 220.0, \"body_mass_g\": 5000.0, \"sex\": \"male\", \"year\": 2008}, {\"species\": \"Gentoo\", \"island\": \"Biscoe\", \"bill_length_mm\": 43.2, \"bill_depth_mm\": 14.5, \"flipper_length_mm\": 208.0, \"body_mass_g\": 4450.0, \"sex\": \"female\", \"year\": 2008}, {\"species\": \"Gentoo\", \"island\": \"Biscoe\", \"bill_length_mm\": 50.4, \"bill_depth_mm\": 15.3, \"flipper_length_mm\": 224.0, \"body_mass_g\": 5550.0, \"sex\": \"male\", \"year\": 2008}, {\"species\": \"Gentoo\", \"island\": \"Biscoe\", \"bill_length_mm\": 45.3, \"bill_depth_mm\": 13.8, \"flipper_length_mm\": 208.0, \"body_mass_g\": 4200.0, \"sex\": \"female\", \"year\": 2008}, {\"species\": \"Gentoo\", \"island\": \"Biscoe\", \"bill_length_mm\": 46.2, \"bill_depth_mm\": 14.9, \"flipper_length_mm\": 221.0, \"body_mass_g\": 5300.0, \"sex\": \"male\", \"year\": 2008}, {\"species\": \"Gentoo\", \"island\": \"Biscoe\", \"bill_length_mm\": 45.7, \"bill_depth_mm\": 13.9, \"flipper_length_mm\": 214.0, \"body_mass_g\": 4400.0, \"sex\": \"female\", \"year\": 2008}, {\"species\": \"Gentoo\", \"island\": \"Biscoe\", \"bill_length_mm\": 54.3, \"bill_depth_mm\": 15.7, \"flipper_length_mm\": 231.0, \"body_mass_g\": 5650.0, \"sex\": \"male\", \"year\": 2008}, {\"species\": \"Gentoo\", \"island\": \"Biscoe\", \"bill_length_mm\": 45.8, \"bill_depth_mm\": 14.2, \"flipper_length_mm\": 219.0, \"body_mass_g\": 4700.0, \"sex\": \"female\", \"year\": 2008}, {\"species\": \"Gentoo\", \"island\": \"Biscoe\", \"bill_length_mm\": 49.8, \"bill_depth_mm\": 16.8, \"flipper_length_mm\": 230.0, \"body_mass_g\": 5700.0, \"sex\": \"male\", \"year\": 2008}, {\"species\": \"Gentoo\", \"island\": \"Biscoe\", \"bill_length_mm\": 46.2, \"bill_depth_mm\": 14.4, \"flipper_length_mm\": 214.0, \"body_mass_g\": 4650.0, \"sex\": null, \"year\": 2008}, {\"species\": \"Gentoo\", \"island\": \"Biscoe\", \"bill_length_mm\": 49.5, \"bill_depth_mm\": 16.2, \"flipper_length_mm\": 229.0, \"body_mass_g\": 5800.0, \"sex\": \"male\", \"year\": 2008}, {\"species\": \"Gentoo\", \"island\": \"Biscoe\", \"bill_length_mm\": 43.5, \"bill_depth_mm\": 14.2, \"flipper_length_mm\": 220.0, \"body_mass_g\": 4700.0, \"sex\": \"female\", \"year\": 2008}, {\"species\": \"Gentoo\", \"island\": \"Biscoe\", \"bill_length_mm\": 50.7, \"bill_depth_mm\": 15.0, \"flipper_length_mm\": 223.0, \"body_mass_g\": 5550.0, \"sex\": \"male\", \"year\": 2008}, {\"species\": \"Gentoo\", \"island\": \"Biscoe\", \"bill_length_mm\": 47.7, \"bill_depth_mm\": 15.0, \"flipper_length_mm\": 216.0, \"body_mass_g\": 4750.0, \"sex\": \"female\", \"year\": 2008}, {\"species\": \"Gentoo\", \"island\": \"Biscoe\", \"bill_length_mm\": 46.4, \"bill_depth_mm\": 15.6, \"flipper_length_mm\": 221.0, \"body_mass_g\": 5000.0, \"sex\": \"male\", \"year\": 2008}, {\"species\": \"Gentoo\", \"island\": \"Biscoe\", \"bill_length_mm\": 48.2, \"bill_depth_mm\": 15.6, \"flipper_length_mm\": 221.0, \"body_mass_g\": 5100.0, \"sex\": \"male\", \"year\": 2008}, {\"species\": \"Gentoo\", \"island\": \"Biscoe\", \"bill_length_mm\": 46.5, \"bill_depth_mm\": 14.8, \"flipper_length_mm\": 217.0, \"body_mass_g\": 5200.0, \"sex\": \"female\", \"year\": 2008}, {\"species\": \"Gentoo\", \"island\": \"Biscoe\", \"bill_length_mm\": 46.4, \"bill_depth_mm\": 15.0, \"flipper_length_mm\": 216.0, \"body_mass_g\": 4700.0, \"sex\": \"female\", \"year\": 2008}, {\"species\": \"Gentoo\", \"island\": \"Biscoe\", \"bill_length_mm\": 48.6, \"bill_depth_mm\": 16.0, \"flipper_length_mm\": 230.0, \"body_mass_g\": 5800.0, \"sex\": \"male\", \"year\": 2008}, {\"species\": \"Gentoo\", \"island\": \"Biscoe\", \"bill_length_mm\": 47.5, \"bill_depth_mm\": 14.2, \"flipper_length_mm\": 209.0, \"body_mass_g\": 4600.0, \"sex\": \"female\", \"year\": 2008}, {\"species\": \"Gentoo\", \"island\": \"Biscoe\", \"bill_length_mm\": 51.1, \"bill_depth_mm\": 16.3, \"flipper_length_mm\": 220.0, \"body_mass_g\": 6000.0, \"sex\": \"male\", \"year\": 2008}, {\"species\": \"Gentoo\", \"island\": \"Biscoe\", \"bill_length_mm\": 45.2, \"bill_depth_mm\": 13.8, \"flipper_length_mm\": 215.0, \"body_mass_g\": 4750.0, \"sex\": \"female\", \"year\": 2008}, {\"species\": \"Gentoo\", \"island\": \"Biscoe\", \"bill_length_mm\": 45.2, \"bill_depth_mm\": 16.4, \"flipper_length_mm\": 223.0, \"body_mass_g\": 5950.0, \"sex\": \"male\", \"year\": 2008}, {\"species\": \"Gentoo\", \"island\": \"Biscoe\", \"bill_length_mm\": 49.1, \"bill_depth_mm\": 14.5, \"flipper_length_mm\": 212.0, \"body_mass_g\": 4625.0, \"sex\": \"female\", \"year\": 2009}, {\"species\": \"Gentoo\", \"island\": \"Biscoe\", \"bill_length_mm\": 52.5, \"bill_depth_mm\": 15.6, \"flipper_length_mm\": 221.0, \"body_mass_g\": 5450.0, \"sex\": \"male\", \"year\": 2009}, {\"species\": \"Gentoo\", \"island\": \"Biscoe\", \"bill_length_mm\": 47.4, \"bill_depth_mm\": 14.6, \"flipper_length_mm\": 212.0, \"body_mass_g\": 4725.0, \"sex\": \"female\", \"year\": 2009}, {\"species\": \"Gentoo\", \"island\": \"Biscoe\", \"bill_length_mm\": 50.0, \"bill_depth_mm\": 15.9, \"flipper_length_mm\": 224.0, \"body_mass_g\": 5350.0, \"sex\": \"male\", \"year\": 2009}, {\"species\": \"Gentoo\", \"island\": \"Biscoe\", \"bill_length_mm\": 44.9, \"bill_depth_mm\": 13.8, \"flipper_length_mm\": 212.0, \"body_mass_g\": 4750.0, \"sex\": \"female\", \"year\": 2009}, {\"species\": \"Gentoo\", \"island\": \"Biscoe\", \"bill_length_mm\": 50.8, \"bill_depth_mm\": 17.3, \"flipper_length_mm\": 228.0, \"body_mass_g\": 5600.0, \"sex\": \"male\", \"year\": 2009}, {\"species\": \"Gentoo\", \"island\": \"Biscoe\", \"bill_length_mm\": 43.4, \"bill_depth_mm\": 14.4, \"flipper_length_mm\": 218.0, \"body_mass_g\": 4600.0, \"sex\": \"female\", \"year\": 2009}, {\"species\": \"Gentoo\", \"island\": \"Biscoe\", \"bill_length_mm\": 51.3, \"bill_depth_mm\": 14.2, \"flipper_length_mm\": 218.0, \"body_mass_g\": 5300.0, \"sex\": \"male\", \"year\": 2009}, {\"species\": \"Gentoo\", \"island\": \"Biscoe\", \"bill_length_mm\": 47.5, \"bill_depth_mm\": 14.0, \"flipper_length_mm\": 212.0, \"body_mass_g\": 4875.0, \"sex\": \"female\", \"year\": 2009}, {\"species\": \"Gentoo\", \"island\": \"Biscoe\", \"bill_length_mm\": 52.1, \"bill_depth_mm\": 17.0, \"flipper_length_mm\": 230.0, \"body_mass_g\": 5550.0, \"sex\": \"male\", \"year\": 2009}, {\"species\": \"Gentoo\", \"island\": \"Biscoe\", \"bill_length_mm\": 47.5, \"bill_depth_mm\": 15.0, \"flipper_length_mm\": 218.0, \"body_mass_g\": 4950.0, \"sex\": \"female\", \"year\": 2009}, {\"species\": \"Gentoo\", \"island\": \"Biscoe\", \"bill_length_mm\": 52.2, \"bill_depth_mm\": 17.1, \"flipper_length_mm\": 228.0, \"body_mass_g\": 5400.0, \"sex\": \"male\", \"year\": 2009}, {\"species\": \"Gentoo\", \"island\": \"Biscoe\", \"bill_length_mm\": 45.5, \"bill_depth_mm\": 14.5, \"flipper_length_mm\": 212.0, \"body_mass_g\": 4750.0, \"sex\": \"female\", \"year\": 2009}, {\"species\": \"Gentoo\", \"island\": \"Biscoe\", \"bill_length_mm\": 49.5, \"bill_depth_mm\": 16.1, \"flipper_length_mm\": 224.0, \"body_mass_g\": 5650.0, \"sex\": \"male\", \"year\": 2009}, {\"species\": \"Gentoo\", \"island\": \"Biscoe\", \"bill_length_mm\": 44.5, \"bill_depth_mm\": 14.7, \"flipper_length_mm\": 214.0, \"body_mass_g\": 4850.0, \"sex\": \"female\", \"year\": 2009}, {\"species\": \"Gentoo\", \"island\": \"Biscoe\", \"bill_length_mm\": 50.8, \"bill_depth_mm\": 15.7, \"flipper_length_mm\": 226.0, \"body_mass_g\": 5200.0, \"sex\": \"male\", \"year\": 2009}, {\"species\": \"Gentoo\", \"island\": \"Biscoe\", \"bill_length_mm\": 49.4, \"bill_depth_mm\": 15.8, \"flipper_length_mm\": 216.0, \"body_mass_g\": 4925.0, \"sex\": \"male\", \"year\": 2009}, {\"species\": \"Gentoo\", \"island\": \"Biscoe\", \"bill_length_mm\": 46.9, \"bill_depth_mm\": 14.6, \"flipper_length_mm\": 222.0, \"body_mass_g\": 4875.0, \"sex\": \"female\", \"year\": 2009}, {\"species\": \"Gentoo\", \"island\": \"Biscoe\", \"bill_length_mm\": 48.4, \"bill_depth_mm\": 14.4, \"flipper_length_mm\": 203.0, \"body_mass_g\": 4625.0, \"sex\": \"female\", \"year\": 2009}, {\"species\": \"Gentoo\", \"island\": \"Biscoe\", \"bill_length_mm\": 51.1, \"bill_depth_mm\": 16.5, \"flipper_length_mm\": 225.0, \"body_mass_g\": 5250.0, \"sex\": \"male\", \"year\": 2009}, {\"species\": \"Gentoo\", \"island\": \"Biscoe\", \"bill_length_mm\": 48.5, \"bill_depth_mm\": 15.0, \"flipper_length_mm\": 219.0, \"body_mass_g\": 4850.0, \"sex\": \"female\", \"year\": 2009}, {\"species\": \"Gentoo\", \"island\": \"Biscoe\", \"bill_length_mm\": 55.9, \"bill_depth_mm\": 17.0, \"flipper_length_mm\": 228.0, \"body_mass_g\": 5600.0, \"sex\": \"male\", \"year\": 2009}, {\"species\": \"Gentoo\", \"island\": \"Biscoe\", \"bill_length_mm\": 47.2, \"bill_depth_mm\": 15.5, \"flipper_length_mm\": 215.0, \"body_mass_g\": 4975.0, \"sex\": \"female\", \"year\": 2009}, {\"species\": \"Gentoo\", \"island\": \"Biscoe\", \"bill_length_mm\": 49.1, \"bill_depth_mm\": 15.0, \"flipper_length_mm\": 228.0, \"body_mass_g\": 5500.0, \"sex\": \"male\", \"year\": 2009}, {\"species\": \"Gentoo\", \"island\": \"Biscoe\", \"bill_length_mm\": 47.3, \"bill_depth_mm\": 13.8, \"flipper_length_mm\": 216.0, \"body_mass_g\": 4725.0, \"sex\": null, \"year\": 2009}, {\"species\": \"Gentoo\", \"island\": \"Biscoe\", \"bill_length_mm\": 46.8, \"bill_depth_mm\": 16.1, \"flipper_length_mm\": 215.0, \"body_mass_g\": 5500.0, \"sex\": \"male\", \"year\": 2009}, {\"species\": \"Gentoo\", \"island\": \"Biscoe\", \"bill_length_mm\": 41.7, \"bill_depth_mm\": 14.7, \"flipper_length_mm\": 210.0, \"body_mass_g\": 4700.0, \"sex\": \"female\", \"year\": 2009}, {\"species\": \"Gentoo\", \"island\": \"Biscoe\", \"bill_length_mm\": 53.4, \"bill_depth_mm\": 15.8, \"flipper_length_mm\": 219.0, \"body_mass_g\": 5500.0, \"sex\": \"male\", \"year\": 2009}, {\"species\": \"Gentoo\", \"island\": \"Biscoe\", \"bill_length_mm\": 43.3, \"bill_depth_mm\": 14.0, \"flipper_length_mm\": 208.0, \"body_mass_g\": 4575.0, \"sex\": \"female\", \"year\": 2009}, {\"species\": \"Gentoo\", \"island\": \"Biscoe\", \"bill_length_mm\": 48.1, \"bill_depth_mm\": 15.1, \"flipper_length_mm\": 209.0, \"body_mass_g\": 5500.0, \"sex\": \"male\", \"year\": 2009}, {\"species\": \"Gentoo\", \"island\": \"Biscoe\", \"bill_length_mm\": 50.5, \"bill_depth_mm\": 15.2, \"flipper_length_mm\": 216.0, \"body_mass_g\": 5000.0, \"sex\": \"female\", \"year\": 2009}, {\"species\": \"Gentoo\", \"island\": \"Biscoe\", \"bill_length_mm\": 49.8, \"bill_depth_mm\": 15.9, \"flipper_length_mm\": 229.0, \"body_mass_g\": 5950.0, \"sex\": \"male\", \"year\": 2009}, {\"species\": \"Gentoo\", \"island\": \"Biscoe\", \"bill_length_mm\": 43.5, \"bill_depth_mm\": 15.2, \"flipper_length_mm\": 213.0, \"body_mass_g\": 4650.0, \"sex\": \"female\", \"year\": 2009}, {\"species\": \"Gentoo\", \"island\": \"Biscoe\", \"bill_length_mm\": 51.5, \"bill_depth_mm\": 16.3, \"flipper_length_mm\": 230.0, \"body_mass_g\": 5500.0, \"sex\": \"male\", \"year\": 2009}, {\"species\": \"Gentoo\", \"island\": \"Biscoe\", \"bill_length_mm\": 46.2, \"bill_depth_mm\": 14.1, \"flipper_length_mm\": 217.0, \"body_mass_g\": 4375.0, \"sex\": \"female\", \"year\": 2009}, {\"species\": \"Gentoo\", \"island\": \"Biscoe\", \"bill_length_mm\": 55.1, \"bill_depth_mm\": 16.0, \"flipper_length_mm\": 230.0, \"body_mass_g\": 5850.0, \"sex\": \"male\", \"year\": 2009}, {\"species\": \"Gentoo\", \"island\": \"Biscoe\", \"bill_length_mm\": 44.5, \"bill_depth_mm\": 15.7, \"flipper_length_mm\": 217.0, \"body_mass_g\": 4875.0, \"sex\": null, \"year\": 2009}, {\"species\": \"Gentoo\", \"island\": \"Biscoe\", \"bill_length_mm\": 48.8, \"bill_depth_mm\": 16.2, \"flipper_length_mm\": 222.0, \"body_mass_g\": 6000.0, \"sex\": \"male\", \"year\": 2009}, {\"species\": \"Gentoo\", \"island\": \"Biscoe\", \"bill_length_mm\": 47.2, \"bill_depth_mm\": 13.7, \"flipper_length_mm\": 214.0, \"body_mass_g\": 4925.0, \"sex\": \"female\", \"year\": 2009}, {\"species\": \"Gentoo\", \"island\": \"Biscoe\", \"bill_length_mm\": null, \"bill_depth_mm\": null, \"flipper_length_mm\": null, \"body_mass_g\": null, \"sex\": null, \"year\": 2009}, {\"species\": \"Gentoo\", \"island\": \"Biscoe\", \"bill_length_mm\": 46.8, \"bill_depth_mm\": 14.3, \"flipper_length_mm\": 215.0, \"body_mass_g\": 4850.0, \"sex\": \"female\", \"year\": 2009}, {\"species\": \"Gentoo\", \"island\": \"Biscoe\", \"bill_length_mm\": 50.4, \"bill_depth_mm\": 15.7, \"flipper_length_mm\": 222.0, \"body_mass_g\": 5750.0, \"sex\": \"male\", \"year\": 2009}, {\"species\": \"Gentoo\", \"island\": \"Biscoe\", \"bill_length_mm\": 45.2, \"bill_depth_mm\": 14.8, \"flipper_length_mm\": 212.0, \"body_mass_g\": 5200.0, \"sex\": \"female\", \"year\": 2009}, {\"species\": \"Gentoo\", \"island\": \"Biscoe\", \"bill_length_mm\": 49.9, \"bill_depth_mm\": 16.1, \"flipper_length_mm\": 213.0, \"body_mass_g\": 5400.0, \"sex\": \"male\", \"year\": 2009}, {\"species\": \"Chinstrap\", \"island\": \"Dream\", \"bill_length_mm\": 46.5, \"bill_depth_mm\": 17.9, \"flipper_length_mm\": 192.0, \"body_mass_g\": 3500.0, \"sex\": \"female\", \"year\": 2007}, {\"species\": \"Chinstrap\", \"island\": \"Dream\", \"bill_length_mm\": 50.0, \"bill_depth_mm\": 19.5, \"flipper_length_mm\": 196.0, \"body_mass_g\": 3900.0, \"sex\": \"male\", \"year\": 2007}, {\"species\": \"Chinstrap\", \"island\": \"Dream\", \"bill_length_mm\": 51.3, \"bill_depth_mm\": 19.2, \"flipper_length_mm\": 193.0, \"body_mass_g\": 3650.0, \"sex\": \"male\", \"year\": 2007}, {\"species\": \"Chinstrap\", \"island\": \"Dream\", \"bill_length_mm\": 45.4, \"bill_depth_mm\": 18.7, \"flipper_length_mm\": 188.0, \"body_mass_g\": 3525.0, \"sex\": \"female\", \"year\": 2007}, {\"species\": \"Chinstrap\", \"island\": \"Dream\", \"bill_length_mm\": 52.7, \"bill_depth_mm\": 19.8, \"flipper_length_mm\": 197.0, \"body_mass_g\": 3725.0, \"sex\": \"male\", \"year\": 2007}, {\"species\": \"Chinstrap\", \"island\": \"Dream\", \"bill_length_mm\": 45.2, \"bill_depth_mm\": 17.8, \"flipper_length_mm\": 198.0, \"body_mass_g\": 3950.0, \"sex\": \"female\", \"year\": 2007}, {\"species\": \"Chinstrap\", \"island\": \"Dream\", \"bill_length_mm\": 46.1, \"bill_depth_mm\": 18.2, \"flipper_length_mm\": 178.0, \"body_mass_g\": 3250.0, \"sex\": \"female\", \"year\": 2007}, {\"species\": \"Chinstrap\", \"island\": \"Dream\", \"bill_length_mm\": 51.3, \"bill_depth_mm\": 18.2, \"flipper_length_mm\": 197.0, \"body_mass_g\": 3750.0, \"sex\": \"male\", \"year\": 2007}, {\"species\": \"Chinstrap\", \"island\": \"Dream\", \"bill_length_mm\": 46.0, \"bill_depth_mm\": 18.9, \"flipper_length_mm\": 195.0, \"body_mass_g\": 4150.0, \"sex\": \"female\", \"year\": 2007}, {\"species\": \"Chinstrap\", \"island\": \"Dream\", \"bill_length_mm\": 51.3, \"bill_depth_mm\": 19.9, \"flipper_length_mm\": 198.0, \"body_mass_g\": 3700.0, \"sex\": \"male\", \"year\": 2007}, {\"species\": \"Chinstrap\", \"island\": \"Dream\", \"bill_length_mm\": 46.6, \"bill_depth_mm\": 17.8, \"flipper_length_mm\": 193.0, \"body_mass_g\": 3800.0, \"sex\": \"female\", \"year\": 2007}, {\"species\": \"Chinstrap\", \"island\": \"Dream\", \"bill_length_mm\": 51.7, \"bill_depth_mm\": 20.3, \"flipper_length_mm\": 194.0, \"body_mass_g\": 3775.0, \"sex\": \"male\", \"year\": 2007}, {\"species\": \"Chinstrap\", \"island\": \"Dream\", \"bill_length_mm\": 47.0, \"bill_depth_mm\": 17.3, \"flipper_length_mm\": 185.0, \"body_mass_g\": 3700.0, \"sex\": \"female\", \"year\": 2007}, {\"species\": \"Chinstrap\", \"island\": \"Dream\", \"bill_length_mm\": 52.0, \"bill_depth_mm\": 18.1, \"flipper_length_mm\": 201.0, \"body_mass_g\": 4050.0, \"sex\": \"male\", \"year\": 2007}, {\"species\": \"Chinstrap\", \"island\": \"Dream\", \"bill_length_mm\": 45.9, \"bill_depth_mm\": 17.1, \"flipper_length_mm\": 190.0, \"body_mass_g\": 3575.0, \"sex\": \"female\", \"year\": 2007}, {\"species\": \"Chinstrap\", \"island\": \"Dream\", \"bill_length_mm\": 50.5, \"bill_depth_mm\": 19.6, \"flipper_length_mm\": 201.0, \"body_mass_g\": 4050.0, \"sex\": \"male\", \"year\": 2007}, {\"species\": \"Chinstrap\", \"island\": \"Dream\", \"bill_length_mm\": 50.3, \"bill_depth_mm\": 20.0, \"flipper_length_mm\": 197.0, \"body_mass_g\": 3300.0, \"sex\": \"male\", \"year\": 2007}, {\"species\": \"Chinstrap\", \"island\": \"Dream\", \"bill_length_mm\": 58.0, \"bill_depth_mm\": 17.8, \"flipper_length_mm\": 181.0, \"body_mass_g\": 3700.0, \"sex\": \"female\", \"year\": 2007}, {\"species\": \"Chinstrap\", \"island\": \"Dream\", \"bill_length_mm\": 46.4, \"bill_depth_mm\": 18.6, \"flipper_length_mm\": 190.0, \"body_mass_g\": 3450.0, \"sex\": \"female\", \"year\": 2007}, {\"species\": \"Chinstrap\", \"island\": \"Dream\", \"bill_length_mm\": 49.2, \"bill_depth_mm\": 18.2, \"flipper_length_mm\": 195.0, \"body_mass_g\": 4400.0, \"sex\": \"male\", \"year\": 2007}, {\"species\": \"Chinstrap\", \"island\": \"Dream\", \"bill_length_mm\": 42.4, \"bill_depth_mm\": 17.3, \"flipper_length_mm\": 181.0, \"body_mass_g\": 3600.0, \"sex\": \"female\", \"year\": 2007}, {\"species\": \"Chinstrap\", \"island\": \"Dream\", \"bill_length_mm\": 48.5, \"bill_depth_mm\": 17.5, \"flipper_length_mm\": 191.0, \"body_mass_g\": 3400.0, \"sex\": \"male\", \"year\": 2007}, {\"species\": \"Chinstrap\", \"island\": \"Dream\", \"bill_length_mm\": 43.2, \"bill_depth_mm\": 16.6, \"flipper_length_mm\": 187.0, \"body_mass_g\": 2900.0, \"sex\": \"female\", \"year\": 2007}, {\"species\": \"Chinstrap\", \"island\": \"Dream\", \"bill_length_mm\": 50.6, \"bill_depth_mm\": 19.4, \"flipper_length_mm\": 193.0, \"body_mass_g\": 3800.0, \"sex\": \"male\", \"year\": 2007}, {\"species\": \"Chinstrap\", \"island\": \"Dream\", \"bill_length_mm\": 46.7, \"bill_depth_mm\": 17.9, \"flipper_length_mm\": 195.0, \"body_mass_g\": 3300.0, \"sex\": \"female\", \"year\": 2007}, {\"species\": \"Chinstrap\", \"island\": \"Dream\", \"bill_length_mm\": 52.0, \"bill_depth_mm\": 19.0, \"flipper_length_mm\": 197.0, \"body_mass_g\": 4150.0, \"sex\": \"male\", \"year\": 2007}, {\"species\": \"Chinstrap\", \"island\": \"Dream\", \"bill_length_mm\": 50.5, \"bill_depth_mm\": 18.4, \"flipper_length_mm\": 200.0, \"body_mass_g\": 3400.0, \"sex\": \"female\", \"year\": 2008}, {\"species\": \"Chinstrap\", \"island\": \"Dream\", \"bill_length_mm\": 49.5, \"bill_depth_mm\": 19.0, \"flipper_length_mm\": 200.0, \"body_mass_g\": 3800.0, \"sex\": \"male\", \"year\": 2008}, {\"species\": \"Chinstrap\", \"island\": \"Dream\", \"bill_length_mm\": 46.4, \"bill_depth_mm\": 17.8, \"flipper_length_mm\": 191.0, \"body_mass_g\": 3700.0, \"sex\": \"female\", \"year\": 2008}, {\"species\": \"Chinstrap\", \"island\": \"Dream\", \"bill_length_mm\": 52.8, \"bill_depth_mm\": 20.0, \"flipper_length_mm\": 205.0, \"body_mass_g\": 4550.0, \"sex\": \"male\", \"year\": 2008}, {\"species\": \"Chinstrap\", \"island\": \"Dream\", \"bill_length_mm\": 40.9, \"bill_depth_mm\": 16.6, \"flipper_length_mm\": 187.0, \"body_mass_g\": 3200.0, \"sex\": \"female\", \"year\": 2008}, {\"species\": \"Chinstrap\", \"island\": \"Dream\", \"bill_length_mm\": 54.2, \"bill_depth_mm\": 20.8, \"flipper_length_mm\": 201.0, \"body_mass_g\": 4300.0, \"sex\": \"male\", \"year\": 2008}, {\"species\": \"Chinstrap\", \"island\": \"Dream\", \"bill_length_mm\": 42.5, \"bill_depth_mm\": 16.7, \"flipper_length_mm\": 187.0, \"body_mass_g\": 3350.0, \"sex\": \"female\", \"year\": 2008}, {\"species\": \"Chinstrap\", \"island\": \"Dream\", \"bill_length_mm\": 51.0, \"bill_depth_mm\": 18.8, \"flipper_length_mm\": 203.0, \"body_mass_g\": 4100.0, \"sex\": \"male\", \"year\": 2008}, {\"species\": \"Chinstrap\", \"island\": \"Dream\", \"bill_length_mm\": 49.7, \"bill_depth_mm\": 18.6, \"flipper_length_mm\": 195.0, \"body_mass_g\": 3600.0, \"sex\": \"male\", \"year\": 2008}, {\"species\": \"Chinstrap\", \"island\": \"Dream\", \"bill_length_mm\": 47.5, \"bill_depth_mm\": 16.8, \"flipper_length_mm\": 199.0, \"body_mass_g\": 3900.0, \"sex\": \"female\", \"year\": 2008}, {\"species\": \"Chinstrap\", \"island\": \"Dream\", \"bill_length_mm\": 47.6, \"bill_depth_mm\": 18.3, \"flipper_length_mm\": 195.0, \"body_mass_g\": 3850.0, \"sex\": \"female\", \"year\": 2008}, {\"species\": \"Chinstrap\", \"island\": \"Dream\", \"bill_length_mm\": 52.0, \"bill_depth_mm\": 20.7, \"flipper_length_mm\": 210.0, \"body_mass_g\": 4800.0, \"sex\": \"male\", \"year\": 2008}, {\"species\": \"Chinstrap\", \"island\": \"Dream\", \"bill_length_mm\": 46.9, \"bill_depth_mm\": 16.6, \"flipper_length_mm\": 192.0, \"body_mass_g\": 2700.0, \"sex\": \"female\", \"year\": 2008}, {\"species\": \"Chinstrap\", \"island\": \"Dream\", \"bill_length_mm\": 53.5, \"bill_depth_mm\": 19.9, \"flipper_length_mm\": 205.0, \"body_mass_g\": 4500.0, \"sex\": \"male\", \"year\": 2008}, {\"species\": \"Chinstrap\", \"island\": \"Dream\", \"bill_length_mm\": 49.0, \"bill_depth_mm\": 19.5, \"flipper_length_mm\": 210.0, \"body_mass_g\": 3950.0, \"sex\": \"male\", \"year\": 2008}, {\"species\": \"Chinstrap\", \"island\": \"Dream\", \"bill_length_mm\": 46.2, \"bill_depth_mm\": 17.5, \"flipper_length_mm\": 187.0, \"body_mass_g\": 3650.0, \"sex\": \"female\", \"year\": 2008}, {\"species\": \"Chinstrap\", \"island\": \"Dream\", \"bill_length_mm\": 50.9, \"bill_depth_mm\": 19.1, \"flipper_length_mm\": 196.0, \"body_mass_g\": 3550.0, \"sex\": \"male\", \"year\": 2008}, {\"species\": \"Chinstrap\", \"island\": \"Dream\", \"bill_length_mm\": 45.5, \"bill_depth_mm\": 17.0, \"flipper_length_mm\": 196.0, \"body_mass_g\": 3500.0, \"sex\": \"female\", \"year\": 2008}, {\"species\": \"Chinstrap\", \"island\": \"Dream\", \"bill_length_mm\": 50.9, \"bill_depth_mm\": 17.9, \"flipper_length_mm\": 196.0, \"body_mass_g\": 3675.0, \"sex\": \"female\", \"year\": 2009}, {\"species\": \"Chinstrap\", \"island\": \"Dream\", \"bill_length_mm\": 50.8, \"bill_depth_mm\": 18.5, \"flipper_length_mm\": 201.0, \"body_mass_g\": 4450.0, \"sex\": \"male\", \"year\": 2009}, {\"species\": \"Chinstrap\", \"island\": \"Dream\", \"bill_length_mm\": 50.1, \"bill_depth_mm\": 17.9, \"flipper_length_mm\": 190.0, \"body_mass_g\": 3400.0, \"sex\": \"female\", \"year\": 2009}, {\"species\": \"Chinstrap\", \"island\": \"Dream\", \"bill_length_mm\": 49.0, \"bill_depth_mm\": 19.6, \"flipper_length_mm\": 212.0, \"body_mass_g\": 4300.0, \"sex\": \"male\", \"year\": 2009}, {\"species\": \"Chinstrap\", \"island\": \"Dream\", \"bill_length_mm\": 51.5, \"bill_depth_mm\": 18.7, \"flipper_length_mm\": 187.0, \"body_mass_g\": 3250.0, \"sex\": \"male\", \"year\": 2009}, {\"species\": \"Chinstrap\", \"island\": \"Dream\", \"bill_length_mm\": 49.8, \"bill_depth_mm\": 17.3, \"flipper_length_mm\": 198.0, \"body_mass_g\": 3675.0, \"sex\": \"female\", \"year\": 2009}, {\"species\": \"Chinstrap\", \"island\": \"Dream\", \"bill_length_mm\": 48.1, \"bill_depth_mm\": 16.4, \"flipper_length_mm\": 199.0, \"body_mass_g\": 3325.0, \"sex\": \"female\", \"year\": 2009}, {\"species\": \"Chinstrap\", \"island\": \"Dream\", \"bill_length_mm\": 51.4, \"bill_depth_mm\": 19.0, \"flipper_length_mm\": 201.0, \"body_mass_g\": 3950.0, \"sex\": \"male\", \"year\": 2009}, {\"species\": \"Chinstrap\", \"island\": \"Dream\", \"bill_length_mm\": 45.7, \"bill_depth_mm\": 17.3, \"flipper_length_mm\": 193.0, \"body_mass_g\": 3600.0, \"sex\": \"female\", \"year\": 2009}, {\"species\": \"Chinstrap\", \"island\": \"Dream\", \"bill_length_mm\": 50.7, \"bill_depth_mm\": 19.7, \"flipper_length_mm\": 203.0, \"body_mass_g\": 4050.0, \"sex\": \"male\", \"year\": 2009}, {\"species\": \"Chinstrap\", \"island\": \"Dream\", \"bill_length_mm\": 42.5, \"bill_depth_mm\": 17.3, \"flipper_length_mm\": 187.0, \"body_mass_g\": 3350.0, \"sex\": \"female\", \"year\": 2009}, {\"species\": \"Chinstrap\", \"island\": \"Dream\", \"bill_length_mm\": 52.2, \"bill_depth_mm\": 18.8, \"flipper_length_mm\": 197.0, \"body_mass_g\": 3450.0, \"sex\": \"male\", \"year\": 2009}, {\"species\": \"Chinstrap\", \"island\": \"Dream\", \"bill_length_mm\": 45.2, \"bill_depth_mm\": 16.6, \"flipper_length_mm\": 191.0, \"body_mass_g\": 3250.0, \"sex\": \"female\", \"year\": 2009}, {\"species\": \"Chinstrap\", \"island\": \"Dream\", \"bill_length_mm\": 49.3, \"bill_depth_mm\": 19.9, \"flipper_length_mm\": 203.0, \"body_mass_g\": 4050.0, \"sex\": \"male\", \"year\": 2009}, {\"species\": \"Chinstrap\", \"island\": \"Dream\", \"bill_length_mm\": 50.2, \"bill_depth_mm\": 18.8, \"flipper_length_mm\": 202.0, \"body_mass_g\": 3800.0, \"sex\": \"male\", \"year\": 2009}, {\"species\": \"Chinstrap\", \"island\": \"Dream\", \"bill_length_mm\": 45.6, \"bill_depth_mm\": 19.4, \"flipper_length_mm\": 194.0, \"body_mass_g\": 3525.0, \"sex\": \"female\", \"year\": 2009}, {\"species\": \"Chinstrap\", \"island\": \"Dream\", \"bill_length_mm\": 51.9, \"bill_depth_mm\": 19.5, \"flipper_length_mm\": 206.0, \"body_mass_g\": 3950.0, \"sex\": \"male\", \"year\": 2009}, {\"species\": \"Chinstrap\", \"island\": \"Dream\", \"bill_length_mm\": 46.8, \"bill_depth_mm\": 16.5, \"flipper_length_mm\": 189.0, \"body_mass_g\": 3650.0, \"sex\": \"female\", \"year\": 2009}, {\"species\": \"Chinstrap\", \"island\": \"Dream\", \"bill_length_mm\": 45.7, \"bill_depth_mm\": 17.0, \"flipper_length_mm\": 195.0, \"body_mass_g\": 3650.0, \"sex\": \"female\", \"year\": 2009}, {\"species\": \"Chinstrap\", \"island\": \"Dream\", \"bill_length_mm\": 55.8, \"bill_depth_mm\": 19.8, \"flipper_length_mm\": 207.0, \"body_mass_g\": 4000.0, \"sex\": \"male\", \"year\": 2009}, {\"species\": \"Chinstrap\", \"island\": \"Dream\", \"bill_length_mm\": 43.5, \"bill_depth_mm\": 18.1, \"flipper_length_mm\": 202.0, \"body_mass_g\": 3400.0, \"sex\": \"female\", \"year\": 2009}, {\"species\": \"Chinstrap\", \"island\": \"Dream\", \"bill_length_mm\": 49.6, \"bill_depth_mm\": 18.2, \"flipper_length_mm\": 193.0, \"body_mass_g\": 3775.0, \"sex\": \"male\", \"year\": 2009}, {\"species\": \"Chinstrap\", \"island\": \"Dream\", \"bill_length_mm\": 50.8, \"bill_depth_mm\": 19.0, \"flipper_length_mm\": 210.0, \"body_mass_g\": 4100.0, \"sex\": \"male\", \"year\": 2009}, {\"species\": \"Chinstrap\", \"island\": \"Dream\", \"bill_length_mm\": 50.2, \"bill_depth_mm\": 18.7, \"flipper_length_mm\": 198.0, \"body_mass_g\": 3775.0, \"sex\": \"female\", \"year\": 2009}]}}, {\"mode\": \"vega-lite\"});\n",
              "</script>"
            ]
          },
          "metadata": {
            "tags": []
          },
          "execution_count": 16
        }
      ]
    },
    {
      "cell_type": "code",
      "metadata": {
        "id": "psX-2TALurXI",
        "colab_type": "code",
        "colab": {
          "base_uri": "https://localhost:8080/",
          "height": 238
        },
        "outputId": "a93d0449-0d59-4f7b-81a5-af94ed775fc2"
      },
      "source": [
        "pg_data.groupby(['year', 'sex'])['species'].count().reset_index()"
      ],
      "execution_count": 23,
      "outputs": [
        {
          "output_type": "execute_result",
          "data": {
            "text/html": [
              "<div>\n",
              "<style scoped>\n",
              "    .dataframe tbody tr th:only-of-type {\n",
              "        vertical-align: middle;\n",
              "    }\n",
              "\n",
              "    .dataframe tbody tr th {\n",
              "        vertical-align: top;\n",
              "    }\n",
              "\n",
              "    .dataframe thead th {\n",
              "        text-align: right;\n",
              "    }\n",
              "</style>\n",
              "<table border=\"1\" class=\"dataframe\">\n",
              "  <thead>\n",
              "    <tr style=\"text-align: right;\">\n",
              "      <th></th>\n",
              "      <th>year</th>\n",
              "      <th>sex</th>\n",
              "      <th>species</th>\n",
              "    </tr>\n",
              "  </thead>\n",
              "  <tbody>\n",
              "    <tr>\n",
              "      <th>0</th>\n",
              "      <td>2007</td>\n",
              "      <td>female</td>\n",
              "      <td>51</td>\n",
              "    </tr>\n",
              "    <tr>\n",
              "      <th>1</th>\n",
              "      <td>2007</td>\n",
              "      <td>male</td>\n",
              "      <td>52</td>\n",
              "    </tr>\n",
              "    <tr>\n",
              "      <th>2</th>\n",
              "      <td>2008</td>\n",
              "      <td>female</td>\n",
              "      <td>56</td>\n",
              "    </tr>\n",
              "    <tr>\n",
              "      <th>3</th>\n",
              "      <td>2008</td>\n",
              "      <td>male</td>\n",
              "      <td>57</td>\n",
              "    </tr>\n",
              "    <tr>\n",
              "      <th>4</th>\n",
              "      <td>2009</td>\n",
              "      <td>female</td>\n",
              "      <td>58</td>\n",
              "    </tr>\n",
              "    <tr>\n",
              "      <th>5</th>\n",
              "      <td>2009</td>\n",
              "      <td>male</td>\n",
              "      <td>59</td>\n",
              "    </tr>\n",
              "  </tbody>\n",
              "</table>\n",
              "</div>"
            ],
            "text/plain": [
              "   year     sex  species\n",
              "0  2007  female       51\n",
              "1  2007    male       52\n",
              "2  2008  female       56\n",
              "3  2008    male       57\n",
              "4  2009  female       58\n",
              "5  2009    male       59"
            ]
          },
          "metadata": {
            "tags": []
          },
          "execution_count": 23
        }
      ]
    },
    {
      "cell_type": "code",
      "metadata": {
        "id": "h73pCoy2wsls",
        "colab_type": "code",
        "colab": {
          "base_uri": "https://localhost:8080/",
          "height": 238
        },
        "outputId": "049b9f46-24b0-46a2-8446-9a490d2f6a8a"
      },
      "source": [
        "pg_data.groupby(['year', 'sex'])['species'].count().reset_index().sort_values('species', ascending = False)"
      ],
      "execution_count": 24,
      "outputs": [
        {
          "output_type": "execute_result",
          "data": {
            "text/html": [
              "<div>\n",
              "<style scoped>\n",
              "    .dataframe tbody tr th:only-of-type {\n",
              "        vertical-align: middle;\n",
              "    }\n",
              "\n",
              "    .dataframe tbody tr th {\n",
              "        vertical-align: top;\n",
              "    }\n",
              "\n",
              "    .dataframe thead th {\n",
              "        text-align: right;\n",
              "    }\n",
              "</style>\n",
              "<table border=\"1\" class=\"dataframe\">\n",
              "  <thead>\n",
              "    <tr style=\"text-align: right;\">\n",
              "      <th></th>\n",
              "      <th>year</th>\n",
              "      <th>sex</th>\n",
              "      <th>species</th>\n",
              "    </tr>\n",
              "  </thead>\n",
              "  <tbody>\n",
              "    <tr>\n",
              "      <th>5</th>\n",
              "      <td>2009</td>\n",
              "      <td>male</td>\n",
              "      <td>59</td>\n",
              "    </tr>\n",
              "    <tr>\n",
              "      <th>4</th>\n",
              "      <td>2009</td>\n",
              "      <td>female</td>\n",
              "      <td>58</td>\n",
              "    </tr>\n",
              "    <tr>\n",
              "      <th>3</th>\n",
              "      <td>2008</td>\n",
              "      <td>male</td>\n",
              "      <td>57</td>\n",
              "    </tr>\n",
              "    <tr>\n",
              "      <th>2</th>\n",
              "      <td>2008</td>\n",
              "      <td>female</td>\n",
              "      <td>56</td>\n",
              "    </tr>\n",
              "    <tr>\n",
              "      <th>1</th>\n",
              "      <td>2007</td>\n",
              "      <td>male</td>\n",
              "      <td>52</td>\n",
              "    </tr>\n",
              "    <tr>\n",
              "      <th>0</th>\n",
              "      <td>2007</td>\n",
              "      <td>female</td>\n",
              "      <td>51</td>\n",
              "    </tr>\n",
              "  </tbody>\n",
              "</table>\n",
              "</div>"
            ],
            "text/plain": [
              "   year     sex  species\n",
              "5  2009    male       59\n",
              "4  2009  female       58\n",
              "3  2008    male       57\n",
              "2  2008  female       56\n",
              "1  2007    male       52\n",
              "0  2007  female       51"
            ]
          },
          "metadata": {
            "tags": []
          },
          "execution_count": 24
        }
      ]
    },
    {
      "cell_type": "code",
      "metadata": {
        "id": "Ij0N-eNpu4Ot",
        "colab_type": "code",
        "colab": {
          "base_uri": "https://localhost:8080/",
          "height": 614
        },
        "outputId": "3eba9178-4756-4b91-c1d9-53b785495815"
      },
      "source": [
        "pg_data.groupby(['year', 'sex', 'species'])['island'].count().reset_index().sort_values(['sex', 'species', 'year'], ascending = False)"
      ],
      "execution_count": 29,
      "outputs": [
        {
          "output_type": "execute_result",
          "data": {
            "text/html": [
              "<div>\n",
              "<style scoped>\n",
              "    .dataframe tbody tr th:only-of-type {\n",
              "        vertical-align: middle;\n",
              "    }\n",
              "\n",
              "    .dataframe tbody tr th {\n",
              "        vertical-align: top;\n",
              "    }\n",
              "\n",
              "    .dataframe thead th {\n",
              "        text-align: right;\n",
              "    }\n",
              "</style>\n",
              "<table border=\"1\" class=\"dataframe\">\n",
              "  <thead>\n",
              "    <tr style=\"text-align: right;\">\n",
              "      <th></th>\n",
              "      <th>year</th>\n",
              "      <th>sex</th>\n",
              "      <th>species</th>\n",
              "      <th>island</th>\n",
              "    </tr>\n",
              "  </thead>\n",
              "  <tbody>\n",
              "    <tr>\n",
              "      <th>17</th>\n",
              "      <td>2009</td>\n",
              "      <td>male</td>\n",
              "      <td>Gentoo</td>\n",
              "      <td>21</td>\n",
              "    </tr>\n",
              "    <tr>\n",
              "      <th>11</th>\n",
              "      <td>2008</td>\n",
              "      <td>male</td>\n",
              "      <td>Gentoo</td>\n",
              "      <td>23</td>\n",
              "    </tr>\n",
              "    <tr>\n",
              "      <th>5</th>\n",
              "      <td>2007</td>\n",
              "      <td>male</td>\n",
              "      <td>Gentoo</td>\n",
              "      <td>17</td>\n",
              "    </tr>\n",
              "    <tr>\n",
              "      <th>16</th>\n",
              "      <td>2009</td>\n",
              "      <td>male</td>\n",
              "      <td>Chinstrap</td>\n",
              "      <td>12</td>\n",
              "    </tr>\n",
              "    <tr>\n",
              "      <th>10</th>\n",
              "      <td>2008</td>\n",
              "      <td>male</td>\n",
              "      <td>Chinstrap</td>\n",
              "      <td>9</td>\n",
              "    </tr>\n",
              "    <tr>\n",
              "      <th>4</th>\n",
              "      <td>2007</td>\n",
              "      <td>male</td>\n",
              "      <td>Chinstrap</td>\n",
              "      <td>13</td>\n",
              "    </tr>\n",
              "    <tr>\n",
              "      <th>15</th>\n",
              "      <td>2009</td>\n",
              "      <td>male</td>\n",
              "      <td>Adelie</td>\n",
              "      <td>26</td>\n",
              "    </tr>\n",
              "    <tr>\n",
              "      <th>9</th>\n",
              "      <td>2008</td>\n",
              "      <td>male</td>\n",
              "      <td>Adelie</td>\n",
              "      <td>25</td>\n",
              "    </tr>\n",
              "    <tr>\n",
              "      <th>3</th>\n",
              "      <td>2007</td>\n",
              "      <td>male</td>\n",
              "      <td>Adelie</td>\n",
              "      <td>22</td>\n",
              "    </tr>\n",
              "    <tr>\n",
              "      <th>14</th>\n",
              "      <td>2009</td>\n",
              "      <td>female</td>\n",
              "      <td>Gentoo</td>\n",
              "      <td>20</td>\n",
              "    </tr>\n",
              "    <tr>\n",
              "      <th>8</th>\n",
              "      <td>2008</td>\n",
              "      <td>female</td>\n",
              "      <td>Gentoo</td>\n",
              "      <td>22</td>\n",
              "    </tr>\n",
              "    <tr>\n",
              "      <th>2</th>\n",
              "      <td>2007</td>\n",
              "      <td>female</td>\n",
              "      <td>Gentoo</td>\n",
              "      <td>16</td>\n",
              "    </tr>\n",
              "    <tr>\n",
              "      <th>13</th>\n",
              "      <td>2009</td>\n",
              "      <td>female</td>\n",
              "      <td>Chinstrap</td>\n",
              "      <td>12</td>\n",
              "    </tr>\n",
              "    <tr>\n",
              "      <th>7</th>\n",
              "      <td>2008</td>\n",
              "      <td>female</td>\n",
              "      <td>Chinstrap</td>\n",
              "      <td>9</td>\n",
              "    </tr>\n",
              "    <tr>\n",
              "      <th>1</th>\n",
              "      <td>2007</td>\n",
              "      <td>female</td>\n",
              "      <td>Chinstrap</td>\n",
              "      <td>13</td>\n",
              "    </tr>\n",
              "    <tr>\n",
              "      <th>12</th>\n",
              "      <td>2009</td>\n",
              "      <td>female</td>\n",
              "      <td>Adelie</td>\n",
              "      <td>26</td>\n",
              "    </tr>\n",
              "    <tr>\n",
              "      <th>6</th>\n",
              "      <td>2008</td>\n",
              "      <td>female</td>\n",
              "      <td>Adelie</td>\n",
              "      <td>25</td>\n",
              "    </tr>\n",
              "    <tr>\n",
              "      <th>0</th>\n",
              "      <td>2007</td>\n",
              "      <td>female</td>\n",
              "      <td>Adelie</td>\n",
              "      <td>22</td>\n",
              "    </tr>\n",
              "  </tbody>\n",
              "</table>\n",
              "</div>"
            ],
            "text/plain": [
              "    year     sex    species  island\n",
              "17  2009    male     Gentoo      21\n",
              "11  2008    male     Gentoo      23\n",
              "5   2007    male     Gentoo      17\n",
              "16  2009    male  Chinstrap      12\n",
              "10  2008    male  Chinstrap       9\n",
              "4   2007    male  Chinstrap      13\n",
              "15  2009    male     Adelie      26\n",
              "9   2008    male     Adelie      25\n",
              "3   2007    male     Adelie      22\n",
              "14  2009  female     Gentoo      20\n",
              "8   2008  female     Gentoo      22\n",
              "2   2007  female     Gentoo      16\n",
              "13  2009  female  Chinstrap      12\n",
              "7   2008  female  Chinstrap       9\n",
              "1   2007  female  Chinstrap      13\n",
              "12  2009  female     Adelie      26\n",
              "6   2008  female     Adelie      25\n",
              "0   2007  female     Adelie      22"
            ]
          },
          "metadata": {
            "tags": []
          },
          "execution_count": 29
        }
      ]
    },
    {
      "cell_type": "code",
      "metadata": {
        "id": "EgAwRoOY_8Ke",
        "colab_type": "code",
        "colab": {}
      },
      "source": [
        "# Preprocess\n",
        "## dump all na's throughout the df\n",
        "## dummy encode island\n",
        "## dummy encode species\n",
        "## dummy encode sex\n"
      ],
      "execution_count": null,
      "outputs": []
    },
    {
      "cell_type": "code",
      "metadata": {
        "id": "ZMUVr9nqP4kz",
        "colab_type": "code",
        "colab": {
          "base_uri": "https://localhost:8080/",
          "height": 173
        },
        "outputId": "37d23458-b322-4b20-cbde-a3188eb8c229"
      },
      "source": [
        "pg_data[pg_data.sex.isna() == False].isna().sum()"
      ],
      "execution_count": 45,
      "outputs": [
        {
          "output_type": "execute_result",
          "data": {
            "text/plain": [
              "species              0\n",
              "island               0\n",
              "bill_length_mm       0\n",
              "bill_depth_mm        0\n",
              "flipper_length_mm    0\n",
              "body_mass_g          0\n",
              "sex                  0\n",
              "year                 0\n",
              "dtype: int64"
            ]
          },
          "metadata": {
            "tags": []
          },
          "execution_count": 45
        }
      ]
    },
    {
      "cell_type": "code",
      "metadata": {
        "id": "SyrRTgoX-6ZU",
        "colab_type": "code",
        "colab": {}
      },
      "source": [
        "# remove na's\n",
        "pg_data = pg_data[pg_data.sex.isna() == False]\n",
        "\n",
        "# split x and y\n",
        "X = pg_data[[x for x in pg_data.columns.values  if x != 'sex']]\n",
        "y = pg_data['sex']"
      ],
      "execution_count": 46,
      "outputs": []
    },
    {
      "cell_type": "code",
      "metadata": {
        "id": "GB8I7xTu-GMu",
        "colab_type": "code",
        "colab": {}
      },
      "source": [
        "# train-test split\n",
        "X_train, X_test, y_train, y_test = train_test_split(X, y, test_size = 0.2, random_state = 8675309)"
      ],
      "execution_count": 47,
      "outputs": []
    },
    {
      "cell_type": "code",
      "metadata": {
        "id": "tpuk0NfNQUyo",
        "colab_type": "code",
        "colab": {}
      },
      "source": [
        "from sklearn.preprocessing import OneHotEncoder\n",
        "from sklearn.compose import make_column_transformer\n",
        "from sklearn.pipeline import make_pipeline\n",
        "from sklearn.linear_model import LogisticRegression\n",
        "from sklearn.model_selection import cross_val_score\n",
        "from sklearn.metrics import roc_auc_score, confusion_matrix, roc_curve, accuracy_score\n",
        "from sklearn.utils import resample\n",
        "from tqdm import tqdm"
      ],
      "execution_count": 141,
      "outputs": []
    },
    {
      "cell_type": "code",
      "metadata": {
        "id": "0_1EkDtUa3le",
        "colab_type": "code",
        "colab": {}
      },
      "source": [
        "log_reg = LogisticRegression(solver = 'lbfgs',\n",
        "                            random_state = 8675309,\n",
        "                             max_iter = 500)"
      ],
      "execution_count": 77,
      "outputs": []
    },
    {
      "cell_type": "code",
      "metadata": {
        "id": "GFxnBKGyR6Mg",
        "colab_type": "code",
        "colab": {}
      },
      "source": [
        "column_trans = make_column_transformer((OneHotEncoder(), \n",
        "                        ['island', 'species']),\n",
        "                        remainder = 'passthrough')"
      ],
      "execution_count": 78,
      "outputs": []
    },
    {
      "cell_type": "code",
      "metadata": {
        "id": "_-3Aohbyaks7",
        "colab_type": "code",
        "colab": {}
      },
      "source": [
        "preproc_pipeline = make_pipeline(column_trans, \n",
        "                                 log_reg)"
      ],
      "execution_count": 79,
      "outputs": []
    },
    {
      "cell_type": "code",
      "metadata": {
        "id": "g-Vaw-wzbtWu",
        "colab_type": "code",
        "colab": {
          "base_uri": "https://localhost:8080/",
          "height": 34
        },
        "outputId": "babeb061-fb4b-4309-dc0c-d7d51da269b1"
      },
      "source": [
        "cross_val_score(preproc_pipeline, X_train, y_train, cv = 10, scoring = \"accuracy\").mean()"
      ],
      "execution_count": 80,
      "outputs": [
        {
          "output_type": "execute_result",
          "data": {
            "text/plain": [
              "0.9361823361823362"
            ]
          },
          "metadata": {
            "tags": []
          },
          "execution_count": 80
        }
      ]
    },
    {
      "cell_type": "code",
      "metadata": {
        "id": "m9ZkWU0qcEbe",
        "colab_type": "code",
        "colab": {
          "base_uri": "https://localhost:8080/",
          "height": 399
        },
        "outputId": "c185acb4-9ebb-46f8-9b5f-b1e08453e9cf"
      },
      "source": [
        "preproc_pipeline.fit(X_train, y_train)"
      ],
      "execution_count": 82,
      "outputs": [
        {
          "output_type": "execute_result",
          "data": {
            "text/plain": [
              "Pipeline(memory=None,\n",
              "         steps=[('columntransformer',\n",
              "                 ColumnTransformer(n_jobs=None, remainder='passthrough',\n",
              "                                   sparse_threshold=0.3,\n",
              "                                   transformer_weights=None,\n",
              "                                   transformers=[('onehotencoder',\n",
              "                                                  OneHotEncoder(categories='auto',\n",
              "                                                                drop=None,\n",
              "                                                                dtype=<class 'numpy.float64'>,\n",
              "                                                                handle_unknown='error',\n",
              "                                                                sparse=True),\n",
              "                                                  ['island', 'species'])],\n",
              "                                   verbose=False)),\n",
              "                ('logisticregression',\n",
              "                 LogisticRegression(C=1.0, class_weight=None, dual=False,\n",
              "                                    fit_intercept=True, intercept_scaling=1,\n",
              "                                    l1_ratio=None, max_iter=500,\n",
              "                                    multi_class='auto', n_jobs=None,\n",
              "                                    penalty='l2', random_state=8675309,\n",
              "                                    solver='lbfgs', tol=0.0001, verbose=0,\n",
              "                                    warm_start=False))],\n",
              "         verbose=False)"
            ]
          },
          "metadata": {
            "tags": []
          },
          "execution_count": 82
        }
      ]
    },
    {
      "cell_type": "code",
      "metadata": {
        "id": "wOokaHQtczrh",
        "colab_type": "code",
        "colab": {}
      },
      "source": [
        "test_y_score = preproc_pipeline.predict_proba(X_test)[:, 1]\n",
        "test_y_label = preproc_pipeline.predict(X_test)"
      ],
      "execution_count": 107,
      "outputs": []
    },
    {
      "cell_type": "code",
      "metadata": {
        "id": "x3ULbJE7c-WC",
        "colab_type": "code",
        "colab": {}
      },
      "source": [
        "roc_auc = roc_auc_score(y_true = y_test.values,\n",
        "              y_score = test_y_score)"
      ],
      "execution_count": 106,
      "outputs": []
    },
    {
      "cell_type": "code",
      "metadata": {
        "id": "AE9jFdo-y_vH",
        "colab_type": "code",
        "colab": {
          "base_uri": "https://localhost:8080/",
          "height": 52
        },
        "outputId": "e2f4acbb-47c0-42d6-cfaa-1e29a8fcf4aa"
      },
      "source": [
        "conf_matrix = confusion_matrix(y_test, test_y_label)\n",
        "conf_matrix"
      ],
      "execution_count": 112,
      "outputs": [
        {
          "output_type": "execute_result",
          "data": {
            "text/plain": [
              "array([[34,  7],\n",
              "       [ 3, 23]])"
            ]
          },
          "metadata": {
            "tags": []
          },
          "execution_count": 112
        }
      ]
    },
    {
      "cell_type": "code",
      "metadata": {
        "id": "bGCxwFfj1d9F",
        "colab_type": "code",
        "colab": {}
      },
      "source": [
        "fpr, tpr, thresholds = roc_curve(y_test, test_y_score, pos_label = \"male\")\n",
        "roc_frame = pd.DataFrame(data = {'fpr': fpr,\n",
        "                     'tpr':tpr,\n",
        "                     'threshold': thresholds})"
      ],
      "execution_count": 122,
      "outputs": []
    },
    {
      "cell_type": "code",
      "metadata": {
        "id": "3vkrx06h3BEG",
        "colab_type": "code",
        "colab": {
          "base_uri": "https://localhost:8080/",
          "height": 368
        },
        "outputId": "c26f5943-c100-4f71-88d8-31c56e1d8be8"
      },
      "source": [
        "alt.Chart(roc_frame).mark_line().encode(\n",
        "    x='fpr',\n",
        "    y='tpr'\n",
        ").interactive()"
      ],
      "execution_count": 125,
      "outputs": [
        {
          "output_type": "execute_result",
          "data": {
            "text/plain": [
              "alt.Chart(...)"
            ],
            "text/html": [
              "\n",
              "<div id=\"altair-viz-14ff842bc8c749309d171ba682d0b3ad\"></div>\n",
              "<script type=\"text/javascript\">\n",
              "  (function(spec, embedOpt){\n",
              "    let outputDiv = document.currentScript.previousElementSibling;\n",
              "    if (outputDiv.id !== \"altair-viz-14ff842bc8c749309d171ba682d0b3ad\") {\n",
              "      outputDiv = document.getElementById(\"altair-viz-14ff842bc8c749309d171ba682d0b3ad\");\n",
              "    }\n",
              "    const paths = {\n",
              "      \"vega\": \"https://cdn.jsdelivr.net/npm//vega@5?noext\",\n",
              "      \"vega-lib\": \"https://cdn.jsdelivr.net/npm//vega-lib?noext\",\n",
              "      \"vega-lite\": \"https://cdn.jsdelivr.net/npm//vega-lite@4.8.1?noext\",\n",
              "      \"vega-embed\": \"https://cdn.jsdelivr.net/npm//vega-embed@6?noext\",\n",
              "    };\n",
              "\n",
              "    function loadScript(lib) {\n",
              "      return new Promise(function(resolve, reject) {\n",
              "        var s = document.createElement('script');\n",
              "        s.src = paths[lib];\n",
              "        s.async = true;\n",
              "        s.onload = () => resolve(paths[lib]);\n",
              "        s.onerror = () => reject(`Error loading script: ${paths[lib]}`);\n",
              "        document.getElementsByTagName(\"head\")[0].appendChild(s);\n",
              "      });\n",
              "    }\n",
              "\n",
              "    function showError(err) {\n",
              "      outputDiv.innerHTML = `<div class=\"error\" style=\"color:red;\">${err}</div>`;\n",
              "      throw err;\n",
              "    }\n",
              "\n",
              "    function displayChart(vegaEmbed) {\n",
              "      vegaEmbed(outputDiv, spec, embedOpt)\n",
              "        .catch(err => showError(`Javascript Error: ${err.message}<br>This usually means there's a typo in your chart specification. See the javascript console for the full traceback.`));\n",
              "    }\n",
              "\n",
              "    if(typeof define === \"function\" && define.amd) {\n",
              "      requirejs.config({paths});\n",
              "      require([\"vega-embed\"], displayChart, err => showError(`Error loading script: ${err.message}`));\n",
              "    } else if (typeof vegaEmbed === \"function\") {\n",
              "      displayChart(vegaEmbed);\n",
              "    } else {\n",
              "      loadScript(\"vega\")\n",
              "        .then(() => loadScript(\"vega-lite\"))\n",
              "        .then(() => loadScript(\"vega-embed\"))\n",
              "        .catch(showError)\n",
              "        .then(() => displayChart(vegaEmbed));\n",
              "    }\n",
              "  })({\"config\": {\"view\": {\"continuousWidth\": 400, \"continuousHeight\": 300}}, \"data\": {\"name\": \"data-ae7ba7888a70d56a134031aca76cc278\"}, \"mark\": \"line\", \"encoding\": {\"x\": {\"type\": \"quantitative\", \"field\": \"fpr\"}, \"y\": {\"type\": \"quantitative\", \"field\": \"tpr\"}}, \"selection\": {\"selector004\": {\"type\": \"interval\", \"bind\": \"scales\", \"encodings\": [\"x\", \"y\"]}}, \"$schema\": \"https://vega.github.io/schema/vega-lite/v4.8.1.json\", \"datasets\": {\"data-ae7ba7888a70d56a134031aca76cc278\": [{\"fpr\": 0.0, \"tpr\": 0.0, \"threshold\": 1.9999982673757628}, {\"fpr\": 0.0, \"tpr\": 0.038461538461538464, \"threshold\": 0.9999982673757628}, {\"fpr\": 0.0, \"tpr\": 0.7307692307692307, \"threshold\": 0.9697410640110878}, {\"fpr\": 0.024390243902439025, \"tpr\": 0.7307692307692307, \"threshold\": 0.9463478486406746}, {\"fpr\": 0.024390243902439025, \"tpr\": 0.8461538461538461, \"threshold\": 0.818925241166903}, {\"fpr\": 0.07317073170731707, \"tpr\": 0.8461538461538461, \"threshold\": 0.7033458600122967}, {\"fpr\": 0.07317073170731707, \"tpr\": 0.8846153846153846, \"threshold\": 0.6950809089897336}, {\"fpr\": 0.1951219512195122, \"tpr\": 0.8846153846153846, \"threshold\": 0.4648423106216694}, {\"fpr\": 0.1951219512195122, \"tpr\": 0.9230769230769231, \"threshold\": 0.42100201670825516}, {\"fpr\": 0.4878048780487805, \"tpr\": 0.9230769230769231, \"threshold\": 0.07800437168654643}, {\"fpr\": 0.4878048780487805, \"tpr\": 0.9615384615384616, \"threshold\": 0.0736536483966135}, {\"fpr\": 0.5609756097560976, \"tpr\": 0.9615384615384616, \"threshold\": 0.05512669609505256}, {\"fpr\": 0.5609756097560976, \"tpr\": 1.0, \"threshold\": 0.04108544659883475}, {\"fpr\": 1.0, \"tpr\": 1.0, \"threshold\": 8.857829113870232e-05}]}}, {\"mode\": \"vega-lite\"});\n",
              "</script>"
            ]
          },
          "metadata": {
            "tags": []
          },
          "execution_count": 125
        }
      ]
    },
    {
      "cell_type": "code",
      "metadata": {
        "id": "g2ts-SOq8uYB",
        "colab_type": "code",
        "colab": {
          "base_uri": "https://localhost:8080/",
          "height": 34
        },
        "outputId": "9ab3daa3-075f-43db-96d6-f5295ddb79a9"
      },
      "source": [
        "accuracy_score(y_true = y_test, y_pred = test_y_label)"
      ],
      "execution_count": 140,
      "outputs": [
        {
          "output_type": "execute_result",
          "data": {
            "text/plain": [
              "0.8507462686567164"
            ]
          },
          "metadata": {
            "tags": []
          },
          "execution_count": 140
        }
      ]
    },
    {
      "cell_type": "code",
      "metadata": {
        "id": "O5c0BVtH55sX",
        "colab_type": "code",
        "colab": {
          "base_uri": "https://localhost:8080/",
          "height": 1000
        },
        "outputId": "db3e4adf-6432-429a-cff2-3dcf236b2e44"
      },
      "source": [
        "help(sklearn.metrics.accuracy_score)"
      ],
      "execution_count": 138,
      "outputs": [
        {
          "output_type": "stream",
          "text": [
            "Help on function accuracy_score in module sklearn.metrics._classification:\n",
            "\n",
            "accuracy_score(y_true, y_pred, normalize=True, sample_weight=None)\n",
            "    Accuracy classification score.\n",
            "    \n",
            "    In multilabel classification, this function computes subset accuracy:\n",
            "    the set of labels predicted for a sample must *exactly* match the\n",
            "    corresponding set of labels in y_true.\n",
            "    \n",
            "    Read more in the :ref:`User Guide <accuracy_score>`.\n",
            "    \n",
            "    Parameters\n",
            "    ----------\n",
            "    y_true : 1d array-like, or label indicator array / sparse matrix\n",
            "        Ground truth (correct) labels.\n",
            "    \n",
            "    y_pred : 1d array-like, or label indicator array / sparse matrix\n",
            "        Predicted labels, as returned by a classifier.\n",
            "    \n",
            "    normalize : bool, optional (default=True)\n",
            "        If ``False``, return the number of correctly classified samples.\n",
            "        Otherwise, return the fraction of correctly classified samples.\n",
            "    \n",
            "    sample_weight : array-like of shape (n_samples,), default=None\n",
            "        Sample weights.\n",
            "    \n",
            "    Returns\n",
            "    -------\n",
            "    score : float\n",
            "        If ``normalize == True``, return the fraction of correctly\n",
            "        classified samples (float), else returns the number of correctly\n",
            "        classified samples (int).\n",
            "    \n",
            "        The best performance is 1 with ``normalize == True`` and the number\n",
            "        of samples with ``normalize == False``.\n",
            "    \n",
            "    See also\n",
            "    --------\n",
            "    jaccard_score, hamming_loss, zero_one_loss\n",
            "    \n",
            "    Notes\n",
            "    -----\n",
            "    In binary and multiclass classification, this function is equal\n",
            "    to the ``jaccard_score`` function.\n",
            "    \n",
            "    Examples\n",
            "    --------\n",
            "    >>> from sklearn.metrics import accuracy_score\n",
            "    >>> y_pred = [0, 2, 1, 3]\n",
            "    >>> y_true = [0, 1, 2, 3]\n",
            "    >>> accuracy_score(y_true, y_pred)\n",
            "    0.5\n",
            "    >>> accuracy_score(y_true, y_pred, normalize=False)\n",
            "    2\n",
            "    \n",
            "    In the multilabel case with binary label indicators:\n",
            "    \n",
            "    >>> import numpy as np\n",
            "    >>> accuracy_score(np.array([[0, 1], [1, 1]]), np.ones((2, 2)))\n",
            "    0.5\n",
            "\n"
          ],
          "name": "stdout"
        }
      ]
    },
    {
      "cell_type": "code",
      "metadata": {
        "id": "xYUkocb93xUZ",
        "colab_type": "code",
        "colab": {}
      },
      "source": [
        "# creating bootstrapped datasets\n",
        "boot = resample(pg_data, replace=True, random_state=8675309)"
      ],
      "execution_count": 128,
      "outputs": []
    },
    {
      "cell_type": "code",
      "metadata": {
        "id": "9JQnmZ7e6JpL",
        "colab_type": "code",
        "colab": {
          "base_uri": "https://localhost:8080/",
          "height": 660
        },
        "outputId": "c1552aa7-dd86-47b8-969e-c59c4abd611d"
      },
      "source": [
        "# bootstraping\n",
        "\n",
        "summary_frame = pd.DataFrame()\n",
        "roc_frame = pd.DataFrame()\n",
        "for i in tqdm(range(25)):\n",
        "  # resample the data frame\n",
        "  boot = resample(pg_data, replace=True, random_state=i)\n",
        "  X = boot[[x for x in boot.columns.values  if x != 'sex']]\n",
        "  y = boot['sex']\n",
        "  X_train, X_test, y_train, y_test = train_test_split(X, y)\n",
        "  preproc_pipeline.fit(X_train, y_train)\n",
        "  test_y_score = preproc_pipeline.predict_proba(X_test)[:, 1]\n",
        "  test_y_label = preproc_pipeline.predict(X_test)\n",
        "  roc_auc = roc_auc_score(y_true = y_test.values,\n",
        "              y_score = test_y_score)\n",
        "  acc = accuracy_score(y_true = y_test, y_pred = test_y_label)\n",
        "  fpr, tpr, thresholds = roc_curve(y_test, test_y_score, pos_label = \"male\")\n",
        "  # add on the roc and acc metrics\n",
        "  summary_row = pd.DataFrame([[i, roc_auc, acc]], columns=['bootstrap', 'roc_auc', 'accuracy'])\n",
        "  summary_frame = summary_frame.append(summary_row)\n",
        "\n",
        "  # add on fpr, tpr, thresholds\n",
        "  roc_rows = pd.DataFrame({'bootstrap': np.repeat(str(i), len(fpr)), \n",
        "                           'fpr': fpr,\n",
        "                           'tpr': tpr,\n",
        "                           'threshold': thresholds})\n",
        "  roc_frame = roc_frame.append(roc_rows)\n"
      ],
      "execution_count": 218,
      "outputs": [
        {
          "output_type": "stream",
          "text": [
            "\n",
            "\n",
            "\n",
            "  0%|          | 0/25 [00:00<?, ?it/s]\u001b[A\u001b[A\u001b[A\n",
            "\n",
            "\n",
            "  8%|▊         | 2/25 [00:00<00:01, 17.43it/s]\u001b[A\u001b[A\u001b[A\n",
            "\n",
            "\n",
            " 16%|█▌        | 4/25 [00:00<00:01, 17.27it/s]\u001b[A\u001b[A\u001b[A\n",
            "\n",
            "\n",
            " 24%|██▍       | 6/25 [00:00<00:01, 16.92it/s]\u001b[A\u001b[A\u001b[A\n",
            "\n",
            "\n",
            " 32%|███▏      | 8/25 [00:00<00:00, 17.35it/s]\u001b[A\u001b[A\u001b[A\n",
            "\n",
            "\n",
            " 44%|████▍     | 11/25 [00:00<00:00, 18.48it/s]\u001b[A\u001b[A\u001b[A\n",
            "\n",
            "\n",
            " 52%|█████▏    | 13/25 [00:00<00:00, 18.01it/s]\u001b[A\u001b[A\u001b[A\n",
            "\n",
            "\n",
            " 60%|██████    | 15/25 [00:00<00:00, 17.55it/s]\u001b[A\u001b[A\u001b[A\n",
            "\n",
            "\n",
            " 68%|██████▊   | 17/25 [00:00<00:00, 18.05it/s]\u001b[A\u001b[A\u001b[A\n",
            "\n",
            "\n",
            " 80%|████████  | 20/25 [00:01<00:00, 18.83it/s]\u001b[A\u001b[A\u001b[A\n",
            "\n",
            "\n",
            " 88%|████████▊ | 22/25 [00:01<00:00, 18.06it/s]\u001b[A\u001b[A\u001b[A\n",
            "\n",
            "\n",
            "100%|██████████| 25/25 [00:01<00:00, 17.65it/s]\n"
          ],
          "name": "stderr"
        }
      ]
    },
    {
      "cell_type": "code",
      "metadata": {
        "id": "uwXZKgmB6sHg",
        "colab_type": "code",
        "colab": {
          "base_uri": "https://localhost:8080/",
          "height": 69
        },
        "outputId": "d062475b-5833-4f0b-f844-779d5bb9020d"
      },
      "source": [
        "summary_frame[['roc_auc', 'accuracy']].mean()"
      ],
      "execution_count": 153,
      "outputs": [
        {
          "output_type": "execute_result",
          "data": {
            "text/plain": [
              "roc_auc     0.974952\n",
              "accuracy    0.910952\n",
              "dtype: float64"
            ]
          },
          "metadata": {
            "tags": []
          },
          "execution_count": 153
        }
      ]
    },
    {
      "cell_type": "code",
      "metadata": {
        "id": "60vCHTC4_UZw",
        "colab_type": "code",
        "colab": {}
      },
      "source": [
        "summary_melt = summary_frame.melt(id_vars = 'bootstrap', var_name = 'summary_metric') \\\n",
        "\n",
        "summary_mean = summary_melt[['summary_metric', 'value']] \\\n",
        "  .groupby('summary_metric', as_index = False) \\\n",
        "  .mean() \\\n",
        "  .rename(columns = {'value': 'mean'})\n",
        "\n",
        "summary_melt = summary_melt.merge(summary_mean, \n",
        "                                  how = 'inner',\n",
        "                                  on = ['summary_metric'])"
      ],
      "execution_count": 183,
      "outputs": []
    },
    {
      "cell_type": "code",
      "metadata": {
        "id": "xaOExQEpIdiy",
        "colab_type": "code",
        "colab": {
          "base_uri": "https://localhost:8080/",
          "height": 34
        },
        "outputId": "1bf3b400-0cc3-4ebb-a405-b4b2357dccea"
      },
      "source": [
        "summary_melt.columns.values"
      ],
      "execution_count": 196,
      "outputs": [
        {
          "output_type": "execute_result",
          "data": {
            "text/plain": [
              "array(['bootstrap', 'summary_metric', 'value', 'mean'], dtype=object)"
            ]
          },
          "metadata": {
            "tags": []
          },
          "execution_count": 196
        }
      ]
    },
    {
      "cell_type": "code",
      "metadata": {
        "id": "sG01Aghs-aPk",
        "colab_type": "code",
        "colab": {
          "base_uri": "https://localhost:8080/",
          "height": 694
        },
        "outputId": "705393ea-8b60-4877-eed8-0fe673aa66bf"
      },
      "source": [
        "chart_one = alt.Chart().mar k_bar().encode(\n",
        "    alt.X(\"value:Q\", bin=True),\n",
        "    y='count()',\n",
        "    color = 'summary_metric',\n",
        "    strokeDash = 'mean') #,\n",
        "    # column='summary_metric'\n",
        "\n",
        "rule = alt.Chart().mark_rule(color='red').encode(\n",
        "    x='mean(value):Q'\n",
        ")\n",
        "# chart_two = alt.Chart().mark_rule().encode(\n",
        "#     x='mean')\n",
        "\n",
        "(chart_one + rule).facet(row='summary_metric', data=summary_melt)"
      ],
      "execution_count": 204,
      "outputs": [
        {
          "output_type": "execute_result",
          "data": {
            "text/plain": [
              "alt.FacetChart(...)"
            ],
            "text/html": [
              "\n",
              "<div id=\"altair-viz-de5a6f43d90d4b03b31d2e2a374569c9\"></div>\n",
              "<script type=\"text/javascript\">\n",
              "  (function(spec, embedOpt){\n",
              "    let outputDiv = document.currentScript.previousElementSibling;\n",
              "    if (outputDiv.id !== \"altair-viz-de5a6f43d90d4b03b31d2e2a374569c9\") {\n",
              "      outputDiv = document.getElementById(\"altair-viz-de5a6f43d90d4b03b31d2e2a374569c9\");\n",
              "    }\n",
              "    const paths = {\n",
              "      \"vega\": \"https://cdn.jsdelivr.net/npm//vega@5?noext\",\n",
              "      \"vega-lib\": \"https://cdn.jsdelivr.net/npm//vega-lib?noext\",\n",
              "      \"vega-lite\": \"https://cdn.jsdelivr.net/npm//vega-lite@4.8.1?noext\",\n",
              "      \"vega-embed\": \"https://cdn.jsdelivr.net/npm//vega-embed@6?noext\",\n",
              "    };\n",
              "\n",
              "    function loadScript(lib) {\n",
              "      return new Promise(function(resolve, reject) {\n",
              "        var s = document.createElement('script');\n",
              "        s.src = paths[lib];\n",
              "        s.async = true;\n",
              "        s.onload = () => resolve(paths[lib]);\n",
              "        s.onerror = () => reject(`Error loading script: ${paths[lib]}`);\n",
              "        document.getElementsByTagName(\"head\")[0].appendChild(s);\n",
              "      });\n",
              "    }\n",
              "\n",
              "    function showError(err) {\n",
              "      outputDiv.innerHTML = `<div class=\"error\" style=\"color:red;\">${err}</div>`;\n",
              "      throw err;\n",
              "    }\n",
              "\n",
              "    function displayChart(vegaEmbed) {\n",
              "      vegaEmbed(outputDiv, spec, embedOpt)\n",
              "        .catch(err => showError(`Javascript Error: ${err.message}<br>This usually means there's a typo in your chart specification. See the javascript console for the full traceback.`));\n",
              "    }\n",
              "\n",
              "    if(typeof define === \"function\" && define.amd) {\n",
              "      requirejs.config({paths});\n",
              "      require([\"vega-embed\"], displayChart, err => showError(`Error loading script: ${err.message}`));\n",
              "    } else if (typeof vegaEmbed === \"function\") {\n",
              "      displayChart(vegaEmbed);\n",
              "    } else {\n",
              "      loadScript(\"vega\")\n",
              "        .then(() => loadScript(\"vega-lite\"))\n",
              "        .then(() => loadScript(\"vega-embed\"))\n",
              "        .catch(showError)\n",
              "        .then(() => displayChart(vegaEmbed));\n",
              "    }\n",
              "  })({\"config\": {\"view\": {\"continuousWidth\": 400, \"continuousHeight\": 300}}, \"data\": {\"name\": \"data-d75022ec17257bab81a41c6b99fddf98\"}, \"facet\": {\"row\": {\"type\": \"nominal\", \"field\": \"summary_metric\"}}, \"spec\": {\"layer\": [{\"mark\": \"bar\", \"encoding\": {\"color\": {\"type\": \"nominal\", \"field\": \"summary_metric\"}, \"strokeDash\": {\"type\": \"quantitative\", \"field\": \"mean\"}, \"x\": {\"type\": \"quantitative\", \"bin\": true, \"field\": \"value\"}, \"y\": {\"type\": \"quantitative\", \"aggregate\": \"count\"}}}, {\"mark\": {\"type\": \"rule\", \"color\": \"red\"}, \"encoding\": {\"x\": {\"type\": \"quantitative\", \"aggregate\": \"mean\", \"field\": \"value\"}}}]}, \"$schema\": \"https://vega.github.io/schema/vega-lite/v4.8.1.json\", \"datasets\": {\"data-d75022ec17257bab81a41c6b99fddf98\": [{\"bootstrap\": 0, \"summary_metric\": \"roc_auc\", \"value\": 0.9739583333333334, \"mean\": 0.9749519255303674}, {\"bootstrap\": 1, \"summary_metric\": \"roc_auc\", \"value\": 0.9875283446712018, \"mean\": 0.9749519255303674}, {\"bootstrap\": 2, \"summary_metric\": \"roc_auc\", \"value\": 0.9742562929061785, \"mean\": 0.9749519255303674}, {\"bootstrap\": 3, \"summary_metric\": \"roc_auc\", \"value\": 0.9698005698005697, \"mean\": 0.9749519255303674}, {\"bootstrap\": 4, \"summary_metric\": \"roc_auc\", \"value\": 0.9801474758933636, \"mean\": 0.9749519255303674}, {\"bootstrap\": 5, \"summary_metric\": \"roc_auc\", \"value\": 0.9888235294117647, \"mean\": 0.9749519255303674}, {\"bootstrap\": 6, \"summary_metric\": \"roc_auc\", \"value\": 0.9943278502552466, \"mean\": 0.9749519255303674}, {\"bootstrap\": 7, \"summary_metric\": \"roc_auc\", \"value\": 0.9849537037037037, \"mean\": 0.9749519255303674}, {\"bootstrap\": 8, \"summary_metric\": \"roc_auc\", \"value\": 0.9513729977116705, \"mean\": 0.9749519255303674}, {\"bootstrap\": 9, \"summary_metric\": \"roc_auc\", \"value\": 0.979013045944413, \"mean\": 0.9749519255303674}, {\"bootstrap\": 10, \"summary_metric\": \"roc_auc\", \"value\": 0.9576659038901602, \"mean\": 0.9749519255303674}, {\"bootstrap\": 11, \"summary_metric\": \"roc_auc\", \"value\": 0.9675925925925927, \"mean\": 0.9749519255303674}, {\"bootstrap\": 12, \"summary_metric\": \"roc_auc\", \"value\": 0.9909245604083948, \"mean\": 0.9749519255303674}, {\"bootstrap\": 13, \"summary_metric\": \"roc_auc\", \"value\": 0.9931350114416476, \"mean\": 0.9749519255303674}, {\"bootstrap\": 14, \"summary_metric\": \"roc_auc\", \"value\": 0.9856979405034325, \"mean\": 0.9749519255303674}, {\"bootstrap\": 15, \"summary_metric\": \"roc_auc\", \"value\": 0.961670480549199, \"mean\": 0.9749519255303674}, {\"bootstrap\": 16, \"summary_metric\": \"roc_auc\", \"value\": 0.9982905982905983, \"mean\": 0.9749519255303674}, {\"bootstrap\": 17, \"summary_metric\": \"roc_auc\", \"value\": 0.9784090909090909, \"mean\": 0.9749519255303674}, {\"bootstrap\": 18, \"summary_metric\": \"roc_auc\", \"value\": 0.9615160349854228, \"mean\": 0.9749519255303674}, {\"bootstrap\": 19, \"summary_metric\": \"roc_auc\", \"value\": 0.9698863636363636, \"mean\": 0.9749519255303674}, {\"bootstrap\": 20, \"summary_metric\": \"roc_auc\", \"value\": 0.9829931972789115, \"mean\": 0.9749519255303674}, {\"bootstrap\": 21, \"summary_metric\": \"roc_auc\", \"value\": 0.915903890160183, \"mean\": 0.9749519255303674}, {\"bootstrap\": 22, \"summary_metric\": \"roc_auc\", \"value\": 0.9784580498866212, \"mean\": 0.9749519255303674}, {\"bootstrap\": 23, \"summary_metric\": \"roc_auc\", \"value\": 0.9636982416335791, \"mean\": 0.9749519255303674}, {\"bootstrap\": 24, \"summary_metric\": \"roc_auc\", \"value\": 0.9837740384615384, \"mean\": 0.9749519255303674}, {\"bootstrap\": 0, \"summary_metric\": \"accuracy\", \"value\": 0.9047619047619048, \"mean\": 0.9109523809523807}, {\"bootstrap\": 1, \"summary_metric\": \"accuracy\", \"value\": 0.9404761904761905, \"mean\": 0.9109523809523807}, {\"bootstrap\": 2, \"summary_metric\": \"accuracy\", \"value\": 0.8928571428571429, \"mean\": 0.9109523809523807}, {\"bootstrap\": 3, \"summary_metric\": \"accuracy\", \"value\": 0.9166666666666666, \"mean\": 0.9109523809523807}, {\"bootstrap\": 4, \"summary_metric\": \"accuracy\", \"value\": 0.9047619047619048, \"mean\": 0.9109523809523807}, {\"bootstrap\": 5, \"summary_metric\": \"accuracy\", \"value\": 0.9166666666666666, \"mean\": 0.9109523809523807}, {\"bootstrap\": 6, \"summary_metric\": \"accuracy\", \"value\": 0.9642857142857143, \"mean\": 0.9109523809523807}, {\"bootstrap\": 7, \"summary_metric\": \"accuracy\", \"value\": 0.9523809523809523, \"mean\": 0.9109523809523807}, {\"bootstrap\": 8, \"summary_metric\": \"accuracy\", \"value\": 0.9166666666666666, \"mean\": 0.9109523809523807}, {\"bootstrap\": 9, \"summary_metric\": \"accuracy\", \"value\": 0.8928571428571429, \"mean\": 0.9109523809523807}, {\"bootstrap\": 10, \"summary_metric\": \"accuracy\", \"value\": 0.9047619047619048, \"mean\": 0.9109523809523807}, {\"bootstrap\": 11, \"summary_metric\": \"accuracy\", \"value\": 0.8928571428571429, \"mean\": 0.9109523809523807}, {\"bootstrap\": 12, \"summary_metric\": \"accuracy\", \"value\": 0.9166666666666666, \"mean\": 0.9109523809523807}, {\"bootstrap\": 13, \"summary_metric\": \"accuracy\", \"value\": 0.9285714285714286, \"mean\": 0.9109523809523807}, {\"bootstrap\": 14, \"summary_metric\": \"accuracy\", \"value\": 0.9166666666666666, \"mean\": 0.9109523809523807}, {\"bootstrap\": 15, \"summary_metric\": \"accuracy\", \"value\": 0.8690476190476191, \"mean\": 0.9109523809523807}, {\"bootstrap\": 16, \"summary_metric\": \"accuracy\", \"value\": 0.9761904761904762, \"mean\": 0.9109523809523807}, {\"bootstrap\": 17, \"summary_metric\": \"accuracy\", \"value\": 0.9166666666666666, \"mean\": 0.9109523809523807}, {\"bootstrap\": 18, \"summary_metric\": \"accuracy\", \"value\": 0.9285714285714286, \"mean\": 0.9109523809523807}, {\"bootstrap\": 19, \"summary_metric\": \"accuracy\", \"value\": 0.9285714285714286, \"mean\": 0.9109523809523807}, {\"bootstrap\": 20, \"summary_metric\": \"accuracy\", \"value\": 0.8928571428571429, \"mean\": 0.9109523809523807}, {\"bootstrap\": 21, \"summary_metric\": \"accuracy\", \"value\": 0.7619047619047619, \"mean\": 0.9109523809523807}, {\"bootstrap\": 22, \"summary_metric\": \"accuracy\", \"value\": 0.9166666666666666, \"mean\": 0.9109523809523807}, {\"bootstrap\": 23, \"summary_metric\": \"accuracy\", \"value\": 0.8809523809523809, \"mean\": 0.9109523809523807}, {\"bootstrap\": 24, \"summary_metric\": \"accuracy\", \"value\": 0.9404761904761905, \"mean\": 0.9109523809523807}]}}, {\"mode\": \"vega-lite\"});\n",
              "</script>"
            ]
          },
          "metadata": {
            "tags": []
          },
          "execution_count": 204
        }
      ]
    },
    {
      "cell_type": "code",
      "metadata": {
        "id": "f0XiR86m_20S",
        "colab_type": "code",
        "colab": {
          "base_uri": "https://localhost:8080/",
          "height": 206
        },
        "outputId": "fa16824b-6fb2-4cd4-c25e-e683ef9136e9"
      },
      "source": [
        "roc_frame.head()"
      ],
      "execution_count": 219,
      "outputs": [
        {
          "output_type": "execute_result",
          "data": {
            "text/html": [
              "<div>\n",
              "<style scoped>\n",
              "    .dataframe tbody tr th:only-of-type {\n",
              "        vertical-align: middle;\n",
              "    }\n",
              "\n",
              "    .dataframe tbody tr th {\n",
              "        vertical-align: top;\n",
              "    }\n",
              "\n",
              "    .dataframe thead th {\n",
              "        text-align: right;\n",
              "    }\n",
              "</style>\n",
              "<table border=\"1\" class=\"dataframe\">\n",
              "  <thead>\n",
              "    <tr style=\"text-align: right;\">\n",
              "      <th></th>\n",
              "      <th>bootstrap</th>\n",
              "      <th>fpr</th>\n",
              "      <th>tpr</th>\n",
              "      <th>threshold</th>\n",
              "    </tr>\n",
              "  </thead>\n",
              "  <tbody>\n",
              "    <tr>\n",
              "      <th>0</th>\n",
              "      <td>0</td>\n",
              "      <td>0.0</td>\n",
              "      <td>0.000000</td>\n",
              "      <td>1.999981</td>\n",
              "    </tr>\n",
              "    <tr>\n",
              "      <th>1</th>\n",
              "      <td>0</td>\n",
              "      <td>0.0</td>\n",
              "      <td>0.022222</td>\n",
              "      <td>0.999981</td>\n",
              "    </tr>\n",
              "    <tr>\n",
              "      <th>2</th>\n",
              "      <td>0</td>\n",
              "      <td>0.0</td>\n",
              "      <td>0.088889</td>\n",
              "      <td>0.999906</td>\n",
              "    </tr>\n",
              "    <tr>\n",
              "      <th>3</th>\n",
              "      <td>0</td>\n",
              "      <td>0.0</td>\n",
              "      <td>0.133333</td>\n",
              "      <td>0.999573</td>\n",
              "    </tr>\n",
              "    <tr>\n",
              "      <th>4</th>\n",
              "      <td>0</td>\n",
              "      <td>0.0</td>\n",
              "      <td>0.177778</td>\n",
              "      <td>0.999527</td>\n",
              "    </tr>\n",
              "  </tbody>\n",
              "</table>\n",
              "</div>"
            ],
            "text/plain": [
              "  bootstrap  fpr       tpr  threshold\n",
              "0         0  0.0  0.000000   1.999981\n",
              "1         0  0.0  0.022222   0.999981\n",
              "2         0  0.0  0.088889   0.999906\n",
              "3         0  0.0  0.133333   0.999573\n",
              "4         0  0.0  0.177778   0.999527"
            ]
          },
          "metadata": {
            "tags": []
          },
          "execution_count": 219
        }
      ]
    },
    {
      "cell_type": "code",
      "metadata": {
        "id": "wFzdSs66Q4fr",
        "colab_type": "code",
        "colab": {
          "base_uri": "https://localhost:8080/",
          "height": 375
        },
        "outputId": "9c7ff23c-1a81-4dd9-ed28-0dd3b87e4a92"
      },
      "source": [
        "alt.Chart(roc_frame).mark_line().encode(\n",
        "    x = 'fpr',\n",
        "    y = 'tpr',\n",
        "    color = 'bootstrap',\n",
        ")"
      ],
      "execution_count": 220,
      "outputs": [
        {
          "output_type": "execute_result",
          "data": {
            "text/plain": [
              "alt.Chart(...)"
            ],
            "text/html": [
              "\n",
              "<div id=\"altair-viz-0639b95af7344389b2d35de01a74bf11\"></div>\n",
              "<script type=\"text/javascript\">\n",
              "  (function(spec, embedOpt){\n",
              "    let outputDiv = document.currentScript.previousElementSibling;\n",
              "    if (outputDiv.id !== \"altair-viz-0639b95af7344389b2d35de01a74bf11\") {\n",
              "      outputDiv = document.getElementById(\"altair-viz-0639b95af7344389b2d35de01a74bf11\");\n",
              "    }\n",
              "    const paths = {\n",
              "      \"vega\": \"https://cdn.jsdelivr.net/npm//vega@5?noext\",\n",
              "      \"vega-lib\": \"https://cdn.jsdelivr.net/npm//vega-lib?noext\",\n",
              "      \"vega-lite\": \"https://cdn.jsdelivr.net/npm//vega-lite@4.8.1?noext\",\n",
              "      \"vega-embed\": \"https://cdn.jsdelivr.net/npm//vega-embed@6?noext\",\n",
              "    };\n",
              "\n",
              "    function loadScript(lib) {\n",
              "      return new Promise(function(resolve, reject) {\n",
              "        var s = document.createElement('script');\n",
              "        s.src = paths[lib];\n",
              "        s.async = true;\n",
              "        s.onload = () => resolve(paths[lib]);\n",
              "        s.onerror = () => reject(`Error loading script: ${paths[lib]}`);\n",
              "        document.getElementsByTagName(\"head\")[0].appendChild(s);\n",
              "      });\n",
              "    }\n",
              "\n",
              "    function showError(err) {\n",
              "      outputDiv.innerHTML = `<div class=\"error\" style=\"color:red;\">${err}</div>`;\n",
              "      throw err;\n",
              "    }\n",
              "\n",
              "    function displayChart(vegaEmbed) {\n",
              "      vegaEmbed(outputDiv, spec, embedOpt)\n",
              "        .catch(err => showError(`Javascript Error: ${err.message}<br>This usually means there's a typo in your chart specification. See the javascript console for the full traceback.`));\n",
              "    }\n",
              "\n",
              "    if(typeof define === \"function\" && define.amd) {\n",
              "      requirejs.config({paths});\n",
              "      require([\"vega-embed\"], displayChart, err => showError(`Error loading script: ${err.message}`));\n",
              "    } else if (typeof vegaEmbed === \"function\") {\n",
              "      displayChart(vegaEmbed);\n",
              "    } else {\n",
              "      loadScript(\"vega\")\n",
              "        .then(() => loadScript(\"vega-lite\"))\n",
              "        .then(() => loadScript(\"vega-embed\"))\n",
              "        .catch(showError)\n",
              "        .then(() => displayChart(vegaEmbed));\n",
              "    }\n",
              "  })({\"config\": {\"view\": {\"continuousWidth\": 400, \"continuousHeight\": 300}}, \"data\": {\"name\": \"data-8ad5d0b6e77c28111198aa864ec831ff\"}, \"mark\": \"line\", \"encoding\": {\"color\": {\"type\": \"nominal\", \"field\": \"bootstrap\"}, \"x\": {\"type\": \"quantitative\", \"field\": \"fpr\"}, \"y\": {\"type\": \"quantitative\", \"field\": \"tpr\"}}, \"$schema\": \"https://vega.github.io/schema/vega-lite/v4.8.1.json\", \"datasets\": {\"data-8ad5d0b6e77c28111198aa864ec831ff\": [{\"bootstrap\": \"0\", \"fpr\": 0.0, \"tpr\": 0.0, \"threshold\": 1.999980846855622}, {\"bootstrap\": \"0\", \"fpr\": 0.0, \"tpr\": 0.022222222222222223, \"threshold\": 0.9999808468556218}, {\"bootstrap\": \"0\", \"fpr\": 0.0, \"tpr\": 0.08888888888888889, \"threshold\": 0.9999055511525421}, {\"bootstrap\": \"0\", \"fpr\": 0.0, \"tpr\": 0.13333333333333333, \"threshold\": 0.9995729189906873}, {\"bootstrap\": \"0\", \"fpr\": 0.0, \"tpr\": 0.17777777777777778, \"threshold\": 0.9995274856603623}, {\"bootstrap\": \"0\", \"fpr\": 0.0, \"tpr\": 0.2222222222222222, \"threshold\": 0.9985702777913361}, {\"bootstrap\": \"0\", \"fpr\": 0.0, \"tpr\": 0.26666666666666666, \"threshold\": 0.9967330698689021}, {\"bootstrap\": \"0\", \"fpr\": 0.0, \"tpr\": 0.28888888888888886, \"threshold\": 0.9959170231342003}, {\"bootstrap\": \"0\", \"fpr\": 0.0, \"tpr\": 0.3333333333333333, \"threshold\": 0.9936778335654033}, {\"bootstrap\": \"0\", \"fpr\": 0.0, \"tpr\": 0.35555555555555557, \"threshold\": 0.9934989800495934}, {\"bootstrap\": \"0\", \"fpr\": 0.0, \"tpr\": 0.4, \"threshold\": 0.9915061443868963}, {\"bootstrap\": \"0\", \"fpr\": 0.0, \"tpr\": 0.6, \"threshold\": 0.9667314710278843}, {\"bootstrap\": \"0\", \"fpr\": 0.0, \"tpr\": 0.6444444444444445, \"threshold\": 0.964184725578121}, {\"bootstrap\": \"0\", \"fpr\": 0.0, \"tpr\": 0.6888888888888889, \"threshold\": 0.949024071137143}, {\"bootstrap\": \"0\", \"fpr\": 0.02564102564102564, \"tpr\": 0.6888888888888889, \"threshold\": 0.9354174993218973}, {\"bootstrap\": \"0\", \"fpr\": 0.02564102564102564, \"tpr\": 0.8, \"threshold\": 0.8590083353358515}, {\"bootstrap\": \"0\", \"fpr\": 0.02564102564102564, \"tpr\": 0.8444444444444444, \"threshold\": 0.8448418407850983}, {\"bootstrap\": \"0\", \"fpr\": 0.02564102564102564, \"tpr\": 0.9333333333333333, \"threshold\": 0.6984036718337563}, {\"bootstrap\": \"0\", \"fpr\": 0.10256410256410256, \"tpr\": 0.9333333333333333, \"threshold\": 0.6693846067445155}, {\"bootstrap\": \"0\", \"fpr\": 0.10256410256410256, \"tpr\": 0.9777777777777777, \"threshold\": 0.6622460801106202}, {\"bootstrap\": \"0\", \"fpr\": 0.1282051282051282, \"tpr\": 0.9777777777777777, \"threshold\": 0.5014698433218012}, {\"bootstrap\": \"0\", \"fpr\": 0.1282051282051282, \"tpr\": 1.0, \"threshold\": 0.4745243682867695}, {\"bootstrap\": \"0\", \"fpr\": 0.15384615384615385, \"tpr\": 1.0, \"threshold\": 0.28702090902987243}, {\"bootstrap\": \"0\", \"fpr\": 0.20512820512820512, \"tpr\": 1.0, \"threshold\": 0.27335828361003955}, {\"bootstrap\": \"0\", \"fpr\": 0.23076923076923078, \"tpr\": 1.0, \"threshold\": 0.18203573886880497}, {\"bootstrap\": \"0\", \"fpr\": 0.28205128205128205, \"tpr\": 1.0, \"threshold\": 0.16224828306300978}, {\"bootstrap\": \"0\", \"fpr\": 0.48717948717948717, \"tpr\": 1.0, \"threshold\": 0.05321806732713928}, {\"bootstrap\": \"0\", \"fpr\": 0.5384615384615384, \"tpr\": 1.0, \"threshold\": 0.022501398719175506}, {\"bootstrap\": \"0\", \"fpr\": 0.7435897435897436, \"tpr\": 1.0, \"threshold\": 0.0069420361273780555}, {\"bootstrap\": \"0\", \"fpr\": 0.7948717948717948, \"tpr\": 1.0, \"threshold\": 0.004925310660022498}, {\"bootstrap\": \"0\", \"fpr\": 1.0, \"tpr\": 1.0, \"threshold\": 3.1221983462343766e-05}, {\"bootstrap\": \"1\", \"fpr\": 0.0, \"tpr\": 0.0, \"threshold\": 1.99972671257474}, {\"bootstrap\": \"1\", \"fpr\": 0.0, \"tpr\": 0.02857142857142857, \"threshold\": 0.9997267125747401}, {\"bootstrap\": \"1\", \"fpr\": 0.0, \"tpr\": 0.6, \"threshold\": 0.8731031834857031}, {\"bootstrap\": \"1\", \"fpr\": 0.02040816326530612, \"tpr\": 0.6, \"threshold\": 0.8487891199848536}, {\"bootstrap\": \"1\", \"fpr\": 0.02040816326530612, \"tpr\": 0.6571428571428571, \"threshold\": 0.8348447579572918}, {\"bootstrap\": \"1\", \"fpr\": 0.04081632653061224, \"tpr\": 0.6571428571428571, \"threshold\": 0.829200330833871}, {\"bootstrap\": \"1\", \"fpr\": 0.04081632653061224, \"tpr\": 0.7142857142857143, \"threshold\": 0.8230739735583563}, {\"bootstrap\": \"1\", \"fpr\": 0.04081632653061224, \"tpr\": 0.8571428571428571, \"threshold\": 0.6626179691611198}, {\"bootstrap\": \"1\", \"fpr\": 0.061224489795918366, \"tpr\": 0.8571428571428571, \"threshold\": 0.6531122654698609}, {\"bootstrap\": \"1\", \"fpr\": 0.061224489795918366, \"tpr\": 0.9142857142857143, \"threshold\": 0.6153307408254979}, {\"bootstrap\": \"1\", \"fpr\": 0.12244897959183673, \"tpr\": 0.9142857142857143, \"threshold\": 0.5417937394132023}, {\"bootstrap\": \"1\", \"fpr\": 0.12244897959183673, \"tpr\": 0.9428571428571428, \"threshold\": 0.5216865349336525}, {\"bootstrap\": \"1\", \"fpr\": 0.14285714285714285, \"tpr\": 0.9428571428571428, \"threshold\": 0.4607170082013239}, {\"bootstrap\": \"1\", \"fpr\": 0.14285714285714285, \"tpr\": 1.0, \"threshold\": 0.27884029661689624}, {\"bootstrap\": \"1\", \"fpr\": 0.2857142857142857, \"tpr\": 1.0, \"threshold\": 0.118144756686969}, {\"bootstrap\": \"1\", \"fpr\": 0.32653061224489793, \"tpr\": 1.0, \"threshold\": 0.08156048723173874}, {\"bootstrap\": \"1\", \"fpr\": 0.3673469387755102, \"tpr\": 1.0, \"threshold\": 0.07513002429817019}, {\"bootstrap\": \"1\", \"fpr\": 0.40816326530612246, \"tpr\": 1.0, \"threshold\": 0.06785398059157001}, {\"bootstrap\": \"1\", \"fpr\": 0.46938775510204084, \"tpr\": 1.0, \"threshold\": 0.057183633501863534}, {\"bootstrap\": \"1\", \"fpr\": 0.5102040816326531, \"tpr\": 1.0, \"threshold\": 0.0386251095701236}, {\"bootstrap\": \"1\", \"fpr\": 0.5714285714285714, \"tpr\": 1.0, \"threshold\": 0.015514990189646135}, {\"bootstrap\": \"1\", \"fpr\": 0.6122448979591837, \"tpr\": 1.0, \"threshold\": 0.01362602501063688}, {\"bootstrap\": \"1\", \"fpr\": 0.6938775510204082, \"tpr\": 1.0, \"threshold\": 0.007370108798022211}, {\"bootstrap\": \"1\", \"fpr\": 0.7346938775510204, \"tpr\": 1.0, \"threshold\": 0.005416252652737753}, {\"bootstrap\": \"1\", \"fpr\": 1.0, \"tpr\": 1.0, \"threshold\": 2.860412174044634e-05}, {\"bootstrap\": \"2\", \"fpr\": 0.0, \"tpr\": 0.0, \"threshold\": 1.9999717626887628}, {\"bootstrap\": \"2\", \"fpr\": 0.0, \"tpr\": 0.043478260869565216, \"threshold\": 0.9999717626887629}, {\"bootstrap\": \"2\", \"fpr\": 0.0, \"tpr\": 0.08695652173913043, \"threshold\": 0.999512704564315}, {\"bootstrap\": \"2\", \"fpr\": 0.0, \"tpr\": 0.15217391304347827, \"threshold\": 0.9971880176424212}, {\"bootstrap\": \"2\", \"fpr\": 0.0, \"tpr\": 0.1956521739130435, \"threshold\": 0.9933068359312281}, {\"bootstrap\": \"2\", \"fpr\": 0.0, \"tpr\": 0.2826086956521739, \"threshold\": 0.9917127661220947}, {\"bootstrap\": \"2\", \"fpr\": 0.0, \"tpr\": 0.32608695652173914, \"threshold\": 0.991117330389351}, {\"bootstrap\": \"2\", \"fpr\": 0.02631578947368421, \"tpr\": 0.32608695652173914, \"threshold\": 0.9905052719525997}, {\"bootstrap\": \"2\", \"fpr\": 0.02631578947368421, \"tpr\": 0.4782608695652174, \"threshold\": 0.9697445059281525}, {\"bootstrap\": \"2\", \"fpr\": 0.02631578947368421, \"tpr\": 0.5217391304347826, \"threshold\": 0.9661717339500291}, {\"bootstrap\": \"2\", \"fpr\": 0.02631578947368421, \"tpr\": 0.782608695652174, \"threshold\": 0.8279528189232715}, {\"bootstrap\": \"2\", \"fpr\": 0.05263157894736842, \"tpr\": 0.782608695652174, \"threshold\": 0.8111362754357163}, {\"bootstrap\": \"2\", \"fpr\": 0.05263157894736842, \"tpr\": 0.8043478260869565, \"threshold\": 0.7652149969922223}, {\"bootstrap\": \"2\", \"fpr\": 0.07894736842105263, \"tpr\": 0.8043478260869565, \"threshold\": 0.6996930943260717}, {\"bootstrap\": \"2\", \"fpr\": 0.07894736842105263, \"tpr\": 0.8695652173913043, \"threshold\": 0.6190319931020144}, {\"bootstrap\": \"2\", \"fpr\": 0.10526315789473684, \"tpr\": 0.8695652173913043, \"threshold\": 0.5778885304296715}, {\"bootstrap\": \"2\", \"fpr\": 0.10526315789473684, \"tpr\": 0.9130434782608695, \"threshold\": 0.5251579231375152}, {\"bootstrap\": \"2\", \"fpr\": 0.10526315789473684, \"tpr\": 0.9347826086956522, \"threshold\": 0.4918760436992324}, {\"bootstrap\": \"2\", \"fpr\": 0.15789473684210525, \"tpr\": 0.9347826086956522, \"threshold\": 0.43106050143056196}, {\"bootstrap\": \"2\", \"fpr\": 0.15789473684210525, \"tpr\": 1.0, \"threshold\": 0.3918799018598158}, {\"bootstrap\": \"2\", \"fpr\": 0.5789473684210527, \"tpr\": 1.0, \"threshold\": 0.029952145442001716}, {\"bootstrap\": \"2\", \"fpr\": 0.631578947368421, \"tpr\": 1.0, \"threshold\": 0.02193888722624055}, {\"bootstrap\": \"2\", \"fpr\": 0.6578947368421053, \"tpr\": 1.0, \"threshold\": 0.018868123769850892}, {\"bootstrap\": \"2\", \"fpr\": 0.7105263157894737, \"tpr\": 1.0, \"threshold\": 0.009553417428188932}, {\"bootstrap\": \"2\", \"fpr\": 0.8421052631578947, \"tpr\": 1.0, \"threshold\": 0.002399465140734619}, {\"bootstrap\": \"2\", \"fpr\": 0.8947368421052632, \"tpr\": 1.0, \"threshold\": 0.0021880036063567196}, {\"bootstrap\": \"2\", \"fpr\": 1.0, \"tpr\": 1.0, \"threshold\": 4.8186946644770516e-05}, {\"bootstrap\": \"3\", \"fpr\": 0.0, \"tpr\": 0.0, \"threshold\": 1.9999973786247602}, {\"bootstrap\": \"3\", \"fpr\": 0.0, \"tpr\": 0.025, \"threshold\": 0.9999973786247602}, {\"bootstrap\": \"3\", \"fpr\": 0.0, \"tpr\": 0.525, \"threshold\": 0.9597600827134223}, {\"bootstrap\": \"3\", \"fpr\": 0.022727272727272728, \"tpr\": 0.525, \"threshold\": 0.9248555870917949}, {\"bootstrap\": \"3\", \"fpr\": 0.022727272727272728, \"tpr\": 0.65, \"threshold\": 0.8471762023215371}, {\"bootstrap\": \"3\", \"fpr\": 0.06818181818181818, \"tpr\": 0.65, \"threshold\": 0.8009706396536398}, {\"bootstrap\": \"3\", \"fpr\": 0.06818181818181818, \"tpr\": 0.75, \"threshold\": 0.7593313949531392}, {\"bootstrap\": \"3\", \"fpr\": 0.11363636363636363, \"tpr\": 0.75, \"threshold\": 0.7177027247906171}, {\"bootstrap\": \"3\", \"fpr\": 0.11363636363636363, \"tpr\": 0.85, \"threshold\": 0.6519267401593819}, {\"bootstrap\": \"3\", \"fpr\": 0.18181818181818182, \"tpr\": 0.85, \"threshold\": 0.5860629953343593}, {\"bootstrap\": \"3\", \"fpr\": 0.18181818181818182, \"tpr\": 0.9, \"threshold\": 0.4226294706674102}, {\"bootstrap\": \"3\", \"fpr\": 0.22727272727272727, \"tpr\": 0.9, \"threshold\": 0.2967110372739168}, {\"bootstrap\": \"3\", \"fpr\": 0.22727272727272727, \"tpr\": 0.95, \"threshold\": 0.21247267638570688}, {\"bootstrap\": \"3\", \"fpr\": 0.22727272727272727, \"tpr\": 1.0, \"threshold\": 0.18167732318156776}, {\"bootstrap\": \"3\", \"fpr\": 0.2727272727272727, \"tpr\": 1.0, \"threshold\": 0.14553291903550933}, {\"bootstrap\": \"3\", \"fpr\": 0.3181818181818182, \"tpr\": 1.0, \"threshold\": 0.1293592189739532}, {\"bootstrap\": \"3\", \"fpr\": 0.3409090909090909, \"tpr\": 1.0, \"threshold\": 0.1265446764847496}, {\"bootstrap\": \"3\", \"fpr\": 0.38636363636363635, \"tpr\": 1.0, \"threshold\": 0.1056350101805664}, {\"bootstrap\": \"3\", \"fpr\": 0.45454545454545453, \"tpr\": 1.0, \"threshold\": 0.0897251830396964}, {\"bootstrap\": \"3\", \"fpr\": 0.5, \"tpr\": 1.0, \"threshold\": 0.04192958005456813}, {\"bootstrap\": \"3\", \"fpr\": 0.5909090909090909, \"tpr\": 1.0, \"threshold\": 0.02713424803583411}, {\"bootstrap\": \"3\", \"fpr\": 0.6363636363636364, \"tpr\": 1.0, \"threshold\": 0.0257270377663255}, {\"bootstrap\": \"3\", \"fpr\": 0.9090909090909091, \"tpr\": 1.0, \"threshold\": 0.0007200316487279432}, {\"bootstrap\": \"3\", \"fpr\": 0.9545454545454546, \"tpr\": 1.0, \"threshold\": 0.0007060069251971462}, {\"bootstrap\": \"3\", \"fpr\": 1.0, \"tpr\": 1.0, \"threshold\": 0.00025978525768483393}, {\"bootstrap\": \"4\", \"fpr\": 0.0, \"tpr\": 0.0, \"threshold\": 1.9999973152271566}, {\"bootstrap\": \"4\", \"fpr\": 0.0, \"tpr\": 0.024390243902439025, \"threshold\": 0.9999973152271566}, {\"bootstrap\": \"4\", \"fpr\": 0.0, \"tpr\": 0.12195121951219512, \"threshold\": 0.9999693176021581}, {\"bootstrap\": \"4\", \"fpr\": 0.0, \"tpr\": 0.17073170731707318, \"threshold\": 0.9995916499216739}, {\"bootstrap\": \"4\", \"fpr\": 0.0, \"tpr\": 0.21951219512195122, \"threshold\": 0.9995065043309472}, {\"bootstrap\": \"4\", \"fpr\": 0.0, \"tpr\": 0.34146341463414637, \"threshold\": 0.9969241588756147}, {\"bootstrap\": \"4\", \"fpr\": 0.0, \"tpr\": 0.3902439024390244, \"threshold\": 0.9953858342970077}, {\"bootstrap\": \"4\", \"fpr\": 0.0, \"tpr\": 0.5609756097560976, \"threshold\": 0.9837823424764964}, {\"bootstrap\": \"4\", \"fpr\": 0.023255813953488372, \"tpr\": 0.5609756097560976, \"threshold\": 0.9761664653090567}, {\"bootstrap\": \"4\", \"fpr\": 0.023255813953488372, \"tpr\": 0.8292682926829268, \"threshold\": 0.797507263156018}, {\"bootstrap\": \"4\", \"fpr\": 0.046511627906976744, \"tpr\": 0.8292682926829268, \"threshold\": 0.5729518487117755}, {\"bootstrap\": \"4\", \"fpr\": 0.09302325581395349, \"tpr\": 0.8292682926829268, \"threshold\": 0.509800586598306}, {\"bootstrap\": \"4\", \"fpr\": 0.09302325581395349, \"tpr\": 0.8536585365853658, \"threshold\": 0.4790246323658857}, {\"bootstrap\": \"4\", \"fpr\": 0.09302325581395349, \"tpr\": 0.9024390243902439, \"threshold\": 0.4168574997280691}, {\"bootstrap\": \"4\", \"fpr\": 0.09302325581395349, \"tpr\": 0.926829268292683, \"threshold\": 0.3375166875314837}, {\"bootstrap\": \"4\", \"fpr\": 0.16279069767441862, \"tpr\": 0.926829268292683, \"threshold\": 0.24854078656472528}, {\"bootstrap\": \"4\", \"fpr\": 0.16279069767441862, \"tpr\": 0.975609756097561, \"threshold\": 0.22031698202990166}, {\"bootstrap\": \"4\", \"fpr\": 0.3023255813953488, \"tpr\": 0.975609756097561, \"threshold\": 0.052672004225791956}, {\"bootstrap\": \"4\", \"fpr\": 0.3023255813953488, \"tpr\": 1.0, \"threshold\": 0.04555837842386212}, {\"bootstrap\": \"4\", \"fpr\": 0.3953488372093023, \"tpr\": 1.0, \"threshold\": 0.02822113532050689}, {\"bootstrap\": \"4\", \"fpr\": 0.4418604651162791, \"tpr\": 1.0, \"threshold\": 0.016482666174177544}, {\"bootstrap\": \"4\", \"fpr\": 0.5116279069767442, \"tpr\": 1.0, \"threshold\": 0.007277354421472899}, {\"bootstrap\": \"4\", \"fpr\": 0.5581395348837209, \"tpr\": 1.0, \"threshold\": 0.004915717731670251}, {\"bootstrap\": \"4\", \"fpr\": 0.7674418604651163, \"tpr\": 1.0, \"threshold\": 0.0005253576341893423}, {\"bootstrap\": \"4\", \"fpr\": 0.813953488372093, \"tpr\": 1.0, \"threshold\": 0.00035696810299586367}, {\"bootstrap\": \"4\", \"fpr\": 1.0, \"tpr\": 1.0, \"threshold\": 1.4555944589581131e-05}, {\"bootstrap\": \"5\", \"fpr\": 0.0, \"tpr\": 0.0, \"threshold\": 1.9995149890128254}, {\"bootstrap\": \"5\", \"fpr\": 0.0, \"tpr\": 0.0196078431372549, \"threshold\": 0.9995149890128255}, {\"bootstrap\": \"5\", \"fpr\": 0.0, \"tpr\": 0.09803921568627451, \"threshold\": 0.9992553367090823}, {\"bootstrap\": \"5\", \"fpr\": 0.0, \"tpr\": 0.13725490196078433, \"threshold\": 0.9992514136785638}, {\"bootstrap\": \"5\", \"fpr\": 0.0, \"tpr\": 0.1568627450980392, \"threshold\": 0.9983994372650634}, {\"bootstrap\": \"5\", \"fpr\": 0.0, \"tpr\": 0.19607843137254902, \"threshold\": 0.9979813341570152}, {\"bootstrap\": \"5\", \"fpr\": 0.0, \"tpr\": 0.2549019607843137, \"threshold\": 0.9950165351484266}, {\"bootstrap\": \"5\", \"fpr\": 0.0, \"tpr\": 0.29411764705882354, \"threshold\": 0.9930568572093711}, {\"bootstrap\": \"5\", \"fpr\": 0.0, \"tpr\": 0.35294117647058826, \"threshold\": 0.9888854278615722}, {\"bootstrap\": \"5\", \"fpr\": 0.0, \"tpr\": 0.4117647058823529, \"threshold\": 0.9862262693094228}, {\"bootstrap\": \"5\", \"fpr\": 0.0, \"tpr\": 0.49019607843137253, \"threshold\": 0.9814827242557205}, {\"bootstrap\": \"5\", \"fpr\": 0.0, \"tpr\": 0.5294117647058824, \"threshold\": 0.9793551719807626}, {\"bootstrap\": \"5\", \"fpr\": 0.0, \"tpr\": 0.7450980392156863, \"threshold\": 0.8384000931581833}, {\"bootstrap\": \"5\", \"fpr\": 0.0, \"tpr\": 0.7843137254901961, \"threshold\": 0.8266199964068581}, {\"bootstrap\": \"5\", \"fpr\": 0.0, \"tpr\": 0.8235294117647058, \"threshold\": 0.7568489536094047}, {\"bootstrap\": \"5\", \"fpr\": 0.06060606060606061, \"tpr\": 0.8235294117647058, \"threshold\": 0.7246196745377457}, {\"bootstrap\": \"5\", \"fpr\": 0.06060606060606061, \"tpr\": 0.8431372549019608, \"threshold\": 0.6372134978134059}, {\"bootstrap\": \"5\", \"fpr\": 0.09090909090909091, \"tpr\": 0.8431372549019608, \"threshold\": 0.6285098567510459}, {\"bootstrap\": \"5\", \"fpr\": 0.09090909090909091, \"tpr\": 0.8627450980392157, \"threshold\": 0.5615638350295361}, {\"bootstrap\": \"5\", \"fpr\": 0.09090909090909091, \"tpr\": 0.9019607843137255, \"threshold\": 0.5313369266638749}, {\"bootstrap\": \"5\", \"fpr\": 0.12121212121212122, \"tpr\": 0.9019607843137255, \"threshold\": 0.5307217165756594}, {\"bootstrap\": \"5\", \"fpr\": 0.12121212121212122, \"tpr\": 0.9215686274509803, \"threshold\": 0.527205097854211}, {\"bootstrap\": \"5\", \"fpr\": 0.18181818181818182, \"tpr\": 0.9215686274509803, \"threshold\": 0.4418435363390627}, {\"bootstrap\": \"5\", \"fpr\": 0.18181818181818182, \"tpr\": 1.0, \"threshold\": 0.2638966826541447}, {\"bootstrap\": \"5\", \"fpr\": 0.3333333333333333, \"tpr\": 1.0, \"threshold\": 0.09055741055405997}, {\"bootstrap\": \"5\", \"fpr\": 0.3939393939393939, \"tpr\": 1.0, \"threshold\": 0.07445260471585358}, {\"bootstrap\": \"5\", \"fpr\": 0.45454545454545453, \"tpr\": 1.0, \"threshold\": 0.07280852684863548}, {\"bootstrap\": \"5\", \"fpr\": 0.5151515151515151, \"tpr\": 1.0, \"threshold\": 0.06968378343915765}, {\"bootstrap\": \"5\", \"fpr\": 1.0, \"tpr\": 1.0, \"threshold\": 4.576934375252366e-05}, {\"bootstrap\": \"6\", \"fpr\": 0.0, \"tpr\": 0.0, \"threshold\": 1.9999980426190103}, {\"bootstrap\": \"6\", \"fpr\": 0.0, \"tpr\": 0.022727272727272728, \"threshold\": 0.9999980426190103}, {\"bootstrap\": \"6\", \"fpr\": 0.0, \"tpr\": 0.06818181818181818, \"threshold\": 0.9999314862087643}, {\"bootstrap\": \"6\", \"fpr\": 0.0, \"tpr\": 0.20454545454545456, \"threshold\": 0.9991103989908757}, {\"bootstrap\": \"6\", \"fpr\": 0.0, \"tpr\": 0.25, \"threshold\": 0.9990096935911966}, {\"bootstrap\": \"6\", \"fpr\": 0.0, \"tpr\": 0.29545454545454547, \"threshold\": 0.9987369662793155}, {\"bootstrap\": \"6\", \"fpr\": 0.0, \"tpr\": 0.3409090909090909, \"threshold\": 0.9985330357778891}, {\"bootstrap\": \"6\", \"fpr\": 0.0, \"tpr\": 0.38636363636363635, \"threshold\": 0.9979388855634018}, {\"bootstrap\": \"6\", \"fpr\": 0.0, \"tpr\": 0.4318181818181818, \"threshold\": 0.9966981537845894}, {\"bootstrap\": \"6\", \"fpr\": 0.0, \"tpr\": 0.5227272727272727, \"threshold\": 0.9926293879483314}, {\"bootstrap\": \"6\", \"fpr\": 0.0, \"tpr\": 0.5681818181818182, \"threshold\": 0.9922731413284359}, {\"bootstrap\": \"6\", \"fpr\": 0.0, \"tpr\": 0.7045454545454546, \"threshold\": 0.9448010596360304}, {\"bootstrap\": \"6\", \"fpr\": 0.0, \"tpr\": 0.75, \"threshold\": 0.9269431432801268}, {\"bootstrap\": \"6\", \"fpr\": 0.0, \"tpr\": 0.8409090909090909, \"threshold\": 0.8356666580639042}, {\"bootstrap\": \"6\", \"fpr\": 0.0, \"tpr\": 0.9090909090909091, \"threshold\": 0.8125420921267443}, {\"bootstrap\": \"6\", \"fpr\": 0.0, \"tpr\": 0.9318181818181818, \"threshold\": 0.7596624325298863}, {\"bootstrap\": \"6\", \"fpr\": 0.025, \"tpr\": 0.9318181818181818, \"threshold\": 0.7475015014446922}, {\"bootstrap\": \"6\", \"fpr\": 0.025, \"tpr\": 0.9772727272727273, \"threshold\": 0.5573958427953086}, {\"bootstrap\": \"6\", \"fpr\": 0.175, \"tpr\": 0.9772727272727273, \"threshold\": 0.16079611557414164}, {\"bootstrap\": \"6\", \"fpr\": 0.225, \"tpr\": 0.9772727272727273, \"threshold\": 0.16024282371137055}, {\"bootstrap\": \"6\", \"fpr\": 0.225, \"tpr\": 1.0, \"threshold\": 0.14903117666200785}, {\"bootstrap\": \"6\", \"fpr\": 1.0, \"tpr\": 1.0, \"threshold\": 2.812330163478028e-05}, {\"bootstrap\": \"7\", \"fpr\": 0.0, \"tpr\": 0.0, \"threshold\": 1.9999686503518235}, {\"bootstrap\": \"7\", \"fpr\": 0.0, \"tpr\": 0.022727272727272728, \"threshold\": 0.9999686503518234}, {\"bootstrap\": \"7\", \"fpr\": 0.0, \"tpr\": 0.06818181818181818, \"threshold\": 0.9998021372025627}, {\"bootstrap\": \"7\", \"fpr\": 0.0, \"tpr\": 0.13636363636363635, \"threshold\": 0.9984527771583009}, {\"bootstrap\": \"7\", \"fpr\": 0.0, \"tpr\": 0.18181818181818182, \"threshold\": 0.9979558094300007}, {\"bootstrap\": \"7\", \"fpr\": 0.0, \"tpr\": 0.5454545454545454, \"threshold\": 0.9798834517978949}, {\"bootstrap\": \"7\", \"fpr\": 0.025, \"tpr\": 0.5454545454545454, \"threshold\": 0.979500490538831}, {\"bootstrap\": \"7\", \"fpr\": 0.025, \"tpr\": 0.6363636363636364, \"threshold\": 0.9534719286301686}, {\"bootstrap\": \"7\", \"fpr\": 0.025, \"tpr\": 0.7272727272727273, \"threshold\": 0.9218787129272727}, {\"bootstrap\": \"7\", \"fpr\": 0.025, \"tpr\": 0.9545454545454546, \"threshold\": 0.678518169187619}, {\"bootstrap\": \"7\", \"fpr\": 0.05, \"tpr\": 0.9545454545454546, \"threshold\": 0.6043862739613687}, {\"bootstrap\": \"7\", \"fpr\": 0.05, \"tpr\": 0.9772727272727273, \"threshold\": 0.5926012941837999}, {\"bootstrap\": \"7\", \"fpr\": 0.075, \"tpr\": 0.9772727272727273, \"threshold\": 0.44491065750174813}, {\"bootstrap\": \"7\", \"fpr\": 0.125, \"tpr\": 0.9772727272727273, \"threshold\": 0.44015285528601605}, {\"bootstrap\": \"7\", \"fpr\": 0.125, \"tpr\": 1.0, \"threshold\": 0.34762084287992856}, {\"bootstrap\": \"7\", \"fpr\": 0.3, \"tpr\": 1.0, \"threshold\": 0.11265833586313885}, {\"bootstrap\": \"7\", \"fpr\": 0.35, \"tpr\": 1.0, \"threshold\": 0.10062262540159411}, {\"bootstrap\": \"7\", \"fpr\": 0.55, \"tpr\": 1.0, \"threshold\": 0.028691093748001346}, {\"bootstrap\": \"7\", \"fpr\": 0.625, \"tpr\": 1.0, \"threshold\": 0.024698167519259153}, {\"bootstrap\": \"7\", \"fpr\": 0.7, \"tpr\": 1.0, \"threshold\": 0.015925595620276338}, {\"bootstrap\": \"7\", \"fpr\": 0.775, \"tpr\": 1.0, \"threshold\": 0.011551731579506078}, {\"bootstrap\": \"7\", \"fpr\": 1.0, \"tpr\": 1.0, \"threshold\": 8.26784276925641e-05}, {\"bootstrap\": \"8\", \"fpr\": 0.0, \"tpr\": 0.0, \"threshold\": 1.9999973584013642}, {\"bootstrap\": \"8\", \"fpr\": 0.0, \"tpr\": 0.022222222222222223, \"threshold\": 0.9999973584013643}, {\"bootstrap\": \"8\", \"fpr\": 0.0, \"tpr\": 0.044444444444444446, \"threshold\": 0.9999955254080376}, {\"bootstrap\": \"8\", \"fpr\": 0.0, \"tpr\": 0.1111111111111111, \"threshold\": 0.9999427561320622}, {\"bootstrap\": \"8\", \"fpr\": 0.0, \"tpr\": 0.17777777777777778, \"threshold\": 0.9998289495530384}, {\"bootstrap\": \"8\", \"fpr\": 0.0, \"tpr\": 0.2222222222222222, \"threshold\": 0.999725890012381}, {\"bootstrap\": \"8\", \"fpr\": 0.0, \"tpr\": 0.3333333333333333, \"threshold\": 0.9986706586335136}, {\"bootstrap\": \"8\", \"fpr\": 0.0, \"tpr\": 0.37777777777777777, \"threshold\": 0.9985678921783306}, {\"bootstrap\": \"8\", \"fpr\": 0.0, \"tpr\": 0.5111111111111111, \"threshold\": 0.9923708826392058}, {\"bootstrap\": \"8\", \"fpr\": 0.0, \"tpr\": 0.5555555555555556, \"threshold\": 0.9897828734643508}, {\"bootstrap\": \"8\", \"fpr\": 0.0, \"tpr\": 0.7777777777777778, \"threshold\": 0.8676305705007719}, {\"bootstrap\": \"8\", \"fpr\": 0.02564102564102564, \"tpr\": 0.7777777777777778, \"threshold\": 0.8174054588822703}, {\"bootstrap\": \"8\", \"fpr\": 0.02564102564102564, \"tpr\": 0.8222222222222222, \"threshold\": 0.8096004364357126}, {\"bootstrap\": \"8\", \"fpr\": 0.05128205128205128, \"tpr\": 0.8222222222222222, \"threshold\": 0.7669476856307542}, {\"bootstrap\": \"8\", \"fpr\": 0.05128205128205128, \"tpr\": 0.8666666666666667, \"threshold\": 0.6376350249547565}, {\"bootstrap\": \"8\", \"fpr\": 0.07692307692307693, \"tpr\": 0.8666666666666667, \"threshold\": 0.6005359725778955}, {\"bootstrap\": \"8\", \"fpr\": 0.07692307692307693, \"tpr\": 0.9111111111111111, \"threshold\": 0.5708407428492979}, {\"bootstrap\": \"8\", \"fpr\": 0.07692307692307693, \"tpr\": 0.9333333333333333, \"threshold\": 0.47814214925488707}, {\"bootstrap\": \"8\", \"fpr\": 0.1282051282051282, \"tpr\": 0.9333333333333333, \"threshold\": 0.28856255765938355}, {\"bootstrap\": \"8\", \"fpr\": 0.1282051282051282, \"tpr\": 0.9555555555555556, \"threshold\": 0.28772428465464617}, {\"bootstrap\": \"8\", \"fpr\": 0.1794871794871795, \"tpr\": 0.9555555555555556, \"threshold\": 0.1850959590547062}, {\"bootstrap\": \"8\", \"fpr\": 0.1794871794871795, \"tpr\": 0.9777777777777777, \"threshold\": 0.18128148263798202}, {\"bootstrap\": \"8\", \"fpr\": 0.20512820512820512, \"tpr\": 0.9777777777777777, \"threshold\": 0.15148027414499712}, {\"bootstrap\": \"8\", \"fpr\": 0.2564102564102564, \"tpr\": 0.9777777777777777, \"threshold\": 0.1397103584301138}, {\"bootstrap\": \"8\", \"fpr\": 0.3076923076923077, \"tpr\": 0.9777777777777777, \"threshold\": 0.12247203896761368}, {\"bootstrap\": \"8\", \"fpr\": 0.3076923076923077, \"tpr\": 1.0, \"threshold\": 0.1137895946004192}, {\"bootstrap\": \"8\", \"fpr\": 0.38461538461538464, \"tpr\": 1.0, \"threshold\": 0.0997055175107555}, {\"bootstrap\": \"8\", \"fpr\": 0.4358974358974359, \"tpr\": 1.0, \"threshold\": 0.08039990810576535}, {\"bootstrap\": \"8\", \"fpr\": 0.46153846153846156, \"tpr\": 1.0, \"threshold\": 0.05837736440858048}, {\"bootstrap\": \"8\", \"fpr\": 0.5641025641025641, \"tpr\": 1.0, \"threshold\": 0.05821839720410112}, {\"bootstrap\": \"8\", \"fpr\": 0.717948717948718, \"tpr\": 1.0, \"threshold\": 0.0013840118602724161}, {\"bootstrap\": \"8\", \"fpr\": 0.7692307692307693, \"tpr\": 1.0, \"threshold\": 0.0008870908085443677}, {\"bootstrap\": \"8\", \"fpr\": 1.0, \"tpr\": 1.0, \"threshold\": 3.7427338205939667e-05}, {\"bootstrap\": \"9\", \"fpr\": 0.0, \"tpr\": 0.0, \"threshold\": 1.999952414319512}, {\"bootstrap\": \"9\", \"fpr\": 0.0, \"tpr\": 0.02631578947368421, \"threshold\": 0.9999524143195121}, {\"bootstrap\": \"9\", \"fpr\": 0.0, \"tpr\": 0.2631578947368421, \"threshold\": 0.9928985736092191}, {\"bootstrap\": \"9\", \"fpr\": 0.021739130434782608, \"tpr\": 0.2631578947368421, \"threshold\": 0.9921677871704325}, {\"bootstrap\": \"9\", \"fpr\": 0.021739130434782608, \"tpr\": 0.39473684210526316, \"threshold\": 0.9723082826498017}, {\"bootstrap\": \"9\", \"fpr\": 0.021739130434782608, \"tpr\": 0.47368421052631576, \"threshold\": 0.9697543157473383}, {\"bootstrap\": \"9\", \"fpr\": 0.021739130434782608, \"tpr\": 0.5263157894736842, \"threshold\": 0.9688415928382554}, {\"bootstrap\": \"9\", \"fpr\": 0.021739130434782608, \"tpr\": 0.5526315789473685, \"threshold\": 0.9577010635801286}, {\"bootstrap\": \"9\", \"fpr\": 0.021739130434782608, \"tpr\": 0.6052631578947368, \"threshold\": 0.9479885649124333}, {\"bootstrap\": \"9\", \"fpr\": 0.021739130434782608, \"tpr\": 0.7631578947368421, \"threshold\": 0.7907871775623468}, {\"bootstrap\": \"9\", \"fpr\": 0.08695652173913043, \"tpr\": 0.7631578947368421, \"threshold\": 0.7311020504192992}, {\"bootstrap\": \"9\", \"fpr\": 0.08695652173913043, \"tpr\": 0.8157894736842105, \"threshold\": 0.7064146672025737}, {\"bootstrap\": \"9\", \"fpr\": 0.10869565217391304, \"tpr\": 0.8157894736842105, \"threshold\": 0.6662024571879012}, {\"bootstrap\": \"9\", \"fpr\": 0.10869565217391304, \"tpr\": 0.868421052631579, \"threshold\": 0.6562228220416169}, {\"bootstrap\": \"9\", \"fpr\": 0.13043478260869565, \"tpr\": 0.868421052631579, \"threshold\": 0.6507401936999478}, {\"bootstrap\": \"9\", \"fpr\": 0.13043478260869565, \"tpr\": 0.8947368421052632, \"threshold\": 0.5713977794051552}, {\"bootstrap\": \"9\", \"fpr\": 0.15217391304347827, \"tpr\": 0.8947368421052632, \"threshold\": 0.5237018422205211}, {\"bootstrap\": \"9\", \"fpr\": 0.15217391304347827, \"tpr\": 0.9210526315789473, \"threshold\": 0.43541655694664955}, {\"bootstrap\": \"9\", \"fpr\": 0.1956521739130435, \"tpr\": 0.9210526315789473, \"threshold\": 0.4172751956137328}, {\"bootstrap\": \"9\", \"fpr\": 0.2391304347826087, \"tpr\": 0.9210526315789473, \"threshold\": 0.3167017956365944}, {\"bootstrap\": \"9\", \"fpr\": 0.30434782608695654, \"tpr\": 0.9210526315789473, \"threshold\": 0.24018939678261653}, {\"bootstrap\": \"9\", \"fpr\": 0.391304347826087, \"tpr\": 0.9210526315789473, \"threshold\": 0.11233613225319886}, {\"bootstrap\": \"9\", \"fpr\": 0.45652173913043476, \"tpr\": 0.9210526315789473, \"threshold\": 0.08050704050670918}, {\"bootstrap\": \"9\", \"fpr\": 0.45652173913043476, \"tpr\": 0.9736842105263158, \"threshold\": 0.07731814525339806}, {\"bootstrap\": \"9\", \"fpr\": 0.6304347826086957, \"tpr\": 0.9736842105263158, \"threshold\": 0.04760051557272214}, {\"bootstrap\": \"9\", \"fpr\": 0.6304347826086957, \"tpr\": 1.0, \"threshold\": 0.03915739130308482}, {\"bootstrap\": \"9\", \"fpr\": 0.7608695652173914, \"tpr\": 1.0, \"threshold\": 0.01064470106509443}, {\"bootstrap\": \"9\", \"fpr\": 0.8043478260869565, \"tpr\": 1.0, \"threshold\": 0.008989066303647354}, {\"bootstrap\": \"9\", \"fpr\": 1.0, \"tpr\": 1.0, \"threshold\": 0.0005721872443035949}, {\"bootstrap\": \"10\", \"fpr\": 0.0, \"tpr\": 0.0, \"threshold\": 1.9995756514868164}, {\"bootstrap\": \"10\", \"fpr\": 0.0, \"tpr\": 0.02631578947368421, \"threshold\": 0.9995756514868164}, {\"bootstrap\": \"10\", \"fpr\": 0.0, \"tpr\": 0.39473684210526316, \"threshold\": 0.9749769396883231}, {\"bootstrap\": \"10\", \"fpr\": 0.0, \"tpr\": 0.4473684210526316, \"threshold\": 0.973831171321318}, {\"bootstrap\": \"10\", \"fpr\": 0.0, \"tpr\": 0.47368421052631576, \"threshold\": 0.9736029479732498}, {\"bootstrap\": \"10\", \"fpr\": 0.0, \"tpr\": 0.5263157894736842, \"threshold\": 0.9654922363609862}, {\"bootstrap\": \"10\", \"fpr\": 0.0, \"tpr\": 0.8421052631578947, \"threshold\": 0.6949461441112704}, {\"bootstrap\": \"10\", \"fpr\": 0.021739130434782608, \"tpr\": 0.8421052631578947, \"threshold\": 0.685175685447775}, {\"bootstrap\": \"10\", \"fpr\": 0.021739130434782608, \"tpr\": 0.868421052631579, \"threshold\": 0.647794785106168}, {\"bootstrap\": \"10\", \"fpr\": 0.043478260869565216, \"tpr\": 0.868421052631579, \"threshold\": 0.5946469678067049}, {\"bootstrap\": \"10\", \"fpr\": 0.043478260869565216, \"tpr\": 0.9210526315789473, \"threshold\": 0.5681611224780904}, {\"bootstrap\": \"10\", \"fpr\": 0.17391304347826086, \"tpr\": 0.9210526315789473, \"threshold\": 0.4045427525226983}, {\"bootstrap\": \"10\", \"fpr\": 0.17391304347826086, \"tpr\": 0.9473684210526315, \"threshold\": 0.35721656542191554}, {\"bootstrap\": \"10\", \"fpr\": 0.21739130434782608, \"tpr\": 0.9473684210526315, \"threshold\": 0.24459259522790283}, {\"bootstrap\": \"10\", \"fpr\": 0.2608695652173913, \"tpr\": 0.9473684210526315, \"threshold\": 0.23900029789746594}, {\"bootstrap\": \"10\", \"fpr\": 0.43478260869565216, \"tpr\": 0.9473684210526315, \"threshold\": 0.15658008565096035}, {\"bootstrap\": \"10\", \"fpr\": 0.4782608695652174, \"tpr\": 0.9473684210526315, \"threshold\": 0.11057243742329184}, {\"bootstrap\": \"10\", \"fpr\": 0.4782608695652174, \"tpr\": 1.0, \"threshold\": 0.09843073270219042}, {\"bootstrap\": \"10\", \"fpr\": 0.782608695652174, \"tpr\": 1.0, \"threshold\": 0.004524622139624917}, {\"bootstrap\": \"10\", \"fpr\": 0.8695652173913043, \"tpr\": 1.0, \"threshold\": 0.004014533141925688}, {\"bootstrap\": \"10\", \"fpr\": 1.0, \"tpr\": 1.0, \"threshold\": 0.00043143492070001223}, {\"bootstrap\": \"11\", \"fpr\": 0.0, \"tpr\": 0.0, \"threshold\": 1.9999988112355855}, {\"bootstrap\": \"11\", \"fpr\": 0.0, \"tpr\": 0.023255813953488372, \"threshold\": 0.9999988112355854}, {\"bootstrap\": \"11\", \"fpr\": 0.0, \"tpr\": 0.46511627906976744, \"threshold\": 0.9842013297844726}, {\"bootstrap\": \"11\", \"fpr\": 0.0, \"tpr\": 0.5581395348837209, \"threshold\": 0.9615588025025036}, {\"bootstrap\": \"11\", \"fpr\": 0.0, \"tpr\": 0.6976744186046512, \"threshold\": 0.905285150525343}, {\"bootstrap\": \"11\", \"fpr\": 0.024390243902439025, \"tpr\": 0.6976744186046512, \"threshold\": 0.8919083432544153}, {\"bootstrap\": \"11\", \"fpr\": 0.024390243902439025, \"tpr\": 0.7906976744186046, \"threshold\": 0.7943257742424802}, {\"bootstrap\": \"11\", \"fpr\": 0.024390243902439025, \"tpr\": 0.8372093023255814, \"threshold\": 0.7626461541339974}, {\"bootstrap\": \"11\", \"fpr\": 0.024390243902439025, \"tpr\": 0.9069767441860465, \"threshold\": 0.575947846588198}, {\"bootstrap\": \"11\", \"fpr\": 0.04878048780487805, \"tpr\": 0.9069767441860465, \"threshold\": 0.5583920127058789}, {\"bootstrap\": \"11\", \"fpr\": 0.04878048780487805, \"tpr\": 0.9302325581395349, \"threshold\": 0.5521806959702567}, {\"bootstrap\": \"11\", \"fpr\": 0.07317073170731707, \"tpr\": 0.9302325581395349, \"threshold\": 0.5072251254334448}, {\"bootstrap\": \"11\", \"fpr\": 0.07317073170731707, \"tpr\": 0.9767441860465116, \"threshold\": 0.43278183045636215}, {\"bootstrap\": \"11\", \"fpr\": 0.21951219512195122, \"tpr\": 0.9767441860465116, \"threshold\": 0.09785495166436768}, {\"bootstrap\": \"11\", \"fpr\": 0.2682926829268293, \"tpr\": 0.9767441860465116, \"threshold\": 0.08104670391111088}, {\"bootstrap\": \"11\", \"fpr\": 0.4634146341463415, \"tpr\": 0.9767441860465116, \"threshold\": 0.033912216338225}, {\"bootstrap\": \"11\", \"fpr\": 0.4634146341463415, \"tpr\": 1.0, \"threshold\": 0.029015565112779886}, {\"bootstrap\": \"11\", \"fpr\": 0.6341463414634146, \"tpr\": 1.0, \"threshold\": 0.006740260131165507}, {\"bootstrap\": \"11\", \"fpr\": 0.6829268292682927, \"tpr\": 1.0, \"threshold\": 0.005646324311328253}, {\"bootstrap\": \"11\", \"fpr\": 0.7317073170731707, \"tpr\": 1.0, \"threshold\": 0.0042911841057079285}, {\"bootstrap\": \"11\", \"fpr\": 0.7804878048780488, \"tpr\": 1.0, \"threshold\": 0.0024586452479337263}, {\"bootstrap\": \"11\", \"fpr\": 1.0, \"tpr\": 1.0, \"threshold\": 3.246752521323548e-05}, {\"bootstrap\": \"12\", \"fpr\": 0.0, \"tpr\": 0.0, \"threshold\": 1.9999909272898466}, {\"bootstrap\": \"12\", \"fpr\": 0.0, \"tpr\": 0.023809523809523808, \"threshold\": 0.9999909272898466}, {\"bootstrap\": \"12\", \"fpr\": 0.0, \"tpr\": 0.11904761904761904, \"threshold\": 0.9987869286329519}, {\"bootstrap\": \"12\", \"fpr\": 0.0, \"tpr\": 0.16666666666666666, \"threshold\": 0.9981514158181711}, {\"bootstrap\": \"12\", \"fpr\": 0.0, \"tpr\": 0.2619047619047619, \"threshold\": 0.9951715219641222}, {\"bootstrap\": \"12\", \"fpr\": 0.023809523809523808, \"tpr\": 0.2619047619047619, \"threshold\": 0.9932319954412877}, {\"bootstrap\": \"12\", \"fpr\": 0.023809523809523808, \"tpr\": 0.5714285714285714, \"threshold\": 0.9415081942957031}, {\"bootstrap\": \"12\", \"fpr\": 0.023809523809523808, \"tpr\": 0.6190476190476191, \"threshold\": 0.895523480519349}, {\"bootstrap\": \"12\", \"fpr\": 0.023809523809523808, \"tpr\": 0.8095238095238095, \"threshold\": 0.7377501196147591}, {\"bootstrap\": \"12\", \"fpr\": 0.047619047619047616, \"tpr\": 0.8095238095238095, \"threshold\": 0.7237154814346828}, {\"bootstrap\": \"12\", \"fpr\": 0.047619047619047616, \"tpr\": 0.8333333333333334, \"threshold\": 0.7211299787232509}, {\"bootstrap\": \"12\", \"fpr\": 0.09523809523809523, \"tpr\": 0.8333333333333334, \"threshold\": 0.7172235034164242}, {\"bootstrap\": \"12\", \"fpr\": 0.09523809523809523, \"tpr\": 0.8809523809523809, \"threshold\": 0.6628772264187102}, {\"bootstrap\": \"12\", \"fpr\": 0.14285714285714285, \"tpr\": 0.8809523809523809, \"threshold\": 0.6593820033606383}, {\"bootstrap\": \"12\", \"fpr\": 0.14285714285714285, \"tpr\": 0.9285714285714286, \"threshold\": 0.49014774521748805}, {\"bootstrap\": \"12\", \"fpr\": 0.14285714285714285, \"tpr\": 0.9761904761904762, \"threshold\": 0.375284475679903}, {\"bootstrap\": \"12\", \"fpr\": 0.40476190476190477, \"tpr\": 0.9761904761904762, \"threshold\": 0.056474125129911845}, {\"bootstrap\": \"12\", \"fpr\": 0.4523809523809524, \"tpr\": 0.9761904761904762, \"threshold\": 0.051467504161613706}, {\"bootstrap\": \"12\", \"fpr\": 0.5238095238095238, \"tpr\": 0.9761904761904762, \"threshold\": 0.028765248731869704}, {\"bootstrap\": \"12\", \"fpr\": 0.5238095238095238, \"tpr\": 1.0, \"threshold\": 0.02446380268449007}, {\"bootstrap\": \"12\", \"fpr\": 0.5714285714285714, \"tpr\": 1.0, \"threshold\": 0.018649464690064493}, {\"bootstrap\": \"12\", \"fpr\": 0.8095238095238095, \"tpr\": 1.0, \"threshold\": 0.0024897921849696214}, {\"bootstrap\": \"12\", \"fpr\": 0.8571428571428571, \"tpr\": 1.0, \"threshold\": 0.0018407825454541684}, {\"bootstrap\": \"12\", \"fpr\": 1.0, \"tpr\": 1.0, \"threshold\": 0.0001392507611536426}, {\"bootstrap\": \"13\", \"fpr\": 0.0, \"tpr\": 0.0, \"threshold\": 1.9999638517982041}, {\"bootstrap\": \"13\", \"fpr\": 0.0, \"tpr\": 0.027777777777777776, \"threshold\": 0.9999638517982042}, {\"bootstrap\": \"13\", \"fpr\": 0.0, \"tpr\": 0.08333333333333333, \"threshold\": 0.9999194015388143}, {\"bootstrap\": \"13\", \"fpr\": 0.0, \"tpr\": 0.3888888888888889, \"threshold\": 0.9956470523567142}, {\"bootstrap\": \"13\", \"fpr\": 0.0, \"tpr\": 0.4444444444444444, \"threshold\": 0.9953970310890599}, {\"bootstrap\": \"13\", \"fpr\": 0.0, \"tpr\": 0.75, \"threshold\": 0.9071659206121447}, {\"bootstrap\": \"13\", \"fpr\": 0.020833333333333332, \"tpr\": 0.75, \"threshold\": 0.8800589197436337}, {\"bootstrap\": \"13\", \"fpr\": 0.020833333333333332, \"tpr\": 0.8055555555555556, \"threshold\": 0.8461671094892883}, {\"bootstrap\": \"13\", \"fpr\": 0.020833333333333332, \"tpr\": 0.8333333333333334, \"threshold\": 0.8143826220041827}, {\"bootstrap\": \"13\", \"fpr\": 0.0625, \"tpr\": 0.8333333333333334, \"threshold\": 0.6487408927365425}, {\"bootstrap\": \"13\", \"fpr\": 0.0625, \"tpr\": 0.9166666666666666, \"threshold\": 0.48018272391484196}, {\"bootstrap\": \"13\", \"fpr\": 0.10416666666666667, \"tpr\": 0.9166666666666666, \"threshold\": 0.4505357955827369}, {\"bootstrap\": \"13\", \"fpr\": 0.10416666666666667, \"tpr\": 0.9722222222222222, \"threshold\": 0.4312489660942407}, {\"bootstrap\": \"13\", \"fpr\": 0.1875, \"tpr\": 0.9722222222222222, \"threshold\": 0.33037704508640875}, {\"bootstrap\": \"13\", \"fpr\": 0.1875, \"tpr\": 1.0, \"threshold\": 0.32583977731304703}, {\"bootstrap\": \"13\", \"fpr\": 0.3125, \"tpr\": 1.0, \"threshold\": 0.09644818007829756}, {\"bootstrap\": \"13\", \"fpr\": 0.3541666666666667, \"tpr\": 1.0, \"threshold\": 0.09479172221349418}, {\"bootstrap\": \"13\", \"fpr\": 0.5208333333333334, \"tpr\": 1.0, \"threshold\": 0.04069276844932982}, {\"bootstrap\": \"13\", \"fpr\": 0.5625, \"tpr\": 1.0, \"threshold\": 0.04026746880668651}, {\"bootstrap\": \"13\", \"fpr\": 1.0, \"tpr\": 1.0, \"threshold\": 1.5423647986470008e-05}, {\"bootstrap\": \"14\", \"fpr\": 0.0, \"tpr\": 0.0, \"threshold\": 1.9999971565203958}, {\"bootstrap\": \"14\", \"fpr\": 0.0, \"tpr\": 0.02127659574468085, \"threshold\": 0.9999971565203959}, {\"bootstrap\": \"14\", \"fpr\": 0.0, \"tpr\": 0.1276595744680851, \"threshold\": 0.9997564027924081}, {\"bootstrap\": \"14\", \"fpr\": 0.0, \"tpr\": 0.1702127659574468, \"threshold\": 0.9966519046908893}, {\"bootstrap\": \"14\", \"fpr\": 0.0, \"tpr\": 0.23404255319148937, \"threshold\": 0.9961728011550351}, {\"bootstrap\": \"14\", \"fpr\": 0.0, \"tpr\": 0.2765957446808511, \"threshold\": 0.9960691735507208}, {\"bootstrap\": \"14\", \"fpr\": 0.0, \"tpr\": 0.6170212765957447, \"threshold\": 0.9684325902562635}, {\"bootstrap\": \"14\", \"fpr\": 0.0, \"tpr\": 0.6595744680851063, \"threshold\": 0.9634436545628506}, {\"bootstrap\": \"14\", \"fpr\": 0.0, \"tpr\": 0.6808510638297872, \"threshold\": 0.9620933561298572}, {\"bootstrap\": \"14\", \"fpr\": 0.02702702702702703, \"tpr\": 0.6808510638297872, \"threshold\": 0.9406075768402197}, {\"bootstrap\": \"14\", \"fpr\": 0.02702702702702703, \"tpr\": 0.7446808510638298, \"threshold\": 0.9021369669156464}, {\"bootstrap\": \"14\", \"fpr\": 0.02702702702702703, \"tpr\": 0.8085106382978723, \"threshold\": 0.9011537447089217}, {\"bootstrap\": \"14\", \"fpr\": 0.02702702702702703, \"tpr\": 0.8297872340425532, \"threshold\": 0.8561637279663412}, {\"bootstrap\": \"14\", \"fpr\": 0.05405405405405406, \"tpr\": 0.8297872340425532, \"threshold\": 0.8284454781052153}, {\"bootstrap\": \"14\", \"fpr\": 0.05405405405405406, \"tpr\": 0.8723404255319149, \"threshold\": 0.7901669548705837}, {\"bootstrap\": \"14\", \"fpr\": 0.05405405405405406, \"tpr\": 0.9361702127659575, \"threshold\": 0.6721818374142345}, {\"bootstrap\": \"14\", \"fpr\": 0.08108108108108109, \"tpr\": 0.9361702127659575, \"threshold\": 0.6383893824400966}, {\"bootstrap\": \"14\", \"fpr\": 0.08108108108108109, \"tpr\": 0.9787234042553191, \"threshold\": 0.5538474266876009}, {\"bootstrap\": \"14\", \"fpr\": 0.1891891891891892, \"tpr\": 0.9787234042553191, \"threshold\": 0.37666102365710696}, {\"bootstrap\": \"14\", \"fpr\": 0.4594594594594595, \"tpr\": 0.9787234042553191, \"threshold\": 0.11002336234935575}, {\"bootstrap\": \"14\", \"fpr\": 0.4594594594594595, \"tpr\": 1.0, \"threshold\": 0.09761030356464886}, {\"bootstrap\": \"14\", \"fpr\": 0.6216216216216216, \"tpr\": 1.0, \"threshold\": 0.031016060113263067}, {\"bootstrap\": \"14\", \"fpr\": 0.7837837837837838, \"tpr\": 1.0, \"threshold\": 0.007141340534244838}, {\"bootstrap\": \"14\", \"fpr\": 0.8648648648648649, \"tpr\": 1.0, \"threshold\": 0.0010008097471500207}, {\"bootstrap\": \"14\", \"fpr\": 0.918918918918919, \"tpr\": 1.0, \"threshold\": 0.00044744048463331824}, {\"bootstrap\": \"14\", \"fpr\": 0.9459459459459459, \"tpr\": 1.0, \"threshold\": 0.00023528321626280316}, {\"bootstrap\": \"14\", \"fpr\": 1.0, \"tpr\": 1.0, \"threshold\": 5.2389640322039555e-05}, {\"bootstrap\": \"15\", \"fpr\": 0.0, \"tpr\": 0.0, \"threshold\": 1.9995858848678667}, {\"bootstrap\": \"15\", \"fpr\": 0.0, \"tpr\": 0.02564102564102564, \"threshold\": 0.9995858848678666}, {\"bootstrap\": \"15\", \"fpr\": 0.0, \"tpr\": 0.1282051282051282, \"threshold\": 0.9940464377254835}, {\"bootstrap\": \"15\", \"fpr\": 0.022222222222222223, \"tpr\": 0.1282051282051282, \"threshold\": 0.9905284734485497}, {\"bootstrap\": \"15\", \"fpr\": 0.022222222222222223, \"tpr\": 0.358974358974359, \"threshold\": 0.9681376969671707}, {\"bootstrap\": \"15\", \"fpr\": 0.044444444444444446, \"tpr\": 0.358974358974359, \"threshold\": 0.9626006856202234}, {\"bootstrap\": \"15\", \"fpr\": 0.044444444444444446, \"tpr\": 0.5897435897435898, \"threshold\": 0.905809485150372}, {\"bootstrap\": \"15\", \"fpr\": 0.06666666666666667, \"tpr\": 0.5897435897435898, \"threshold\": 0.8833154297256673}, {\"bootstrap\": \"15\", \"fpr\": 0.1111111111111111, \"tpr\": 0.5897435897435898, \"threshold\": 0.8352660243389093}, {\"bootstrap\": \"15\", \"fpr\": 0.1111111111111111, \"tpr\": 0.7435897435897436, \"threshold\": 0.6659000800473562}, {\"bootstrap\": \"15\", \"fpr\": 0.1111111111111111, \"tpr\": 0.7948717948717948, \"threshold\": 0.6521728829973775}, {\"bootstrap\": \"15\", \"fpr\": 0.13333333333333333, \"tpr\": 0.7948717948717948, \"threshold\": 0.5955375938957822}, {\"bootstrap\": \"15\", \"fpr\": 0.13333333333333333, \"tpr\": 0.8205128205128205, \"threshold\": 0.5518080548422256}, {\"bootstrap\": \"15\", \"fpr\": 0.17777777777777778, \"tpr\": 0.8205128205128205, \"threshold\": 0.5364160961292979}, {\"bootstrap\": \"15\", \"fpr\": 0.17777777777777778, \"tpr\": 0.8461538461538461, \"threshold\": 0.5025163392733593}, {\"bootstrap\": \"15\", \"fpr\": 0.2, \"tpr\": 0.8461538461538461, \"threshold\": 0.4970935009001987}, {\"bootstrap\": \"15\", \"fpr\": 0.2, \"tpr\": 0.8717948717948718, \"threshold\": 0.48094863779342084}, {\"bootstrap\": \"15\", \"fpr\": 0.2222222222222222, \"tpr\": 0.8717948717948718, \"threshold\": 0.45783431971242816}, {\"bootstrap\": \"15\", \"fpr\": 0.2222222222222222, \"tpr\": 0.8974358974358975, \"threshold\": 0.4069995283710942}, {\"bootstrap\": \"15\", \"fpr\": 0.24444444444444444, \"tpr\": 0.8974358974358975, \"threshold\": 0.3743503101792739}, {\"bootstrap\": \"15\", \"fpr\": 0.24444444444444444, \"tpr\": 1.0, \"threshold\": 0.2826170519040645}, {\"bootstrap\": \"15\", \"fpr\": 0.4222222222222222, \"tpr\": 1.0, \"threshold\": 0.12243882782326695}, {\"bootstrap\": \"15\", \"fpr\": 0.4666666666666667, \"tpr\": 1.0, \"threshold\": 0.08988249089516927}, {\"bootstrap\": \"15\", \"fpr\": 0.4888888888888889, \"tpr\": 1.0, \"threshold\": 0.08983586779792457}, {\"bootstrap\": \"15\", \"fpr\": 0.5777777777777777, \"tpr\": 1.0, \"threshold\": 0.05946462000070353}, {\"bootstrap\": \"15\", \"fpr\": 0.6666666666666666, \"tpr\": 1.0, \"threshold\": 0.02588585958026323}, {\"bootstrap\": \"15\", \"fpr\": 0.7111111111111111, \"tpr\": 1.0, \"threshold\": 0.018582403521667602}, {\"bootstrap\": \"15\", \"fpr\": 0.8, \"tpr\": 1.0, \"threshold\": 0.009993319528661495}, {\"bootstrap\": \"15\", \"fpr\": 0.8444444444444444, \"tpr\": 1.0, \"threshold\": 0.008947286216652417}, {\"bootstrap\": \"15\", \"fpr\": 0.8888888888888888, \"tpr\": 1.0, \"threshold\": 0.005274450548113062}, {\"bootstrap\": \"15\", \"fpr\": 0.9333333333333333, \"tpr\": 1.0, \"threshold\": 0.004719616532193535}, {\"bootstrap\": \"15\", \"fpr\": 1.0, \"tpr\": 1.0, \"threshold\": 0.0006523824903534306}, {\"bootstrap\": \"16\", \"fpr\": 0.0, \"tpr\": 0.0, \"threshold\": 1.9999986696833791}, {\"bootstrap\": \"16\", \"fpr\": 0.0, \"tpr\": 0.02127659574468085, \"threshold\": 0.9999986696833791}, {\"bootstrap\": \"16\", \"fpr\": 0.0, \"tpr\": 0.06382978723404255, \"threshold\": 0.9999964706703353}, {\"bootstrap\": \"16\", \"fpr\": 0.0, \"tpr\": 0.10638297872340426, \"threshold\": 0.9999276550002495}, {\"bootstrap\": \"16\", \"fpr\": 0.0, \"tpr\": 0.14893617021276595, \"threshold\": 0.9999238179508291}, {\"bootstrap\": \"16\", \"fpr\": 0.0, \"tpr\": 0.6595744680851063, \"threshold\": 0.9863173855132493}, {\"bootstrap\": \"16\", \"fpr\": 0.0, \"tpr\": 0.7021276595744681, \"threshold\": 0.9862631218726068}, {\"bootstrap\": \"16\", \"fpr\": 0.0, \"tpr\": 0.7659574468085106, \"threshold\": 0.9585609196607278}, {\"bootstrap\": \"16\", \"fpr\": 0.0, \"tpr\": 0.8085106382978723, \"threshold\": 0.952247684854191}, {\"bootstrap\": \"16\", \"fpr\": 0.0, \"tpr\": 0.8936170212765957, \"threshold\": 0.8976290795962877}, {\"bootstrap\": \"16\", \"fpr\": 0.02702702702702703, \"tpr\": 0.8936170212765957, \"threshold\": 0.8883663034321158}, {\"bootstrap\": \"16\", \"fpr\": 0.02702702702702703, \"tpr\": 1.0, \"threshold\": 0.675815209867708}, {\"bootstrap\": \"16\", \"fpr\": 0.21621621621621623, \"tpr\": 1.0, \"threshold\": 0.07943776077390217}, {\"bootstrap\": \"16\", \"fpr\": 0.32432432432432434, \"tpr\": 1.0, \"threshold\": 0.054789324650585745}, {\"bootstrap\": \"16\", \"fpr\": 0.4594594594594595, \"tpr\": 1.0, \"threshold\": 0.025140278685133848}, {\"bootstrap\": \"16\", \"fpr\": 0.5675675675675675, \"tpr\": 1.0, \"threshold\": 0.014565387913051875}, {\"bootstrap\": \"16\", \"fpr\": 0.7297297297297297, \"tpr\": 1.0, \"threshold\": 0.0010662461077405188}, {\"bootstrap\": \"16\", \"fpr\": 0.7837837837837838, \"tpr\": 1.0, \"threshold\": 0.00030225873892823497}, {\"bootstrap\": \"16\", \"fpr\": 1.0, \"tpr\": 1.0, \"threshold\": 1.0671085469460197e-05}, {\"bootstrap\": \"17\", \"fpr\": 0.0, \"tpr\": 0.0, \"threshold\": 1.9998569729434803}, {\"bootstrap\": \"17\", \"fpr\": 0.0, \"tpr\": 0.029411764705882353, \"threshold\": 0.9998569729434804}, {\"bootstrap\": \"17\", \"fpr\": 0.0, \"tpr\": 0.47058823529411764, \"threshold\": 0.9561248595010128}, {\"bootstrap\": \"17\", \"fpr\": 0.0, \"tpr\": 0.5294117647058824, \"threshold\": 0.9452747331657162}, {\"bootstrap\": \"17\", \"fpr\": 0.0, \"tpr\": 0.7058823529411765, \"threshold\": 0.7492444102806609}, {\"bootstrap\": \"17\", \"fpr\": 0.0, \"tpr\": 0.7647058823529411, \"threshold\": 0.7469560828668182}, {\"bootstrap\": \"17\", \"fpr\": 0.04, \"tpr\": 0.7647058823529411, \"threshold\": 0.6894808146109659}, {\"bootstrap\": \"17\", \"fpr\": 0.04, \"tpr\": 0.8235294117647058, \"threshold\": 0.6070691244894477}, {\"bootstrap\": \"17\", \"fpr\": 0.08, \"tpr\": 0.8235294117647058, \"threshold\": 0.5649397442550805}, {\"bootstrap\": \"17\", \"fpr\": 0.08, \"tpr\": 0.9117647058823529, \"threshold\": 0.3756755965348307}, {\"bootstrap\": \"17\", \"fpr\": 0.12, \"tpr\": 0.9117647058823529, \"threshold\": 0.36134085429911367}, {\"bootstrap\": \"17\", \"fpr\": 0.12, \"tpr\": 1.0, \"threshold\": 0.24373678552654204}, {\"bootstrap\": \"17\", \"fpr\": 0.24, \"tpr\": 1.0, \"threshold\": 0.13015117405964374}, {\"bootstrap\": \"17\", \"fpr\": 0.32, \"tpr\": 1.0, \"threshold\": 0.09739383859547146}, {\"bootstrap\": \"17\", \"fpr\": 0.48, \"tpr\": 1.0, \"threshold\": 0.03132887939370416}, {\"bootstrap\": \"17\", \"fpr\": 0.56, \"tpr\": 1.0, \"threshold\": 0.029073965404155588}, {\"bootstrap\": \"17\", \"fpr\": 0.7, \"tpr\": 1.0, \"threshold\": 0.007920234993894828}, {\"bootstrap\": \"17\", \"fpr\": 0.74, \"tpr\": 1.0, \"threshold\": 0.004052318561520171}, {\"bootstrap\": \"17\", \"fpr\": 0.86, \"tpr\": 1.0, \"threshold\": 0.0005892285879657701}, {\"bootstrap\": \"17\", \"fpr\": 0.9, \"tpr\": 1.0, \"threshold\": 0.00026372658361282163}, {\"bootstrap\": \"17\", \"fpr\": 0.94, \"tpr\": 1.0, \"threshold\": 8.753183573643977e-05}, {\"bootstrap\": \"17\", \"fpr\": 1.0, \"tpr\": 1.0, \"threshold\": 2.8733487658481305e-05}, {\"bootstrap\": \"18\", \"fpr\": 0.0, \"tpr\": 0.0, \"threshold\": 1.9999237103316825}, {\"bootstrap\": \"18\", \"fpr\": 0.0, \"tpr\": 0.023809523809523808, \"threshold\": 0.9999237103316825}, {\"bootstrap\": \"18\", \"fpr\": 0.0, \"tpr\": 0.2619047619047619, \"threshold\": 0.9960461902098137}, {\"bootstrap\": \"18\", \"fpr\": 0.0, \"tpr\": 0.40476190476190477, \"threshold\": 0.9850554608234874}, {\"bootstrap\": \"18\", \"fpr\": 0.0, \"tpr\": 0.4523809523809524, \"threshold\": 0.9833926764604882}, {\"bootstrap\": \"18\", \"fpr\": 0.0, \"tpr\": 0.5, \"threshold\": 0.9795155711734856}, {\"bootstrap\": \"18\", \"fpr\": 0.0, \"tpr\": 0.5476190476190477, \"threshold\": 0.9641744063067426}, {\"bootstrap\": \"18\", \"fpr\": 0.0, \"tpr\": 0.6190476190476191, \"threshold\": 0.9513598131029036}, {\"bootstrap\": \"18\", \"fpr\": 0.0, \"tpr\": 0.6666666666666666, \"threshold\": 0.9497127080340678}, {\"bootstrap\": \"18\", \"fpr\": 0.0, \"tpr\": 0.8095238095238095, \"threshold\": 0.8869669141600129}, {\"bootstrap\": \"18\", \"fpr\": 0.023809523809523808, \"tpr\": 0.8095238095238095, \"threshold\": 0.8081546146479722}, {\"bootstrap\": \"18\", \"fpr\": 0.023809523809523808, \"tpr\": 0.9523809523809523, \"threshold\": 0.6105582594941265}, {\"bootstrap\": \"18\", \"fpr\": 0.16666666666666666, \"tpr\": 0.9523809523809523, \"threshold\": 0.16974335116187014}, {\"bootstrap\": \"18\", \"fpr\": 0.16666666666666666, \"tpr\": 1.0, \"threshold\": 0.12011500122911675}, {\"bootstrap\": \"18\", \"fpr\": 0.19047619047619047, \"tpr\": 1.0, \"threshold\": 0.0908357567813173}, {\"bootstrap\": \"18\", \"fpr\": 0.23809523809523808, \"tpr\": 1.0, \"threshold\": 0.0694129223427465}, {\"bootstrap\": \"18\", \"fpr\": 0.7142857142857143, \"tpr\": 1.0, \"threshold\": 0.0022994090026632694}, {\"bootstrap\": \"18\", \"fpr\": 0.7619047619047619, \"tpr\": 1.0, \"threshold\": 0.0019507551198566623}, {\"bootstrap\": \"18\", \"fpr\": 0.8571428571428571, \"tpr\": 1.0, \"threshold\": 0.001163086955368219}, {\"bootstrap\": \"18\", \"fpr\": 0.9285714285714286, \"tpr\": 1.0, \"threshold\": 0.0007237071793720566}, {\"bootstrap\": \"18\", \"fpr\": 1.0, \"tpr\": 1.0, \"threshold\": 1.9009519221483605e-05}, {\"bootstrap\": \"19\", \"fpr\": 0.0, \"tpr\": 0.0, \"threshold\": 1.9999828711869148}, {\"bootstrap\": \"19\", \"fpr\": 0.0, \"tpr\": 0.05714285714285714, \"threshold\": 0.9999828711869148}, {\"bootstrap\": \"19\", \"fpr\": 0.0, \"tpr\": 0.14285714285714285, \"threshold\": 0.9997807360106203}, {\"bootstrap\": \"19\", \"fpr\": 0.0, \"tpr\": 0.2, \"threshold\": 0.9997196780811635}, {\"bootstrap\": \"19\", \"fpr\": 0.0, \"tpr\": 0.6571428571428571, \"threshold\": 0.8420205911967031}, {\"bootstrap\": \"19\", \"fpr\": 0.02040816326530612, \"tpr\": 0.6571428571428571, \"threshold\": 0.7807108549244479}, {\"bootstrap\": \"19\", \"fpr\": 0.02040816326530612, \"tpr\": 0.6857142857142857, \"threshold\": 0.7406406409682125}, {\"bootstrap\": \"19\", \"fpr\": 0.061224489795918366, \"tpr\": 0.6857142857142857, \"threshold\": 0.7069424265520639}, {\"bootstrap\": \"19\", \"fpr\": 0.08163265306122448, \"tpr\": 0.6857142857142857, \"threshold\": 0.6651183284235461}, {\"bootstrap\": \"19\", \"fpr\": 0.08163265306122448, \"tpr\": 0.8, \"threshold\": 0.502085101388423}, {\"bootstrap\": \"19\", \"fpr\": 0.10204081632653061, \"tpr\": 0.8, \"threshold\": 0.4873223339334164}, {\"bootstrap\": \"19\", \"fpr\": 0.10204081632653061, \"tpr\": 0.8857142857142857, \"threshold\": 0.46007430397817745}, {\"bootstrap\": \"19\", \"fpr\": 0.10204081632653061, \"tpr\": 0.9428571428571428, \"threshold\": 0.35404184356933455}, {\"bootstrap\": \"19\", \"fpr\": 0.14285714285714285, \"tpr\": 0.9428571428571428, \"threshold\": 0.19485732412222595}, {\"bootstrap\": \"19\", \"fpr\": 0.14285714285714285, \"tpr\": 0.9714285714285714, \"threshold\": 0.18514617717068116}, {\"bootstrap\": \"19\", \"fpr\": 0.22448979591836735, \"tpr\": 0.9714285714285714, \"threshold\": 0.1140083163158157}, {\"bootstrap\": \"19\", \"fpr\": 0.22448979591836735, \"tpr\": 1.0, \"threshold\": 0.09406779901987994}, {\"bootstrap\": \"19\", \"fpr\": 0.2653061224489796, \"tpr\": 1.0, \"threshold\": 0.05029240723185996}, {\"bootstrap\": \"19\", \"fpr\": 0.30612244897959184, \"tpr\": 1.0, \"threshold\": 0.04517461837119573}, {\"bootstrap\": \"19\", \"fpr\": 0.5714285714285714, \"tpr\": 1.0, \"threshold\": 0.020422916512671058}, {\"bootstrap\": \"19\", \"fpr\": 0.6122448979591837, \"tpr\": 1.0, \"threshold\": 0.0166154108284823}, {\"bootstrap\": \"19\", \"fpr\": 0.7142857142857143, \"tpr\": 1.0, \"threshold\": 0.005492768766677895}, {\"bootstrap\": \"19\", \"fpr\": 0.7551020408163265, \"tpr\": 1.0, \"threshold\": 0.0052300906436191855}, {\"bootstrap\": \"19\", \"fpr\": 1.0, \"tpr\": 1.0, \"threshold\": 0.00012505265735055757}, {\"bootstrap\": \"20\", \"fpr\": 0.0, \"tpr\": 0.0, \"threshold\": 1.9999885444744303}, {\"bootstrap\": \"20\", \"fpr\": 0.0, \"tpr\": 0.022222222222222223, \"threshold\": 0.9999885444744303}, {\"bootstrap\": \"20\", \"fpr\": 0.0, \"tpr\": 0.15555555555555556, \"threshold\": 0.9992522923453591}, {\"bootstrap\": \"20\", \"fpr\": 0.0, \"tpr\": 0.2, \"threshold\": 0.9992423640502442}, {\"bootstrap\": \"20\", \"fpr\": 0.0, \"tpr\": 0.24444444444444444, \"threshold\": 0.9982346370184563}, {\"bootstrap\": \"20\", \"fpr\": 0.0, \"tpr\": 0.28888888888888886, \"threshold\": 0.9975055136569103}, {\"bootstrap\": \"20\", \"fpr\": 0.0, \"tpr\": 0.3333333333333333, \"threshold\": 0.9967598532404061}, {\"bootstrap\": \"20\", \"fpr\": 0.0, \"tpr\": 0.37777777777777777, \"threshold\": 0.9967212772795778}, {\"bootstrap\": \"20\", \"fpr\": 0.0, \"tpr\": 0.4222222222222222, \"threshold\": 0.9891623913385497}, {\"bootstrap\": \"20\", \"fpr\": 0.0, \"tpr\": 0.4666666666666667, \"threshold\": 0.9865003949878539}, {\"bootstrap\": \"20\", \"fpr\": 0.0, \"tpr\": 0.9111111111111111, \"threshold\": 0.4500768626393881}, {\"bootstrap\": \"20\", \"fpr\": 0.05128205128205128, \"tpr\": 0.9111111111111111, \"threshold\": 0.4111437488148462}, {\"bootstrap\": \"20\", \"fpr\": 0.05128205128205128, \"tpr\": 0.9333333333333333, \"threshold\": 0.41101432831942064}, {\"bootstrap\": \"20\", \"fpr\": 0.10256410256410256, \"tpr\": 0.9333333333333333, \"threshold\": 0.382057930574059}, {\"bootstrap\": \"20\", \"fpr\": 0.1282051282051282, \"tpr\": 0.9333333333333333, \"threshold\": 0.30178830804933227}, {\"bootstrap\": \"20\", \"fpr\": 0.1282051282051282, \"tpr\": 0.9777777777777777, \"threshold\": 0.2003682532412729}, {\"bootstrap\": \"20\", \"fpr\": 0.1794871794871795, \"tpr\": 0.9777777777777777, \"threshold\": 0.17341679425789003}, {\"bootstrap\": \"20\", \"fpr\": 0.1794871794871795, \"tpr\": 1.0, \"threshold\": 0.16705474341895268}, {\"bootstrap\": \"20\", \"fpr\": 0.6923076923076923, \"tpr\": 1.0, \"threshold\": 0.006499382713659365}, {\"bootstrap\": \"20\", \"fpr\": 0.7435897435897436, \"tpr\": 1.0, \"threshold\": 0.004969176946150998}, {\"bootstrap\": \"20\", \"fpr\": 0.8461538461538461, \"tpr\": 1.0, \"threshold\": 0.0011804754630944578}, {\"bootstrap\": \"20\", \"fpr\": 0.9487179487179487, \"tpr\": 1.0, \"threshold\": 0.0003587902757708872}, {\"bootstrap\": \"20\", \"fpr\": 1.0, \"tpr\": 1.0, \"threshold\": 9.097832662572305e-05}, {\"bootstrap\": \"21\", \"fpr\": 0.0, \"tpr\": 0.0, \"threshold\": 1.9999713275459043}, {\"bootstrap\": \"21\", \"fpr\": 0.0, \"tpr\": 0.024390243902439025, \"threshold\": 0.9999713275459043}, {\"bootstrap\": \"21\", \"fpr\": 0.0, \"tpr\": 0.07317073170731707, \"threshold\": 0.9995896113861139}, {\"bootstrap\": \"21\", \"fpr\": 0.0, \"tpr\": 0.14634146341463414, \"threshold\": 0.9982275237559419}, {\"bootstrap\": \"21\", \"fpr\": 0.0, \"tpr\": 0.21951219512195122, \"threshold\": 0.9971350781500189}, {\"bootstrap\": \"21\", \"fpr\": 0.0, \"tpr\": 0.5365853658536586, \"threshold\": 0.960592686359438}, {\"bootstrap\": \"21\", \"fpr\": 0.0, \"tpr\": 0.5853658536585366, \"threshold\": 0.9581709499549422}, {\"bootstrap\": \"21\", \"fpr\": 0.0, \"tpr\": 0.6585365853658537, \"threshold\": 0.9365028431892496}, {\"bootstrap\": \"21\", \"fpr\": 0.0, \"tpr\": 0.7073170731707317, \"threshold\": 0.8720954081285589}, {\"bootstrap\": \"21\", \"fpr\": 0.0, \"tpr\": 0.7560975609756098, \"threshold\": 0.7835057972440639}, {\"bootstrap\": \"21\", \"fpr\": 0.0, \"tpr\": 0.8048780487804879, \"threshold\": 0.7779679486638036}, {\"bootstrap\": \"21\", \"fpr\": 0.0, \"tpr\": 0.8536585365853658, \"threshold\": 0.7139108990290172}, {\"bootstrap\": \"21\", \"fpr\": 0.023255813953488372, \"tpr\": 0.8536585365853658, \"threshold\": 0.6699830146220395}, {\"bootstrap\": \"21\", \"fpr\": 0.023255813953488372, \"tpr\": 0.9024390243902439, \"threshold\": 0.6230025771937326}, {\"bootstrap\": \"21\", \"fpr\": 0.09302325581395349, \"tpr\": 0.9024390243902439, \"threshold\": 0.6130561725912935}, {\"bootstrap\": \"21\", \"fpr\": 0.09302325581395349, \"tpr\": 0.9512195121951219, \"threshold\": 0.5712291032218466}, {\"bootstrap\": \"21\", \"fpr\": 0.11627906976744186, \"tpr\": 0.9512195121951219, \"threshold\": 0.5419356562454359}, {\"bootstrap\": \"21\", \"fpr\": 0.11627906976744186, \"tpr\": 0.975609756097561, \"threshold\": 0.5025052263607254}, {\"bootstrap\": \"21\", \"fpr\": 0.20930232558139536, \"tpr\": 0.975609756097561, \"threshold\": 0.11160791597798267}, {\"bootstrap\": \"21\", \"fpr\": 0.2558139534883721, \"tpr\": 0.975609756097561, \"threshold\": 0.08563825523558796}, {\"bootstrap\": \"21\", \"fpr\": 0.37209302325581395, \"tpr\": 0.975609756097561, \"threshold\": 0.039349973347324985}, {\"bootstrap\": \"21\", \"fpr\": 0.37209302325581395, \"tpr\": 1.0, \"threshold\": 0.03754568888578739}, {\"bootstrap\": \"21\", \"fpr\": 0.5116279069767442, \"tpr\": 1.0, \"threshold\": 0.014062361346738285}, {\"bootstrap\": \"21\", \"fpr\": 0.5581395348837209, \"tpr\": 1.0, \"threshold\": 0.011582007150891171}, {\"bootstrap\": \"21\", \"fpr\": 0.5813953488372093, \"tpr\": 1.0, \"threshold\": 0.010168612906681519}, {\"bootstrap\": \"21\", \"fpr\": 0.627906976744186, \"tpr\": 1.0, \"threshold\": 0.007208493635706264}, {\"bootstrap\": \"21\", \"fpr\": 0.6976744186046512, \"tpr\": 1.0, \"threshold\": 0.007125322589381132}, {\"bootstrap\": \"21\", \"fpr\": 0.7441860465116279, \"tpr\": 1.0, \"threshold\": 0.0039258356720535716}, {\"bootstrap\": \"21\", \"fpr\": 0.7906976744186046, \"tpr\": 1.0, \"threshold\": 0.0038372281067640553}, {\"bootstrap\": \"21\", \"fpr\": 0.8372093023255814, \"tpr\": 1.0, \"threshold\": 0.0024426272762384516}, {\"bootstrap\": \"21\", \"fpr\": 0.8837209302325582, \"tpr\": 1.0, \"threshold\": 0.0016511681574766608}, {\"bootstrap\": \"21\", \"fpr\": 1.0, \"tpr\": 1.0, \"threshold\": 6.453741914305167e-05}, {\"bootstrap\": \"22\", \"fpr\": 0.0, \"tpr\": 0.0, \"threshold\": 1.999987981228173}, {\"bootstrap\": \"22\", \"fpr\": 0.0, \"tpr\": 0.02564102564102564, \"threshold\": 0.999987981228173}, {\"bootstrap\": \"22\", \"fpr\": 0.0, \"tpr\": 0.4358974358974359, \"threshold\": 0.979705165015038}, {\"bootstrap\": \"22\", \"fpr\": 0.0, \"tpr\": 0.48717948717948717, \"threshold\": 0.9783024287091101}, {\"bootstrap\": \"22\", \"fpr\": 0.0, \"tpr\": 0.5128205128205128, \"threshold\": 0.9584781149041189}, {\"bootstrap\": \"22\", \"fpr\": 0.022222222222222223, \"tpr\": 0.5128205128205128, \"threshold\": 0.9418372451503582}, {\"bootstrap\": \"22\", \"fpr\": 0.022222222222222223, \"tpr\": 0.5384615384615384, \"threshold\": 0.9003725272552211}, {\"bootstrap\": \"22\", \"fpr\": 0.022222222222222223, \"tpr\": 0.6153846153846154, \"threshold\": 0.8506783258611609}, {\"bootstrap\": \"22\", \"fpr\": 0.022222222222222223, \"tpr\": 0.8205128205128205, \"threshold\": 0.7027557008170554}, {\"bootstrap\": \"22\", \"fpr\": 0.044444444444444446, \"tpr\": 0.8205128205128205, \"threshold\": 0.6683673138067047}, {\"bootstrap\": \"22\", \"fpr\": 0.044444444444444446, \"tpr\": 0.8974358974358975, \"threshold\": 0.5797693253411929}, {\"bootstrap\": \"22\", \"fpr\": 0.06666666666666667, \"tpr\": 0.8974358974358975, \"threshold\": 0.5174135115948119}, {\"bootstrap\": \"22\", \"fpr\": 0.06666666666666667, \"tpr\": 0.9487179487179487, \"threshold\": 0.34299171716277116}, {\"bootstrap\": \"22\", \"fpr\": 0.13333333333333333, \"tpr\": 0.9487179487179487, \"threshold\": 0.30318320127521664}, {\"bootstrap\": \"22\", \"fpr\": 0.13333333333333333, \"tpr\": 0.9743589743589743, \"threshold\": 0.2861592063108075}, {\"bootstrap\": \"22\", \"fpr\": 0.24444444444444444, \"tpr\": 0.9743589743589743, \"threshold\": 0.10114154449468735}, {\"bootstrap\": \"22\", \"fpr\": 0.28888888888888886, \"tpr\": 0.9743589743589743, \"threshold\": 0.09663353600389592}, {\"bootstrap\": \"22\", \"fpr\": 0.4222222222222222, \"tpr\": 0.9743589743589743, \"threshold\": 0.03549121594572479}, {\"bootstrap\": \"22\", \"fpr\": 0.4222222222222222, \"tpr\": 1.0, \"threshold\": 0.03147539514262996}, {\"bootstrap\": \"22\", \"fpr\": 0.4888888888888889, \"tpr\": 1.0, \"threshold\": 0.018405560591504697}, {\"bootstrap\": \"22\", \"fpr\": 0.5333333333333333, \"tpr\": 1.0, \"threshold\": 0.015182655794159682}, {\"bootstrap\": \"22\", \"fpr\": 0.8222222222222222, \"tpr\": 1.0, \"threshold\": 0.001159451312140219}, {\"bootstrap\": \"22\", \"fpr\": 0.8666666666666667, \"tpr\": 1.0, \"threshold\": 0.0010771198857623743}, {\"bootstrap\": \"22\", \"fpr\": 1.0, \"tpr\": 1.0, \"threshold\": 0.00024102378801928138}, {\"bootstrap\": \"23\", \"fpr\": 0.0, \"tpr\": 0.0, \"threshold\": 1.999848838070179}, {\"bootstrap\": \"23\", \"fpr\": 0.0, \"tpr\": 0.022222222222222223, \"threshold\": 0.9998488380701791}, {\"bootstrap\": \"23\", \"fpr\": 0.0, \"tpr\": 0.06666666666666667, \"threshold\": 0.9993816748309348}, {\"bootstrap\": \"23\", \"fpr\": 0.0, \"tpr\": 0.4888888888888889, \"threshold\": 0.9639875225963455}, {\"bootstrap\": \"23\", \"fpr\": 0.0, \"tpr\": 0.5777777777777777, \"threshold\": 0.9495433366672656}, {\"bootstrap\": \"23\", \"fpr\": 0.0, \"tpr\": 0.6666666666666666, \"threshold\": 0.9138593184260098}, {\"bootstrap\": \"23\", \"fpr\": 0.0, \"tpr\": 0.7111111111111111, \"threshold\": 0.8961209060965775}, {\"bootstrap\": \"23\", \"fpr\": 0.0, \"tpr\": 0.8, \"threshold\": 0.6548624781517008}, {\"bootstrap\": \"23\", \"fpr\": 0.05128205128205128, \"tpr\": 0.8, \"threshold\": 0.6114906528784654}, {\"bootstrap\": \"23\", \"fpr\": 0.05128205128205128, \"tpr\": 0.8444444444444444, \"threshold\": 0.5195134264978247}, {\"bootstrap\": \"23\", \"fpr\": 0.05128205128205128, \"tpr\": 0.8888888888888888, \"threshold\": 0.48428267584726337}, {\"bootstrap\": \"23\", \"fpr\": 0.05128205128205128, \"tpr\": 0.9333333333333333, \"threshold\": 0.4468934868003946}, {\"bootstrap\": \"23\", \"fpr\": 0.07692307692307693, \"tpr\": 0.9333333333333333, \"threshold\": 0.4356405011778927}, {\"bootstrap\": \"23\", \"fpr\": 0.07692307692307693, \"tpr\": 0.9555555555555556, \"threshold\": 0.39403520589607494}, {\"bootstrap\": \"23\", \"fpr\": 0.10256410256410256, \"tpr\": 0.9555555555555556, \"threshold\": 0.38016968976524834}, {\"bootstrap\": \"23\", \"fpr\": 0.10256410256410256, \"tpr\": 1.0, \"threshold\": 0.29032791212829034}, {\"bootstrap\": \"23\", \"fpr\": 0.28205128205128205, \"tpr\": 1.0, \"threshold\": 0.061204466079809616}, {\"bootstrap\": \"23\", \"fpr\": 0.3333333333333333, \"tpr\": 1.0, \"threshold\": 0.05051519544762604}, {\"bootstrap\": \"23\", \"fpr\": 0.5897435897435898, \"tpr\": 1.0, \"threshold\": 0.005239369463559892}, {\"bootstrap\": \"23\", \"fpr\": 0.6410256410256411, \"tpr\": 1.0, \"threshold\": 0.004891151672325112}, {\"bootstrap\": \"23\", \"fpr\": 0.6923076923076923, \"tpr\": 1.0, \"threshold\": 0.002445617511021056}, {\"bootstrap\": \"23\", \"fpr\": 0.7435897435897436, \"tpr\": 1.0, \"threshold\": 0.0015715103765288326}, {\"bootstrap\": \"23\", \"fpr\": 1.0, \"tpr\": 1.0, \"threshold\": 1.4885911432705036e-05}, {\"bootstrap\": \"24\", \"fpr\": 0.0, \"tpr\": 0.0, \"threshold\": 1.9989650398926926}, {\"bootstrap\": \"24\", \"fpr\": 0.0, \"tpr\": 0.02631578947368421, \"threshold\": 0.9989650398926926}, {\"bootstrap\": \"24\", \"fpr\": 0.0, \"tpr\": 0.15789473684210525, \"threshold\": 0.995503455153634}, {\"bootstrap\": \"24\", \"fpr\": 0.0, \"tpr\": 0.21052631578947367, \"threshold\": 0.9908223549897532}, {\"bootstrap\": \"24\", \"fpr\": 0.0, \"tpr\": 0.2894736842105263, \"threshold\": 0.9841216251681221}, {\"bootstrap\": \"24\", \"fpr\": 0.0, \"tpr\": 0.34210526315789475, \"threshold\": 0.9790792158386843}, {\"bootstrap\": \"24\", \"fpr\": 0.0, \"tpr\": 0.4473684210526316, \"threshold\": 0.9552391978927396}, {\"bootstrap\": \"24\", \"fpr\": 0.0, \"tpr\": 0.5, \"threshold\": 0.9545118751428846}, {\"bootstrap\": \"24\", \"fpr\": 0.0, \"tpr\": 0.5789473684210527, \"threshold\": 0.9358665321288578}, {\"bootstrap\": \"24\", \"fpr\": 0.021739130434782608, \"tpr\": 0.5789473684210527, \"threshold\": 0.9112912098773056}, {\"bootstrap\": \"24\", \"fpr\": 0.021739130434782608, \"tpr\": 0.7368421052631579, \"threshold\": 0.7129706380749907}, {\"bootstrap\": \"24\", \"fpr\": 0.021739130434782608, \"tpr\": 0.8421052631578947, \"threshold\": 0.6669382937401718}, {\"bootstrap\": \"24\", \"fpr\": 0.08695652173913043, \"tpr\": 0.8421052631578947, \"threshold\": 0.5564651867007897}, {\"bootstrap\": \"24\", \"fpr\": 0.08695652173913043, \"tpr\": 0.9210526315789473, \"threshold\": 0.42551583855395}, {\"bootstrap\": \"24\", \"fpr\": 0.13043478260869565, \"tpr\": 0.9210526315789473, \"threshold\": 0.4151144213059576}, {\"bootstrap\": \"24\", \"fpr\": 0.13043478260869565, \"tpr\": 0.9736842105263158, \"threshold\": 0.3645846816770429}, {\"bootstrap\": \"24\", \"fpr\": 0.15217391304347827, \"tpr\": 0.9736842105263158, \"threshold\": 0.3451637690946853}, {\"bootstrap\": \"24\", \"fpr\": 0.1956521739130435, \"tpr\": 0.9736842105263158, \"threshold\": 0.2678208688784928}, {\"bootstrap\": \"24\", \"fpr\": 0.1956521739130435, \"tpr\": 1.0, \"threshold\": 0.26690119460761313}, {\"bootstrap\": \"24\", \"fpr\": 0.21739130434782608, \"tpr\": 1.0, \"threshold\": 0.24382701065035753}, {\"bootstrap\": \"24\", \"fpr\": 0.2608695652173913, \"tpr\": 1.0, \"threshold\": 0.20821839427286226}, {\"bootstrap\": \"24\", \"fpr\": 0.2826086956521739, \"tpr\": 1.0, \"threshold\": 0.20283471796244984}, {\"bootstrap\": \"24\", \"fpr\": 0.34782608695652173, \"tpr\": 1.0, \"threshold\": 0.15015798081942439}, {\"bootstrap\": \"24\", \"fpr\": 0.7391304347826086, \"tpr\": 1.0, \"threshold\": 0.016049603393885583}, {\"bootstrap\": \"24\", \"fpr\": 0.8043478260869565, \"tpr\": 1.0, \"threshold\": 0.01160287752423679}, {\"bootstrap\": \"24\", \"fpr\": 0.9130434782608695, \"tpr\": 1.0, \"threshold\": 0.0033142875235738552}, {\"bootstrap\": \"24\", \"fpr\": 0.9782608695652174, \"tpr\": 1.0, \"threshold\": 0.0008128081304358939}, {\"bootstrap\": \"24\", \"fpr\": 1.0, \"tpr\": 1.0, \"threshold\": 0.000624660712935353}]}}, {\"mode\": \"vega-lite\"});\n",
              "</script>"
            ]
          },
          "metadata": {
            "tags": []
          },
          "execution_count": 220
        }
      ]
    },
    {
      "cell_type": "code",
      "metadata": {
        "id": "EOAa04nvRuSo",
        "colab_type": "code",
        "colab": {}
      },
      "source": [
        ""
      ],
      "execution_count": null,
      "outputs": []
    }
  ]
}